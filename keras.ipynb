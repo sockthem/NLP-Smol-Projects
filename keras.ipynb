{
  "nbformat": 4,
  "nbformat_minor": 5,
  "metadata": {
    "kernelspec": {
      "display_name": "Python 3",
      "language": "python",
      "name": "python3"
    },
    "language_info": {
      "codemirror_mode": {
        "name": "ipython",
        "version": 3
      },
      "file_extension": ".py",
      "mimetype": "text/x-python",
      "name": "python",
      "nbconvert_exporter": "python",
      "pygments_lexer": "ipython3",
      "version": "3.8.5"
    },
    "colab": {
      "name": "keras.ipynb",
      "provenance": [],
      "include_colab_link": true
    },
    "accelerator": "GPU"
  },
  "cells": [
    {
      "cell_type": "markdown",
      "metadata": {
        "id": "view-in-github",
        "colab_type": "text"
      },
      "source": [
        "<a href=\"https://colab.research.google.com/github/sockthem/NLP-Smol-Projects/blob/main/keras.ipynb\" target=\"_parent\"><img src=\"https://colab.research.google.com/assets/colab-badge.svg\" alt=\"Open In Colab\"/></a>"
      ]
    },
    {
      "cell_type": "markdown",
      "metadata": {
        "id": "_itYo8UXPR5W"
      },
      "source": [
        "## [Installing Tensorflow / Keras](https://www.tensorflow.org/install)"
      ],
      "id": "_itYo8UXPR5W"
    },
    {
      "cell_type": "code",
      "metadata": {
        "id": "yAZS64q3PR5Y"
      },
      "source": [
        "# Imports\n",
        "\n",
        "from tensorflow.keras.layers import Dense\n",
        "from tensorflow.keras import Sequential\n",
        "from tensorflow.keras.optimizers import SGD\n",
        "from tensorflow.keras.utils import to_categorical, plot_model\n",
        "import pandas as pd\n",
        "import numpy as np\n",
        "import matplotlib.pyplot as plt\n",
        "%matplotlib inline"
      ],
      "id": "yAZS64q3PR5Y",
      "execution_count": 2,
      "outputs": []
    },
    {
      "cell_type": "markdown",
      "metadata": {
        "id": "CvnMN3bhPR5Z"
      },
      "source": [
        "## Problem: **Credit Card Fraud Detection**\n",
        "### Given a list of 28 anonimyzed features and the amount of money involved in a credt card transaction, predict whether the transaction is likely to be fraudulent.\n",
        "### Source: https://www.kaggle.com/mlg-ulb/creditcardfraud/"
      ],
      "id": "CvnMN3bhPR5Z"
    },
    {
      "cell_type": "code",
      "metadata": {
        "colab": {
          "base_uri": "https://localhost:8080/",
          "height": 224
        },
        "id": "fpdsaW5dPR5a",
        "outputId": "3d649d63-de08-4803-ab38-8d09d684c1df"
      },
      "source": [
        "# Preview dataset\n",
        "\n",
        "df = pd.read_csv('creditcard.csv')\n",
        "df.drop(['Time'], axis=1, inplace=True)\n",
        "df.head()"
      ],
      "id": "fpdsaW5dPR5a",
      "execution_count": 5,
      "outputs": [
        {
          "output_type": "execute_result",
          "data": {
            "text/html": [
              "<div>\n",
              "<style scoped>\n",
              "    .dataframe tbody tr th:only-of-type {\n",
              "        vertical-align: middle;\n",
              "    }\n",
              "\n",
              "    .dataframe tbody tr th {\n",
              "        vertical-align: top;\n",
              "    }\n",
              "\n",
              "    .dataframe thead th {\n",
              "        text-align: right;\n",
              "    }\n",
              "</style>\n",
              "<table border=\"1\" class=\"dataframe\">\n",
              "  <thead>\n",
              "    <tr style=\"text-align: right;\">\n",
              "      <th></th>\n",
              "      <th>V1</th>\n",
              "      <th>V2</th>\n",
              "      <th>V3</th>\n",
              "      <th>V4</th>\n",
              "      <th>V5</th>\n",
              "      <th>V6</th>\n",
              "      <th>V7</th>\n",
              "      <th>V8</th>\n",
              "      <th>V9</th>\n",
              "      <th>V10</th>\n",
              "      <th>V11</th>\n",
              "      <th>V12</th>\n",
              "      <th>V13</th>\n",
              "      <th>V14</th>\n",
              "      <th>V15</th>\n",
              "      <th>V16</th>\n",
              "      <th>V17</th>\n",
              "      <th>V18</th>\n",
              "      <th>V19</th>\n",
              "      <th>V20</th>\n",
              "      <th>V21</th>\n",
              "      <th>V22</th>\n",
              "      <th>V23</th>\n",
              "      <th>V24</th>\n",
              "      <th>V25</th>\n",
              "      <th>V26</th>\n",
              "      <th>V27</th>\n",
              "      <th>V28</th>\n",
              "      <th>Amount</th>\n",
              "      <th>Class</th>\n",
              "    </tr>\n",
              "  </thead>\n",
              "  <tbody>\n",
              "    <tr>\n",
              "      <th>0</th>\n",
              "      <td>-1.359807</td>\n",
              "      <td>-0.072781</td>\n",
              "      <td>2.536347</td>\n",
              "      <td>1.378155</td>\n",
              "      <td>-0.338321</td>\n",
              "      <td>0.462388</td>\n",
              "      <td>0.239599</td>\n",
              "      <td>0.098698</td>\n",
              "      <td>0.363787</td>\n",
              "      <td>0.090794</td>\n",
              "      <td>-0.551600</td>\n",
              "      <td>-0.617801</td>\n",
              "      <td>-0.991390</td>\n",
              "      <td>-0.311169</td>\n",
              "      <td>1.468177</td>\n",
              "      <td>-0.470401</td>\n",
              "      <td>0.207971</td>\n",
              "      <td>0.025791</td>\n",
              "      <td>0.403993</td>\n",
              "      <td>0.251412</td>\n",
              "      <td>-0.018307</td>\n",
              "      <td>0.277838</td>\n",
              "      <td>-0.110474</td>\n",
              "      <td>0.066928</td>\n",
              "      <td>0.128539</td>\n",
              "      <td>-0.189115</td>\n",
              "      <td>0.133558</td>\n",
              "      <td>-0.021053</td>\n",
              "      <td>149.62</td>\n",
              "      <td>0</td>\n",
              "    </tr>\n",
              "    <tr>\n",
              "      <th>1</th>\n",
              "      <td>1.191857</td>\n",
              "      <td>0.266151</td>\n",
              "      <td>0.166480</td>\n",
              "      <td>0.448154</td>\n",
              "      <td>0.060018</td>\n",
              "      <td>-0.082361</td>\n",
              "      <td>-0.078803</td>\n",
              "      <td>0.085102</td>\n",
              "      <td>-0.255425</td>\n",
              "      <td>-0.166974</td>\n",
              "      <td>1.612727</td>\n",
              "      <td>1.065235</td>\n",
              "      <td>0.489095</td>\n",
              "      <td>-0.143772</td>\n",
              "      <td>0.635558</td>\n",
              "      <td>0.463917</td>\n",
              "      <td>-0.114805</td>\n",
              "      <td>-0.183361</td>\n",
              "      <td>-0.145783</td>\n",
              "      <td>-0.069083</td>\n",
              "      <td>-0.225775</td>\n",
              "      <td>-0.638672</td>\n",
              "      <td>0.101288</td>\n",
              "      <td>-0.339846</td>\n",
              "      <td>0.167170</td>\n",
              "      <td>0.125895</td>\n",
              "      <td>-0.008983</td>\n",
              "      <td>0.014724</td>\n",
              "      <td>2.69</td>\n",
              "      <td>0</td>\n",
              "    </tr>\n",
              "    <tr>\n",
              "      <th>2</th>\n",
              "      <td>-1.358354</td>\n",
              "      <td>-1.340163</td>\n",
              "      <td>1.773209</td>\n",
              "      <td>0.379780</td>\n",
              "      <td>-0.503198</td>\n",
              "      <td>1.800499</td>\n",
              "      <td>0.791461</td>\n",
              "      <td>0.247676</td>\n",
              "      <td>-1.514654</td>\n",
              "      <td>0.207643</td>\n",
              "      <td>0.624501</td>\n",
              "      <td>0.066084</td>\n",
              "      <td>0.717293</td>\n",
              "      <td>-0.165946</td>\n",
              "      <td>2.345865</td>\n",
              "      <td>-2.890083</td>\n",
              "      <td>1.109969</td>\n",
              "      <td>-0.121359</td>\n",
              "      <td>-2.261857</td>\n",
              "      <td>0.524980</td>\n",
              "      <td>0.247998</td>\n",
              "      <td>0.771679</td>\n",
              "      <td>0.909412</td>\n",
              "      <td>-0.689281</td>\n",
              "      <td>-0.327642</td>\n",
              "      <td>-0.139097</td>\n",
              "      <td>-0.055353</td>\n",
              "      <td>-0.059752</td>\n",
              "      <td>378.66</td>\n",
              "      <td>0</td>\n",
              "    </tr>\n",
              "    <tr>\n",
              "      <th>3</th>\n",
              "      <td>-0.966272</td>\n",
              "      <td>-0.185226</td>\n",
              "      <td>1.792993</td>\n",
              "      <td>-0.863291</td>\n",
              "      <td>-0.010309</td>\n",
              "      <td>1.247203</td>\n",
              "      <td>0.237609</td>\n",
              "      <td>0.377436</td>\n",
              "      <td>-1.387024</td>\n",
              "      <td>-0.054952</td>\n",
              "      <td>-0.226487</td>\n",
              "      <td>0.178228</td>\n",
              "      <td>0.507757</td>\n",
              "      <td>-0.287924</td>\n",
              "      <td>-0.631418</td>\n",
              "      <td>-1.059647</td>\n",
              "      <td>-0.684093</td>\n",
              "      <td>1.965775</td>\n",
              "      <td>-1.232622</td>\n",
              "      <td>-0.208038</td>\n",
              "      <td>-0.108300</td>\n",
              "      <td>0.005274</td>\n",
              "      <td>-0.190321</td>\n",
              "      <td>-1.175575</td>\n",
              "      <td>0.647376</td>\n",
              "      <td>-0.221929</td>\n",
              "      <td>0.062723</td>\n",
              "      <td>0.061458</td>\n",
              "      <td>123.50</td>\n",
              "      <td>0</td>\n",
              "    </tr>\n",
              "    <tr>\n",
              "      <th>4</th>\n",
              "      <td>-1.158233</td>\n",
              "      <td>0.877737</td>\n",
              "      <td>1.548718</td>\n",
              "      <td>0.403034</td>\n",
              "      <td>-0.407193</td>\n",
              "      <td>0.095921</td>\n",
              "      <td>0.592941</td>\n",
              "      <td>-0.270533</td>\n",
              "      <td>0.817739</td>\n",
              "      <td>0.753074</td>\n",
              "      <td>-0.822843</td>\n",
              "      <td>0.538196</td>\n",
              "      <td>1.345852</td>\n",
              "      <td>-1.119670</td>\n",
              "      <td>0.175121</td>\n",
              "      <td>-0.451449</td>\n",
              "      <td>-0.237033</td>\n",
              "      <td>-0.038195</td>\n",
              "      <td>0.803487</td>\n",
              "      <td>0.408542</td>\n",
              "      <td>-0.009431</td>\n",
              "      <td>0.798278</td>\n",
              "      <td>-0.137458</td>\n",
              "      <td>0.141267</td>\n",
              "      <td>-0.206010</td>\n",
              "      <td>0.502292</td>\n",
              "      <td>0.219422</td>\n",
              "      <td>0.215153</td>\n",
              "      <td>69.99</td>\n",
              "      <td>0</td>\n",
              "    </tr>\n",
              "  </tbody>\n",
              "</table>\n",
              "</div>"
            ],
            "text/plain": [
              "         V1        V2        V3        V4  ...       V27       V28  Amount  Class\n",
              "0 -1.359807 -0.072781  2.536347  1.378155  ...  0.133558 -0.021053  149.62      0\n",
              "1  1.191857  0.266151  0.166480  0.448154  ... -0.008983  0.014724    2.69      0\n",
              "2 -1.358354 -1.340163  1.773209  0.379780  ... -0.055353 -0.059752  378.66      0\n",
              "3 -0.966272 -0.185226  1.792993 -0.863291  ...  0.062723  0.061458  123.50      0\n",
              "4 -1.158233  0.877737  1.548718  0.403034  ...  0.219422  0.215153   69.99      0\n",
              "\n",
              "[5 rows x 30 columns]"
            ]
          },
          "metadata": {
            "tags": []
          },
          "execution_count": 5
        }
      ]
    },
    {
      "cell_type": "code",
      "metadata": {
        "colab": {
          "base_uri": "https://localhost:8080/"
        },
        "id": "Wr709umLPR5c",
        "outputId": "7b859959-b669-4b98-ead2-4ba5c7f53e01"
      },
      "source": [
        "print(len(df))"
      ],
      "id": "Wr709umLPR5c",
      "execution_count": 6,
      "outputs": [
        {
          "output_type": "stream",
          "text": [
            "284807\n"
          ],
          "name": "stdout"
        }
      ]
    },
    {
      "cell_type": "code",
      "metadata": {
        "colab": {
          "base_uri": "https://localhost:8080/"
        },
        "id": "v2pBSm8_PR5c",
        "outputId": "a02d155b-c9d7-4290-e568-8b45fc2c7020"
      },
      "source": [
        "# Check the proportion of the classes\n",
        "\n",
        "df['Class'].value_counts(normalize=True)"
      ],
      "id": "v2pBSm8_PR5c",
      "execution_count": 7,
      "outputs": [
        {
          "output_type": "execute_result",
          "data": {
            "text/plain": [
              "0    0.998273\n",
              "1    0.001727\n",
              "Name: Class, dtype: float64"
            ]
          },
          "metadata": {
            "tags": []
          },
          "execution_count": 7
        }
      ]
    },
    {
      "cell_type": "code",
      "metadata": {
        "colab": {
          "base_uri": "https://localhost:8080/",
          "height": 265
        },
        "id": "Bk05O9hCPR5d",
        "outputId": "199e5d8d-8892-45af-a790-e7f313611b31"
      },
      "source": [
        "df['Class'].value_counts(normalize=True).plot(kind='pie')"
      ],
      "id": "Bk05O9hCPR5d",
      "execution_count": 8,
      "outputs": [
        {
          "output_type": "execute_result",
          "data": {
            "text/plain": [
              "<matplotlib.axes._subplots.AxesSubplot at 0x7fe60ad15a50>"
            ]
          },
          "metadata": {
            "tags": []
          },
          "execution_count": 8
        },
        {
          "output_type": "display_data",
          "data": {
            "image/png": "[encoded data removed]",
            "text/plain": [
              "<Figure size 432x288 with 1 Axes>"
            ]
          },
          "metadata": {
            "tags": []
          }
        }
      ]
    },
    {
      "cell_type": "code",
      "metadata": {
        "id": "rsZZebjTPR5d"
      },
      "source": [
        "# Define the input and the output\n",
        "\n",
        "y = df.pop('Class').values\n",
        "X = df.values"
      ],
      "id": "rsZZebjTPR5d",
      "execution_count": 9,
      "outputs": []
    },
    {
      "cell_type": "code",
      "metadata": {
        "colab": {
          "base_uri": "https://localhost:8080/"
        },
        "id": "A6eRgXfNPR5e",
        "outputId": "b4101d82-f644-42c9-f3f8-6a0dc5a0105d"
      },
      "source": [
        "# Assemble the network\n",
        "\n",
        "model = Sequential([\n",
        "    Dense(16, input_shape=(29,), activation='relu'),\n",
        "    Dense(8, activation='relu'),\n",
        "    Dense(2, activation='softmax')\n",
        "])\n",
        "model.compile(loss='sparse_categorical_crossentropy', optimizer=SGD(lr=1e-3), metrics=['categorical_accuracy'])"
      ],
      "id": "A6eRgXfNPR5e",
      "execution_count": 10,
      "outputs": [
        {
          "output_type": "stream",
          "text": [
            "/usr/local/lib/python3.7/dist-packages/tensorflow/python/keras/optimizer_v2/optimizer_v2.py:375: UserWarning: The `lr` argument is deprecated, use `learning_rate` instead.\n",
            "  \"The `lr` argument is deprecated, use `learning_rate` instead.\")\n"
          ],
          "name": "stderr"
        }
      ]
    },
    {
      "cell_type": "code",
      "metadata": {
        "colab": {
          "base_uri": "https://localhost:8080/",
          "height": 115
        },
        "id": "q7tGhIjKPR5f",
        "outputId": "f6acacbe-ac49-4da7-84a0-83bd59e4ca6b"
      },
      "source": [
        "# View the network - layer by layer\n",
        "\n",
        "plot_model(model, show_shapes=True, rankdir='LR')"
      ],
      "id": "q7tGhIjKPR5f",
      "execution_count": 11,
      "outputs": [
        {
          "output_type": "execute_result",
          "data": {
            "image/png": "[encoded data removed]",
            "text/plain": [
              "<IPython.core.display.Image object>"
            ]
          },
          "metadata": {
            "tags": []
          },
          "execution_count": 11
        }
      ]
    },
    {
      "cell_type": "code",
      "metadata": {
        "colab": {
          "base_uri": "https://localhost:8080/"
        },
        "id": "BBsZe_BuPR5h",
        "outputId": "bb0eed98-c243-4cd8-82ac-8131a125f974"
      },
      "source": [
        "model.layers"
      ],
      "id": "BBsZe_BuPR5h",
      "execution_count": 12,
      "outputs": [
        {
          "output_type": "execute_result",
          "data": {
            "text/plain": [
              "[<tensorflow.python.keras.layers.core.Dense at 0x7fe60c067bd0>,\n",
              " <tensorflow.python.keras.layers.core.Dense at 0x7fe60ac63510>,\n",
              " <tensorflow.python.keras.layers.core.Dense at 0x7fe60ac63990>]"
            ]
          },
          "metadata": {
            "tags": []
          },
          "execution_count": 12
        }
      ]
    },
    {
      "cell_type": "code",
      "metadata": {
        "id": "gafTVq68PR5i"
      },
      "source": [
        "layer1, layer2, layer3 = model.layers"
      ],
      "id": "gafTVq68PR5i",
      "execution_count": 13,
      "outputs": []
    },
    {
      "cell_type": "code",
      "metadata": {
        "colab": {
          "base_uri": "https://localhost:8080/"
        },
        "id": "kOp2oqyRPR5i",
        "outputId": "670d6373-fd9d-4901-d3d7-ee9aa4ec4a3c"
      },
      "source": [
        "# View the shapes of weights and biases for each layer\n",
        "\n",
        "l1_weight, l1_bias = layer1.weights\n",
        "print(l1_weight.shape)\n",
        "print(l1_bias.shape)"
      ],
      "id": "kOp2oqyRPR5i",
      "execution_count": 14,
      "outputs": [
        {
          "output_type": "stream",
          "text": [
            "(29, 16)\n",
            "(16,)\n"
          ],
          "name": "stdout"
        }
      ]
    },
    {
      "cell_type": "code",
      "metadata": {
        "colab": {
          "base_uri": "https://localhost:8080/"
        },
        "id": "34bSgjaAPR5i",
        "outputId": "796e7ba5-0612-4230-bf52-dd8a7fb13ee3"
      },
      "source": [
        "l2_weight, l2_bias = layer2.weights\n",
        "print(l2_weight.shape)\n",
        "print(l2_bias.shape)"
      ],
      "id": "34bSgjaAPR5i",
      "execution_count": 15,
      "outputs": [
        {
          "output_type": "stream",
          "text": [
            "(16, 8)\n",
            "(8,)\n"
          ],
          "name": "stdout"
        }
      ]
    },
    {
      "cell_type": "code",
      "metadata": {
        "colab": {
          "base_uri": "https://localhost:8080/"
        },
        "id": "F27hPyfrPR5j",
        "outputId": "efb0b8d3-9b15-4a1a-a2d0-321c5b0a2934"
      },
      "source": [
        "l3_weight, l3_bias = layer3.weights\n",
        "print(l3_weight.shape)\n",
        "print(l3_bias.shape)"
      ],
      "id": "F27hPyfrPR5j",
      "execution_count": 16,
      "outputs": [
        {
          "output_type": "stream",
          "text": [
            "(8, 2)\n",
            "(2,)\n"
          ],
          "name": "stdout"
        }
      ]
    },
    {
      "cell_type": "code",
      "metadata": {
        "scrolled": true,
        "colab": {
          "base_uri": "https://localhost:8080/"
        },
        "id": "p2iOQZ-JPR5j",
        "outputId": "37cd5c6b-f4c4-4514-d736-4e5b696d18d1"
      },
      "source": [
        "# Train the model\n",
        "\n",
        "history = model.fit(X, y, batch_size=128, epochs=30)"
      ],
      "id": "p2iOQZ-JPR5j",
      "execution_count": 17,
      "outputs": [
        {
          "output_type": "stream",
          "text": [
            "Epoch 1/30\n",
            "2226/2226 [==============================] - 7s 2ms/step - loss: 0.1559 - categorical_accuracy: 0.9891\n",
            "Epoch 2/30\n",
            "2226/2226 [==============================] - 4s 2ms/step - loss: 0.1043 - categorical_accuracy: 1.0000\n",
            "Epoch 3/30\n",
            "2226/2226 [==============================] - 4s 2ms/step - loss: 0.0808 - categorical_accuracy: 1.0000\n",
            "Epoch 4/30\n",
            "2226/2226 [==============================] - 4s 2ms/step - loss: 0.0646 - categorical_accuracy: 1.0000\n",
            "Epoch 5/30\n",
            "2226/2226 [==============================] - 4s 2ms/step - loss: 0.0529 - categorical_accuracy: 1.0000\n",
            "Epoch 6/30\n",
            "2226/2226 [==============================] - 4s 2ms/step - loss: 0.0436 - categorical_accuracy: 1.0000\n",
            "Epoch 7/30\n",
            "2226/2226 [==============================] - 4s 2ms/step - loss: 0.0367 - categorical_accuracy: 1.0000\n",
            "Epoch 8/30\n",
            "2226/2226 [==============================] - 4s 2ms/step - loss: 0.0310 - categorical_accuracy: 1.0000\n",
            "Epoch 9/30\n",
            "2226/2226 [==============================] - 4s 2ms/step - loss: 0.0272 - categorical_accuracy: 1.0000\n",
            "Epoch 10/30\n",
            "2226/2226 [==============================] - 4s 2ms/step - loss: 0.0243 - categorical_accuracy: 1.0000\n",
            "Epoch 11/30\n",
            "2226/2226 [==============================] - 4s 2ms/step - loss: 0.0222 - categorical_accuracy: 1.0000\n",
            "Epoch 12/30\n",
            "2226/2226 [==============================] - 4s 2ms/step - loss: 0.0199 - categorical_accuracy: 1.0000\n",
            "Epoch 13/30\n",
            "2226/2226 [==============================] - 4s 2ms/step - loss: 0.0185 - categorical_accuracy: 1.0000\n",
            "Epoch 14/30\n",
            "2226/2226 [==============================] - 4s 2ms/step - loss: 0.0173 - categorical_accuracy: 1.0000\n",
            "Epoch 15/30\n",
            "2226/2226 [==============================] - 4s 2ms/step - loss: 0.0161 - categorical_accuracy: 1.0000\n",
            "Epoch 16/30\n",
            "2226/2226 [==============================] - 4s 2ms/step - loss: 0.0151 - categorical_accuracy: 1.0000\n",
            "Epoch 17/30\n",
            "2226/2226 [==============================] - 4s 2ms/step - loss: 0.0140 - categorical_accuracy: 1.0000\n",
            "Epoch 18/30\n",
            "2226/2226 [==============================] - 4s 2ms/step - loss: 0.0136 - categorical_accuracy: 1.0000\n",
            "Epoch 19/30\n",
            "2226/2226 [==============================] - 4s 2ms/step - loss: 0.0126 - categorical_accuracy: 1.0000\n",
            "Epoch 20/30\n",
            "2226/2226 [==============================] - 4s 2ms/step - loss: 0.0121 - categorical_accuracy: 0.9999\n",
            "Epoch 21/30\n",
            "2226/2226 [==============================] - 4s 2ms/step - loss: 0.0111 - categorical_accuracy: 0.9999\n",
            "Epoch 22/30\n",
            "2226/2226 [==============================] - 4s 2ms/step - loss: 0.0109 - categorical_accuracy: 0.9999\n",
            "Epoch 23/30\n",
            "2226/2226 [==============================] - 4s 2ms/step - loss: 0.0104 - categorical_accuracy: 0.9998\n",
            "Epoch 24/30\n",
            "2226/2226 [==============================] - 4s 2ms/step - loss: 0.0100 - categorical_accuracy: 0.9998\n",
            "Epoch 25/30\n",
            "2226/2226 [==============================] - 4s 2ms/step - loss: 0.0094 - categorical_accuracy: 0.9997\n",
            "Epoch 26/30\n",
            "2226/2226 [==============================] - 4s 2ms/step - loss: 0.0091 - categorical_accuracy: 0.9997\n",
            "Epoch 27/30\n",
            "2226/2226 [==============================] - 4s 2ms/step - loss: 0.0089 - categorical_accuracy: 0.9997\n",
            "Epoch 28/30\n",
            "2226/2226 [==============================] - 4s 2ms/step - loss: 0.0087 - categorical_accuracy: 0.9996\n",
            "Epoch 29/30\n",
            "2226/2226 [==============================] - 4s 2ms/step - loss: 0.0084 - categorical_accuracy: 0.9996\n",
            "Epoch 30/30\n",
            "2226/2226 [==============================] - 4s 2ms/step - loss: 0.0083 - categorical_accuracy: 0.9995\n"
          ],
          "name": "stdout"
        }
      ]
    },
    {
      "cell_type": "code",
      "metadata": {
        "colab": {
          "base_uri": "https://localhost:8080/",
          "height": 282
        },
        "id": "6mQtpATNPR5k",
        "outputId": "51c477cf-bc08-4aea-ce6b-0c4030364280"
      },
      "source": [
        "# Plot the loss across epochs\n",
        "\n",
        "plt.plot(history.history['loss'], label='Loss')"
      ],
      "id": "6mQtpATNPR5k",
      "execution_count": 18,
      "outputs": [
        {
          "output_type": "execute_result",
          "data": {
            "text/plain": [
              "[<matplotlib.lines.Line2D at 0x7fe60037e390>]"
            ]
          },
          "metadata": {
            "tags": []
          },
          "execution_count": 18
        },
        {
          "output_type": "display_data",
          "data": {
            "image/png": "[encoded data removed]",
            "text/plain": [
              "<Figure size 432x288 with 1 Axes>"
            ]
          },
          "metadata": {
            "tags": [],
            "needs_background": "light"
          }
        }
      ]
    },
    {
      "cell_type": "code",
      "metadata": {
        "colab": {
          "base_uri": "https://localhost:8080/",
          "height": 282
        },
        "id": "dV6Yxz14PR5k",
        "outputId": "91250664-a037-487f-fff0-c0434c576234"
      },
      "source": [
        "# Plot the accuracy across epochs\n",
        "\n",
        "plt.plot(history.history['categorical_accuracy'], label='Accuracy')"
      ],
      "id": "dV6Yxz14PR5k",
      "execution_count": 19,
      "outputs": [
        {
          "output_type": "execute_result",
          "data": {
            "text/plain": [
              "[<matplotlib.lines.Line2D at 0x7fe6000e7a50>]"
            ]
          },
          "metadata": {
            "tags": []
          },
          "execution_count": 19
        },
        {
          "output_type": "display_data",
          "data": {
            "image/png": "[encoded data removed]",
            "text/plain": [
              "<Figure size 432x288 with 1 Axes>"
            ]
          },
          "metadata": {
            "tags": [],
            "needs_background": "light"
          }
        }
      ]
    },
    {
      "cell_type": "code",
      "metadata": {
        "id": "ko1C8vp5PR5k"
      },
      "source": [
        ""
      ],
      "id": "ko1C8vp5PR5k",
      "execution_count": null,
      "outputs": []
    }
  ]
}