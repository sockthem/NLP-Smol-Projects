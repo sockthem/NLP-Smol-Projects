{
 "cells": [
  {
   "cell_type": "code",
   "execution_count": 1,
   "metadata": {
    "id": "KI_B0np3V5GU"
   },
   "outputs": [],
   "source": [
    "# Yelp reviews classification with advanced ML"
   ]
  },
  {
   "cell_type": "markdown",
   "metadata": {
    "id": "ZpvgQ0dbV5GW"
   },
   "source": [
    "### \n",
    "\n",
    "- **Tokenization**: breaking text into tokens (words, sentences, n-grams)\n",
    "- **Stopword removal**: a/an/the\n",
    "- **Stemming and lemmatization**: root word\n",
    "- **TF-IDF**: word importance\n",
    "- **Spelling correction**: \"New York City\"\n",
    "- **Language detection**: \"translate this page\"\n",
    "- **Machine learning**"
   ]
  },
  {
   "cell_type": "markdown",
   "metadata": {
    "id": "pFAJewWIV5GX"
   },
   "source": [
    "## 1: Reading in the Yelp Reviews"
   ]
  },
  {
   "cell_type": "code",
   "execution_count": 2,
   "metadata": {
    "executionInfo": {
     "elapsed": 1022,
     "status": "ok",
     "timestamp": 1618745299409,
     "user": {
      "displayName": "Sayan Dey",
      "photoUrl": "https://lh3.googleusercontent.com/a-/AOh14GgqVHJ9o6-7idGiRbNNd4iVc1VjzvuPnwmAnvEtD6U=s64",
      "userId": "03603580465490055794"
     },
     "user_tz": -330
    },
    "id": "22XiGCFNV5GY"
   },
   "outputs": [],
   "source": [
    "import warnings\n",
    "warnings.filterwarnings('ignore')"
   ]
  },
  {
   "cell_type": "code",
   "execution_count": 3,
   "metadata": {
    "executionInfo": {
     "elapsed": 1557,
     "status": "ok",
     "timestamp": 1618745300063,
     "user": {
      "displayName": "Sayan Dey",
      "photoUrl": "https://lh3.googleusercontent.com/a-/AOh14GgqVHJ9o6-7idGiRbNNd4iVc1VjzvuPnwmAnvEtD6U=s64",
      "userId": "03603580465490055794"
     },
     "user_tz": -330
    },
    "id": "KrQ0TLpOV5Gc"
   },
   "outputs": [],
   "source": [
    "import pandas as pd\n",
    "import numpy as np\n",
    "import scipy as sp\n",
    "from sklearn.model_selection import train_test_split\n",
    "from sklearn.feature_extraction.text import CountVectorizer, TfidfVectorizer\n",
    "from sklearn.naive_bayes import MultinomialNB\n",
    "from sklearn.linear_model import LogisticRegression\n",
    "from sklearn import metrics\n",
    "from textblob import TextBlob, Word\n",
    "import nltk\n",
    "from nltk.stem.snowball import SnowballStemmer\n",
    "%matplotlib inline"
   ]
  },
  {
   "cell_type": "code",
   "execution_count": 102,
   "metadata": {
    "colab": {
     "base_uri": "https://localhost:8080/",
     "height": 289
    },
    "executionInfo": {
     "elapsed": 1314,
     "status": "ok",
     "timestamp": 1618745303218,
     "user": {
      "displayName": "Sayan Dey",
      "photoUrl": "https://lh3.googleusercontent.com/a-/AOh14GgqVHJ9o6-7idGiRbNNd4iVc1VjzvuPnwmAnvEtD6U=s64",
      "userId": "03603580465490055794"
     },
     "user_tz": -330
    },
    "id": "f6U1e-NNrPZC",
    "outputId": "0264d3b6-b361-4569-d94a-60334e438e4c",
    "scrolled": true
   },
   "outputs": [
    {
     "data": {
      "text/html": [
       "<div>\n",
       "<style scoped>\n",
       "    .dataframe tbody tr th:only-of-type {\n",
       "        vertical-align: middle;\n",
       "    }\n",
       "\n",
       "    .dataframe tbody tr th {\n",
       "        vertical-align: top;\n",
       "    }\n",
       "\n",
       "    .dataframe thead th {\n",
       "        text-align: right;\n",
       "    }\n",
       "</style>\n",
       "<table border=\"1\" class=\"dataframe\">\n",
       "  <thead>\n",
       "    <tr style=\"text-align: right;\">\n",
       "      <th></th>\n",
       "      <th>business_id</th>\n",
       "      <th>date</th>\n",
       "      <th>review_id</th>\n",
       "      <th>stars</th>\n",
       "      <th>text</th>\n",
       "      <th>type</th>\n",
       "      <th>user_id</th>\n",
       "      <th>cool</th>\n",
       "      <th>useful</th>\n",
       "      <th>funny</th>\n",
       "    </tr>\n",
       "  </thead>\n",
       "  <tbody>\n",
       "    <tr>\n",
       "      <th>0</th>\n",
       "      <td>9yKzy9PApeiPPOUJEtnvkg</td>\n",
       "      <td>2011-01-26</td>\n",
       "      <td>fWKvX83p0-ka4JS3dc6E5A</td>\n",
       "      <td>5</td>\n",
       "      <td>My wife took me here on my birthday for breakf...</td>\n",
       "      <td>review</td>\n",
       "      <td>rLtl8ZkDX5vH5nAx9C3q5Q</td>\n",
       "      <td>2</td>\n",
       "      <td>5</td>\n",
       "      <td>0</td>\n",
       "    </tr>\n",
       "    <tr>\n",
       "      <th>1</th>\n",
       "      <td>ZRJwVLyzEJq1VAihDhYiow</td>\n",
       "      <td>2011-07-27</td>\n",
       "      <td>IjZ33sJrzXqU-0X6U8NwyA</td>\n",
       "      <td>5</td>\n",
       "      <td>I have no idea why some people give bad review...</td>\n",
       "      <td>review</td>\n",
       "      <td>0a2KyEL0d3Yb1V6aivbIuQ</td>\n",
       "      <td>0</td>\n",
       "      <td>0</td>\n",
       "      <td>0</td>\n",
       "    </tr>\n",
       "    <tr>\n",
       "      <th>2</th>\n",
       "      <td>6oRAC4uyJCsJl1X0WZpVSA</td>\n",
       "      <td>2012-06-14</td>\n",
       "      <td>IESLBzqUCLdSzSqm0eCSxQ</td>\n",
       "      <td>4</td>\n",
       "      <td>love the gyro plate. Rice is so good and I als...</td>\n",
       "      <td>review</td>\n",
       "      <td>0hT2KtfLiobPvh6cDC8JQg</td>\n",
       "      <td>0</td>\n",
       "      <td>1</td>\n",
       "      <td>0</td>\n",
       "    </tr>\n",
       "    <tr>\n",
       "      <th>3</th>\n",
       "      <td>_1QQZuf4zZOyFCvXc0o6Vg</td>\n",
       "      <td>2010-05-27</td>\n",
       "      <td>G-WvGaISbqqaMHlNnByodA</td>\n",
       "      <td>5</td>\n",
       "      <td>Rosie, Dakota, and I LOVE Chaparral Dog Park!!...</td>\n",
       "      <td>review</td>\n",
       "      <td>uZetl9T0NcROGOyFfughhg</td>\n",
       "      <td>1</td>\n",
       "      <td>2</td>\n",
       "      <td>0</td>\n",
       "    </tr>\n",
       "    <tr>\n",
       "      <th>4</th>\n",
       "      <td>6ozycU1RpktNG2-1BroVtw</td>\n",
       "      <td>2012-01-05</td>\n",
       "      <td>1uJFq2r5QfJG_6ExMRCaGw</td>\n",
       "      <td>5</td>\n",
       "      <td>General Manager Scott Petello is a good egg!!!...</td>\n",
       "      <td>review</td>\n",
       "      <td>vYmM4KTsC8ZfQBg-j5MWkw</td>\n",
       "      <td>0</td>\n",
       "      <td>0</td>\n",
       "      <td>0</td>\n",
       "    </tr>\n",
       "  </tbody>\n",
       "</table>\n",
       "</div>"
      ],
      "text/plain": [
       "              business_id        date               review_id  stars  \\\n",
       "0  9yKzy9PApeiPPOUJEtnvkg  2011-01-26  fWKvX83p0-ka4JS3dc6E5A      5   \n",
       "1  ZRJwVLyzEJq1VAihDhYiow  2011-07-27  IjZ33sJrzXqU-0X6U8NwyA      5   \n",
       "2  6oRAC4uyJCsJl1X0WZpVSA  2012-06-14  IESLBzqUCLdSzSqm0eCSxQ      4   \n",
       "3  _1QQZuf4zZOyFCvXc0o6Vg  2010-05-27  G-WvGaISbqqaMHlNnByodA      5   \n",
       "4  6ozycU1RpktNG2-1BroVtw  2012-01-05  1uJFq2r5QfJG_6ExMRCaGw      5   \n",
       "\n",
       "                                                text    type  \\\n",
       "0  My wife took me here on my birthday for breakf...  review   \n",
       "1  I have no idea why some people give bad review...  review   \n",
       "2  love the gyro plate. Rice is so good and I als...  review   \n",
       "3  Rosie, Dakota, and I LOVE Chaparral Dog Park!!...  review   \n",
       "4  General Manager Scott Petello is a good egg!!!...  review   \n",
       "\n",
       "                  user_id  cool  useful  funny  \n",
       "0  rLtl8ZkDX5vH5nAx9C3q5Q     2       5      0  \n",
       "1  0a2KyEL0d3Yb1V6aivbIuQ     0       0      0  \n",
       "2  0hT2KtfLiobPvh6cDC8JQg     0       1      0  \n",
       "3  uZetl9T0NcROGOyFfughhg     1       2      0  \n",
       "4  vYmM4KTsC8ZfQBg-j5MWkw     0       0      0  "
      ]
     },
     "execution_count": 102,
     "metadata": {},
     "output_type": "execute_result"
    }
   ],
   "source": [
    "yelp = pd.read_csv(r\"C:\\Users\\Ranajoy Bhattacharya\\Downloads\\Syntactic Processing + Lexical Case Study-20210627T051918Z-001\\Syntactic Processing + Lexical Case Study\\yelp.csv\")\n",
    "yelp.head()"
   ]
  },
  {
   "cell_type": "code",
   "execution_count": 6,
   "metadata": {
    "scrolled": true
   },
   "outputs": [
    {
     "data": {
      "text/plain": [
       "(10000, 10)"
      ]
     },
     "execution_count": 6,
     "metadata": {},
     "output_type": "execute_result"
    }
   ],
   "source": [
    "yelp.shape"
   ]
  },
  {
   "cell_type": "code",
   "execution_count": 7,
   "metadata": {
    "executionInfo": {
     "elapsed": 1859,
     "status": "ok",
     "timestamp": 1618745307630,
     "user": {
      "displayName": "Sayan Dey",
      "photoUrl": "https://lh3.googleusercontent.com/a-/AOh14GgqVHJ9o6-7idGiRbNNd4iVc1VjzvuPnwmAnvEtD6U=s64",
      "userId": "03603580465490055794"
     },
     "user_tz": -330
    },
    "id": "LM7JYkaoV5Gn"
   },
   "outputs": [],
   "source": [
    "# create a new DataFrame that only contains the 5-star and 1-star reviews\n",
    "yelp_best_worst = yelp[(yelp.stars==5) | (yelp.stars==1)]\n",
    "#yelp_best_worst = yelp"
   ]
  },
  {
   "cell_type": "code",
   "execution_count": 8,
   "metadata": {
    "executionInfo": {
     "elapsed": 1589,
     "status": "ok",
     "timestamp": 1618745307631,
     "user": {
      "displayName": "Sayan Dey",
      "photoUrl": "https://lh3.googleusercontent.com/a-/AOh14GgqVHJ9o6-7idGiRbNNd4iVc1VjzvuPnwmAnvEtD6U=s64",
      "userId": "03603580465490055794"
     },
     "user_tz": -330
    },
    "id": "q0YTa_K5V5Gs"
   },
   "outputs": [],
   "source": [
    "# define X and y\n",
    "X = yelp_best_worst.text\n",
    "y = yelp_best_worst.stars"
   ]
  },
  {
   "cell_type": "code",
   "execution_count": 9,
   "metadata": {
    "executionInfo": {
     "elapsed": 1454,
     "status": "ok",
     "timestamp": 1618745307631,
     "user": {
      "displayName": "Sayan Dey",
      "photoUrl": "https://lh3.googleusercontent.com/a-/AOh14GgqVHJ9o6-7idGiRbNNd4iVc1VjzvuPnwmAnvEtD6U=s64",
      "userId": "03603580465490055794"
     },
     "user_tz": -330
    },
    "id": "Ean64GFMV5Gv"
   },
   "outputs": [],
   "source": [
    "# split the new DataFrame into training and testing sets\n",
    "X_train, X_test, y_train, y_test = train_test_split(X, y, random_state=1)"
   ]
  },
  {
   "cell_type": "markdown",
   "metadata": {
    "id": "OYAMkGJuV5Gz"
   },
   "source": [
    "## 2: Tokenization"
   ]
  },
  {
   "cell_type": "markdown",
   "metadata": {
    "id": "lqjMZ-FeV5G0"
   },
   "source": [
    "- **What:** Separate text into units such as sentences or words\n",
    "- **Why:** Gives structure to previously unstructured text\n",
    "- **Notes:** Relatively easy with English language text, not easy with some languages"
   ]
  },
  {
   "cell_type": "code",
   "execution_count": 10,
   "metadata": {
    "scrolled": true
   },
   "outputs": [
    {
     "data": {
      "text/plain": [
       "(3064,)"
      ]
     },
     "execution_count": 10,
     "metadata": {},
     "output_type": "execute_result"
    }
   ],
   "source": [
    "X_train.shape"
   ]
  },
  {
   "cell_type": "code",
   "execution_count": 11,
   "metadata": {
    "executionInfo": {
     "elapsed": 1130,
     "status": "ok",
     "timestamp": 1618745307632,
     "user": {
      "displayName": "Sayan Dey",
      "photoUrl": "https://lh3.googleusercontent.com/a-/AOh14GgqVHJ9o6-7idGiRbNNd4iVc1VjzvuPnwmAnvEtD6U=s64",
      "userId": "03603580465490055794"
     },
     "user_tz": -330
    },
    "id": "4qjSENqGV5G2"
   },
   "outputs": [],
   "source": [
    "# use CountVectorizer to create document-term matrices from X_train and X_test\n",
    "vect = CountVectorizer(stop_words='english')"
   ]
  },
  {
   "cell_type": "code",
   "execution_count": 12,
   "metadata": {
    "colab": {
     "base_uri": "https://localhost:8080/"
    },
    "executionInfo": {
     "elapsed": 2069,
     "status": "ok",
     "timestamp": 1618745308730,
     "user": {
      "displayName": "Sayan Dey",
      "photoUrl": "https://lh3.googleusercontent.com/a-/AOh14GgqVHJ9o6-7idGiRbNNd4iVc1VjzvuPnwmAnvEtD6U=s64",
      "userId": "03603580465490055794"
     },
     "user_tz": -330
    },
    "id": "8enKcxCwV5G8",
    "outputId": "cbdee33f-995d-4b62-ce96-1369073af833"
   },
   "outputs": [
    {
     "data": {
      "text/plain": [
       "CountVectorizer(stop_words='english')"
      ]
     },
     "execution_count": 12,
     "metadata": {},
     "output_type": "execute_result"
    }
   ],
   "source": [
    "#Tokenisation\n",
    "vect.fit(X_train)"
   ]
  },
  {
   "cell_type": "code",
   "execution_count": 13,
   "metadata": {
    "executionInfo": {
     "elapsed": 1940,
     "status": "ok",
     "timestamp": 1618745308731,
     "user": {
      "displayName": "Sayan Dey",
      "photoUrl": "https://lh3.googleusercontent.com/a-/AOh14GgqVHJ9o6-7idGiRbNNd4iVc1VjzvuPnwmAnvEtD6U=s64",
      "userId": "03603580465490055794"
     },
     "user_tz": -330
    },
    "id": "60FBzjEjV5HC"
   },
   "outputs": [],
   "source": [
    "#Vectorisation\n",
    "X_train_dtm = vect.transform(X_train)"
   ]
  },
  {
   "cell_type": "code",
   "execution_count": 14,
   "metadata": {
    "colab": {
     "base_uri": "https://localhost:8080/"
    },
    "executionInfo": {
     "elapsed": 1820,
     "status": "ok",
     "timestamp": 1618745308731,
     "user": {
      "displayName": "Sayan Dey",
      "photoUrl": "https://lh3.googleusercontent.com/a-/AOh14GgqVHJ9o6-7idGiRbNNd4iVc1VjzvuPnwmAnvEtD6U=s64",
      "userId": "03603580465490055794"
     },
     "user_tz": -330
    },
    "id": "2uPCHdgydzWU",
    "outputId": "87beba15-7c61-4e20-9fcb-70336bc46f5a"
   },
   "outputs": [
    {
     "data": {
      "text/plain": [
       "<3064x16528 sparse matrix of type '<class 'numpy.int64'>'\n",
       "\twith 143743 stored elements in Compressed Sparse Row format>"
      ]
     },
     "execution_count": 14,
     "metadata": {},
     "output_type": "execute_result"
    }
   ],
   "source": [
    "X_train_dtm"
   ]
  },
  {
   "cell_type": "code",
   "execution_count": 15,
   "metadata": {},
   "outputs": [
    {
     "data": {
      "text/plain": [
       "scipy.sparse.csr.csr_matrix"
      ]
     },
     "execution_count": 15,
     "metadata": {},
     "output_type": "execute_result"
    }
   ],
   "source": [
    "type(X_train_dtm)"
   ]
  },
  {
   "cell_type": "code",
   "execution_count": 16,
   "metadata": {
    "colab": {
     "base_uri": "https://localhost:8080/"
    },
    "executionInfo": {
     "elapsed": 2718,
     "status": "ok",
     "timestamp": 1618745309719,
     "user": {
      "displayName": "Sayan Dey",
      "photoUrl": "https://lh3.googleusercontent.com/a-/AOh14GgqVHJ9o6-7idGiRbNNd4iVc1VjzvuPnwmAnvEtD6U=s64",
      "userId": "03603580465490055794"
     },
     "user_tz": -330
    },
    "id": "z7rs6UljfHIN",
    "outputId": "98564965-4c3d-4542-e203-e4ca7c6cbe5e",
    "scrolled": true
   },
   "outputs": [
    {
     "data": {
      "text/plain": [
       "array([[0, 0, 0, ..., 0, 0, 0],\n",
       "       [0, 0, 0, ..., 0, 0, 0],\n",
       "       [0, 0, 0, ..., 0, 0, 0],\n",
       "       ...,\n",
       "       [0, 0, 0, ..., 0, 0, 0],\n",
       "       [0, 0, 0, ..., 0, 0, 0],\n",
       "       [0, 0, 0, ..., 0, 0, 0]], dtype=int64)"
      ]
     },
     "execution_count": 16,
     "metadata": {},
     "output_type": "execute_result"
    }
   ],
   "source": [
    "X_train_dtm.toarray()"
   ]
  },
  {
   "cell_type": "code",
   "execution_count": 17,
   "metadata": {
    "colab": {
     "base_uri": "https://localhost:8080/",
     "height": 435
    },
    "executionInfo": {
     "elapsed": 2573,
     "status": "ok",
     "timestamp": 1618745309721,
     "user": {
      "displayName": "Sayan Dey",
      "photoUrl": "https://lh3.googleusercontent.com/a-/AOh14GgqVHJ9o6-7idGiRbNNd4iVc1VjzvuPnwmAnvEtD6U=s64",
      "userId": "03603580465490055794"
     },
     "user_tz": -330
    },
    "id": "nJ6clKSdd7h1",
    "outputId": "00a49aac-faa6-46b1-f808-0cf33641683d",
    "scrolled": false
   },
   "outputs": [
    {
     "data": {
      "text/html": [
       "<div>\n",
       "<style scoped>\n",
       "    .dataframe tbody tr th:only-of-type {\n",
       "        vertical-align: middle;\n",
       "    }\n",
       "\n",
       "    .dataframe tbody tr th {\n",
       "        vertical-align: top;\n",
       "    }\n",
       "\n",
       "    .dataframe thead th {\n",
       "        text-align: right;\n",
       "    }\n",
       "</style>\n",
       "<table border=\"1\" class=\"dataframe\">\n",
       "  <thead>\n",
       "    <tr style=\"text-align: right;\">\n",
       "      <th></th>\n",
       "      <th>00</th>\n",
       "      <th>000</th>\n",
       "      <th>00a</th>\n",
       "      <th>00am</th>\n",
       "      <th>00pm</th>\n",
       "      <th>01</th>\n",
       "      <th>02</th>\n",
       "      <th>03</th>\n",
       "      <th>03342</th>\n",
       "      <th>04</th>\n",
       "      <th>...</th>\n",
       "      <th>zucchini</th>\n",
       "      <th>zuchinni</th>\n",
       "      <th>zumba</th>\n",
       "      <th>zupa</th>\n",
       "      <th>zuzu</th>\n",
       "      <th>zwiebel</th>\n",
       "      <th>zzed</th>\n",
       "      <th>éclairs</th>\n",
       "      <th>école</th>\n",
       "      <th>ém</th>\n",
       "    </tr>\n",
       "  </thead>\n",
       "  <tbody>\n",
       "    <tr>\n",
       "      <th>0</th>\n",
       "      <td>0</td>\n",
       "      <td>0</td>\n",
       "      <td>0</td>\n",
       "      <td>0</td>\n",
       "      <td>0</td>\n",
       "      <td>0</td>\n",
       "      <td>0</td>\n",
       "      <td>0</td>\n",
       "      <td>0</td>\n",
       "      <td>0</td>\n",
       "      <td>...</td>\n",
       "      <td>0</td>\n",
       "      <td>0</td>\n",
       "      <td>0</td>\n",
       "      <td>0</td>\n",
       "      <td>0</td>\n",
       "      <td>0</td>\n",
       "      <td>0</td>\n",
       "      <td>0</td>\n",
       "      <td>0</td>\n",
       "      <td>0</td>\n",
       "    </tr>\n",
       "    <tr>\n",
       "      <th>1</th>\n",
       "      <td>0</td>\n",
       "      <td>0</td>\n",
       "      <td>0</td>\n",
       "      <td>0</td>\n",
       "      <td>0</td>\n",
       "      <td>0</td>\n",
       "      <td>0</td>\n",
       "      <td>0</td>\n",
       "      <td>0</td>\n",
       "      <td>0</td>\n",
       "      <td>...</td>\n",
       "      <td>0</td>\n",
       "      <td>0</td>\n",
       "      <td>0</td>\n",
       "      <td>0</td>\n",
       "      <td>0</td>\n",
       "      <td>0</td>\n",
       "      <td>0</td>\n",
       "      <td>0</td>\n",
       "      <td>0</td>\n",
       "      <td>0</td>\n",
       "    </tr>\n",
       "    <tr>\n",
       "      <th>2</th>\n",
       "      <td>0</td>\n",
       "      <td>0</td>\n",
       "      <td>0</td>\n",
       "      <td>0</td>\n",
       "      <td>0</td>\n",
       "      <td>0</td>\n",
       "      <td>0</td>\n",
       "      <td>0</td>\n",
       "      <td>0</td>\n",
       "      <td>0</td>\n",
       "      <td>...</td>\n",
       "      <td>0</td>\n",
       "      <td>0</td>\n",
       "      <td>0</td>\n",
       "      <td>0</td>\n",
       "      <td>0</td>\n",
       "      <td>0</td>\n",
       "      <td>0</td>\n",
       "      <td>0</td>\n",
       "      <td>0</td>\n",
       "      <td>0</td>\n",
       "    </tr>\n",
       "    <tr>\n",
       "      <th>3</th>\n",
       "      <td>0</td>\n",
       "      <td>0</td>\n",
       "      <td>0</td>\n",
       "      <td>0</td>\n",
       "      <td>0</td>\n",
       "      <td>0</td>\n",
       "      <td>0</td>\n",
       "      <td>0</td>\n",
       "      <td>0</td>\n",
       "      <td>0</td>\n",
       "      <td>...</td>\n",
       "      <td>0</td>\n",
       "      <td>0</td>\n",
       "      <td>0</td>\n",
       "      <td>0</td>\n",
       "      <td>0</td>\n",
       "      <td>0</td>\n",
       "      <td>0</td>\n",
       "      <td>0</td>\n",
       "      <td>0</td>\n",
       "      <td>0</td>\n",
       "    </tr>\n",
       "    <tr>\n",
       "      <th>4</th>\n",
       "      <td>0</td>\n",
       "      <td>0</td>\n",
       "      <td>0</td>\n",
       "      <td>0</td>\n",
       "      <td>0</td>\n",
       "      <td>0</td>\n",
       "      <td>0</td>\n",
       "      <td>0</td>\n",
       "      <td>0</td>\n",
       "      <td>0</td>\n",
       "      <td>...</td>\n",
       "      <td>0</td>\n",
       "      <td>0</td>\n",
       "      <td>0</td>\n",
       "      <td>0</td>\n",
       "      <td>0</td>\n",
       "      <td>0</td>\n",
       "      <td>0</td>\n",
       "      <td>0</td>\n",
       "      <td>0</td>\n",
       "      <td>0</td>\n",
       "    </tr>\n",
       "    <tr>\n",
       "      <th>...</th>\n",
       "      <td>...</td>\n",
       "      <td>...</td>\n",
       "      <td>...</td>\n",
       "      <td>...</td>\n",
       "      <td>...</td>\n",
       "      <td>...</td>\n",
       "      <td>...</td>\n",
       "      <td>...</td>\n",
       "      <td>...</td>\n",
       "      <td>...</td>\n",
       "      <td>...</td>\n",
       "      <td>...</td>\n",
       "      <td>...</td>\n",
       "      <td>...</td>\n",
       "      <td>...</td>\n",
       "      <td>...</td>\n",
       "      <td>...</td>\n",
       "      <td>...</td>\n",
       "      <td>...</td>\n",
       "      <td>...</td>\n",
       "      <td>...</td>\n",
       "    </tr>\n",
       "    <tr>\n",
       "      <th>3059</th>\n",
       "      <td>0</td>\n",
       "      <td>0</td>\n",
       "      <td>0</td>\n",
       "      <td>0</td>\n",
       "      <td>0</td>\n",
       "      <td>0</td>\n",
       "      <td>0</td>\n",
       "      <td>0</td>\n",
       "      <td>0</td>\n",
       "      <td>0</td>\n",
       "      <td>...</td>\n",
       "      <td>0</td>\n",
       "      <td>0</td>\n",
       "      <td>0</td>\n",
       "      <td>0</td>\n",
       "      <td>0</td>\n",
       "      <td>0</td>\n",
       "      <td>0</td>\n",
       "      <td>0</td>\n",
       "      <td>0</td>\n",
       "      <td>0</td>\n",
       "    </tr>\n",
       "    <tr>\n",
       "      <th>3060</th>\n",
       "      <td>0</td>\n",
       "      <td>0</td>\n",
       "      <td>0</td>\n",
       "      <td>0</td>\n",
       "      <td>0</td>\n",
       "      <td>0</td>\n",
       "      <td>0</td>\n",
       "      <td>0</td>\n",
       "      <td>0</td>\n",
       "      <td>0</td>\n",
       "      <td>...</td>\n",
       "      <td>0</td>\n",
       "      <td>0</td>\n",
       "      <td>0</td>\n",
       "      <td>0</td>\n",
       "      <td>0</td>\n",
       "      <td>0</td>\n",
       "      <td>0</td>\n",
       "      <td>0</td>\n",
       "      <td>0</td>\n",
       "      <td>0</td>\n",
       "    </tr>\n",
       "    <tr>\n",
       "      <th>3061</th>\n",
       "      <td>0</td>\n",
       "      <td>0</td>\n",
       "      <td>0</td>\n",
       "      <td>0</td>\n",
       "      <td>0</td>\n",
       "      <td>0</td>\n",
       "      <td>0</td>\n",
       "      <td>0</td>\n",
       "      <td>0</td>\n",
       "      <td>0</td>\n",
       "      <td>...</td>\n",
       "      <td>0</td>\n",
       "      <td>0</td>\n",
       "      <td>0</td>\n",
       "      <td>0</td>\n",
       "      <td>0</td>\n",
       "      <td>0</td>\n",
       "      <td>0</td>\n",
       "      <td>0</td>\n",
       "      <td>0</td>\n",
       "      <td>0</td>\n",
       "    </tr>\n",
       "    <tr>\n",
       "      <th>3062</th>\n",
       "      <td>0</td>\n",
       "      <td>0</td>\n",
       "      <td>0</td>\n",
       "      <td>0</td>\n",
       "      <td>0</td>\n",
       "      <td>0</td>\n",
       "      <td>0</td>\n",
       "      <td>0</td>\n",
       "      <td>0</td>\n",
       "      <td>0</td>\n",
       "      <td>...</td>\n",
       "      <td>0</td>\n",
       "      <td>0</td>\n",
       "      <td>0</td>\n",
       "      <td>0</td>\n",
       "      <td>0</td>\n",
       "      <td>0</td>\n",
       "      <td>0</td>\n",
       "      <td>0</td>\n",
       "      <td>0</td>\n",
       "      <td>0</td>\n",
       "    </tr>\n",
       "    <tr>\n",
       "      <th>3063</th>\n",
       "      <td>0</td>\n",
       "      <td>0</td>\n",
       "      <td>0</td>\n",
       "      <td>0</td>\n",
       "      <td>0</td>\n",
       "      <td>0</td>\n",
       "      <td>0</td>\n",
       "      <td>0</td>\n",
       "      <td>0</td>\n",
       "      <td>0</td>\n",
       "      <td>...</td>\n",
       "      <td>0</td>\n",
       "      <td>0</td>\n",
       "      <td>0</td>\n",
       "      <td>0</td>\n",
       "      <td>0</td>\n",
       "      <td>0</td>\n",
       "      <td>0</td>\n",
       "      <td>0</td>\n",
       "      <td>0</td>\n",
       "      <td>0</td>\n",
       "    </tr>\n",
       "  </tbody>\n",
       "</table>\n",
       "<p>3064 rows × 16528 columns</p>\n",
       "</div>"
      ],
      "text/plain": [
       "      00  000  00a  00am  00pm  01  02  03  03342  04  ...  zucchini  \\\n",
       "0      0    0    0     0     0   0   0   0      0   0  ...         0   \n",
       "1      0    0    0     0     0   0   0   0      0   0  ...         0   \n",
       "2      0    0    0     0     0   0   0   0      0   0  ...         0   \n",
       "3      0    0    0     0     0   0   0   0      0   0  ...         0   \n",
       "4      0    0    0     0     0   0   0   0      0   0  ...         0   \n",
       "...   ..  ...  ...   ...   ...  ..  ..  ..    ...  ..  ...       ...   \n",
       "3059   0    0    0     0     0   0   0   0      0   0  ...         0   \n",
       "3060   0    0    0     0     0   0   0   0      0   0  ...         0   \n",
       "3061   0    0    0     0     0   0   0   0      0   0  ...         0   \n",
       "3062   0    0    0     0     0   0   0   0      0   0  ...         0   \n",
       "3063   0    0    0     0     0   0   0   0      0   0  ...         0   \n",
       "\n",
       "      zuchinni  zumba  zupa  zuzu  zwiebel  zzed  éclairs  école  ém  \n",
       "0            0      0     0     0        0     0        0      0   0  \n",
       "1            0      0     0     0        0     0        0      0   0  \n",
       "2            0      0     0     0        0     0        0      0   0  \n",
       "3            0      0     0     0        0     0        0      0   0  \n",
       "4            0      0     0     0        0     0        0      0   0  \n",
       "...        ...    ...   ...   ...      ...   ...      ...    ...  ..  \n",
       "3059         0      0     0     0        0     0        0      0   0  \n",
       "3060         0      0     0     0        0     0        0      0   0  \n",
       "3061         0      0     0     0        0     0        0      0   0  \n",
       "3062         0      0     0     0        0     0        0      0   0  \n",
       "3063         0      0     0     0        0     0        0      0   0  \n",
       "\n",
       "[3064 rows x 16528 columns]"
      ]
     },
     "execution_count": 17,
     "metadata": {},
     "output_type": "execute_result"
    }
   ],
   "source": [
    "demo = pd.DataFrame(X_train_dtm.toarray())\n",
    "demo.columns = vect.get_feature_names()\n",
    "demo"
   ]
  },
  {
   "cell_type": "code",
   "execution_count": 18,
   "metadata": {
    "executionInfo": {
     "elapsed": 2504,
     "status": "ok",
     "timestamp": 1618745309721,
     "user": {
      "displayName": "Sayan Dey",
      "photoUrl": "https://lh3.googleusercontent.com/a-/AOh14GgqVHJ9o6-7idGiRbNNd4iVc1VjzvuPnwmAnvEtD6U=s64",
      "userId": "03603580465490055794"
     },
     "user_tz": -330
    },
    "id": "RMFt5bjIV5HG"
   },
   "outputs": [],
   "source": [
    "X_test_dtm = vect.transform(X_test)"
   ]
  },
  {
   "cell_type": "code",
   "execution_count": 19,
   "metadata": {
    "colab": {
     "base_uri": "https://localhost:8080/"
    },
    "executionInfo": {
     "elapsed": 2385,
     "status": "ok",
     "timestamp": 1618745309722,
     "user": {
      "displayName": "Sayan Dey",
      "photoUrl": "https://lh3.googleusercontent.com/a-/AOh14GgqVHJ9o6-7idGiRbNNd4iVc1VjzvuPnwmAnvEtD6U=s64",
      "userId": "03603580465490055794"
     },
     "user_tz": -330
    },
    "id": "FVhf6PDPgNtO",
    "outputId": "04de4c02-15d0-44f9-e04f-0ffd8da4c72f"
   },
   "outputs": [
    {
     "data": {
      "text/plain": [
       "<1022x16528 sparse matrix of type '<class 'numpy.int64'>'\n",
       "\twith 45310 stored elements in Compressed Sparse Row format>"
      ]
     },
     "execution_count": 19,
     "metadata": {},
     "output_type": "execute_result"
    }
   ],
   "source": [
    "X_test_dtm"
   ]
  },
  {
   "cell_type": "code",
   "execution_count": 20,
   "metadata": {
    "colab": {
     "base_uri": "https://localhost:8080/",
     "height": 435
    },
    "executionInfo": {
     "elapsed": 2233,
     "status": "ok",
     "timestamp": 1618745309724,
     "user": {
      "displayName": "Sayan Dey",
      "photoUrl": "https://lh3.googleusercontent.com/a-/AOh14GgqVHJ9o6-7idGiRbNNd4iVc1VjzvuPnwmAnvEtD6U=s64",
      "userId": "03603580465490055794"
     },
     "user_tz": -330
    },
    "id": "HOhSfzjMgS-M",
    "outputId": "0cdfb294-19b8-4c9c-e7da-8ca93441b7a4"
   },
   "outputs": [
    {
     "data": {
      "text/html": [
       "<div>\n",
       "<style scoped>\n",
       "    .dataframe tbody tr th:only-of-type {\n",
       "        vertical-align: middle;\n",
       "    }\n",
       "\n",
       "    .dataframe tbody tr th {\n",
       "        vertical-align: top;\n",
       "    }\n",
       "\n",
       "    .dataframe thead th {\n",
       "        text-align: right;\n",
       "    }\n",
       "</style>\n",
       "<table border=\"1\" class=\"dataframe\">\n",
       "  <thead>\n",
       "    <tr style=\"text-align: right;\">\n",
       "      <th></th>\n",
       "      <th>00</th>\n",
       "      <th>000</th>\n",
       "      <th>00a</th>\n",
       "      <th>00am</th>\n",
       "      <th>00pm</th>\n",
       "      <th>01</th>\n",
       "      <th>02</th>\n",
       "      <th>03</th>\n",
       "      <th>03342</th>\n",
       "      <th>04</th>\n",
       "      <th>...</th>\n",
       "      <th>zucchini</th>\n",
       "      <th>zuchinni</th>\n",
       "      <th>zumba</th>\n",
       "      <th>zupa</th>\n",
       "      <th>zuzu</th>\n",
       "      <th>zwiebel</th>\n",
       "      <th>zzed</th>\n",
       "      <th>éclairs</th>\n",
       "      <th>école</th>\n",
       "      <th>ém</th>\n",
       "    </tr>\n",
       "  </thead>\n",
       "  <tbody>\n",
       "    <tr>\n",
       "      <th>0</th>\n",
       "      <td>0</td>\n",
       "      <td>0</td>\n",
       "      <td>0</td>\n",
       "      <td>0</td>\n",
       "      <td>0</td>\n",
       "      <td>0</td>\n",
       "      <td>0</td>\n",
       "      <td>0</td>\n",
       "      <td>0</td>\n",
       "      <td>0</td>\n",
       "      <td>...</td>\n",
       "      <td>0</td>\n",
       "      <td>0</td>\n",
       "      <td>0</td>\n",
       "      <td>0</td>\n",
       "      <td>0</td>\n",
       "      <td>0</td>\n",
       "      <td>0</td>\n",
       "      <td>0</td>\n",
       "      <td>0</td>\n",
       "      <td>0</td>\n",
       "    </tr>\n",
       "    <tr>\n",
       "      <th>1</th>\n",
       "      <td>0</td>\n",
       "      <td>0</td>\n",
       "      <td>0</td>\n",
       "      <td>0</td>\n",
       "      <td>0</td>\n",
       "      <td>0</td>\n",
       "      <td>0</td>\n",
       "      <td>0</td>\n",
       "      <td>0</td>\n",
       "      <td>0</td>\n",
       "      <td>...</td>\n",
       "      <td>0</td>\n",
       "      <td>0</td>\n",
       "      <td>0</td>\n",
       "      <td>0</td>\n",
       "      <td>0</td>\n",
       "      <td>0</td>\n",
       "      <td>0</td>\n",
       "      <td>0</td>\n",
       "      <td>0</td>\n",
       "      <td>0</td>\n",
       "    </tr>\n",
       "    <tr>\n",
       "      <th>2</th>\n",
       "      <td>0</td>\n",
       "      <td>0</td>\n",
       "      <td>0</td>\n",
       "      <td>0</td>\n",
       "      <td>0</td>\n",
       "      <td>0</td>\n",
       "      <td>0</td>\n",
       "      <td>0</td>\n",
       "      <td>0</td>\n",
       "      <td>0</td>\n",
       "      <td>...</td>\n",
       "      <td>0</td>\n",
       "      <td>0</td>\n",
       "      <td>0</td>\n",
       "      <td>0</td>\n",
       "      <td>0</td>\n",
       "      <td>0</td>\n",
       "      <td>0</td>\n",
       "      <td>0</td>\n",
       "      <td>0</td>\n",
       "      <td>0</td>\n",
       "    </tr>\n",
       "    <tr>\n",
       "      <th>3</th>\n",
       "      <td>0</td>\n",
       "      <td>0</td>\n",
       "      <td>0</td>\n",
       "      <td>0</td>\n",
       "      <td>0</td>\n",
       "      <td>0</td>\n",
       "      <td>0</td>\n",
       "      <td>0</td>\n",
       "      <td>0</td>\n",
       "      <td>0</td>\n",
       "      <td>...</td>\n",
       "      <td>0</td>\n",
       "      <td>0</td>\n",
       "      <td>0</td>\n",
       "      <td>0</td>\n",
       "      <td>0</td>\n",
       "      <td>0</td>\n",
       "      <td>0</td>\n",
       "      <td>0</td>\n",
       "      <td>0</td>\n",
       "      <td>0</td>\n",
       "    </tr>\n",
       "    <tr>\n",
       "      <th>4</th>\n",
       "      <td>0</td>\n",
       "      <td>0</td>\n",
       "      <td>0</td>\n",
       "      <td>0</td>\n",
       "      <td>0</td>\n",
       "      <td>0</td>\n",
       "      <td>0</td>\n",
       "      <td>0</td>\n",
       "      <td>0</td>\n",
       "      <td>0</td>\n",
       "      <td>...</td>\n",
       "      <td>0</td>\n",
       "      <td>0</td>\n",
       "      <td>0</td>\n",
       "      <td>0</td>\n",
       "      <td>0</td>\n",
       "      <td>0</td>\n",
       "      <td>0</td>\n",
       "      <td>0</td>\n",
       "      <td>0</td>\n",
       "      <td>0</td>\n",
       "    </tr>\n",
       "    <tr>\n",
       "      <th>...</th>\n",
       "      <td>...</td>\n",
       "      <td>...</td>\n",
       "      <td>...</td>\n",
       "      <td>...</td>\n",
       "      <td>...</td>\n",
       "      <td>...</td>\n",
       "      <td>...</td>\n",
       "      <td>...</td>\n",
       "      <td>...</td>\n",
       "      <td>...</td>\n",
       "      <td>...</td>\n",
       "      <td>...</td>\n",
       "      <td>...</td>\n",
       "      <td>...</td>\n",
       "      <td>...</td>\n",
       "      <td>...</td>\n",
       "      <td>...</td>\n",
       "      <td>...</td>\n",
       "      <td>...</td>\n",
       "      <td>...</td>\n",
       "      <td>...</td>\n",
       "    </tr>\n",
       "    <tr>\n",
       "      <th>1017</th>\n",
       "      <td>0</td>\n",
       "      <td>0</td>\n",
       "      <td>0</td>\n",
       "      <td>0</td>\n",
       "      <td>0</td>\n",
       "      <td>0</td>\n",
       "      <td>0</td>\n",
       "      <td>0</td>\n",
       "      <td>0</td>\n",
       "      <td>0</td>\n",
       "      <td>...</td>\n",
       "      <td>0</td>\n",
       "      <td>0</td>\n",
       "      <td>0</td>\n",
       "      <td>0</td>\n",
       "      <td>0</td>\n",
       "      <td>0</td>\n",
       "      <td>0</td>\n",
       "      <td>0</td>\n",
       "      <td>0</td>\n",
       "      <td>0</td>\n",
       "    </tr>\n",
       "    <tr>\n",
       "      <th>1018</th>\n",
       "      <td>0</td>\n",
       "      <td>0</td>\n",
       "      <td>0</td>\n",
       "      <td>0</td>\n",
       "      <td>0</td>\n",
       "      <td>0</td>\n",
       "      <td>0</td>\n",
       "      <td>0</td>\n",
       "      <td>0</td>\n",
       "      <td>0</td>\n",
       "      <td>...</td>\n",
       "      <td>0</td>\n",
       "      <td>0</td>\n",
       "      <td>0</td>\n",
       "      <td>0</td>\n",
       "      <td>0</td>\n",
       "      <td>0</td>\n",
       "      <td>0</td>\n",
       "      <td>0</td>\n",
       "      <td>0</td>\n",
       "      <td>0</td>\n",
       "    </tr>\n",
       "    <tr>\n",
       "      <th>1019</th>\n",
       "      <td>0</td>\n",
       "      <td>0</td>\n",
       "      <td>0</td>\n",
       "      <td>0</td>\n",
       "      <td>0</td>\n",
       "      <td>0</td>\n",
       "      <td>0</td>\n",
       "      <td>0</td>\n",
       "      <td>0</td>\n",
       "      <td>0</td>\n",
       "      <td>...</td>\n",
       "      <td>0</td>\n",
       "      <td>0</td>\n",
       "      <td>0</td>\n",
       "      <td>0</td>\n",
       "      <td>0</td>\n",
       "      <td>0</td>\n",
       "      <td>0</td>\n",
       "      <td>0</td>\n",
       "      <td>0</td>\n",
       "      <td>0</td>\n",
       "    </tr>\n",
       "    <tr>\n",
       "      <th>1020</th>\n",
       "      <td>0</td>\n",
       "      <td>0</td>\n",
       "      <td>0</td>\n",
       "      <td>0</td>\n",
       "      <td>0</td>\n",
       "      <td>0</td>\n",
       "      <td>0</td>\n",
       "      <td>0</td>\n",
       "      <td>0</td>\n",
       "      <td>0</td>\n",
       "      <td>...</td>\n",
       "      <td>0</td>\n",
       "      <td>0</td>\n",
       "      <td>0</td>\n",
       "      <td>0</td>\n",
       "      <td>0</td>\n",
       "      <td>0</td>\n",
       "      <td>0</td>\n",
       "      <td>0</td>\n",
       "      <td>0</td>\n",
       "      <td>0</td>\n",
       "    </tr>\n",
       "    <tr>\n",
       "      <th>1021</th>\n",
       "      <td>0</td>\n",
       "      <td>0</td>\n",
       "      <td>0</td>\n",
       "      <td>0</td>\n",
       "      <td>0</td>\n",
       "      <td>0</td>\n",
       "      <td>0</td>\n",
       "      <td>0</td>\n",
       "      <td>0</td>\n",
       "      <td>0</td>\n",
       "      <td>...</td>\n",
       "      <td>0</td>\n",
       "      <td>0</td>\n",
       "      <td>0</td>\n",
       "      <td>0</td>\n",
       "      <td>0</td>\n",
       "      <td>0</td>\n",
       "      <td>0</td>\n",
       "      <td>0</td>\n",
       "      <td>0</td>\n",
       "      <td>0</td>\n",
       "    </tr>\n",
       "  </tbody>\n",
       "</table>\n",
       "<p>1022 rows × 16528 columns</p>\n",
       "</div>"
      ],
      "text/plain": [
       "      00  000  00a  00am  00pm  01  02  03  03342  04  ...  zucchini  \\\n",
       "0      0    0    0     0     0   0   0   0      0   0  ...         0   \n",
       "1      0    0    0     0     0   0   0   0      0   0  ...         0   \n",
       "2      0    0    0     0     0   0   0   0      0   0  ...         0   \n",
       "3      0    0    0     0     0   0   0   0      0   0  ...         0   \n",
       "4      0    0    0     0     0   0   0   0      0   0  ...         0   \n",
       "...   ..  ...  ...   ...   ...  ..  ..  ..    ...  ..  ...       ...   \n",
       "1017   0    0    0     0     0   0   0   0      0   0  ...         0   \n",
       "1018   0    0    0     0     0   0   0   0      0   0  ...         0   \n",
       "1019   0    0    0     0     0   0   0   0      0   0  ...         0   \n",
       "1020   0    0    0     0     0   0   0   0      0   0  ...         0   \n",
       "1021   0    0    0     0     0   0   0   0      0   0  ...         0   \n",
       "\n",
       "      zuchinni  zumba  zupa  zuzu  zwiebel  zzed  éclairs  école  ém  \n",
       "0            0      0     0     0        0     0        0      0   0  \n",
       "1            0      0     0     0        0     0        0      0   0  \n",
       "2            0      0     0     0        0     0        0      0   0  \n",
       "3            0      0     0     0        0     0        0      0   0  \n",
       "4            0      0     0     0        0     0        0      0   0  \n",
       "...        ...    ...   ...   ...      ...   ...      ...    ...  ..  \n",
       "1017         0      0     0     0        0     0        0      0   0  \n",
       "1018         0      0     0     0        0     0        0      0   0  \n",
       "1019         0      0     0     0        0     0        0      0   0  \n",
       "1020         0      0     0     0        0     0        0      0   0  \n",
       "1021         0      0     0     0        0     0        0      0   0  \n",
       "\n",
       "[1022 rows x 16528 columns]"
      ]
     },
     "execution_count": 20,
     "metadata": {},
     "output_type": "execute_result"
    }
   ],
   "source": [
    "demotest = pd.DataFrame(X_test_dtm.toarray())\n",
    "demotest.columns = vect.get_feature_names()\n",
    "demotest"
   ]
  },
  {
   "cell_type": "code",
   "execution_count": 21,
   "metadata": {
    "colab": {
     "base_uri": "https://localhost:8080/"
    },
    "executionInfo": {
     "elapsed": 1652,
     "status": "ok",
     "timestamp": 1618745310914,
     "user": {
      "displayName": "Sayan Dey",
      "photoUrl": "https://lh3.googleusercontent.com/a-/AOh14GgqVHJ9o6-7idGiRbNNd4iVc1VjzvuPnwmAnvEtD6U=s64",
      "userId": "03603580465490055794"
     },
     "user_tz": -330
    },
    "id": "fwN-JyRzV5HM",
    "outputId": "9e829707-8297-41e3-ece9-2a7983047b98",
    "scrolled": true
   },
   "outputs": [
    {
     "name": "stdout",
     "output_type": "stream",
     "text": [
      "['00', '000', '00a', '00am', '00pm', '01', '02', '03', '03342', '04', '05', '06', '07', '09', '0buxoc0crqjpvkezo3bqog', '0l', '10', '100', '1000', '1000x', '1001', '100th', '101', '102', '105', '1070', '108', '10am', '10ish', '10min', '10mins', '10minutes', '10pm', '10th', '10x', '11', '110', '1100', '111', '111th', '112', '115th', '118', '11a', '11am', '11p', '11pm', '12', '120', '128i', '129', '12am', '12oz', '12pm', '12th', '13', '14', '140', '147', '14lbs', '15', '150', '1500', '150mm', '15am', '15mins', '15pm', '15th', '16', '160', '165', '169', '16th', '17', '17p', '18', '180', '18th', '19', '1900', '1913', '1928', '1929', '1930s', '1940', '1952', '1955', '1956', '1960', '1961', '1969', '1970', '1980', '1980s', '1987', '1990s', '1992', '1995', '1996', '1998', '1999', '19th', '1cent', '1k', '1p', '1pm', '1st', '20', '200', '2002', '2003', '2004', '2005', '2006', '2007', '2008', '2009', '200lbs', '2010', '2011', '2012', '202', '20mbs', '20miles', '20min', '20pm', '20s', '20th', '20x', '21', '22', '220', '2240', '22oz', '23', '24', '24hrs', '24st', '24th', '25', '250', '25b', '25min', '25th', '26', '260', '2600', '2608', '2669', '26th', '27', '272', '28', '29', '29th', '2am', '2mbps', '2nd', '2pm', '2rd', '2wice', '2x', '30', '300', '3000', '30am', '30p', '30pm', '30th', '31', '311', '312', '32', '33', '33rd', '34', '34th', '35', '350ib', '35c', '35th', '36', '37', '370', '38', '38th', '39', '3am', '3d', '3g', '3k', '3lbs', '3n9u549zse8up', '3p', '3pm', '3rd', '3x', '40', '400', '4000', '40lm', '40min', '40th', '41', '411', '4113416766', '42', '420', '43', '44', '4458', '44th', '45', '453990', '45min', '45pm', '46', '475', '48', '480', '48th', '49', '490', '4b', '4hr', '4pm', '4th', '50', '500', '50cents', '50lm', '50s', '51', '51pm', '52', '5231', '53', '53pm', '54', '55', '56', '57', '59', '59th', '5k', '5min', '5p', '5pm', '5stars', '5th', '60', '600', '602', '61', '61st', '62010', '623', '63', '64', '64th', '65', '66', '67', '68', '680', '69', '6am', '6p', '6pm', '6th', '70', '700', '70s', '70th', '71', '71st', '75', '750', '755891987', '76', '79', '7am', '7pm', '7th', '80', '800', '8000hp', '80s', '81', '83', '832', '83rd', '85', '85154658', '86', '88', '89', '8am', '8pm', '8th', '8v', '8yo', '90', '90s', '91', '911', '945am', '95', '96', '977', '98', '99', '9999', '99cent', '9oz', '9p', '9pm', '9year', '9yo', '______', '_______________', '_c', '_gyib8ea4hdfylss17zc_g', 'a1', 'aa', 'aaa', 'aaaamazing', 'aaammmazzing', 'aaron', 'ab', 'abandoned', 'abandoning', 'abba', 'abbreviate', 'abbreviated', 'abby', 'abc', 'abdomen', 'abilities', 'ability', 'able', 'abodoba', 'abound', 'abrasion', 'abroad', 'abrupt', 'absent', 'absinthe', 'absoloutely', 'absolut', 'absolute', 'absolutely', 'absolutley', 'absolutly', 'abstained', 'absurd', 'abuelo', 'abundance', 'abundant', 'abuse', 'abused', 'abusive', 'ac', 'academy', 'acapulco', 'accent', 'accented', 'accents', 'accept', 'acceptable', 'accepted', 'access', 'accessed', 'accessible', 'accessories', 'accessorize', 'accessory', 'accident', 'accidental', 'accidentally', 'accolades', 'accommodate', 'accommodated', 'accommodates', 'accommodating', 'accommodations', 'accomodate', 'accomodating', 'accompanied', 'accompanies', 'accompaniment', 'accompany', 'accompanying', 'accomplish', 'accomplished', 'accomplishment', 'according', 'accordingly', 'account', 'accounts', 'accoutrement', 'accredited', 'accross', 'accurate', 'accurately', 'accusation', 'accustom', 'accustomed', 'accutemp', 'ace', 'ache', 'aches', 'achieve', 'achievement', 'acid', 'acidic', 'acknowledge', 'acknowledged', 'acknowledgement', 'acknowledging', 'ackward', 'acne', 'acoustic', 'acoustics', 'acquaintance', 'acres', 'acrid', 'acrimonious', 'acrylics', 'act', 'acted', 'acting', 'action', 'actions', 'activation', 'active', 'actively', 'activism', 'activities', 'activity', 'actor', 'actors', 'acts', 'actual', 'actually', 'actualy', 'actully', 'acute', 'acy', 'ad', 'adage', 'adam', 'adamant', 'adams', 'adapter', 'add', 'added', 'addendum', 'addict', 'addicted', 'addicting', 'addictingly', 'addiction', 'addictionovercome', 'addictive', 'addicts', 'adding', 'addition', 'additional', 'additionally', 'additions', 'address', 'addressed', 'addressing', 'adds', 'ade', 'adelman', 'adequate', 'adequately', 'adios', 'adjacent', 'adjoining', 'adjust', 'adjusted', 'adjustment', 'adjustments', 'administrative', 'admire', 'admission', 'admit', 'admits', 'admitted', 'admittedly', 'admitting', 'admonishment', 'adobada', 'adobe', 'adobo', 'adolescence', 'adopt', 'adopted', 'adoption', 'adoptions', 'adorable', 'adore', 'adorning', 'adovada', 'adquate', 'adrienne', 'ads', 'adult', 'adulthood', 'adults', 'advance', 'advanced', 'advancing', 'advantage', 'advantages', 'adventure', 'adventures', 'adventurous', 'adverse', 'adversity', 'advertise', 'advertised', 'advertisement', 'advertising', 'adverts', 'advice', 'advise', 'advised', 'advising', 'advisor', 'advocate', 'advocated', 'aeg', 'aerators', 'aerobic', 'aerobics', 'aeropress', 'aesthetically', 'aesthetics', 'affair', 'affect', 'affected', 'affects', 'afficianados', 'affiliated', 'affiliation', 'affluent', 'afforadable', 'afford', 'affordable', 'aficionado', 'aficionados', 'afloat', 'aforementioned', 'afoul', 'afraid', 'africa', 'afterall', 'afterdark', 'afterglow', 'afternoon', 'afternoons', 'aftertaste', 'afterthought', 'afterward', 'agape', 'agave', 'agaves', 'age', 'aged', 'agency', 'agent', 'agents', 'ages', 'aggressive', 'aging', 'agitated', 'ago', 'agonizing', 'agree', 'agreeable', 'agreed', 'agreeing', 'agreement', 'agrees', 'agua', 'aguas', 'agwa', 'ah', 'ahead', 'ahem', 'ahh', 'ahhh', 'ahhhh', 'ahhhhh', 'ahi', 'ahold', 'ahwatukee', 'aid', 'aiello', 'aiko', 'aim', 'aimed', 'aimlessly', 'aims', 'ain', 'aint', 'aioli', 'aiptasia', 'air', 'airconditioned', 'airfair', 'airfare', 'airline', 'airlines', 'airpark', 'airplane', 'airport', 'airports', 'airwarys', 'airways', 'airy', 'aisha', 'aisle', 'aisles', 'aj', 'aji', 'ajo', 'ajos', 'ajs', 'ajvar', 'aka', 'aki', 'aknowledging', 'akor', 'al', 'ala', 'alabama', 'alain', 'alameda', 'alan', 'alarmed', 'alas', 'alaskan', 'alaus', 'albacore', 'albeit', 'alber', 'album', 'albums', 'alcohol', 'alcoholic', 'aldo', 'ale', 'alert', 'alex', 'alexandra', 'alfalfa', 'alfonso', 'alfred', 'alfredo', 'algae', 'ali', 'alice', 'alicia', 'aliens', 'alike', 'alittle', 'alive', 'alla', 'allayed', 'alleged', 'allegiant', 'allen', 'allende', 'allergen', 'allergic', 'allergies', 'allergy', 'alleviated', 'alley', 'alligator', 'allocating', 'allot', 'alloted', 'allotted', 'allow', 'allowable', 'allowance', 'allowed', 'allowing', 'allows', 'allure', 'almond', 'almonds', 'aloe', 'alofts', 'aloha', 'alongside', 'alons', 'aloo', 'aloof', 'alot', 'aloud', 'alp', 'alright', 'alteration', 'alterations', 'altercation', 'altered', 'altering', 'alternately', 'alternative', 'alternatively', 'alternatives', 'altic', 'aluminum', 'alway', 'ama', 'amaaaaazing', 'amaazing', 'amados', 'amalfi', 'amanda', 'amaretti', 'amaretto', 'amarillo', 'amaro', 'amateur', 'amaze', 'amazed', 'amazement', 'amazes', 'amazing', 'amazingly', 'amazingness', 'amazon', 'amazzzzzzing', 'ambassador', 'amber', 'ambiance', 'ambience', 'ambient', 'ambrosia', 'amc', 'amenable', 'amendment', 'amenities', 'america', 'american', 'americana', 'americanized', 'americano', 'americanos', 'americans', 'ami', 'amicable', 'amidst', 'amin', 'amish', 'ammo', 'amomi', 'amore', 'amounted', 'amounts', 'amp', 'amphitheatre', 'ample', 'ampm', 'amtrack', 'amuse', 'amused', 'amusement', 'amusing', 'amy', 'anal', 'analysis', 'ancho', 'anchor', 'anchors', 'anchovies', 'anchovy', 'andiamo', 'andouille', 'andrea', 'andrew', 'andy', 'anecdotes', 'anemic', 'anesthetic', 'anew', 'angel', 'angela', 'angeles', 'angelic', 'angello', 'angels', 'anger', 'anglaise', 'angle', 'angler', 'angles', 'angry', 'angst', 'anibal', 'animal', 'animals', 'animated', 'animatronics', 'anise', 'aniston', 'ankle', 'ankles', 'ann', 'anne', 'annie', 'annihilator', 'anniversary', 'announced', 'annoy', 'annoyance', 'annoyed', 'annoying', 'annual', 'anomaly', 'anonymous', 'ans', 'ansel', 'answer', 'answered', 'answering', 'answers', 'ant', 'anthem', 'anthony', 'anti', 'anticipate', 'anticipated', 'anticipating', 'anticipation', 'antipasti', 'antipasto', 'antique', 'antiques', 'antiquing', 'antiseptic', 'antithesis', 'antler', 'antonio', 'antono', 'ants', 'anxiety', 'anxious', 'anxiously', 'anybody', 'anyday', 'anyhoo', 'anymore', 'anyplace', 'anythings', 'anytime', 'anyways', 'anywho', 'ao', 'ap', 'apache', 'apart', 'apartment', 'apartments', 'ape', 'apiece', 'apologetic', 'apologetically', 'apologists', 'apologize', 'apologized', 'apologizes', 'apologizing', 'apology', 'apostles', 'apothecary', 'apothic', 'app', 'appalachians', 'appaled', 'appalled', 'appalling', 'apparantly', 'apparel', 'apparent', 'apparently', 'appauling', 'appeal', 'appealed', 'appealing', 'appeals', 'appear', 'appearance', 'appearances', 'appeared', 'appears', 'appeasing', 'appertizer', 'appetit', 'appetite', 'appetito', 'appetizaer', 'appetizer', 'appetizers', 'appetizing', 'applaud', 'apple', 'applebee', 'applebees', 'apples', 'appletini', 'appletinis', 'appliances', 'applied', 'applies', 'apply', 'applying', 'appoinmtnt', 'appointed', 'appointment', 'appointments', 'appologized', 'appraisal', 'appraisals', 'appraiser', 'appreciate', 'appreciated', 'appreciates', 'appreciation', 'appreciative', 'apprehensive', 'appreicate', 'approach', 'approachable', 'approached', 'approaches', 'approaching', 'appropriate', 'appropriately', 'approx', 'approximate', 'approximately', 'apps', 'appt', 'appys', 'apricot', 'april', 'apron', 'apt', 'aqua', 'aquarium', 'aquiring', 'ar', 'arabic', 'arai', 'arbol', 'arboreal', 'arborio', 'arcade', 'arcadia', 'arcane', 'arches', 'architect', 'architecture', 'archive', 'archway', 'arco', 'area', 'areas', 'aren', 'arena', 'arent', 'argentine', 'argue', 'argued', 'arguing', 'argumentative', 'argyle', 'ariel', 'arigato', 'arise', 'arizona', 'arizonan', 'arizonans', 'arkansas', 'arlecchino', 'arm', 'armando', 'armed', 'armour', 'arms', 'army', 'aroma', 'aromas', 'aromatic', 'aromatics', 'arousal', 'arpege', 'arragont', 'arrange', 'arranged', 'arrangement', 'arrangements', 'arranging', 'array', 'arrested', 'arriba', 'arribas', 'arrival', 'arrive', 'arrived', 'arrivederci', 'arrives', 'arriving', 'arrogance', 'arrogant', 'arrowhead', 'arroz', 'art', 'artesian', 'artful', 'artfully', 'arthur', 'artichoke', 'artichokes', 'article', 'articles', 'artie', 'artifacts', 'artificial', 'artisan', 'artist', 'artistic', 'artistically', 'artistry', 'artists', 'artois', 'arts', 'artsy', 'artwork', 'arugala', 'arugula', 'asada', 'asado', 'asahi', 'asaian', 'asap', 'asasda', 'ascend', 'ascent', 'ash', 'ashamed', 'ashamedly', 'ashes', 'ashley', 'ashtanga', 'ashtray', 'asia', 'asiago', 'asian', 'asians', 'aside', 'ask', 'asked', 'askin', 'asking', 'asks', 'asleep', 'asp', 'asparagus', 'aspect', 'aspects', 'aspire', 'aspirin', 'aspiring', 'aspx', 'ass', 'assault', 'assaulted', 'asserted', 'asses', 'assessed', 'assessment', 'asset', 'assets', 'asshat', 'asshole', 'assholes', 'assigned', 'assignment', 'assinine', 'assistance', 'assistant', 'assisted', 'assoc', 'associate', 'associated', 'associates', 'association', 'assorted', 'assortment', 'assume', 'assumed', 'assumes', 'assuming', 'assumption', 'assumptions', 'assurance', 'assure', 'assured', 'assuredly', 'astatically', 'astonished', 'astonishing', 'astounded', 'astounding', 'asu', 'asus', 'atc', 'ate', 'athelete', 'athlete', 'athletes', 'athletica', 'ation', 'atl', 'atlanta', 'atlantic', 'atleast', 'atm', 'atmosphere', 'atomic', 'atomosphere', 'atop', 'atoyac', 'atri', 'atrium', 'atrocious', 'atrociously', 'attached', 'attack', 'attacked', 'attacks', 'attain', 'attarct', 'attempt', 'attempted', 'attempting', 'attempts', 'attend', 'attendance', 'attendant', 'attendants', 'attended', 'attendee', 'attendees', 'attending', 'attention', 'attentive', 'attest', 'attic', 'attire', 'attitude', 'attitudes', 'attorney', 'attract', 'attraction', 'attractions', 'attractive', 'attracts', 'attribute', 'attributes', 'atypical', 'au', 'auctioned', 'audacity', 'audience', 'audio', 'audition', 'auditorium', 'aug', 'augments', 'august', 'aunt', 'auspices', 'aussie', 'austin', 'australia', 'australian', 'authentic', 'authentically', 'authenticity', 'authenticly', 'author', 'autismcenter', 'autistic', 'auto', 'autographed', 'autograt', 'automatic', 'automatically', 'automobile', 'automotive', 'autumn', 'avacado', 'avadado', 'avail', 'availability', 'available', 'avalanches', 'ave', 'avenue', 'aver', 'average', 'averaged', 'averages', 'averaging', 'averse', 'avg', 'avid', 'avocado', 'avocados', 'avoid', 'avoidance', 'avoided', 'avoiding', 'avondale', 'awaited', 'awaiting', 'awaits', 'awakening', 'award', 'awards', 'aware', 'awareness', 'away', 'aways', 'awaze', 'awe', 'awed', 'awesome', 'awesomely', 'awesomeness', 'awful', 'awfully', 'awhile', 'awkward', 'awkwardly', 'awning', 'awsome', 'axe', 'az', 'az88', 'azkaban', 'azn', 'azpbs', 'azspagirls', 'azucena', 'ba', 'baaaaaaad', 'baba', 'babaganoush', 'babbo', 'babies', 'baby', 'babyback', 'babysitter', 'bacado', 'bachelor', 'bachelorette', 'backdrop', 'backed', 'background', 'backing', 'backlit', 'backpack', 'backside', 'backstage', 'backstory', 'backtracked', 'backup', 'backwards', 'backyard', 'bacon', 'bacteria', 'bad', 'badass', 'bader', 'badger', 'badly', 'badmouth', 'baeley', 'baffled', 'baffling', 'bag', 'bage', 'bagel', 'bagels', 'baggage', 'bagged', 'baggins', 'baggy', 'baghlava', 'bagly', 'bags', 'baguette', 'bahama', 'bahamas', 'bahn', 'bail', 'bailey', 'baileys', 'bait', 'baiz', 'baja', 'bajesus', 'bajillion', 'bake', 'baked', 'baker', 'bakeries', 'bakers', 'bakery', 'baking', 'baklava', 'balance', 'balanced', 'balances', 'balancing', 'balcony', 'bald', 'balidated', 'balking', 'ball', 'ballet', 'ballin', 'balloons', 'ballpark', 'ballparks', 'ballroom', 'balls', 'balsalmic', 'balsamic', 'baltimore', 'bam', 'bamboo', 'ban', 'banana', 'bananas', 'bananoffee', 'band', 'bandages', 'bandaid', 'bandana', 'banded', 'bandera', 'bandido', 'bandit', 'bandito', 'bands', 'banfield', 'bang', 'bangers', 'bangin', 'banging', 'bangkok', 'bangs', 'bank', 'banked', 'banker', 'banking', 'bankruptcy', 'bannanas', 'banned', 'banner', 'banquette', 'banter', 'bantering', 'bap', 'bar', 'barb', 'barback', 'barbacks', 'barbacoa', 'barbara', 'barbbacoa', 'barbecue', 'barbecuein', 'barbeque', 'barber', 'barbers', 'barbershop', 'barcelona', 'bare', 'barefaced', 'barefoot', 'barely', 'bargain', 'bargaining', 'bargains', 'bargin', 'barista', 'baristas', 'bark', 'barked', 'barking', 'barley', 'barnes', 'barney', 'barq', 'barr', 'barramundi', 'barrel', 'barrier', 'barrio', 'barro', 'barry', 'bars', 'bartender', 'bartenders', 'bartholomew', 'bartista', 'bartop', 'basalmic', 'base', 'baseball', 'baseballs', 'based', 'baseline', 'basement', 'bash', 'basha', 'bashas', 'basic', 'basically', 'basics', 'basil', 'basis', 'bask', 'basket', 'basketball', 'baskets', 'baskin', 'basmati', 'bass', 'bastard', 'basted', 'baston', 'bat', 'batch', 'bath', 'bathe', 'bathed', 'bathers', 'bathing', 'bathroom', 'bathrooms', 'baths', 'batman', 'batmobile', 'baton', 'bats', 'batter', 'battered', 'batteries', 'battery', 'batting', 'battle', 'battlers', 'battleship', 'bavaria', 'bay', 'bbb', 'bbfw', 'bbq', 'bbs', 'bc', 'bcbg', 'bday', 'bdays', 'bdsm', 'bea', 'beach', 'beams', 'bean', 'beanery', 'beans', 'bear', 'bearable', 'beard', 'beards', 'bearing', 'bears', 'beast', 'beat', 'beaten', 'beaters', 'beating', 'beatles', 'beats', 'beau', 'beautiful', 'beautifully', 'beauty', 'beaver', 'bechamel', 'beckett', 'beckon', 'becky', 'becuz', 'bed', 'bedazzled', 'bedroom', 'bedrooms', 'beds', 'bee', 'beebees', 'beef', 'beefcake', 'beefy', 'beep', 'beeping', 'beer', 'beers', 'bees', 'beet', 'beetle', 'beetles', 'beets', 'beg', 'began', 'beggars', 'begged', 'begging', 'begin', 'begining', 'beginner', 'beginners', 'beginning', 'begins', 'begrudgingly', 'begun', 'behalf', 'behaved', 'behavior', 'behold', 'beignets', 'bein', 'beirut', 'belabor', 'belgian', 'belief', 'believe', 'believed', 'believer', 'believers', 'believes', 'believing', 'belittled', 'bell', 'bellboy', 'bellies', 'belligerently', 'bellini', 'bellinis', 'belltown', 'belly', 'belmont', 'belong', 'belongs', 'beloved', 'belt', 'belts', 'ben', 'bench', 'benches', 'bend', 'bender', 'bending', 'beneath', 'benedict', 'beneficial', 'benefit', 'benefited', 'benefits', 'benign', 'benny', 'bento', 'bentos', 'beppo', 'berated', 'berg', 'bergesson', 'berkshire', 'berlin', 'berries', 'berry', 'berschler', 'bert', 'bertha', 'berto', 'bertos', 'best', 'bestie', 'bestowed', 'bet', 'bethany', 'bethel', 'betito', 'betitos', 'betray', 'betta', 'better', 'betty', 'betunia', 'betweeen', 'beverage', 'beverages', 'beverly', 'bevmo', 'beware', 'beyonce', 'bf', 'bfast', 'bff', 'bffs', 'bgf', 'bi', 'biacoverde', 'biagga', 'biaggia', 'biagio', 'bialy', 'bianco', 'biancoverde', 'biancoverdes', 'bias', 'biased', 'bibimbap', 'bible', 'bicker', 'bicycle', 'bicycles', 'biden', 'bidet', 'bier', 'biet', 'big', 'big_ass', 'bigee', 'bigger', 'biggest', 'biggie', 'biiiiiiiiiiig', 'bike', 'biker', 'bikers', 'bikes', 'biking', 'bikini', 'bikram', 'bilbo', 'bilinis', 'billet', 'billiards', 'billing', 'bills', 'biltmore', 'bimbo', 'bin', 'bind', 'bing', 'bings', 'bingsoo', 'binkley', 'bins', 'biography', 'bird', 'birdlife', 'birds', 'birth', 'birthday', 'birthdays', 'biscotti', 'biscuit', 'biscuits', 'bismark', 'bison', 'bisque', 'bistec', 'bistro', 'bit', 'bitch', 'bitches', 'bitching', 'bitchy', 'bite', 'bites', 'biting', 'bits', 'bitsy', 'bitten', 'bitter', 'bitterish', 'bitterness', 'bitty', 'biz', 'biz_photos', 'bizarre', 'bj', 'bla', 'black', 'blackberries', 'blackberry', 'blackened', 'blackrice', 'blackstone', 'blackwidow', 'blade', 'blah', 'blake', 'blame', 'blanca', 'blanco', 'bland', 'blandness', 'blank', 'blanket', 'blanketed', 'blankity', 'blaring', 'blase', 'blasphemy', 'blast', 'blasting', 'blasts', 'blatantly', 'blaze', 'blazer', 'blazing', 'bleached', 'bleacher', 'bleachers', 'blech', 'bleech', 'bleed', 'bleeding', 'bleh', 'blend', 'blended', 'blending', 'blendini', 'blends', 'bless', 'blessed', 'blessings', 'bleu', 'blew', 'blimpie', 'blind', 'blindfolds', 'blindness', 'bliss', 'blissful', 'blistered', 'blisters', 'bloated', 'blobs', 'block', 'blockbuster', 'blocked', 'blocking', 'blocks', 'blog', 'blond', 'blonde', 'blood', 'bloody', 'bloodymary', 'blooming', 'blooms', 'bloomy', 'blossom', 'blossoms', 'blouses', 'blow', 'blowdry', 'blower', 'blowing', 'blown', 'blows', 'blt', 'blu', 'blue', 'blueberries', 'blueberry', 'bluecheese', 'bluemoon', 'blues', 'bluesman', 'blunt', 'bluntly', 'blur', 'blush', 'blushes', 'blvd', 'bmw', 'bmx', 'bnd5erj', 'bndmaps', 'bo', 'boa', 'boar', 'board', 'boarded', 'boarding', 'boards', 'boars', 'boasts', 'boat', 'boats', 'bob', 'boba', 'bobbie', 'bobby', 'boca', 'bocca', 'bocce', 'bock', 'bodies', 'body', 'bodyworker', 'bogi', 'bogo', 'boil', 'boiled', 'boiling', 'boisterous', 'bold', 'bolivia', 'bolster', 'bolt', 'bolted', 'bolts', 'bomb', 'bombay', 'bomber', 'bombero', 'bomberos', 'bombers', 'bombs', 'bon', 'bona', 'bonafide', 'bonanza', 'bond', 'bonding', 'bone', 'boneless', 'bones', 'bong', 'bonne', 'bonnie', 'bonus', 'boo', 'boob', 'boobs', 'boofay', 'boohiney', 'book', 'booked', 'booking', 'bookmans', 'books', 'bookstore', 'bookstores', 'boolgogee', 'boom', 'boooy', 'boop', 'booshelf', 'boost', 'booster', 'boot', 'booth', 'booths', 'boots', 'booyah', 'booze', 'boozers', 'boozin', 'boozometer', 'bop', 'borad', 'bordelaise', 'border', 'bordering', 'borderline', 'borders', 'bored', 'boring', 'born', 'borne', 'borrow', 'bosa', 'bosch', 'bosco', 'bosnia', 'bosnian', 'boss', 'bosses', 'bossy', 'bostic', 'boston', 'botanical', 'botany', 'bother', 'bothered', 'bothering', 'bothers', 'bothersome', 'botox', 'bottle', 'bottled', 'bottles', 'bottling', 'bottomless', 'bottoms', 'bouche', 'bought', 'bouillabaisse', 'boulangerie', 'boulder', 'boulders', 'boullion', 'bounce', 'bounced', 'bouncer', 'bouncers', 'bouncing', 'bound', 'bounty', 'bourban', 'bourbon', 'bout', 'boutique', 'boutiques', 'bowl', 'bowling', 'bowls', 'bowties', 'box', 'boxed', 'boxer', 'boxers', 'boxes', 'boxing', 'boy', 'boyfriend', 'boyfriends', 'boyfrind', 'boys', 'boyshorts', 'bpa', 'br', 'bra', 'brace', 'brachetto', 'brad', 'brag', 'bragged', 'bragging', 'braille', 'brain', 'brainless', 'brains', 'braised', 'braized', 'brak', 'bran', 'branch', 'branched', 'branches', 'brand', 'branding', 'brands', 'brandy', 'branzino', 'brass', 'brasserie', 'brat', 'brats', 'bratwurst', 'bravas', 'brave', 'braves', 'bravo', 'bray', 'brazen', 'brazilian', 'bread', 'breadcrumbs', 'breaded', 'breadfruit', 'breading', 'breads', 'breadsticks', 'breadticks', 'break', 'breakfast', 'breakfasts', 'breakfasty', 'breaking', 'breaks', 'breaksfast', 'breakthrough', 'breas', 'breast', 'breasts', 'breath', 'breathe', 'breathed', 'breathing', 'breathtaking', 'bred', 'breed', 'breeze', 'brekafast', 'brenda', 'brenden', 'bretheren', 'brew', 'brewed', 'brewer', 'breweries', 'brewery', 'brewing', 'brewpub', 'brewpubs', 'brews', 'bri', 'brian', 'brianna', 'brick', 'brickoven', 'bricks', 'brickwork', 'bridal', 'bride', 'brides', 'bridesmaids', 'bridge', 'brie', 'brief', 'briefcase', 'briefly', 'briefs', 'brien', 'briggs', 'bright', 'brightly', 'brilliance', 'brilliant', 'brim', 'brine', 'bring', 'bringing', 'brings', 'brining', 'briny', 'brio', 'brioche', 'brioni', 'brisket', 'brit', 'british', 'britishers', 'britney', 'brittan', 'brittian', 'brittle', 'bro', 'broad', 'broadway', 'broasted', 'broccoli', 'broccolini', 'brochette', 'brocolli', 'broiled', 'broke', 'broken', 'bronx', 'brooches', 'brooklyn', 'brookstone', 'bros', 'broth', 'brother', 'brothers', 'brothy', 'brough', 'brought', 'broun', 'brow', 'brown', 'brownie', 'brownies', 'browns', 'brows', 'browse', 'browsed', 'browsing', 'bruce', 'bruchetta', 'bruder', 'brule', 'brulee', 'brulees', 'brunch', 'brunches', 'brunets', 'brunette', 'bruscetta', 'bruschetta', 'bruschettas', 'brush', 'brushcetta', 'brushed', 'brushes', 'brushettas', 'brussel', 'brussels', 'brutal', 'brutus', 'bryan', 'brûlée', 'bs', 'btw', 'bubble', 'bubbles', 'bubbly', 'buca', 'bucatini', 'bucca', 'bucco', 'buchanan', 'buck', 'bucked', 'bucket', 'buckets', 'buckeye', 'buckeyes', 'buckhunt', 'buckle', 'buckles', 'bucks', 'buckwheat', 'bud', 'buddhism', 'buddies', 'buddy', 'budge', 'budget', 'buds', 'budweiser', 'bueno', 'buff', 'buffala', 'buffalo', 'buffer', 'buffet', 'buffets', 'buffett', 'bug', 'bugger', 'buggers', 'bugs', 'bugtussel', 'build', 'building', 'buildings', 'built', 'buisness', 'bulb', 'bulbs', 'bulgogi', 'bulk', 'bulked', 'bull', 'bulldogs', 'bullet', 'bullion', 'bullriders', 'bullshit', 'bummed', 'bummer', 'bumped', 'bumper', 'bumping', 'bums', 'bun', 'bunch', 'bunches', 'bundle', 'bundled', 'bundy', 'bunnies', 'buns', 'buon', 'burch', 'burger', 'burgers', 'burial', 'burlington', 'burly', 'burmese', 'burn', 'burned', 'burning', 'burnt', 'burped', 'burps', 'burrata', 'burratta', 'burrito', 'burritos', 'burro', 'burros', 'burst', 'bursting', 'burt', 'burton', 'bus', 'busan', 'busboy', 'busboys', 'bush', 'bushes', 'busiest', 'business', 'businesses', 'businessman', 'businessmen', 'busses', 'bust', 'busted', 'busting', 'bustle', 'bustled', 'bustling', 'busy', 'butai', 'butcher', 'butchering', 'butka', 'butt', 'butte', 'butter', 'buttercream', 'buttercrunch', 'buttered', 'butterfish', 'butterflies', 'butterfly', 'buttermilk', 'butternut', 'butters', 'butterscotch', 'buttery', 'button', 'buttons', 'butts', 'bux', 'buy', 'buybuybaby', 'buyer', 'buyers', 'buying', 'buys', 'buzz', 'buzzcation', 'buzzing', 'buzzkill', 'bv500', 'bye', 'byo', 'byob', 'c785ykr', 'c7pkagm', 'c7zwftv', 'ca', 'ca765ua', 'cab', 'cabage', 'cabana', 'cabanas', 'cabbage', 'cabbies', 'cabela', 'cabernet', 'cabeza', 'cabin', 'cabinet', 'cable', 'cabs', 'cacti', 'cactus', 'caddilac', 'caddy', 'cadet', 'cadillac', 'caesar', 'caesars', 'cafe', 'cafeteria', 'caffe', 'caffeinate', 'caffeine', 'café', 'cage', 'cages', 'cajun', 'cajuns', 'cake', 'cakes', 'cal', 'calamari', 'calamos', 'calendar', 'calf', 'cali', 'caliber', 'caliente', 'california', 'calimari', 'calle', 'called', 'caller', 'calling', 'calloused', 'calls', 'callus', 'calm', 'calmed', 'calming', 'calmly', 'calorie', 'calories', 'cals', 'calves', 'calypso', 'calzone', 'calzones', 'came', 'camel', 'camelback', 'camelbacks', 'camelview', 'camera', 'cameras', 'camp', 'campaign', 'campaigning', 'campbell', 'campbells', 'camper', 'campers', 'camping', 'campus', 'campuses', 'camus', 'canada', 'canadian', 'canaille', 'canal', 'canals', 'canasta', 'cancel', 'cancellation', 'cancelled', 'cancelling', 'cancer', 'candid', 'candied', 'candies', 'candle', 'candlelit', 'candles', 'candy', 'candyland', 'cane', 'canes', 'canidae', 'canine', 'canned', 'cannelloni', 'cannibal', 'cannoli', 'cannolis', 'cannon', 'canoe', 'canoli', 'canopy', 'cans', 'canteen', 'canteloupe', 'cantina', 'canton', 'cantonese', 'canvas', 'canvases', 'canyon', 'canyone', 'cap', 'capable', 'capaccino', 'capacity', 'capellini', 'caper', 'capers', 'capezio', 'capicolla', 'capital', 'capitalism', 'capitol', 'caponata', 'capped', 'cappella', 'cappicola', 'cappuccino', 'cappuccinos', 'caprese', 'capri', 'capriottis', 'caps', 'capsule', 'captain', 'capture', 'car', 'caradmom', 'caramel', 'caramelized', 'carb', 'carbohydrate', 'carbon', 'carbonara', 'carbonation', 'carbs', 'carburetor', 'card', 'cardamom', 'cardboard', 'carded', 'cardinal', 'cardinals', 'cardio', 'cards', 'cardstock', 'care', 'cared', 'career', 'carefree', 'careful', 'carefully', 'careless', 'cares', 'caribbean', 'caring', 'carl', 'carla', 'carlos', 'carlsbad', 'carlton', 'carmel', 'carmelized', 'carnage', 'carne', 'carnegie', 'carniceria', 'carnitas', 'carnivore', 'carnivorial', 'carol', 'carolers', 'carolina', 'caroline', 'carousel', 'carpacchio', 'carpaccio', 'carpal', 'carpet', 'carpeting', 'carpool', 'carrabba', 'carribbean', 'carried', 'carrier', 'carriers', 'carries', 'carrot', 'carrots', 'carrott', 'carry', 'carrying', 'cars', 'cart', 'carte', 'carted', 'cartel', 'carter', 'carton', 'carts', 'cartwrights', 'carving', 'cary', 'casa', 'case', 'casella', 'casement', 'cases', 'casey', 'cash', 'cashed', 'cashew', 'cashews', 'cashier', 'cashiers', 'cashing', 'casie', 'casing', 'casino', 'casita', 'cask', 'casserole', 'cast', 'castilla', 'casting', 'casual', 'casually', 'cat', 'catagory', 'catalog', 'catalogs', 'catalytic', 'catch', 'catching', 'categories', 'category', 'cater', 'catered', 'catering', 'catfish', 'cathedral', 'cation', 'cats', 'caucasian', 'caucasians', 'caught', 'cauldron', 'cauliflower', 'cause', 'caused', 'causes', 'causing', 'caution', 'cautious', 'cavalleria', 'cavalli', 'cave', 'caveat', 'caved', 'cavernous', 'caviar', 'cavities', 'cavity', 'cayman', 'caymans', 'cb', 'cc', 'cca', 'cco', 'cd', 'cdc', 'cds', 'ceasar', 'cease', 'ceaser', 'ceiling', 'ceilings', 'celebrate', 'celebrated', 'celebrating', 'celebration', 'celebratory', 'celebrities', 'celery', 'celiac', 'celiacs', 'celina', 'cell', 'cellar', 'cellist', 'cellphone', 'celsius', 'cement', 'cenpho', 'censor', 'cent', 'center', 'centered', 'centerpiece', 'centers', 'central', 'centrally', 'centre', 'cents', 'century', 'ceo', 'ceramic', 'cereal', 'cereals', 'ceremony', 'cerignola', 'certain', 'certainly', 'certificate', 'certificates', 'certified', 'cesar', 'cesspool', 'cesspools', 'cetera', 'cevap', 'ceviche', 'cezanne', 'cfls', 'ch', 'cha', 'chace', 'chagrin', 'chai', 'chain', 'chainco', 'chains', 'chainsaw', 'chair', 'chairs', 'chaise', 'chalet', 'chalkboard', 'chalking', 'chalky', 'challah', 'challenge', 'challenged', 'challenges', 'challenging', 'chamber', 'chambord', 'chamomile', 'champ', 'champagne', 'champagnes', 'champers', 'championship', 'champong', 'champs', 'chana', 'chance', 'chancer', 'chancers', 'chances', 'chandelier', 'chandeliers', 'chandler', 'chanel', 'chang', 'change', 'changed', 'changes', 'changing', 'changs', 'channel', 'channels', 'chanterelle', 'chanterelles', 'chantrel', 'chao', 'chaos', 'chaparral', 'char', 'character', 'charbroiled', 'charcoal', 'chard', 'chardonnay', 'charge', 'charged', 'charger', 'charges', 'charging', 'chargrilled', 'charismatic', 'charitable', 'charity', 'charleen', 'charlene', 'charleston', 'charlie', 'charlotte', 'charm', 'charming', 'charred', 'chart', 'chase', 'chased', 'chat', 'chatted', 'chatter', 'chattering', 'chatting', 'chatty', 'cheap', 'cheaper', 'cheapest', 'cheaply', 'cheapskate', 'cheat', 'cheated', 'checca', 'check', 'checkbox', 'checked', 'checkeed', 'checker', 'checkered', 'checkers', 'checkin', 'checking', 'checklist', 'checkout', 'checkplease', 'checks', 'checkup', 'cheddar', 'cheek', 'cheerful', 'cheerfully', 'cheering', 'cheers', 'cheery', 'cheese', 'cheeseboard', 'cheeseburger', 'cheesecake', 'cheeses', 'cheesesteak', 'cheesesteaks', 'cheesey', 'cheesy', 'cheez', 'chef', 'chefing', 'chefs', 'chelsea', 'chemex', 'chemical', 'chemicals', 'cherished', 'cherries', 'cherry', 'cherryblossom', 'cheryl', 'chess', 'chestnuts', 'chew', 'chewing', 'chewy', 'chi', 'chiang', 'chianti', 'chic', 'chicago', 'chicagoan', 'chiccharon', 'chichi', 'chick', 'chickafila', 'chicken', 'chickens', 'chickpeas', 'chicks', 'chicory', 'chics', 'chief', 'chiku', 'chiladas', 'chilaquiles', 'child', 'childcare', 'childhood', 'childhoods', 'children', 'childs', 'chile', 'chilean', 'chilequiles', 'chiles', 'chili', 'chilies', 'chiliglazed', 'chill', 'chilled', 'chilli', 'chills', 'chilly', 'chilulah', 'chime', 'chimi', 'chimichanga', 'chiming', 'chimis', 'chimmichurri', 'chin', 'china', 'chinaberry', 'chinatown', 'chinese', 'chino', 'chip', 'chipolte', 'chipotle', 'chipped', 'chipping', 'chips', 'chiptole', 'chiro', 'chiropractic', 'chiropractor', 'chirping', 'chit', 'chitchat', 'chivalrously', 'chives', 'chlorine', 'choc', 'chock', 'chocolate', 'chocolately', 'chocolates', 'chocolatey', 'chocolatier', 'chocolatiers', 'chocolatiest', 'chodang', 'choice', 'choices', 'choir', 'choke', 'choked', 'choking', 'cholla', 'cholocate', 'chomp', 'chompie', 'chompies', 'choo', 'choose', 'choosers', 'chooses', 'choosing', 'chop', 'chopped', 'chopping', 'choppy', 'chops', 'chopstick', 'chopsticks', 'chores', 'chorizo', 'chorro', 'chorus', 'chose', 'chosen', 'choux', 'chow', 'chowder', 'chowing', 'chris', 'christ', 'christine', 'christmas', 'christopher', 'christophersaz', 'christs', 'chronic', 'chronicle', 'chronicles', 'chu', 'chuck', 'chuckled', 'chucks', 'chugged', 'chumps', 'chunk', 'chunks', 'chunky', 'church', 'churches', 'churn', 'churning', 'churro', 'churros', 'chutney', 'chuy', 'chz', 'ciabatta', 'ciao', 'cibo', 'cider', 'cidse', 'cien', 'cigar', 'cigarette', 'cigarettes', 'cigars', 'cigs', 'cilantro', 'cinammoness', 'cinderella', 'cindy', 'cine', 'cinema', 'cinemark', 'cinemas', 'cinnamon', 'cioppino', 'circa', 'circle', 'circled', 'circles', 'circuitous', 'circular', 'circulation', 'circumstance', 'circumvent', 'circus', 'ciroc', 'cisco', 'cited', 'cities', 'citing', 'citizen', 'citizens', 'citrus', 'citrusy', 'city', 'citywide', 'civic', 'civiche', 'ck', 'clad', 'claim', 'claimed', 'claims', 'clair', 'claire', 'clam', 'clams', 'clang', 'clanging', 'claredon', 'clarendon', 'clarification', 'clarify', 'clarity', 'class', 'classes', 'classic', 'classics', 'classifies', 'classroom', 'classwork', 'classy', 'clatter', 'claude', 'claustrophobic', 'claw', 'clawing', 'claws', 'clean', 'cleaned', 'cleaner', 'cleaners', 'cleanest', 'cleaning', 'cleanliness', 'cleanser', 'cleansers', 'cleanup', 'clear', 'clearance', 'clearancing', 'cleared', 'clearing', 'clearly', 'cleary', 'cleavage', 'cleaver', 'clement', 'clerk', 'clerks', 'clever', 'cleverly', 'cliche', 'cliched', 'click', 'clicquot', 'client', 'clientele', 'clients', 'clif', 'cliffs', 'climate', 'climax', 'climb', 'climbers', 'climbing', 'clingy', 'clinic', 'clint', 'clintons', 'clipped', 'clippers', 'clips', 'clock', 'clockwork', 'clog', 'clones', 'clooney', 'clorox', 'close', 'closed', 'closely', 'closer', 'closes', 'closest', 'closet', 'closeup', 'closing', 'cloth', 'clothed', 'clothes', 'clothing', 'cloths', 'cloud', 'clouds', 'cloudy', 'clover', 'cloves', 'clown', 'clowns', 'club', 'clubby', 'clubhouse', 'clubs', 'clue', 'clueless', 'clump', 'clumps', 'clumsiness', 'clumsy', 'clunky', 'cluster', 'clusters', 'clutches', 'clutching', 'cmtkood', 'coach', 'coaches', 'coal', 'coalface', 'coarse', 'coast', 'coastal', 'coaster', 'coasters', 'coat', 'coated', 'coating', 'coats', 'coaxed', 'cob', 'cobb', 'cobbler', 'cobs', 'coc', 'coca', 'cocaine', 'cocina', 'cock', 'cockroaches', 'cocktail', 'cocktails', 'coco', 'cocoa', 'coconut', 'cocstco', 'cod', 'coda', 'code', 'codes', 'coe', 'coffe', 'coffee', 'coffees', 'coin', 'coincide', 'coins', 'coke', 'cokes', 'cola', 'colada', 'colbert', 'cold', 'coldstone', 'cole', 'coleslaw', 'collaborate', 'collaboration', 'collapse', 'collard', 'collared', 'collars', 'colleague', 'colleagues', 'collected', 'collecting', 'collection', 'collective', 'colleen', 'college', 'colleges', 'cologne', 'colonial', 'color', 'colorado', 'colored', 'colorful', 'colorfully', 'coloring', 'colorist', 'colorists', 'colors', 'colossal', 'colour', 'columbia', 'com', 'coma', 'combination', 'combinations', 'combined', 'combines', 'combining', 'combo', 'combos', 'come', 'comeback', 'comedy', 'comes', 'comfort', 'comfortable', 'comfortably', 'comforting', 'comforts', 'comfy', 'comic', 'comical', 'comically', 'comics', 'comin', 'coming', 'commandment', 'commence', 'commend', 'comment', 'commented', 'commenting', 'comments', 'commerce', 'commercial', 'commercialized', 'commission', 'commit', 'commitment', 'committed', 'committee', 'committing', 'common', 'commoners', 'commons', 'communal', 'communicate', 'communicated', 'communicating', 'communication', 'communications', 'communicator', 'communists', 'communities', 'community', 'commute', 'commuter', 'comp', 'compadres', 'compaining', 'companies', 'companion', 'companions', 'companionship', 'company', 'companys', 'comparable', 'compare', 'compared', 'compares', 'comparing', 'comparison', 'comparisons', 'compartment', 'compasionate', 'compass', 'compassion', 'compassionate', 'compatible', 'comped', 'compelled', 'compelling', 'compels', 'compensate', 'compensation', 'compete', 'competent', 'competently', 'competes', 'competing', 'competition', 'competitive', 'competitively', 'competitor', 'competitors', 'compitent', 'complain', 'complained', 'complainer', 'complaing', 'complaining', 'complains', 'complaint', 'complaints', 'complement', 'complementary', 'complemented', 'complete', 'completed', 'completely', 'completes', 'completing', 'completly', 'complex', 'complexity', 'complicated', 'complications', 'compliment', 'complimentary', 'complimented', 'compliments', 'component', 'compose', 'composed', 'composition', 'composure', 'compote', 'comprehensive', 'compressa', 'compressed', 'compressor', 'comprised', 'compromise', 'computer', 'computers', 'computing', 'comsumed', 'concede', 'concentrate', 'concentrated', 'concentrating', 'concept', 'conceptions', 'concepts', 'concern', 'concerned', 'concerns', 'concert', 'concession', 'concessions', 'conchita', 'concierge', 'conclusion', 'concoct', 'concoction', 'concoctions', 'concrete', 'concur', 'condemn', 'condensation', 'condesa', 'condescending', 'condiment', 'condiments', 'condition', 'conditioned', 'conditioner', 'conditioning', 'conditions', 'condo', 'condolences', 'condos', 'conducive', 'conduct', 'cone', 'cones', 'confection', 'confectionary', 'confections', 'conference', 'confess', 'confessing', 'confessional', 'confidence', 'confident', 'confidently', 'confirm', 'confirmation', 'confirmed', 'confirming', 'confit', 'confite', 'conflicting', 'conflicts', 'conformable', 'confrontational', 'confronted', 'confuse', 'confused', 'confusing', 'confusion', 'congee', 'congrats', 'congratulate', 'congratulations', 'congregation', 'congress', 'coninue', 'conjure', 'conjures', 'connect', 'connected', 'connecticut', 'connecting', 'connection', 'connections', 'connery', 'connoisseur', 'connolys', 'connosiuer', 'conquering', 'cons', 'conscience', 'conscientious', 'conscious', 'consciously', 'consecutive', 'consequently', 'conservatism', 'consider', 'considerate', 'consideration', 'considered', 'considering', 'considers', 'consign', 'consigned', 'consigner', 'consigning', 'consistancy', 'consistant', 'consistantly', 'consisted', 'consistency', 'consistent', 'consistently', 'consisting', 'consists', 'consolation', 'console', 'conspire', 'constant', 'constantly', 'constitute', 'constitutes', 'constraint', 'constructed', 'construction', 'constructive', 'constructively', 'consult', 'consultant', 'consultation', 'consume', 'consumed', 'consummate', 'consumption', 'contact', 'contacted', 'contacting', 'contacts', 'contagious', 'contain', 'contained', 'container', 'containers', 'containing', 'contains', 'contemporary', 'contend', 'contender', 'content', 'contentment', 'contents', 'contest', 'context', 'contextualize', 'continentally', 'continually', 'continue', 'continued', 'continues', 'continuing', 'continuously', 'contract', 'contractors', 'contracts', 'contrarily', 'contrary', 'contribute', 'contributed', 'contributes', 'contribution', 'control', 'controlled', 'controlling', 'controls', 'controversies', 'controversy', 'convelient', 'convenience', 'convenient', 'conveniently', 'conversant', 'conversation', 'conversational', 'conversations', 'converse', 'conversing', 'convert', 'converted', 'converter', 'converters', 'convey', 'conveying', 'convictions', 'convince', 'convinced', 'convincing', 'convo', 'cook', 'cooked', 'cookers', 'cookie', 'cookies', 'cookin', 'cooking', 'cookouts', 'cooks', 'cool', 'coolant', 'cooled', 'cooler', 'coolers', 'coolest', 'cooling', 'cools', 'cooney', 'cooper', 'coordinated', 'coordination', 'coordinators', 'coors', 'cooties', 'cop', 'cope', 'copied', 'copper', 'cops', 'copy', 'copypaste', 'coq', 'coral', 'corbin', 'corbins', 'cordial', 'cordially', 'cordon', 'core', 'corebalance', 'coreographed', 'corinthians', 'cork', 'corkage', 'corking', 'corn', 'cornbread', 'corndog', 'corned', 'corner', 'corners', 'cornicopia', 'cornish', 'corona', 'coronas', 'corporate', 'corps', 'correct', 'correctally', 'corrected', 'correction', 'corrections', 'correctly', 'correctness', 'correlation', 'corresponding', 'corridor', 'corroded', 'corrupted', 'corsets', 'cortadito', 'corwn', 'cosa', 'cosmetic', 'cosmetics', 'cosmo', 'cosmopolitan', 'cosmos', 'cost', 'costa', 'costco', 'costillas', 'costly', 'costo', 'costs', 'costume', 'costumer', 'costumers', 'costumes', 'cotija', 'cotta', 'cottage', 'cotton', 'cottonwood', 'couch', 'couches', 'cougar', 'cough', 'coughed', 'coughing', 'couldn', 'coulter', 'count', 'countdown', 'counted', 'counter', 'countered', 'counterparts', 'counters', 'countless', 'country', 'countryside', 'counts', 'county', 'coup', 'couple', 'coupled', 'couples', 'coupling', 'coupon', 'coupons', 'courage', 'course', 'coursed', 'courses', 'court', 'courteous', 'courteously', 'courtesy', 'courtney', 'courts', 'courtyard', 'courtyards', 'cous', 'couscous', 'cousin', 'cousins', 'couture', 'cover', 'coverage', 'covered', 'covering', 'covers', 'covert', 'coverup', 'covet', 'coveted', 'cow', 'cowboy', 'cowboys', 'coworker', 'coworkers', 'cows', 'cowtow', 'cox', 'coy', 'coyotes', 'coz', 'cozier', 'coziness', 'cozy', 'cpc', 'cph', 'cpr', 'crab', 'crabs', 'crack', 'cracked', 'cracker', 'crackerjack', 'crackers', 'cracking', 'crackle', 'crackles', 'crackling', 'cracks', 'cradle', 'cradling', 'craft', 'crafted', 'crafts', 'craftsman', 'craftsmanship', 'craigslist', 'crammed', 'cramped', 'cramps', 'cranberries', 'cranberry', 'crank', 'cranking', 'cranks', 'cranky', 'cranny', 'crap', 'crappy', 'crashed', 'crate', 'crates', 'crave', 'craving', 'cravings', 'crawfish', 'crawling', 'crayon', 'craze', 'craziest', 'craziness', 'crazy', 'cream', 'creamed', 'creamer', 'creamiest', 'creaminess', 'creams', 'creamy', 'create', 'created', 'creates', 'creating', 'creation', 'creations', 'creative', 'creativity', 'creators', 'creature', 'creatures', 'cred', 'credentials', 'credibiilty', 'credit', 'credited', 'creek', 'creeped', 'creepily', 'creepy', 'crema', 'cremation', 'creme', 'cremes', 'creole', 'crepe', 'crepes', 'creps', 'crept', 'crescendo', 'crescent', 'crew', 'crib', 'cricket', 'cried', 'crime', 'crimes', 'criminal', 'crimini', 'crinkle', 'crippled', 'crisis', 'crisp', 'crisps', 'crispy', 'crisscrosses', 'cristo', 'critic', 'critical', 'criticism', 'criticize', 'critics', 'critters', 'croce', 'croissant', 'croissants', 'crooks', 'croque', 'crosbie', 'crosby', 'cross', 'crossed', 'crossing', 'crossroad', 'crostini', 'crouton', 'croutons', 'crowd', 'crowded', 'crowding', 'crowds', 'crowed', 'crown', 'crowning', 'crrraazzyyy', 'cruchy', 'crucifix', 'crudo', 'cruelty', 'crullers', 'crumb', 'crumble', 'crumbled', 'crumbles', 'crumbling', 'crumbs', 'crummy', 'crunch', 'crunchiness', 'crunchy', 'cruses', 'crush', 'crushed', 'crushing', 'crust', 'crusted', 'crustier', 'crusties', 'crusts', 'crusty', 'crying', 'crystal', 'crystals', 'crème', 'créme', 'cspjnfm', 'cuban', 'cube', 'cubed', 'cubes', 'cubicle', 'cubs', 'cucina', 'cucumber', 'cucumbers', 'cue', 'cues', 'cuff', 'cuffs', 'cuisinart', 'cuisine', 'cukes', 'culinarily', 'culinary', 'culmination', 'cultural', 'culture', 'cultured', 'cultures', 'culver', 'cuon', 'cup', 'cupcake', 'cupcakes', 'cups', 'curated', 'curbage', 'curd', 'curds', 'cure', 'cured', 'curiosity', 'curious', 'curiously', 'curl', 'curling', 'curls', 'curly', 'curmudgeons', 'currants', 'current', 'currently', 'currents', 'curriculum', 'curries', 'curry', 'currys', 'curse', 'cursing', 'curt', 'curtain', 'curtains', 'curves', 'cusack', 'cushier', 'cushions', 'cushy', 'cussing', 'cust', 'custard', 'custards', 'custom', 'customer', 'customers', 'customize', 'customized', 'customizes', 'custurd', 'cut', 'cute', 'cutest', 'cuticule', 'cuties', 'cutlery', 'cutlet', 'cuts', 'cutter', 'cutters', 'cuttery', 'cutting', 'cuz', 'cvs', 'cycling', 'cyclist', 'cyclists', 'cyclo', 'cyl', 'cynic', 'cynicism', 'cyr', 'da', 'daas', 'dab', 'dac', 'dachs', 'dad', 'daddy', 'dagger', 'daily', 'dainty', 'daiquiri', 'dairies', 'dairiki', 'dairy', 'daiya', 'dakota', 'dale', 'dali', 'dallas', 'dally', 'dam', 'damage', 'damaged', 'damages', 'dame', 'damn', 'damned', 'damnit', 'damp', 'dan', 'dana', 'dance', 'danced', 'dancer', 'dancers', 'dancewear', 'dancing', 'dandelion', 'dane', 'dang', 'danger', 'dangerous', 'dangerously', 'dangers', 'daniel', 'danielle', 'daniels', 'danish', 'danishes', 'dank', 'dannie', 'danny', 'daphne', 'dara', 'daradee', 'darcy', 'dare', 'daredevil', 'daren', 'daring', 'darius', 'dark', 'darkened', 'darker', 'darkness', 'darkseid', 'darla', 'darling', 'darn', 'darned', 'darryl', 'dart', 'darts', 'darykla', 'dash', 'dashboard', 'dashing', 'date', 'dated', 'dates', 'dating', 'daughter', 'daughters', 'daunted', 'daunting', 'dave', 'daves', 'david', 'davidson', 'dawn', 'day', 'daycare', 'daylight', 'days', 'daytime', 'dazbog', 'daze', 'dazed', 'dazs', 'dazzled', 'dba', 'dbg', 'dc', 'dcor', 'dd', 'ddd', 'dddinfo', 'ddelish', 'dds', 'dead', 'deadbeats', 'deaf', 'deal', 'dealer', 'dealers', 'dealership', 'dealerships', 'dealing', 'deals', 'dealt', 'deamon', 'dean', 'dear', 'dearly', 'death', 'deathly', 'deb', 'debacle', 'debate', 'debated', 'debating', 'debauchery', 'debbie', 'debilitating', 'debit', 'debon', 'debris', 'debt', 'debut', 'decade', 'decadence', 'decadent', 'decadently', 'decades', 'decaf', 'decaffinated', 'decanted', 'decapitated', 'decellerating', 'december', 'decent', 'decently', 'deception', 'deceptive', 'deceptively', 'decide', 'decided', 'decidedly', 'decides', 'deciding', 'decision', 'decisions', 'decisive', 'decited', 'deck', 'decked', 'declare', 'declared', 'declaring', 'decline', 'declined', 'deco', 'decomissioned', 'deconstructed', 'decor', 'decorate', 'decorated', 'decorating', 'decoration', 'decorations', 'decore', 'decreases', 'decrepit', 'dedicated', 'dedication', 'deduct', 'deduction', 'deductions', 'dee', 'deeee', 'deeeeaaallssss', 'deeees', 'deelish', 'deep', 'deeper', 'deeply', 'deere', 'dees', 'def', 'defalco', 'default', 'defend', 'defense', 'defensive', 'deference', 'deferred', 'defiance', 'defiantly', 'definately', 'definatly', 'definetely', 'definetly', 'definite', 'definitely', 'definition', 'definitly', 'deflated', 'defnitely', 'defunct', 'deg', 'degrades', 'degrading', 'degree', 'degrees', 'dehydrated', 'dehydration', 'dejavu', 'del', 'delay', 'delayed', 'delaying', 'delays', 'delcious', 'delectable', 'deleting', 'deli', 'delia', 'deliberate', 'deliberately', 'deliberation', 'delicacies', 'delicate', 'delicately', 'delicatessen', 'deliciious', 'delicious', 'deliciously', 'deliciousness', 'deliciouso', 'delicous', 'delight', 'delighted', 'delightful', 'delightfully', 'delights', 'delis', 'delish', 'delishish', 'deliver', 'delivered', 'deliverer', 'deliveries', 'delivering', 'delivers', 'delivery', 'della', 'delmonico', 'delta', 'deluca', 'delux', 'delve', 'delved', 'demand', 'demanded', 'demanding', 'demands', 'demaria', 'demeaning', 'demeanor', 'demi', 'demiglaze', 'demise', 'demo', 'democratic', 'demographic', 'demonstrate', 'demonstrated', 'demonstrates', 'demoted', 'denied', 'denim', 'denny', 'dennys', 'dense', 'densely', 'dent', 'dental', 'dente', 'dented', 'dentist', 'dentistry', 'dentists', 'denver', 'deocrations', 'departed', 'departing', 'department', 'departure', 'dependable', 'depended', 'depending', 'depends', 'deplane', 'deplorable', 'deployment', 'deported', 'deposit', 'depositing', 'depressed', 'depressing', 'dept', 'depth', 'depths', 'derby', 'derelicts', 'derived', 'dermabrasion', 'dermatologist', 'dernmark', 'des', 'deschutes', 'descretely', 'described', 'describes', 'describing', 'descript', 'description', 'descriptions', 'deseo', 'desert', 'deserted', 'deserts', 'deserve', 'deserved', 'deservedly', 'deserves', 'deserving', 'design', 'designated', 'designed', 'designer', 'designers', 'designing', 'designs', 'desirable', 'desire', 'desired', 'desires', 'desk', 'despairing', 'desperate', 'desperately', 'desperation', 'despise', 'despised', 'despite', 'dessert', 'desserts', 'dest', 'destination', 'destined', 'destroy', 'destroyed', 'destroying', 'destroys', 'detailed', 'detailing', 'details', 'deter', 'determine', 'determined', 'determining', 'deterred', 'detract', 'detroit', 'develop', 'develope', 'developed', 'developers', 'developing', 'development', 'device', 'devices', 'devil', 'deviled', 'devils', 'devine', 'devoid', 'devoted', 'devour', 'devoured', 'devouring', 'dew', 'dewalt', 'di', 'dia', 'diabetes', 'diabetic', 'diablo', 'diabolical', 'diagnosable', 'diagnose', 'diagnosed', 'diagnosis', 'diagnostic', 'diagnostics', 'dial', 'diamond', 'diamondbacks', 'diamonds', 'diaper', 'diapers', 'diarrhea', 'diary', 'diavola', 'diaya', 'dibs', 'diced', 'dicey', 'dick', 'dickhead', 'dicknose', 'did', 'diddly', 'didn', 'didnt', 'die', 'dieciseis', 'died', 'diego', 'diet', 'dietary', 'dieters', 'dieting', 'difara', 'diff', 'differ', 'differed', 'difference', 'differences', 'different', 'differentiation', 'differently', 'differnt', 'difficult', 'difficulty', 'dig', 'digestif', 'diggety', 'digging', 'diggity', 'digital', 'digress', 'digression', 'digs', 'dijon', 'dilemma', 'diligent', 'dill', 'dillard', 'dilly', 'dim', 'dime', 'dimed', 'diminished', 'diminishes', 'dimly', 'dine', 'dined', 'dineinaz', 'diner', 'diners', 'ding', 'dinged', 'dingy', 'dining', 'dinky', 'dinne', 'dinner', 'dinners', 'dinning', 'dip', 'diplomatically', 'dipped', 'dippin', 'dipping', 'dips', 'dipshits', 'dire', 'direct', 'directed', 'directing', 'direction', 'directions', 'directly', 'director', 'directories', 'directors', 'dirt', 'dirty', 'disabled', 'disadvantage', 'disagree', 'disappear', 'disappearance', 'disappeared', 'disappoint', 'disappointed', 'disappointing', 'disappointment', 'disappointments', 'disappoints', 'disaster', 'disastrous', 'disc', 'discard', 'discharged', 'disclaimer', 'disclosing', 'disclosure', 'disco', 'discolored', 'discomfort', 'disconsolate', 'discontinued', 'discordant', 'discount', 'discounted', 'discounts', 'discourage', 'discouraged', 'discouraging', 'discover', 'discovered', 'discovering', 'discovery', 'discriminatory', 'discs', 'discuss', 'discussed', 'discussing', 'discussion', 'discusting', 'disdain', 'disease', 'diseases', 'disgrace', 'disgruntled', 'disguised', 'disgust', 'disgusted', 'disgusting', 'disgustingly', 'dish', 'dishes', 'disheveled', 'dishonest', 'dishwater', 'disintegrate', 'disinterested', 'disks', 'dislike', 'disliked', 'disliking', 'disloyal', 'dismal', 'dismantle', 'dismay', 'dismayed', 'dismiss', 'dismissed', 'disney', 'disneyland', 'disorganized', 'disoriented', 'disowned', 'dispense', 'dispensed', 'dispenser', 'dispensers', 'dispensing', 'disperses', 'dispite', 'display', 'displayed', 'displaying', 'displays', 'displeased', 'displeasure', 'disposable', 'disregarding', 'disrepair', 'disrespect', 'disrespected', 'disrespectful', 'disrespectfully', 'disruptive', 'dissapoint', 'dissapointed', 'dissapointment', 'dissappeared', 'dissappointed', 'dissatisfied', 'dissertation', 'dissipated', 'distance', 'distant', 'distaste', 'distasteful', 'distinct', 'distinction', 'distinctive', 'distinctness', 'distinguished', 'distracted', 'distraction', 'distress', 'distressing', 'distribute', 'distributors', 'district', 'distrito', 'disturbed', 'disturbing', 'ditto', 'diuretic', 'dive', 'divers', 'diverse', 'dives', 'divey', 'divided', 'dividing', 'diviest', 'divine', 'division', 'diy', 'dizzy', 'dj', 'djs', 'dk', 'dmv', 'dmvs', 'dnf', 'doa', 'dobbins', 'dobson', 'doc', 'dock', 'doctor', 'doctors', 'document', 'documentary', 'documents', 'dodey', 'dodged', 'dodger', 'dodgers', 'doens', 'does', 'doesn', 'doesnt', 'dog', 'dogfish', 'dogfishhead', 'dogfoodadvisor', 'doggie', 'doggies', 'doggiestepsdogtraining', 'dogparkriot', 'dogs', 'doh', 'doing', 'dojo', 'dolce', 'doling', 'doll', 'dollar', 'dollars', 'dollhouse', 'dollop', 'dolls', 'dolmades', 'dolmas', 'dolmeh', 'dolphin', 'dom', 'domestic', 'dominate', 'dominated', 'dominick', 'dominique', 'dominos', 'domo', 'don', 'donate', 'donated', 'donation', 'donations', 'donkey', 'donna', 'donnell', 'donor', 'dont', 'donut', 'donuts', 'doodle', 'doodles', 'doom', 'dooo', 'door', 'doorman', 'doors', 'doozy', 'dope', 'dorato', 'dorm', 'dormouse', 'dorrie', 'dorries', 'dos', 'dosa', 'dosas', 'dose', 'dot', 'dots', 'double', 'doubles', 'doubt', 'doubted', 'doubts', 'douche', 'doudy', 'dough', 'doughboy', 'doughnut', 'doughnuts', 'doughy', 'douse', 'doused', 'dousing', 'douxelle', 'dove', 'downer', 'downfall', 'downhill', 'downing', 'download', 'downright', 'downs', 'downside', 'downsides', 'downstairs', 'downtown', 'downtrodden', 'dozen', 'dozens', 'dpov', 'dr', 'draft', 'drafts', 'drag', 'dragged', 'dragon', 'dragonfly', 'drags', 'drain', 'drama', 'dramatic', 'dramatically', 'drank', 'drastically', 'draught', 'draw', 'drawback', 'drawer', 'drawing', 'drawings', 'drawn', 'draws', 'dre', 'dreaded', 'dreadful', 'dreading', 'dream', 'dreamcatcher', 'dreaming', 'dreamlike', 'dreams', 'dreamy', 'dreary', 'dregs', 'dremel', 'drench', 'drenched', 'drenching', 'dress', 'dressed', 'dresser', 'dresses', 'dressier', 'dressing', 'dressings', 'dressy', 'drew', 'dried', 'drier', 'dries', 'drift', 'drill', 'drilling', 'drink', 'drinkable', 'drinker', 'drinkers', 'drinking', 'drinks', 'drip', 'dripping', 'drive', 'driven', 'driver', 'drivers', 'drives', 'driving', 'drizzle', 'drizzled', 'droban', 'drool', 'drooled', 'droolin', 'drooling', 'drools', 'drop', 'dropout', 'dropped', 'dropping', 'drops', 'drought', 'drove', 'drowned', 'drowning', 'drug', 'drugs', 'drum', 'drummer', 'drums', 'drunk', 'drunken', 'drunks', 'dry', 'dryer', 'drying', 'dryng', 'drywall', 'dslreports', 'dst', 'dt', 'duane', 'dubba', 'duce', 'duck', 'ducked', 'ducks', 'duct', 'dude', 'dudes', 'duds', 'dug', 'dugout', 'duh', 'dui', 'duke', 'dukes', 'dulce', 'dulche', 'dull', 'dumb', 'dumbass', 'dumber', 'dumbest', 'dumbfounded', 'dummies', 'dump', 'dumped', 'dumping', 'dumpling', 'dumplings', 'dumpster', 'dun', 'dungeness', 'dunkin', 'dunno', 'duo', 'duper', 'duplicate', 'duplication', 'durant', 'durants', 'duration', 'durst', 'dusk', 'dust', 'dusted', 'dusting', 'dutch', 'dutchman', 'duties', 'dutton', 'duty', 'duvalin', 'dv', 'dvd', 'dvds', 'dwellers', 'dwindling', 'dyed', 'dyer', 'dyes', 'dying', 'dynamite', 'dynasty', 'dysart', 'décor', 'ea', 'eactually', 'eager', 'eagerly', 'eagerness', 'ear', 'earleir', 'earlier', 'earliest', 'early', 'earn', 'earned', 'earnest', 'earning', 'earrings', 'ears', 'earth', 'earthy', 'ease', 'eased', 'easels', 'easier', 'easiest', 'easily', 'easiy', 'easley', 'east', 'easter', 'eastern', 'eastside', 'eastwood', 'easy', 'eat', 'eatable', 'eated', 'eaten', 'eater', 'eateries', 'eaters', 'eatery', 'eatin', 'eating', 'eats', 'ebay', 'ebi', 'ecclectic', 'echo', 'echoed', 'echoes', 'echoing', 'eclaire', 'eclectic', 'eclub', 'eco', 'economic', 'economy', 'ecstacy', 'ecstasy', 'ecstatic', 'ect', 'ed', 'edamame', 'eddie', 'eddies', 'edemame', 'eden', 'edge', 'edges', 'edgier', 'edgy', 'edible', 'edison', 'edit', 'editable', 'edited', 'edition', 'edna', 'edu', 'educate', 'educated', 'educating', 'education', 'educational', 'eduprize', 'edwards', 'eeew', 'eegees', 'eek', 'eel', 'eewwww', 'efax', 'eff', 'effect', 'effective', 'effectively', 'effects', 'effen', 'efficacious', 'efficiency', 'efficient', 'efficiently', 'effin', 'effing', 'effort', 'efforts', 'egg', 'eggees', 'eggless', 'eggplant', 'eggplants', 'eggroll', 'eggrolls', 'eggs', 'eggy', 'ego', 'egypt', 'egyptian', 'eh', 'eighteen', 'einstein', 'einsteins', 'eis', 'el', 'elaboration', 'elaine', 'elastic', 'elbow', 'elbows', 'elderflower', 'elderly', 'eldest', 'elected', 'electing', 'electric', 'electrical', 'electronic', 'electronics', 'elegant', 'element', 'elements', 'elentra', 'elephant', 'elevation', 'elevator', 'elevators', 'elf', 'eliminating', 'elite', 'elites', 'elizabeth', 'ella', 'elliot', 'ellis', 'elm', 'elmer', 'eloquent', 'elote', 'eludes', 'elusive', 'ely', 'em', 'email', 'emailed', 'emails', 'emapanadas', 'embarassed', 'embarked', 'embarking', 'embarrassed', 'embarrassing', 'embarrassingly', 'embarrassment', 'embellishment', 'embodies', 'embraces', 'emcee', 'emerald', 'emerge', 'emergencies', 'emergency', 'emerging', 'emissions', 'emotion', 'emotional', 'empanada', 'empanadas', 'empathetic', 'empathize', 'emperor', 'emphasis', 'emphasize', 'empire', 'employed', 'employee', 'employees', 'employer', 'employers', 'employess', 'empowering', 'empress', 'empties', 'emptor', 'emptying', 'emu', 'emulate', 'en', 'enable', 'encased', 'encebollada', 'encebollado', 'enchalada', 'enchanted', 'enchanting', 'enchantment', 'enchilada', 'enchiladas', 'enclosed', 'encompass', 'encore', 'encounter', 'encountered', 'encounters', 'encourage', 'encouraged', 'encouragement', 'encouraging', 'encroaching', 'encrusted', 'end', 'endeavor', 'endeavors', 'ended', 'ending', 'endless', 'endlessly', 'endorse', 'endorsing', 'endovenera', 'ends', 'endure', 'endures', 'enemies', 'energetic', 'energy', 'enforce', 'engage', 'engagement', 'engaging', 'engine', 'engineering', 'england', 'english', 'enhance', 'enigma', 'enigmatic', 'enjoy', 'enjoyable', 'enjoyably', 'enjoyed', 'enjoying', 'enjoyment', 'enjoys', 'enlarge', 'enlightenment', 'enormous', 'enraged', 'enrique', 'enrolled', 'ensalda', 'ensembles', 'ensenada', 'ensuing', 'ensure', 'ensuring', 'enter', 'entered', 'entering', 'enterprise', 'entertain', 'entertained', 'entertaining', 'entertainment', 'enthusiasm', 'enthusiast', 'enthusiastic', 'enthusiastically', 'enthusiasts', 'entice', 'enticement', 'enticing', 'entire', 'entirely', 'entitled', 'entity', 'entomologist', 'entrance', 'entre', 'entree', 'entrees', 'entrepreneurial', 'entrepreneurs', 'entrepreneurship', 'entress', 'entry', 'entrée', 'entrées', 'enuf', 'enveloped', 'enviornment', 'enviroment', 'environment', 'environmental', 'envisioned', 'envy', 'epic', 'epiphany', 'episode', 'eponymous', 'equal', 'equally', 'equals', 'eque', 'equip', 'equipement', 'equipment', 'equis', 'equivalent', 'er', 'era', 'erbe', 'eric', 'erica', 'erin', 'eritrean', 'ernet', 'ernie', 'erosion', 'erotic', 'err', 'errant', 'errors', 'ers', 'es', 'escalate', 'escape', 'escaped', 'escaping', 'escebeche', 'escentuals', 'escolar', 'esp', 'espana', 'esparza', 'especially', 'espresso', 'esqe', 'esque', 'essence', 'essential', 'essentially', 'essentials', 'essie', 'esspresso', 'establishement', 'establishment', 'establishments', 'estate', 'esteem', 'esthetician', 'estimate', 'estimated', 'estimates', 'estimation', 'estrella', 'et', 'eta', 'eternity', 'ether', 'ethics', 'ethier', 'ethiopia', 'ethiopian', 'ethnic', 'etienne', 'etouffee', 'etsy', 'eucalyptus', 'eugene', 'eugenia', 'euphoria', 'euphoric', 'euro', 'europe', 'european', 'euthanize', 'euthanizing', 'ev', 'evaluations', 'evaluative', 'evap', 'eve', 'evening', 'evenings', 'event', 'events', 'eventually', 'everday', 'everett', 'everybody', 'everyday', 'everynight', 'everyones', 'everytime', 'eves', 'eveything', 'evident', 'evidently', 'evil', 'evoking', 'evolving', 'evoo', 'ew', 'ewe', 'eww', 'ewww', 'ewwww', 'ewwwwww', 'ex', 'exact', 'exactly', 'exaggerating', 'exaggeration', 'exam', 'examined', 'examining', 'example', 'examples', 'exams', 'exasperated', 'exceeded', 'exceeds', 'excellence', 'excellent', 'excellente', 'excellently', 'exception', 'exceptional', 'exceptionally', 'excess', 'excessive', 'excessively', 'exchange', 'exchanged', 'excite', 'excited', 'excitedly', 'excitement', 'exciting', 'exclaimed', 'exclaiming', 'exclamation', 'exclude', 'excluding', 'exclusive', 'exclusively', 'excruciatingly', 'exctaly', 'excursion', 'excuse', 'excuses', 'execucar', 'execute', 'executed', 'execution', 'executive', 'exemplary', 'exercise', 'exercises', 'exfoliating', 'exfoliator', 'exhaust', 'exhausted', 'exhaustion', 'exhibit', 'exhibits', 'exist', 'existed', 'existence', 'existent', 'existing', 'exists', 'exit', 'exiting', 'exotic', 'expand', 'expanded', 'expanding', 'expands', 'expansion', 'expansions', 'expansive', 'expecially', 'expect', 'expectaions', 'expectation', 'expectations', 'expected', 'expecting', 'expedite', 'expedition', 'expense', 'expenses', 'expensive', 'expereinces', 'experience', 'experienced', 'experiences', 'experiencing', 'experiens', 'experiment', 'experimental', 'expert', 'expertise', 'expertly', 'experts', 'expiration', 'expire', 'expires', 'explain', 'explained', 'explaining', 'explains', 'explanation', 'explode', 'exploded', 'exploding', 'exploit', 'explore', 'explored', 'exploring', 'explosion', 'export', 'expos', 'expose', 'exposed', 'exposure', 'express', 'expressed', 'expression', 'expressions', 'exquisite', 'exsalonce', 'exspensive', 'extend', 'extended', 'extending', 'extension', 'extensive', 'exterior', 'exterminator', 'extorting', 'extra', 'extract', 'extracted', 'extraction', 'extraordinarily', 'extraordinary', 'extras', 'extravaganza', 'extreme', 'extremely', 'extremity', 'extremly', 'exude', 'exudes', 'ey', 'eye', 'eyeball', 'eyeballing', 'eyeballs', 'eyebrow', 'eyebrows', 'eyed', 'eyeing', 'eyes', 'eyesight', 'eytan', 'ez', 'f724', 'fab', 'fabric', 'fabrics', 'fabulos', 'fabulous', 'fabulousness', 'face', 'facebook', 'faced', 'faceplates', 'faces', 'facial', 'facials', 'faciatis', 'facilites', 'facilities', 'facility', 'facing', 'fact', 'facto', 'factor', 'factories', 'factors', 'factory', 'facts', 'faded', 'fags', 'fail', 'failed', 'failing', 'fails', 'failure', 'faint', 'fair', 'fairly', 'fairmont', 'fairway', 'fairways', 'fairy', 'faith', 'faithful', 'fajita', 'fajitas', 'fajito', 'fake', 'fakeness', 'fakville', 'falafel', 'falafels', 'fall', 'fallen', 'falling', 'fallout', 'falls', 'false', 'fame', 'famed', 'familiar', 'families', 'family', 'famished', 'famous', 'fan', 'fanatic', 'fanatical', 'fancier', 'fancy', 'fans', 'fanstatic', 'fantabulous', 'fantasies', 'fantasize', 'fantasizing', 'fantastalistic', 'fantastic', 'fantastical', 'fantastically', 'fantasy', 'far', 'farberware', 'fare', 'fargin', 'fargo', 'farm', 'farmed', 'farmer', 'farmers', 'farmhouse', 'farmland', 'farms', 'fart', 'farther', 'fascia', 'fascinated', 'fashion', 'fashioned', 'fashions', 'fast', 'faster', 'fastest', 'fat', 'fatal', 'fate', 'father', 'fathers', 'fathom', 'fats', 'fattening', 'fattie', 'fatty', 'faucets', 'fault', 'faux', 'fav', 'fave', 'faves', 'favie', 'favor', 'favorable', 'favorably', 'favored', 'favorite', 'favorites', 'favorito', 'favors', 'favourite', 'favs', 'fawning', 'fax', 'faxed', 'faxes', 'fe', 'fear', 'feared', 'fearing', 'fears', 'feast', 'feasted', 'feasting', 'feat', 'feature', 'featured', 'features', 'featuring', 'feb', 'febuary', 'feces', 'fed', 'feddys', 'feds', 'fee', 'feed', 'feedback', 'feeders', 'feeding', 'feeds', 'feel', 'feeling', 'feelings', 'feels', 'feenin', 'fees', 'feet', 'feiends', 'fell', 'fellas', 'feller', 'fellow', 'felt', 'female', 'fence', 'fenced', 'fender', 'feng', 'fennel', 'fermentated', 'fermented', 'fermier', 'ferns', 'ferrari', 'ferrits', 'fest', 'festival', 'festivals', 'festive', 'festivities', 'fet', 'feta', 'fetash', 'fetch', 'fetoosh', 'fetta', 'fettuccine', 'fettucine', 'fettucini', 'fetzer', 'feuille', 'fever', 'fewer', 'fez', 'ff', 'fh', 'fi', 'fiance', 'fiancee', 'fiancé', 'fibbertygibbet', 'ficticious', 'fiction', 'fiddler', 'fides', 'fied', 'field', 'fields', 'fiend', 'fierce', 'fiercely', 'fiery', 'fiesta', 'fifth', 'fig', 'fight', 'fighting', 'fights', 'figs', 'figuratively', 'figure', 'figured', 'figures', 'figuring', 'file', 'filed', 'filepe', 'files', 'filet', 'filets', 'filiberto', 'filibertos', 'filing', 'filings', 'filipino', 'filled', 'filler', 'fillet', 'fillets', 'filling', 'fillings', 'fills', 'filly', 'film', 'filmed', 'films', 'filmy', 'filter', 'filth', 'filthy', 'fin', 'final', 'finale', 'finally', 'finalmente', 'finals', 'finance', 'financial', 'financially', 'finding', 'findings', 'finds', 'fine', 'finely', 'finer', 'fines', 'finesse', 'finest', 'finger', 'fingerling', 'fingernails', 'fingerprint', 'fingerprinting', 'fingers', 'fingertip', 'fingertips', 'finish', 'finished', 'finishes', 'finishing', 'finnaly', 'firearms', 'firebird', 'fired', 'firefly', 'firemen', 'firepit', 'fireplace', 'fireplaces', 'fires', 'firestone', 'firewood', 'fireworks', 'firm', 'firmer', 'firstly', 'fish', 'fishers', 'fishheads', 'fishing', 'fishy', 'fist', 'fists', 'fit', 'fitcenter', 'fitness', 'fits', 'fitted', 'fitter', 'fitting', 'fitzgerald', 'fix', 'fixated', 'fixe', 'fixed', 'fixie', 'fixin', 'fixing', 'fixtures', 'flag', 'flagstaff', 'flair', 'flake', 'flaked', 'flakey', 'flaky', 'flambeed', 'flame', 'flamenco', 'flaming', 'flan', 'flank', 'flanked', 'flannel', 'flap', 'flare', 'flash', 'flashed', 'flashlight', 'flashlights', 'flask', 'flat', 'flatbread', 'flatbreads', 'flatiron', 'flattened', 'flatter', 'flautas', 'flaverful', 'flavor', 'flavored', 'flavorful', 'flavorgasm', 'flavoring', 'flavorless', 'flavors', 'flavour', 'flawless', 'flaws', 'flee', 'fleet', 'fleming', 'flemings', 'flemmingsery', 'flew', 'flexed', 'flexibility', 'flexible', 'flicked', 'flickr', 'flier', 'flies', 'flight', 'flights', 'flimsiest', 'flimsy', 'flintstones', 'flip', 'flippant', 'flipper', 'flipstick', 'flirt', 'flirting', 'flirtini', 'flo', 'float', 'floating', 'flock', 'flocking', 'flooded', 'flooding', 'floor', 'floored', 'floors', 'flops', 'flora', 'floral', 'florals', 'florence', 'florescent', 'florets', 'florida', 'florist', 'flossing', 'flour', 'flourished', 'flourishes', 'flourishing', 'flourless', 'flours', 'flow', 'flowed', 'flower', 'flowering', 'flowers', 'flowing', 'flown', 'flu', 'fluent', 'fluff', 'fluffed', 'fluffiness', 'fluffy', 'fluke', 'flummoxed', 'fluorescent', 'flushed', 'flushes', 'flushing', 'flustered', 'flute', 'fluttering', 'fluttery', 'flw', 'fly', 'flyer', 'flyers', 'flying', 'flyover', 'fnb', 'fo', 'foam', 'foamed', 'foamy', 'focaccia', 'focal', 'foccacia', 'focus', 'focused', 'focuses', 'focusing', 'fodder', 'fogo', 'foie', 'foil', 'fold', 'folding', 'folk', 'folks', 'follow', 'followed', 'following', 'follows', 'fond', 'fondant', 'fondest', 'fondu', 'fondue', 'fondues', 'fontina', 'foo', 'food', 'foodaholic', 'foodie', 'foodies', 'foodnet', 'foods', 'foodstuffs', 'foody', 'fooey', 'foofy', 'fool', 'fooled', 'foolery', 'fooling', 'foolish', 'fools', 'foot', 'footage', 'football', 'foothills', 'footlongs', 'footprint', 'foraged', 'foray', 'forbidden', 'force', 'forced', 'forcing', 'ford', 'forearms', 'foreign', 'foremost', 'foresee', 'forest', 'forever', 'forewarned', 'forgave', 'forget', 'forgettable', 'forgetting', 'forgivable', 'forgive', 'forgiving', 'forgo', 'forgot', 'forgotten', 'fork', 'forks', 'form', 'formal', 'format', 'formation', 'formations', 'formative', 'formidable', 'forming', 'forms', 'formula', 'fornaio', 'forno', 'forsaken', 'forth', 'fortunate', 'fortunately', 'fortune', 'forvever', 'forward', 'forwarded', 'fossil', 'foster', 'fought', 'foul', 'fould', 'foundation', 'founded', 'founder', 'fountain', 'fountains', 'fourteen', 'fourth', 'fourtherly', 'fowl', 'fox', 'foxes', 'foyer', 'fraction', 'frag', 'fragrance', 'fraiche', 'frail', 'frame', 'framed', 'frames', 'fran', 'france', 'frances', 'francesca', 'franchise', 'franchises', 'francis', 'franciscan', 'francisco', 'franco', 'frangipane', 'frank', 'frankfurters', 'frankly', 'frantic', 'frantically', 'frappes', 'frat', 'fray', 'frazzeling', 'fraîche', 'freak', 'freaked', 'freakin', 'freaking', 'freaky', 'fred', 'freddie', 'freddy', 'free', 'freedom', 'freeway', 'freeze', 'freezer', 'freezing', 'freind', 'freindly', 'french', 'frenched', 'frenzy', 'frequent', 'frequented', 'frequenting', 'frequently', 'frequents', 'fresca', 'frescas', 'fresco', 'frescoed', 'fresh', 'freshener', 'fresher', 'freshest', 'freshly', 'freshness', 'freshwater', 'frickin', 'frida', 'friday', 'fridays', 'fridge', 'fried', 'friend', 'friendlier', 'friendliest', 'friendliness', 'friendly', 'friends', 'friendship', 'fries', 'friggin', 'frigging', 'frighten', 'frightened', 'frijoles', 'frills', 'frings', 'frisco', 'frita', 'fritas', 'fritatta', 'frites', 'frito', 'frittata', 'frittatas', 'fritters', 'fritti', 'fritto', 'fro', 'frogger', 'fromage', 'frontiers', 'frontline', 'froo', 'frost', 'frosted', 'frosting', 'frosty', 'froth', 'frothy', 'frown', 'froyo', 'froze', 'frozen', 'frquently', 'fru', 'fructose', 'frugal', 'frugle', 'fruit', 'fruits', 'fruity', 'frustrated', 'frustrating', 'frustration', 'frustrations', 'fry', 'frybread', 'fryer', 'frying', 'frys', 'fsg07smlz5s', 'ft', 'fubar', 'fuck', 'fucked', 'fuckhead', 'fuckin', 'fucking', 'fucks', 'fuct', 'fuddburger', 'fuddrucker', 'fuddruckers', 'fudge', 'fuego', 'fuel', 'fueled', 'fueling', 'fuh', 'fuji', 'fujiwara', 'fujiya', 'fulfill', 'fulfilling', 'fullest', 'fulling', 'fulls', 'fully', 'fuming', 'fun', 'function', 'functional', 'functionality', 'fund', 'fundido', 'funding', 'fundito', 'fundraiser', 'fundraising', 'funds', 'fungus', 'funk', 'funky', 'funnel', 'funner', 'funniest', 'funny', 'funsports', 'furious', 'furnace', 'furnished', 'furnishings', 'furniture', 'furrowed', 'furry', 'furthermore', 'fury', 'fuse', 'fuses', 'fusion', 'fuss', 'fussy', 'future', 'futuristic', 'fuzzy', 'fwd', 'fyi', 'g37', 'gabe', 'gabi', 'gabriel', 'gadgets', 'gaeta', 'gag', 'gaga', 'gain', 'gained', 'gainey', 'gaining', 'gak', 'gal', 'galbi', 'galleries', 'gallery', 'gallina', 'gallo', 'gallon', 'gallons', 'galore', 'gals', 'galze', 'gambas', 'gamble', 'gamblers', 'gambling', 'game', 'games', 'gammage', 'ganache', 'gang', 'gangplank', 'ganoosh', 'ganouj', 'ganoush', 'gansitos', 'gap', 'garage', 'garbage', 'garbonzo', 'garces', 'garden', 'gardens', 'gardin', 'garfield', 'gargantuan', 'garlands', 'garlic', 'garlicky', 'garmin', 'garner', 'garnish', 'garnished', 'garnishes', 'garnishing', 'garsh', 'gary', 'gas', 'gasmic', 'gasoline', 'gasping', 'gastrique', 'gastronomic', 'gastronomical', 'gastronomy', 'gastropub', 'gate', 'gates', 'gateway', 'gather', 'gathered', 'gathering', 'gator', 'gatos', 'gauc', 'gaudy', 'gave', 'gavin', 'gay', 'gaylee', 'gazing', 'gazpacho', 'gear', 'gearing', 'geasy', 'gee', 'geek', 'geeks', 'geisha', 'gel', 'gelati', 'gelatin', 'gelatinous', 'gelato', 'gelish', 'gels', 'gem', 'gems', 'gen', 'gender', 'genders', 'general', 'generally', 'generate', 'generation', 'generations', 'generic', 'generious', 'generous', 'generously', 'genes', 'genevese', 'genin', 'genius', 'genre', 'genres', 'gent', 'gentle', 'gentleman', 'gentlemen', 'gently', 'genuine', 'genuinely', 'george', 'georges', 'georgia', 'georgie', 'geranios', 'germain', 'german', 'germany', 'germs', 'gerri', 'gesture', 'getaway', 'gets', 'gettin', 'getting', 'gf', 'ghetto', 'ghirardelli', 'ghost', 'giant', 'giants', 'giardinara', 'giardiniera', 'gift', 'gifts', 'gig', 'gigantic', 'giggle', 'gil', 'gila', 'gilbert', 'gilda', 'gills', 'gimlet', 'gimme', 'gimmick', 'gimmicks', 'gimmicky', 'gin', 'gina', 'ginger', 'gingerbread', 'ginormous', 'gio', 'giorno', 'giraffes', 'girdle', 'girl', 'girlfriend', 'girlfriends', 'girls', 'girly', 'girth', 'giseling', 'giselle', 'giu', 'giuseppe', 'giuseppes', 'giveing', 'given', 'giver', 'gives', 'giving', 'glace', 'glacier', 'glad', 'gladly', 'glamorous', 'glance', 'glands', 'glare', 'glaring', 'glass', 'glasses', 'glasswares', 'glaze', 'glazed', 'gleaming', 'glee', 'glendale', 'glib', 'glibert', 'glimpse', 'glistening', 'glitches', 'glitters', 'glittery', 'gloria', 'glorias', 'glories', 'glorified', 'glorious', 'glory', 'glosses', 'glossy', 'glove', 'gloves', 'glow', 'glowing', 'glows', 'gluten', 'glutten', 'glutton', 'gluttonous', 'gluttony', 'gm', 'gnarly', 'gnocchi', 'goal', 'goalie', 'goals', 'goat', 'goats', 'goaz', 'gobble', 'gobbled', 'gobi', 'god', 'goddamn', 'goddess', 'godfather', 'gods', 'goer', 'goers', 'goes', 'goi', 'going', 'goings', 'gold', 'golden', 'goldwater', 'goldwell', 'golf', 'golfer', 'golfers', 'golfing', 'goliath', 'gomen', 'gon', 'gone', 'gong', 'gonna', 'gonzales', 'goo', 'goober', 'goobye', 'good', 'goodbye', 'goodcents', 'goodies', 'goodness', 'goods', 'goodwill', 'goodyear', 'goodytwo', 'gooey', 'goof', 'goofy', 'google', 'googled', 'googling', 'goona', 'goood', 'goooood', 'gooooooood', 'gooooooooodness', 'goose', 'goosebumps', 'gooy', 'gordo', 'gordon', 'goregous', 'gorganzola', 'gorge', 'gorgeous', 'gorgonzola', 'gosh', 'gospel', 'gossip', 'gossiping', 'got', 'gothic', 'goto', 'gots', 'gotta', 'gotten', 'gotter', 'gouda', 'gouged', 'gourmet', 'gov', 'government', 'governor', 'gown', 'gowns', 'gps', 'grab', 'grabbed', 'grabbing', 'grabbingly', 'grace', 'graced', 'gracious', 'graciously', 'graciousness', 'grad', 'grade', 'graders', 'grades', 'gradual', 'graduate', 'graduated', 'graduation', 'grady', 'graham', 'grahm', 'grain', 'grains', 'grand', 'grandad', 'grandchildren', 'grande', 'grandiose', 'grandma', 'grandmas', 'grandmother', 'grandmothers', 'grandpa', 'grandparents', 'grandson', 'granite', 'granny', 'granola', 'granted', 'grape', 'grapefruit', 'grapes', 'graphically', 'graphics', 'grappa', 'gras', 'grasp', 'grass', 'grasses', 'grassroots', 'grassy', 'grated', 'grateful', 'gratefully', 'gratifying', 'gratin', 'gratis', 'gratitude', 'gratuitus', 'gratuity', 'gratzi', 'gravel', 'gravelly', 'graveyard', 'gravlax', 'gravy', 'gray', 'grayhawk', 'grazie', 'grazing', 'grease', 'greasiest', 'greasy', 'great', 'greater', 'greatest', 'greatly', 'greatness', 'greece', 'greed', 'greedy', 'greeeeeeat', 'greek', 'green', 'greenbelt', 'greene', 'greens', 'greenville', 'greenway', 'greet', 'greeted', 'greeting', 'greetings', 'greets', 'greg', 'grelichs', 'grenache', 'greta', 'grew', 'grey', 'griddle', 'griddled', 'grief', 'grigio', 'grill', 'grille', 'grilled', 'griller', 'grilling', 'grills', 'grimaldi', 'grimaldis', 'grimiest', 'grin', 'grind', 'grinda', 'grinded', 'grinder', 'grinders', 'grinding', 'gringa', 'gringas', 'gringos', 'grinning', 'gripe', 'gripes', 'gristle', 'gristly', 'grit', 'grits', 'gritted', 'gritty', 'grocer', 'groceries', 'grocery', 'groin', 'groom', 'groomed', 'groomer', 'grooming', 'gross', 'grossed', 'grossest', 'ground', 'grounds', 'group', 'groupie', 'grouping', 'groupon', 'groupons', 'groups', 'grousing', 'grove', 'groves', 'grow', 'growers', 'growing', 'growled', 'growler', 'growlers', 'growls', 'grown', 'grows', 'growth', 'grr', 'grub', 'grubbiest', 'grumpy', 'gruyere', 'gryos', 'grâce', 'gs', 'gtfo', 'guac', 'guacamole', 'guacomole', 'guadalupe', 'guangdong', 'guarantee', 'guaranteed', 'guard', 'guards', 'gucci', 'guedo', 'guenther', 'guerrero', 'guess', 'guessed', 'guessing', 'guest', 'guests', 'guide', 'guided', 'guidelines', 'guides', 'guiding', 'guido', 'guild', 'guilt', 'guilty', 'guiness', 'guinness', 'guissepe', 'guitar', 'guitars', 'gulf', 'gulp', 'gum', 'gumbo', 'gumline', 'gummie', 'gummy', 'gums', 'gun', 'gunkan', 'gunked', 'gunna', 'gunny', 'gurtude', 'gurus', 'gush', 'gushing', 'gushy', 'gusta', 'gusting', 'gusto', 'gut', 'guts', 'gutsy', 'gutted', 'gutting', 'guy', 'guys', 'gym', 'gyms', 'gynormus', 'gyoza', 'gyrating', 'gyro', 'gyros', 'h2o', 'ha', 'haagen', 'habanero', 'habaneros', 'habenero', 'habit', 'hacky', 'haddock', 'hadn', 'hadnt', 'hagard', 'hagen', 'haha', 'hahahahaha', 'hahn', 'haiku', 'hail', 'hair', 'haircot', 'haircut', 'haircuts', 'hairdresser', 'haired', 'hairs', 'haji', 'hakata', 'haley', 'half', 'halfway', 'halibut', 'hall', 'halley', 'hallmark', 'halloween', 'hallway', 'hallways', 'halo', 'halogens', 'halorescue', 'ham', 'hamachi', 'hamburger', 'hamburgers', 'hamburgessa', 'hamilton', 'hammered', 'hamper', 'hampshire', 'hampton', 'hana', 'hancock', 'hand', 'handed', 'handedly', 'handful', 'handi', 'handicappers', 'handing', 'handiwork', 'handkerchiefs', 'handle', 'handlebar', 'handled', 'handles', 'handling', 'handmade', 'hands', 'handshake', 'handsome', 'handsomely', 'handwritten', 'handy', 'hanede', 'haney', 'hang', 'hangars', 'hanger', 'hanging', 'hangings', 'hangout', 'hangover', 'hangovers', 'hangs', 'hankering', 'hanny', 'hannys', 'hansen', 'hanson', 'hansons', 'hap', 'haphazardly', 'happen', 'happened', 'happenin', 'happening', 'happens', 'happhazardly', 'happier', 'happiest', 'happily', 'happiness', 'happy', 'harass', 'harassed', 'harassing', 'harbor', 'harcs', 'hard', 'hardcore', 'hardcovers', 'hardened', 'harder', 'hardly', 'hardware', 'hardwood', 'hardworking', 'hardy', 'harissa', 'harkin', 'harkins', 'harlequin', 'harley', 'harm', 'harmful', 'harmonies', 'harmony', 'harp', 'harping', 'harried', 'harris', 'harry', 'harsh', 'harshness', 'hart', 'haru', 'harvest', 'harvil', 'hash', 'hashbrowns', 'hasn', 'hassle', 'hastily', 'hasty', 'hat', 'hatch', 'hate', 'hated', 'hateful', 'hates', 'hatha', 'hats', 'haul', 'hauled', 'haunt', 'haunted', 'haunts', 'haus', 'hava', 'havana', 'havarti', 'haven', 'havent', 'having', 'havn', 'havoc', 'hawaii', 'hawaiian', 'hay', 'hayashi', 'hayden', 'hayride', 'hazelnut', 'hazelnuts', 'hazzard', 'haüs', 'hbo', 'hcg', 'head', 'headache', 'headaches', 'headed', 'headfirst', 'heading', 'headphones', 'headquarters', 'heads', 'headset', 'heal', 'healed', 'healer', 'healing', 'heals', 'health', 'healthcare', 'healthier', 'healthiest', 'healthy', 'heap', 'heaping', 'heaps', 'hear', 'heard', 'hearing', 'hears', 'heart', 'heartbeat', 'heartbroken', 'heartburn', 'hearted', 'heartedly', 'hearth', 'hearts', 'heartworm', 'hearty', 'heat', 'heated', 'heater', 'heaters', 'heath', 'heathens', 'heather', 'heaven', 'heavenly', 'heavens', 'heaviest', 'heavily', 'heavy', 'heck', 'heckling', 'hedge', 'hee', 'heed', 'heel', 'heeled', 'heels', 'hefe', 'hefeweizen', 'heff', 'hefty', 'hegel', 'heh', 'hehehe', 'heidelberg', 'height', 'heightened', 'heinous', 'heinritz', 'heinz', 'heirloom', 'held', 'helen', 'helicopters', 'hell', 'hellllll', 'hellllllllo', 'hello', 'hells', 'helmet', 'helmets', 'help', 'helped', 'helpers', 'helpful', 'helpfull', 'helpfulness', 'helping', 'helpless', 'helps', 'helstrom', 'hem', 'hematoma', 'hemmed', 'hen', 'henckels', 'hens', 'hep', 'herb', 'herbal', 'herbed', 'herberger', 'herbs', 'herd', 'heritage', 'herme', 'hernan', 'hernandez', 'hero', 'herring', 'hertz', 'hes', 'hesistant', 'hesitant', 'hesitate', 'hesitated', 'hesitation', 'hey', 'hh', 'hi', 'hiatus', 'hiccup', 'hick', 'hickish', 'hicks', 'hickups', 'hidden', 'hide', 'hideaway', 'hideous', 'hides', 'hiding', 'high', 'highchair', 'higher', 'highest', 'highland', 'highlight', 'highlights', 'highly', 'highs', 'highschool', 'hight', 'highway', 'highways', 'hike', 'hiked', 'hikers', 'hikes', 'hiking', 'hilarious', 'hilariously', 'hilary', 'hill', 'hillard', 'hills', 'hillstone', 'hilo', 'hilton', 'himalayan', 'hindering', 'hint', 'hints', 'hip', 'hipper', 'hippie', 'hippies', 'hippness', 'hippy', 'hipster', 'hipsterness', 'hipsters', 'hire', 'hired', 'hires', 'hiro', 'hispanic', 'historic', 'historical', 'history', 'hit', 'hitchin', 'hits', 'hitting', 'hk', 'hkgb', 'hmm', 'hmmm', 'hmmmm', 'hmmmmm', 'hmmmmmm', 'hmmph', 'hnnngffff', 'ho', 'hoa', 'hoagies', 'hoan', 'hob', 'hobbies', 'hobby', 'hoboken', 'hobos', 'hockey', 'hocks', 'hodgepodge', 'hoegaarden', 'hoffman', 'hog', 'hogie', 'hogwarts', 'hoikey', 'hokokum', 'hold', 'holder', 'holders', 'holding', 'holds', 'hole', 'holes', 'holey', 'holiday', 'holidays', 'holistic', 'hollandaise', 'hollendaise', 'holly', 'hollywood', 'holmes', 'holocaust', 'holy', 'hom', 'home', 'homefries', 'homeless', 'homemade', 'homeopathic', 'homer', 'homerun', 'homes', 'hometown', 'homework', 'homey', 'homies', 'hominy', 'homophobia', 'homosexuals', 'homous', 'honda', 'honduras', 'hone', 'honed', 'honeslty', 'honest', 'honestly', 'honesty', 'honey', 'honeycomb', 'honeymoon', 'hong', 'honked', 'honor', 'honored', 'honoring', 'honors', 'hoo', 'hood', 'hoodlum', 'hoods', 'hook', 'hooked', 'hooks', 'hooligans', 'hoooorray', 'hoopla', 'hooray', 'hooters', 'hootsuite', 'hop', 'hope', 'hoped', 'hopeful', 'hopefully', 'hopes', 'hopi', 'hoping', 'hopital', 'hopped', 'hoppin', 'hopping', 'hoppins', 'hops', 'hopshot', 'horatio', 'horchata', 'horizon', 'hormone', 'hormones', 'horns', 'horrendous', 'horrible', 'horribly', 'horrid', 'horrific', 'horror', 'horse', 'horseback', 'horseradish', 'horses', 'horshradish', 'hose', 'hospitable', 'hospital', 'hospitality', 'hospitals', 'host', 'hostage', 'hosted', 'hostess', 'hostesses', 'hostile', 'hosting', 'hosts', 'hot', 'hotdog', 'hotdogs', 'hotel', 'hotels', 'hotplate', 'hotspot', 'hotspots', 'hotter', 'hottest', 'hotties', 'hotttt', 'hound', 'hounding', 'hour', 'hours', 'house', 'housed', 'household', 'househunting', 'housekeeping', 'housemade', 'houses', 'housewares', 'housewife', 'houston', 'houstons', 'hover', 'hovered', 'hovering', 'howard', 'howdy', 'howl', 'hr', 'hrid', 'hrs', 'hs', 'htc', 'htf', 'html', 'http', 'huauchinango', 'hub', 'hubbard', 'hubby', 'hubs', 'huckleberry', 'hudson', 'hue', 'huera', 'hues', 'huevos', 'hug', 'huge', 'hugely', 'hugh', 'hugs', 'huh', 'hullabaloo', 'hum', 'human', 'humane', 'humanely', 'humanity', 'humans', 'humble', 'humbling', 'humbly', 'humdinger', 'humid', 'humidifier', 'humidity', 'humiliating', 'hummee', 'hummingbirds', 'hummus', 'humor', 'humus', 'hundreds', 'hung', 'hunger', 'hungover', 'hungrier', 'hungry', 'hunk', 'huns', 'hunt', 'hunter', 'hunters', 'hunting', 'hurrah', 'hurricane', 'hurried', 'hurries', 'hurry', 'hurt', 'hurtful', 'hurting', 'hurts', 'husband', 'husbands', 'hushpuppys', 'hussy', 'hustle', 'hustled', 'hut', 'hyatt', 'hybrid', 'hyde', 'hydrants', 'hydrated', 'hydration', 'hydrogen', 'hydrogenated', 'hygiene', 'hygienist', 'hygienists', 'hype', 'hyped', 'hyper', 'hyperbole', 'hypes', 'hypocrite', 'hyundai', 'iam', 'iamtimhardy', 'ice', 'iceberg', 'iceburg', 'icecream', 'iced', 'icee', 'ices', 'icey', 'ichi', 'icing', 'icious', 'ick', 'icky', 'icon', 'iconic', 'icons', 'icy', 'id', 'idea', 'ideal', 'ideas', 'idem', 'identical', 'identified', 'identify', 'identity', 'idiot', 'idiotic', 'idiots', 'idk', 'iffy', 'ignacio', 'ignite', 'ignorance', 'ignorant', 'ignore', 'ignored', 'ignoring', 'ihop', 'ii', 'iitoi', 'ikea', 'ikura', 'il', 'ilbs', 'ilk', 'ill', 'illegal', 'illlll', 'illness', 'illuminating', 'illusion', 'illusive', 'im', 'image', 'imagery', 'images', 'imaginable', 'imagination', 'imagine', 'imagined', 'imax', 'imbued', 'imho', 'imitation', 'immaculate', 'immaculately', 'immediate', 'immediately', 'immense', 'immensely', 'immigrants', 'imminent', 'immobile', 'immune', 'imo', 'impact', 'impaired', 'impeccable', 'impeccably', 'impending', 'imperative', 'imperial', 'impersonal', 'impession', 'impetus', 'implicitly', 'implies', 'impolite', 'importance', 'important', 'importantly', 'imported', 'importing', 'impossible', 'impostors', 'impractical', 'impresive', 'impress', 'impressed', 'impresses', 'impressing', 'impression', 'impressions', 'impressive', 'impressively', 'improper', 'improv', 'improve', 'improved', 'improvement', 'improvements', 'improves', 'improving', 'inability', 'inactive', 'inactivity', 'inadequate', 'inappropriate', 'inauthentic', 'inbetween', 'inbox', 'incantation', 'incapable', 'incarnation', 'incentive', 'incentives', 'inch', 'inches', 'incidences', 'incident', 'incidental', 'incidentally', 'incision', 'inclined', 'inclines', 'include', 'included', 'includes', 'including', 'inclusion', 'inclusive', 'income', 'incompetence', 'incompetent', 'incongruous', 'inconsistencies', 'inconsistent', 'inconvenice', 'inconvenience', 'inconvenienced', 'inconveniencing', 'inconvenient', 'incorporate', 'incorporated', 'incorrect', 'incorrectly', 'increase', 'increasing', 'increasingly', 'incredible', 'incredibly', 'indecisive', 'independent', 'independently', 'indescribably', 'indestructible', 'index', 'india', 'indian', 'indiana', 'indians', 'indicated', 'indicates', 'indication', 'indictment', 'indie', 'indifferent', 'indigenous', 'indistinguishable', 'individual', 'individuality', 'individualized', 'individually', 'individuals', 'indo', 'indoor', 'indoors', 'indra', 'induce', 'inducing', 'indulge', 'indulged', 'indulgence', 'indulgent', 'indulges', 'indulging', 'industrial', 'industrious', 'industry', 'ine', 'inedible', 'inevitable', 'inexcusable', 'inexpensive', 'inexplicably', 'infant', 'infants', 'infected', 'infection', 'inferior', 'infestations', 'infested', 'infiniti', 'inflammation', 'inflated', 'inflation', 'inflections', 'influence', 'info', 'infomercials', 'inform', 'informal', 'information', 'informational', 'informative', 'informed', 'infringement', 'infront', 'infuriating', 'infuse', 'infused', 'infusion', 'ing', 'ingenious', 'ingesting', 'ingrained', 'ingrediants', 'ingredient', 'ingredients', 'ingrown', 'inhaled', 'inherent', 'inhumane', 'initally', 'initial', 'initialed', 'initially', 'initiative', 'injera', 'injured', 'injuries', 'injuring', 'injury', 'ink', 'inlaws', 'inn', 'inner', 'innocent', 'innocuous', 'innova', 'innovation', 'innovative', 'innumerable', 'inoa', 'input', 'inquire', 'inquired', 'inquiring', 'inquisitive', 'ins', 'insane', 'insanely', 'insect', 'insecurities', 'insecurity', 'insert', 'inside', 'insider', 'insiders', 'insides', 'insight', 'insightful', 'insights', 'insist', 'insisted', 'insisting', 'insists', 'inspected', 'inspection', 'inspections', 'inspector', 'inspirational', 'inspire', 'inspired', 'inst', 'install', 'installed', 'installing', 'instance', 'instant', 'instantaneously', 'instantly', 'instatnt', 'instead', 'instincts', 'institute', 'institution', 'instructed', 'instruction', 'instructions', 'instructor', 'instructors', 'instruments', 'insufficient', 'insulation', 'insult', 'insulted', 'insulting', 'insults', 'insurance', 'insured', 'insures', 'intact', 'intake', 'intangible', 'integrated', 'integrity', 'intel', 'intellectually', 'intend', 'intended', 'intending', 'intense', 'intensity', 'intent', 'intention', 'intentional', 'intentions', 'interaction', 'interactions', 'interactive', 'intercontinental', 'interdisciplinary', 'interested', 'interesting', 'interior', 'interject', 'interlude', 'intermingled', 'intermission', 'internet', 'internship', 'interpretations', 'interrogated', 'interrupt', 'interrupted', 'interrupting', 'interspersed', 'intertwined', 'interview', 'interviews', 'intestines', 'intimacy', 'intimate', 'intimately', 'intimidated', 'intimidating', 'intolerance', 'intolerant', 'intolerants', 'intoxicated', 'intoxicating', 'intricate', 'intrigued', 'intrigueing', 'intriguing', 'intriguingly', 'intrinsic', 'intrinsically', 'introduce', 'introduced', 'introducing', 'introduction', 'introductions', 'intruding', 'intrusive', 'intuition', 'invading', 'invariably', 'invasive', 'invent', 'invented', 'inventive', 'inventory', 'invergorden', 'inverse', 'invest', 'investigate', 'investigated', 'investigating', 'investment', 'investor', 'invigorated', 'invincible', 'invisibility', 'invisible', 'invitations', 'invited', 'inviting', 'involve', 'involved', 'involves', 'involving', 'iodine', 'iolanda', 'iority', 'iot', 'ipa', 'ipad', 'iphone', 'ipic', 'ipod', 'ippei', 'iq', 'iranian', 'iraq', 'irish', 'irk', 'irks', 'iron', 'ironic', 'ironically', 'ironing', 'ironman', 'irony', 'irrational', 'irrelevant', 'irreplaceable', 'irrigate', 'irritable', 'irritate', 'irritated', 'irritates', 'irritating', 'irs', 'ish', 'island', 'islands', 'isle', 'isles', 'isn', 'isnt', 'isolated', 'israel', 'israeli', 'issue', 'issues', 'issuing', 'istore', 'italia', 'italian', 'italy', 'itch', 'item', 'itemized', 'items', 'ithink', 'itsy', 'itty', 'iv', 'ivaa', 'ive', 'ivory', 'ivy', 'ixtapa', 'ized', 'jabs', 'jac', 'jack', 'jackass', 'jacked', 'jacket', 'jackets', 'jackie', 'jackpot', 'jackrabbit', 'jacks', 'jacob', 'jacques', 'jacquie', 'jacuzzi', 'jade', 'jaeger', 'jagermeister', 'jaguar', 'jaime', 'jake', 'jalapeno', 'jalapenos', 'jalapeño', 'jalepeno', 'jalpeno', 'jam', 'jamaica', 'jamaican', 'jamba', 'jambalaya', 'jamburrito', 'james', 'jameson', 'jammed', 'jamming', 'jamoca', 'jams', 'jan', 'janes', 'janet', 'janis', 'january', 'japan', 'japanese', 'japchae', 'jar', 'jared', 'jargon', 'jars', 'jasmine', 'jason', 'java', 'jaw', 'jaws', 'jay', 'jazz', 'jazzed', 'jc', 'jd', 'jealous', 'jealously', 'jean', 'jeans', 'jedis', 'jeez', 'jeff', 'jefferson', 'jekyll', 'jello', 'jelly', 'jen', 'jenga', 'jenn', 'jenna', 'jennifer', 'jenny', 'jensy', 'jeopardize', 'jer', 'jeremiah', 'jerk', 'jerks', 'jerky', 'jerry', 'jerrys', 'jersey', 'jess', 'jesse', 'jesterz', 'jesus', 'jetted', 'jewel', 'jeweler', 'jewelers', 'jewelery', 'jewelry', 'jewels', 'jewess', 'jewish', 'jewlery', 'jhane', 'jiang', 'jib', 'jiggle', 'jill', 'jillian', 'jim', 'jimmy', 'jist', 'jitters', 'jj', 'jo', 'joan', 'job', 'jobby', 'jobing', 'jobot', 'jobs', 'jodi', 'joe', 'joes', 'john', 'johnny', 'johns', 'join', 'joined', 'joing', 'joining', 'joint', 'joints', 'joke', 'joked', 'joking', 'jokingly', 'jolie', 'joliet', 'jolly', 'jolt', 'jon', 'jonathan', 'jones', 'jonesin', 'jook', 'joplin', 'jordans', 'jose', 'joshua', 'jotted', 'jouet', 'journey', 'joy', 'joyfully', 'joynt', 'joys', 'jp', 'jr', 'juan', 'juba', 'jucey', 'judge', 'judged', 'judges', 'judging', 'judgment', 'judgmental', 'judgments', 'judith', 'juggalo', 'juggling', 'jugoslavian', 'juice', 'juices', 'juicy', 'jukebox', 'jules', 'julie', 'julienned', 'julios', 'july', 'julyish', 'jumbalaya', 'jumbo', 'jumbotron', 'jump', 'jumped', 'jumping', 'jumpsuit', 'june', 'jungle', 'jungles', 'junior', 'junk', 'junkie', 'junkyard', 'jura', 'juror', 'jus', 'just', 'justice', 'justifiable', 'justified', 'justify', 'justin', 'justina', 'justlenses', 'juxtaposing', 'jw', 'k56', 'kabob', 'kabobs', 'kabuki', 'kahlo', 'kahlua', 'kai', 'kaigen', 'kaj', 'kalamata', 'kale', 'kaley', 'kama', 'kanarish', 'kang', 'kansas', 'kanye', 'kaprow', 'kara', 'karahi', 'karanish', 'karaoke', 'karawi', 'karen', 'karey', 'karoake', 'karsh', 'karve', 'karyn', 'kashmans', 'kashmere', 'kasras', 'kat', 'katheaw', 'kathleen', 'kathy', 'katie', 'katlan', 'katsu', 'kauai', 'kaya', 'kazimierz', 'kazmer', 'kebab', 'kee', 'keeping', 'keeps', 'keg', 'keith', 'keller', 'kelly', 'ken', 'kennan', 'kennebec', 'kennel', 'kennels', 'kept', 'kerrie', 'ketchup', 'kettle', 'keurig', 'kevin', 'key', 'keyboard', 'keye', 'keyed', 'keypad', 'keys', 'kfc', 'kha', 'khai', 'khakis', 'kia', 'kibble', 'kick', 'kickass', 'kickassery', 'kickboxing', 'kicked', 'kicker', 'kickin', 'kicking', 'kicks', 'kicky', 'kid', 'kiddies', 'kidding', 'kiddos', 'kids', 'kierland', 'kiersten', 'kik', 'kill', 'killed', 'killer', 'killin', 'killing', 'kills', 'kilt', 'kiltlifter', 'kim', 'kimber', 'kimberly', 'kimchi', 'kimpton', 'kind', 'kinda', 'kindergarten', 'kindly', 'kindness', 'kinds', 'kinetic', 'king', 'kingdom', 'kings', 'kingston', 'kinkos', 'kinks', 'kins', 'kirin', 'kisra', 'kisras', 'kiss', 'kissing', 'kitchen', 'kitchens', 'kitfo', 'kitschy', 'kittens', 'kitty', 'kiwi', 'kk', 'klutz', 'knacks', 'knave', 'knee', 'knees', 'knew', 'knick', 'knickknacks', 'knife', 'knives', 'knob', 'knock', 'knocked', 'knocking', 'knook', 'knorr', 'knot', 'knotch', 'knots', 'know', 'knowing', 'knowledgable', 'knowledge', 'knowledgeable', 'known', 'knows', 'ko', 'kobe', 'koch', 'kokopelli', 'kolsch', 'kona', 'kong', 'kooks', 'kool', 'koolaid', 'koolaide', 'kore', 'korea', 'korean', 'kosher', 'kqoelzgklmrbayws8lhvfw', 'kra', 'kraft', 'krav', 'kreamery', 'kreme', 'krispy', 'kristen', 'kristian', 'kristin', 'kristy', 'kruger', 'kräuter', 'krönung', 'ksubi', 'ku', 'kubrick', 'kudo', 'kudos', 'kufta', 'kumomato', 'kumquat', 'kun', 'kung', 'kurobuta', 'kurt', 'kwss', 'kyle', 'kyot', 'kyoto', 'kyrene', 'la', 'lab', 'label', 'labeled', 'labeling', 'labels', 'labor', 'laboratory', 'laborers', 'labs', 'lace', 'laced', 'lack', 'lacked', 'lacking', 'lackluster', 'lacks', 'lactose', 'ladder', 'laden', 'ladie', 'ladies', 'ladle', 'lady', 'ladys', 'lafayette', 'lags', 'lahna', 'laid', 'lair', 'lait', 'lake', 'lake9', 'lakes', 'lalibela', 'lamar', 'lamb', 'lame', 'lameness', 'laminated', 'lamination', 'lamp', 'lamps', 'lampshades', 'lance', 'land', 'landed', 'landing', 'landlocked', 'landmark', 'landmarks', 'landon', 'landscape', 'landscaped', 'landscaping', 'lane', 'lanes', 'language', 'lanning', 'lantana', 'lanterns', 'lap', 'lapping', 'laps', 'lapsang', 'laptop', 'laptops', 'larb', 'lard', 'lardo', 'laredo', 'larg', 'large', 'largely', 'larger', 'larges', 'largest', 'larissa', 'larry', 'las', 'lasagna', 'laser', 'lasering', 'lash', 'lashed', 'lassi', 'lasted', 'lasting', 'lastly', 'lasts', 'latched', 'late', 'lately', 'later', 'lateral', 'latest', 'latilla', 'latin', 'latino', 'latte', 'lattes', 'laudable', 'laugh', 'laughed', 'laughing', 'laughs', 'launch', 'laundry', 'laura', 'lava', 'lavender', 'lavenders', 'lavosh', 'law', 'lawn', 'lawns', 'laws', 'lawyer', 'lax', 'lay', 'layaway', 'layer', 'layered', 'layers', 'laying', 'layla', 'layout', 'layover', 'lazily', 'lazy', 'lazyass', 'lb', 'lbs', 'le', 'lead', 'leader', 'leading', 'leads', 'leaf', 'leafy', 'league', 'leah', 'leak', 'leaking', 'leaks', 'lean', 'leaned', 'leaner', 'leaning', 'leap', 'learn', 'learned', 'learning', 'learns', 'leary', 'lease', 'leased', 'leash', 'leashes', 'leasing', 'leather', 'leathery', 'leave', 'leaves', 'leaving', 'lebanese', 'leberknödel', 'leche', 'leches', 'lechon', 'led', 'lee', 'leek', 'leeks', 'leery', 'lees', 'left', 'leftover', 'leftovers', 'leg', 'legacy', 'legal', 'legally', 'legend', 'legendary', 'legends', 'leggings', 'legit', 'legitimate', 'legitimately', 'legs', 'leguizamo', 'leisure', 'leisurely', 'lemme', 'lemming', 'lemon', 'lemonade', 'lemonades', 'lemondade', 'lemongrass', 'lemons', 'lemony', 'lenart', 'lend', 'lends', 'length', 'lengths', 'lengthwise', 'lengua', 'lennie', 'lenses', 'lentil', 'lentils', 'lenôtre', 'leonidas', 'leotards', 'lepinja', 'leslie', 'lesser', 'lesson', 'lessons', 'let', 'lets', 'letter', 'letters', 'letting', 'lettuce', 'level', 'leveler', 'levels', 'levers', 'levy', 'lexus', 'leyva', 'lfs', 'lgo', 'liability', 'liar', 'libation', 'libations', 'liberace', 'liberal', 'liberty', 'libra', 'librarian', 'libraries', 'library', 'libras', 'licence', 'license', 'licensed', 'licious', 'lick', 'licked', 'lickin', 'licking', 'licorice', 'licous', 'lid', 'lie', 'lied', 'lienau', 'lies', 'lieu', 'life', 'lifeless', 'lifelong', 'lifesaver', 'lifestyle', 'lifetime', 'lift', 'lifter', 'lifting', 'lifts', 'light', 'lighted', 'lightening', 'lighter', 'lightest', 'lighthearted', 'lighting', 'lightly', 'lightning', 'lights', 'lightweight', 'lik', 'like', 'likeable', 'liked', 'likely', 'liken', 'likes', 'likey', 'liking', 'liklihood', 'lil', 'lilly', 'limb', 'lime', 'limes', 'limit', 'limitations', 'limited', 'limits', 'limo', 'limoncello', 'limone', 'limos', 'limp', 'limpest', 'limón', 'lincoln', 'linda', 'lindsay', 'lindsey', 'line', 'lined', 'linen', 'linens', 'liner', 'lines', 'linger', 'lingered', 'lingerie', 'lingering', 'linguini', 'linguisa', 'linguistic', 'lining', 'link', 'links', 'lion', 'lions', 'lip', 'lips', 'lipstick', 'liqueur', 'liquid', 'liquidating', 'liquidy', 'liquor', 'liquors', 'lisa', 'lisette', 'lish', 'lisous', 'list', 'listed', 'listen', 'listened', 'listeners', 'listening', 'listens', 'listing', 'listings', 'listlessly', 'lists', 'lit', 'litchfield', 'lite', 'liter', 'literally', 'litmus', 'litterally', 'little', 'livable', 'live', 'lived', 'lively', 'liver', 'livers', 'liverwurst', 'lives', 'livestock', 'living', 'livingsocial', 'liz', 'lizards', 'lizzie', 'll', 'lll', 'lloyd', 'lmt', 'lmts', 'lo', 'load', 'loaded', 'loading', 'loads', 'loaf', 'loan', 'loathed', 'loaves', 'lobby', 'lobbys', 'lobster', 'local', 'locale', 'locales', 'localfirstaz', 'locally', 'locals', 'locate', 'located', 'locating', 'location', 'locations', 'lock', 'locked', 'locker', 'locking', 'locksmith', 'loco', 'locoye', 'lodge', 'lodged', 'loft', 'logic', 'logical', 'logo', 'loin', 'loitering', 'lol', 'lola', 'lolcat', 'lolita', 'lollipops', 'lollypops', 'lolo', 'lon', 'london', 'lone', 'lonely', 'long', 'longed', 'longer', 'longest', 'longing', 'longish', 'lonnnnng', 'loo', 'loofah', 'look', 'looked', 'looking', 'lookout', 'looks', 'loooong', 'loooooove', 'looooounge', 'loooove', 'loop', 'loops', 'loose', 'loosely', 'loosened', 'loosens', 'loosing', 'looved', 'loraco', 'lord', 'loren', 'loretta', 'lori', 'loroco', 'los', 'lose', 'loser', 'loses', 'losing', 'loss', 'lost', 'lot', 'lotion', 'lots', 'lottery', 'lotus', 'loud', 'louder', 'loudly', 'loudspeakers', 'louis', 'louisiana', 'lounge', 'lounged', 'lounges', 'loungey', 'lounging', 'lousy', 'lovable', 'love', 'loved', 'loveitloveit', 'loveliest', 'loveliness', 'lovely', 'lover', 'lovers', 'loves', 'lovin', 'loving', 'lovvvve', 'low', 'lowbrow', 'lower', 'lowest', 'lowly', 'lox', 'loyal', 'loyalty', 'lozenge', 'lsu', 'ltf', 'lthe', 'luau', 'lubrication', 'luby', 'luch', 'lucille', 'lucious', 'luck', 'lucked', 'luckily', 'lucky', 'lucrative', 'lucy', 'luggage', 'luis', 'luke', 'lukewarm', 'lululemon', 'lulus', 'luminarias', 'lumpia', 'lumpless', 'luna', 'lunch', 'lunches', 'lunchtime', 'lung', 'lurch', 'lured', 'lurid', 'lush', 'lust', 'luster', 'luv', 'lux', 'luxe', 'luxurious', 'luxury', 'ly', 'lychee', 'lying', 'lynn', 'lyric', 'lyrical', 'lyrics', 'lysol', 'm1wrcux3oouhhrynl8kjqg', 'ma', 'mabel', 'mac', 'macadamia', 'macadamian', 'macademia', 'macalpines', 'macaroni', 'macarons', 'macaroons', 'macaw', 'macayo', 'macayos', 'macbook', 'macerated', 'machaca', 'machine', 'machines', 'macho', 'mackerel', 'macmillan', 'macmillian', 'macs', 'macy', 'mad', 'madagascar', 'madame', 'madden', 'maddie', 'madeliene', 'madera', 'madiera', 'madness', 'madonna', 'madras', 'madrid', 'maestro', 'maestros', 'maga', 'magazine', 'magazines', 'maggi', 'maggianos', 'magic', 'magical', 'magically', 'magners', 'magnet', 'magnificent', 'magnitude', 'magnolia', 'mags', 'mah', 'maharaja', 'mahhh', 'mahi', 'mai', 'maiden', 'maids', 'mail', 'mailbox', 'mailing', 'mails', 'main', 'maine', 'mainly', 'mains', 'mainstay', 'mainstream', 'maintain', 'maintained', 'maintaining', 'maintains', 'maintenance', 'maizie', 'majerle', 'majerles', 'majestic', 'major', 'majority', 'majors', 'make', 'makeover', 'maker', 'makers', 'makes', 'makeshift', 'makeup', 'makhani', 'makin', 'making', 'makita', 'makoks', 'malaise', 'malaysian', 'malbec', 'male', 'malee', 'malfunction', 'malfunctioned', 'malibu', 'mall', 'malls', 'malt', 'malted', 'maltese', 'malts', 'mam', 'mama', 'mamma', 'mammal', 'mamosa', 'mamoth', 'man', 'manage', 'manageable', 'managed', 'management', 'manager', 'managers', 'manages', 'managing', 'manchego', 'manchurian', 'mandarin', 'mandatory', 'maneuver', 'maneuverable', 'manga', 'manger', 'mango', 'manhandling', 'manhattan', 'mani', 'manicure', 'manicured', 'manicures', 'manikin', 'manipulation', 'mannequin', 'manner', 'mannered', 'manners', 'manning', 'manther', 'manual', 'manually', 'manuel', 'manufactured', 'manufacturer', 'map', 'maple', 'maps', 'mar', 'maraschino', 'marathon', 'marathons', 'marble', 'marcellino', 'march', 'marching', 'marcia', 'marco', 'marcus', 'maretplace', 'marg', 'margaret', 'margareta', 'margarita', 'margaritas', 'margaritta', 'margarittas', 'margherita', 'margin', 'marginal', 'margs', 'marguerite', 'maria', 'mariachi', 'maricopa', 'marie', 'marilyn', 'marinade', 'marinades', 'marinara', 'marinate', 'marinated', 'marine', 'mariott', 'mark', 'markdown', 'marked', 'markeplace', 'markers', 'market', 'marketing', 'marketplace', 'markets', 'marking', 'markings', 'marks', 'markup', 'markups', 'marmalade', 'marnier', 'marquee', 'marriage', 'married', 'marriot', 'marriott', 'marrow', 'marry', 'marsala', 'marscapone', 'marsha', 'marshal', 'marshals', 'marshamallow', 'marshmallow', 'marshmallows', 'mart', 'martial', 'martin', 'martinez', 'martini', 'martinis', 'marvel', 'marvelous', 'mary', 'maryland', 'marys', 'maryvale', 'marz', 'masa', 'masai', 'masala', 'mascaras', 'mascarpone', 'mash', 'mashed', 'masiman', 'mask', 'masking', 'masks', 'mason', 'masquerading', 'mass', 'massage', 'massagers', 'massages', 'massaging', 'massamum', 'masses', 'masseuse', 'masseuses', 'massive', 'mast', 'master', 'mastered', 'masterful', 'masterfully', 'mastering', 'masterpiece', 'mastery', 'mastro', 'mastros', 'mat', 'match', 'matched', 'matches', 'matching', 'matchstick', 'mate', 'mateo', 'mater', 'material', 'materials', 'mates', 'math', 'mathematically', 'matney', 'matrimony', 'matt', 'matter', 'matters', 'mattress', 'mattresses', 'mature', 'matzah', 'matzo', 'mauclerc', 'maui', 'maureen', 'mauves', 'mawshing', 'max', 'maxi', 'maxim', 'maximum', 'mayan', 'maybe', 'mayo', 'mayonnaise', 'mays', 'maytag', 'maz', 'mazin', 'mazing', 'mba', 'mbps', 'mc', 'mcc', 'mccac', 'mccain', 'mcclendon', 'mcclintock', 'mccormick', 'mcdonald', 'mcdonalds', 'mcdowell', 'mcgees', 'mcginnis', 'mcgrath', 'mcgrittles', 'mckellip', 'mckellips', 'mcklintock', 'mcnuggets', 'mcrae', 'meager', 'meal', 'meals', 'mealy', 'mean', 'meandered', 'meaning', 'meaningful', 'means', 'meant', 'meantime', 'measly', 'measure', 'measured', 'measurement', 'meat', 'meatball', 'meatballs', 'meatbeals', 'meathead', 'meatless', 'meatloaf', 'meatlovers', 'meats', 'meaty', 'mecca', 'mechado', 'mechanic', 'mechanical', 'mechanics', 'mecinas', 'medallion', 'medallions', 'media', 'medical', 'medication', 'medications', 'medicine', 'mediocre', 'mediterranean', 'medium', 'medley', 'meds', 'meeeeeanie', 'meet', 'meeting', 'meetings', 'meets', 'meetup', 'mega', 'megan', 'meh', 'mei', 'mein', 'meineke', 'mekong', 'mel', 'melded', 'meling', 'melissa', 'mellow', 'melon', 'melonfishphoto', 'melrose', 'melt', 'melted', 'melting', 'meltingly', 'melts', 'melty', 'member', 'members', 'membership', 'memberships', 'membrane', 'memo', 'memorabilia', 'memorable', 'memorial', 'memories', 'memorize', 'memory', 'men', 'menchies', 'mended', 'mens', 'mental', 'mentality', 'mention', 'mentioned', 'mentioning', 'mentions', 'mentor', 'menu', 'menudo', 'menus', 'meowganificant', 'merc', 'mercedes', 'merchandise', 'merchandising', 'mere', 'merely', 'meringue', 'merited', 'merrels', 'merry', 'mesa', 'mesh', 'mesha', 'mesmerized', 'mesquite', 'mess', 'message', 'messages', 'messed', 'messes', 'messing', 'messy', 'met', 'metabolism', 'metal', 'metate', 'meted', 'meteocre', 'meth', 'method', 'methodical', 'methods', 'meticulous', 'meticulously', 'metric', 'metro', 'metropolitan', 'metrosexuality', 'mex', 'mexi', 'mexican', 'mexico', 'meyer', 'mgr', 'mgrs', 'mi', 'mia', 'miagi', 'miami', 'mic', 'michael', 'michaels', 'michelada', 'michelina', 'michelle', 'michigan', 'mickey', 'mickie', 'micky', 'micro', 'microbes', 'microbrewery', 'microbrews', 'microscopically', 'microwave', 'microwaved', 'mid', 'midday', 'middle', 'midget', 'midi', 'midnight', 'midnite', 'mido', 'midst', 'midwest', 'midwesterner', 'mien', 'mierda', 'mightily', 'mightly', 'mighty', 'mignon', 'migraines', 'miguel', 'mike', 'mila', 'milagro', 'milanese', 'milano', 'mild', 'mile', 'miles', 'milic', 'military', 'milk', 'milkshake', 'milkshakes', 'milky', 'mille', 'miller', 'milling', 'million', 'millions', 'mills', 'mim', 'mimi', 'mimic', 'mimosa', 'mimosas', 'mims', 'min', 'minced', 'mind', 'minded', 'mineral', 'miners', 'mines', 'minestrone', 'mingle', 'mini', 'miniature', 'minimal', 'minimalist', 'minimalistic', 'minimally', 'minimize', 'minimized', 'minimum', 'miniscule', 'minisd', 'minna', 'minneapolis', 'minnesota', 'minnie', 'minor', 'mins', 'mint', 'mintchip', 'minty', 'minus', 'minut', 'minute', 'minutes', 'miracle', 'miraculous', 'mirage', 'miranda', 'mirror', 'mirrored', 'mirrors', 'mirushe', 'mis', 'mischa', 'miserable', 'miserably', 'misfit', 'misfortune', 'mish', 'mishandled', 'mishap', 'mishaps', 'mishmash', 'misinformation', 'misinformed', 'misir', 'mislead', 'misleading', 'misled', 'mismanagement', 'mismanaging', 'mismatched', 'miso', 'misono', 'misplaced', 'miss', 'missed', 'misses', 'missing', 'mission', 'mississippi', 'misstep', 'mist', 'mistake', 'mistakenly', 'mistakes', 'mistaking', 'mister', 'misters', 'misting', 'misto', 'mistos', 'misunderstanding', 'misunderstood', 'misuse', 'mitch', 'mitt', 'mitts', 'miu', 'mix', 'mixed', 'mixer', 'mixers', 'mixes', 'mixing', 'mixology', 'mixto', 'mixture', 'mj', 'mlb', 'mm', 'mma', 'mmm', 'mmmghgh', 'mmmm', 'mmmmm', 'mmmmmazing', 'mmmmmm', 'mmmmmmm', 'mmmmmmmm', 'mmmmmmmmmmm', 'mmmmmmmms', 'mmwkpmltbkcwnnlrai', 'mn', 'mnf', 'mns', 'moaning', 'mobbed', 'mobhcxoi_msekq', 'mobile', 'mocchiato', 'mocha', 'mochi', 'mock', 'mocking', 'mockingly', 'mode', 'model', 'modeled', 'modelo', 'models', 'moderate', 'moderately', 'modern', 'modest', 'modestly', 'modification', 'modifications', 'modify', 'moe', 'moes', 'mohawk', 'moist', 'moister', 'moistest', 'moistness', 'moisturizer', 'moisturizers', 'moisturizes', 'mojito', 'mojitos', 'mojo', 'mojos', 'molar', 'molasses', 'mold', 'molding', 'moldy', 'mole', 'molete', 'molino', 'molinos', 'molly', 'molotes', 'molten', 'moly', 'mom', 'moment', 'moments', 'momma', 'mommy', 'moms', 'mon', 'monarch', 'monday', 'mondays', 'money', 'moneys', 'mongolian', 'monitor', 'monitoring', 'monitors', 'monk', 'monkey', 'monkeys', 'mono', 'monotone', 'monsieur', 'monsoon', 'monster', 'monsters', 'monstrosity', 'monstrous', 'monte', 'montelucia', 'montenegro', 'monterey', 'monterrey', 'month', 'monthly', 'months', 'monthy', 'monton', 'monty', 'monumental', 'moo', 'mood', 'moods', 'moody', 'mooing', 'moon', 'moons', 'moore', 'moores', 'mopped', 'mopping', 'moral', 'morale', 'morally', 'moray', 'morbidly', 'mordida', 'mores', 'moreso', 'morgan', 'mormon', 'mormonic', 'morning', 'mornings', 'moroccan', 'moron', 'morons', 'morphed', 'morsel', 'mortadella', 'mortar', 'morton', 'mortons', 'mos', 'moscow', 'mosear', 'mosh', 'motel', 'mother', 'motherf', 'mothers', 'motion', 'motivate', 'motivated', 'motivating', 'motivation', 'moto', 'motor', 'motorcycles', 'mound', 'mounded', 'mounds', 'mount', 'mountain', 'mountains', 'mounted', 'mounting', 'mourn', 'mouse', 'mousse', 'mouth', 'mouthful', 'mouths', 'mouthwatering', 'moved', 'movement', 'moves', 'movie', 'moviegoers', 'movies', 'moving', 'mower', 'mozarella', 'mozz', 'mozza', 'mozzarella', 'mpls', 'mr', 'mrs', 'ms', 'msg', 'mtn', 'muaaah', 'muay', 'mucho', 'mudd', 'muddled', 'mudslide', 'muertos', 'muffin', 'muffins', 'muffler', 'mug', 'muggy', 'mugs', 'mule', 'mullet', 'mulling', 'multi', 'multigrain', 'multiple', 'multiplied', 'multiplier', 'multiply', 'multitude', 'munch', 'munchies', 'mundane', 'muppet', 'mural', 'murder', 'murphy', 'murray', 'musac', 'muscles', 'museum', 'museums', 'mush', 'mushiest', 'mushroms', 'mushroom', 'mushrooms', 'mushu', 'mushy', 'music', 'musical', 'musician', 'musicians', 'musing', 'musscles', 'mussel', 'mussels', 'mustachio', 'mustard', 'muster', 'musubi', 'mutant', 'mutilated', 'muttered', 'mutton', 'mutts', 'mvp', 'mwkzajaq', 'mylissa', 'myriad', 'myspace', 'mysterious', 'mystery', 'mystified', 'mystique', 'myun', 'na', 'naan', 'nacho', 'nachos', 'nada', 'nadya', 'naengmyeon', 'nag', 'nagging', 'nail', 'nailed', 'nailes', 'nails', 'nak', 'naked', 'nam', 'namaste', 'named', 'names', 'nametags', 'nami', 'namis', 'nan', 'nancy', 'nandos', 'nanny', 'naot', 'nap', 'napa', 'napkin', 'napkins', 'napoleon', 'napoleons', 'napolitano', 'napping', 'narcissistic', 'narcisstic', 'narrow', 'narrowing', 'nascar', 'nastily', 'nastiness', 'nasty', 'natale', 'natalie', 'natcher', 'nate', 'nately', 'nathan', 'nation', 'national', 'nationally', 'nationals', 'nationwide', 'native', 'natives', 'natural', 'naturally', 'nature', 'natured', 'naturopath', 'naturopathic', 'nau', 'nauseous', 'navajo', 'navigate', 'navy', 'nay', 'nazi', 'nba', 'nc', 'ncounter', 'nd', 'ne', 'near', 'nearby', 'nearest', 'nearly', 'neat', 'neatly', 'nebbiolo', 'nebraska', 'necessarily', 'necessary', 'necessities', 'necessity', 'neck', 'need', 'needed', 'needing', 'needle', 'needles', 'needless', 'needs', 'needy', 'neesd', 'nefarious', 'negate', 'negated', 'negative', 'negatives', 'neglected', 'negra', 'negress', 'neighbor', 'neighborhood', 'neighborhoods', 'neighboring', 'neighbors', 'neiman', 'nello', 'neng', 'neo', 'neon', 'neosprin', 'nephew', 'nephews', 'nerd', 'nerds', 'nerdy', 'nerve', 'nervous', 'nespresso', 'ness', 'nestled', 'nests', 'net', 'netflix', 'network', 'networking', 'neutered', 'neutering', 'new', 'newark', 'newbie', 'newbies', 'newborn', 'newcollege', 'newer', 'newest', 'newland', 'newly', 'newmans', 'newport', 'news', 'newshour', 'newsletter', 'newspaper', 'newspapers', 'newyorker', 'nfl', 'ngd', 'ngoc', 'nhat', 'nhra', 'nib', 'nibble', 'nibbles', 'niblets', 'nice', 'nicely', 'nicer', 'nicest', 'nickel', 'nickle', 'nickname', 'nicoise', 'nicole', 'niece', 'nigeri', 'night', 'nightcap', 'nightclub', 'nightclubs', 'nighters', 'nightlife', 'nightly', 'nightmare', 'nightmares', 'nights', 'nigiri', 'nigligent', 'nigth', 'nike', 'nikki', 'nile', 'niman', 'nineteen', 'ninja', 'nipple', 'nippon', 'niro', 'nirvana', 'nita', 'nite', 'nites', 'nitpicking', 'nitris', 'nj', 'nl', 'nnear', 'nob', 'noble', 'nobs', 'nobuo', 'noca', 'noches', 'nod', 'nodded', 'nog', 'nogales', 'noir', 'noise', 'noises', 'noisey', 'noisy', 'nom', 'nomenal', 'nominal', 'nominate', 'nominee', 'non', 'nondescript', 'nonetheless', 'nonfat', 'nonna', 'nonprescription', 'nonprofit', 'nonsense', 'noodle', 'noodles', 'nook', 'noon', 'noooo', 'nooooooooo', 'nopalito', 'nope', 'nordies', 'nordique', 'nordstrom', 'nordstroms', 'norm', 'normal', 'normalcy', 'normally', 'norman', 'normandy', 'norterra', 'north', 'northeast', 'northern', 'northwest', 'norton', 'nose', 'nosh', 'noshed', 'nosie', 'nostalgia', 'nostalgic', 'nostrils', 'notable', 'notary', 'notch', 'note', 'noted', 'notes', 'noticable', 'notice', 'noticeable', 'noticeably', 'noticed', 'notices', 'noticing', 'notified', 'notorious', 'notsomuch', 'notte', 'nough', 'nourishes', 'nourishment', 'nouvelle', 'nov', 'nova', 'novel', 'novels', 'novelties', 'novelty', 'november', 'novice', 'novles', 'nowadays', 'noy', 'nozzle', 'np', 'nsa', 'ntn', 'nude', 'nueva', 'nuff', 'nugget', 'nuggets', 'nuked', 'nulaid', 'numb', 'numbed', 'number', 'numbered', 'numbers', 'numbingly', 'numero', 'numerous', 'nun', 'nuong', 'nurse', 'nursery', 'nurses', 'nurturing', 'nut', 'nutcracker', 'nuteila', 'nutella', 'nutmeg', 'nutrition', 'nutritional', 'nutritious', 'nuts', 'nutsack', 'nutshell', 'nutty', 'nuvi', 'nw', 'nwohio', 'ny', 'nyc', 'nypd', 'o9jiksb', 'oahu', 'oak', 'oakland', 'oakville', 'oasis', 'oatmeal', 'ob', 'obama', 'obese', 'obgyn', 'objects', 'obligatory', 'obliged', 'obliques', 'oblivion', 'obnoxious', 'obscene', 'obscure', 'observant', 'observation', 'observed', 'obsessed', 'obsession', 'obsessive', 'obstinate', 'obstruction', 'obtain', 'obvious', 'obviously', 'occasion', 'occasional', 'occasionally', 'occasions', 'occassions', 'occupied', 'occupies', 'occupying', 'occur', 'occured', 'occurred', 'occurs', 'ocd', 'ocean', 'oceanic', 'oct', 'octaves', 'october', 'octomom', 'octopus', 'odd', 'oddity', 'oddly', 'oddness', 'odds', 'odinian', 'odor', 'odors', 'odyssey', 'offended', 'offending', 'offends', 'offense', 'offensive', 'offer', 'offered', 'offering', 'offerings', 'offers', 'office', 'officer', 'offices', 'official', 'officially', 'officials', 'oft', 'oftentimes', 'ofthe', 'oggie', 'ogled', 'oh', 'ohhh', 'ohhhhkay', 'ohio', 'oil', 'oiled', 'oiliest', 'oiliness', 'oils', 'oily', 'oink', 'oj', 'ok', 'okaaaaay', 'okay', 'okra', 'oktoberfest', 'ol', 'old', 'older', 'oldest', 'oldies', 'olds', 'oldsmobuick', 'ole', 'oleanders', 'olive', 'olives', 'olivos', 'ollie', 'olympic', 'omakase', 'omelet', 'omelets', 'omelette', 'omelettes', 'omfg', 'omg', 'ominvore', 'omit', 'omnivore', 'omt', 'onehope', 'ones', 'ongoing', 'onioins', 'onion', 'onions', 'online', 'ono', 'onset', 'onsite', 'onslaught', 'ony', 'ooey', 'ooh', 'oohed', 'oooh', 'ooooh', 'ooooohhh', 'oooooooo', 'ooooowwweeee', 'oops', 'oozing', 'open', 'opened', 'opening', 'openings', 'openly', 'opens', 'opentable', 'opera', 'operate', 'operated', 'operates', 'operating', 'operation', 'operations', 'operator', 'opi', 'opinion', 'opinions', 'oppinion', 'opportunity', 'opposed', 'opposite', 'oprah', 'ops', 'opt', 'opted', 'optical', 'optimized', 'opting', 'option', 'options', 'opulence', 'opulent', 'opus', 'oral', 'orange', 'orangecello', 'orangeheads', 'oranges', 'orangewood', 'orchard', 'orchata', 'orchestra', 'orchestrated', 'orchid', 'ordeal', 'orded', 'order', 'ordered', 'ordering', 'orderly', 'orders', 'ordinarily', 'ordinary', 'ordred', 'orecchiette', 'oreganata', 'oregano', 'oreganymphos', 'oregon', 'oregonian', 'oreo', 'oreos', 'org', 'organ', 'organic', 'organically', 'organization', 'organizations', 'organize', 'organized', 'organizers', 'organizes', 'organizing', 'orgasm', 'orgasmic', 'orgy', 'orient', 'oriental', 'oriented', 'orig', 'origin', 'original', 'originality', 'originally', 'originate', 'origins', 'orlando', 'orleans', 'ornament', 'ornaments', 'orthopedics', 'orvieto', 'orzo', 'osco', 'osetra', 'osf', 'osp', 'osso', 'ostentatious', 'osteopathic', 'oster', 'otaku', 'otb', 'otfm', 'ouch', 'ouchh', 'ought', 'ounce', 'ounces', 'outbursts', 'outclasses', 'outcome', 'outdated', 'outdoor', 'outdoors', 'outer', 'outfield', 'outfit', 'outfits', 'outfitters', 'outfront', 'outgoing', 'outgrowth', 'outing', 'outlasted', 'outlet', 'outlets', 'outlook', 'outlying', 'outnumbered', 'outraged', 'outrageous', 'outrageously', 'outrigger', 'outright', 'outs', 'outshines', 'outside', 'outsourced', 'outstanding', 'outstretched', 'outta', 'oven', 'ovens', 'overall', 'overalls', 'overbearing', 'overbooked', 'overcharge', 'overcome', 'overcompensation', 'overcooked', 'overcrowded', 'overdoing', 'overflow', 'overflowing', 'overgrown', 'overhead', 'overhear', 'overheard', 'overheat', 'overheating', 'overindulgence', 'overload', 'overloaded', 'overlook', 'overlooked', 'overlooking', 'overly', 'overnight', 'overpower', 'overpowered', 'overpowering', 'overpriced', 'overrated', 'overrode', 'overrun', 'overs', 'overseas', 'oversee', 'oversell', 'oversized', 'overspending', 'overstuff', 'overstuffed', 'overtime', 'overuse', 'overview', 'overweight', 'overwhelm', 'overwhelmed', 'overwhelming', 'overwhelmingly', 'overwheming', 'overworked', 'ovoid', 'owe', 'owed', 'owl', 'owned', 'owner', 'owners', 'ownership', 'owning', 'owns', 'oxbow', 'oxide', 'oxtail', 'oy', 'oye', 'oyster', 'oysters', 'oz', 'pa', 'pablo', 'pace', 'paced', 'pacific', 'pacifico', 'pacified', 'pacifier', 'pack', 'package', 'packaged', 'packages', 'packaging', 'packed', 'packet', 'packets', 'packs', 'pad', 'padding', 'paddle', 'paddy', 'padi', 'padre', 'padres', 'pads', 'page', 'pages', 'pagliacci', 'paid', 'pain', 'painful', 'painfully', 'painless', 'pains', 'painstaking', 'paint', 'painted', 'painters', 'painting', 'paintings', 'paints', 'pair', 'paired', 'pairing', 'pairings', 'pairs', 'pak', 'pakistani', 'pal', 'palabok', 'palace', 'palak', 'palatable', 'palate', 'palates', 'palatte', 'palce', 'pale', 'palee', 'palees', 'paleo', 'paleta', 'paletas', 'palette', 'palettes', 'pallet', 'palm', 'palmer', 'palms', 'palomar', 'palpable', 'pals', 'paltry', 'pamper', 'pampered', 'pampering', 'pan', 'pana', 'panang', 'pancake', 'pancakes', 'pancetta', 'pancho', 'pancit', 'panda', 'pane', 'paneer', 'panel', 'paneled', 'paneling', 'panera', 'panes', 'panic', 'panini', 'panko', 'panna', 'pans', 'pansy', 'pantaloons', 'panties', 'pantry', 'pants', 'pao', 'paola', 'papa', 'papago', 'papas', 'papaya', 'paper', 'paperback', 'paperwork', 'pappa', 'pappadeaux', 'pappardelle', 'paprika', 'par', 'parachute', 'paradise', 'paragraphs', 'paramount', 'paraphernalia', 'paraphrased', 'parasite', 'parasites', 'pardon', 'parent', 'parental', 'parents', 'parfait', 'parfaits', 'parilla', 'paris', 'parish', 'park', 'parka', 'parked', 'parker', 'parking', 'parks', 'parkway', 'parlor', 'parm', 'parma', 'parmagian', 'parmagiana', 'parmesan', 'parmigiano', 'paroose', 'parsley', 'parsnip', 'partake', 'partial', 'participants', 'participate', 'participated', 'participating', 'particuarly', 'particular', 'particularly', 'partied', 'parties', 'partner', 'partners', 'parts', 'party', 'partying', 'pasedena', 'pasena', 'paso', 'pasquale', 'pass', 'passable', 'passed', 'passenger', 'passengers', 'passes', 'passing', 'passion', 'passionate', 'passionately', 'passionfruit', 'passive', 'passport', 'past', 'pasta', 'pastabar', 'pastas', 'paste', 'pasties', 'pastor', 'pastrami', 'pastries', 'pastry', 'pasture', 'pasty', 'pat', 'patatas', 'patch', 'patched', 'patchouli', 'path', 'pathetic', 'pathetically', 'paths', 'patience', 'patient', 'patiently', 'patients', 'patio', 'patios', 'patisserie', 'patrick', 'patricks', 'patrol', 'patrols', 'patron', 'patronage', 'patronize', 'patronized', 'patronizing', 'patrons', 'pattern', 'patterned', 'patterns', 'patterson', 'patti', 'patties', 'patty', 'paul', 'paula', 'paulgstudio', 'pause', 'paved', 'pavilion', 'pavle', 'pavlov', 'pavlovian', 'paw', 'pawn', 'paws', 'pay', 'payard', 'paycheck', 'payday', 'payed', 'paying', 'payment', 'pays', 'payton', 'pazookie', 'pb', 'pbr', 'pbs', 'pcg', 'pea', 'peace', 'peaceful', 'peacefulness', 'peach', 'peaches', 'peak', 'peaking', 'peaks', 'peanut', 'peanuts', 'peanutty', 'pear', 'pearl', 'pearls', 'pearly', 'pears', 'peas', 'peasy', 'pebbles', 'pecan', 'pecans', 'pechuga', 'pecorino', 'pedal', 'peddle', 'pedestrians', 'pedi', 'pediatric', 'pedic', 'pedicure', 'pedicured', 'pedicures', 'pedigree', 'pedregal', 'pee', 'peebles', 'peeing', 'peek', 'peekaboo', 'peeks', 'peel', 'peeled', 'peeling', 'peels', 'peeped', 'peeps', 'peer', 'peeve', 'peggy', 'pei', 'peking', 'pellets', 'pelo', 'pelon', 'pen', 'penalties', 'penalty', 'pencil', 'pendemums', 'penetrated', 'penh', 'penis', 'pennants', 'penne', 'penny', 'pennys', 'penzey', 'peolple', 'people', 'peoples', 'peoria', 'pepitas', 'pepper', 'peppercorn', 'peppercorns', 'peppered', 'peppermint', 'pepperocini', 'pepperoni', 'pepperonis', 'peppers', 'peppery', 'pepsi', 'percent', 'percentage', 'perception', 'perch', 'perchance', 'perched', 'perfect', 'perfected', 'perfection', 'perfectionist', 'perfectlly', 'perfectly', 'perfecto', 'perform', 'performance', 'performances', 'performed', 'performers', 'perfume', 'perimeter', 'period', 'periodic', 'periodically', 'periods', 'peripherals', 'perk', 'perks', 'perky', 'permanent', 'permanently', 'permission', 'permit', 'permits', 'permitting', 'pernil', 'peroxide', 'perpperoni', 'perrier', 'persevered', 'persian', 'persistent', 'person', 'personable', 'personal', 'personality', 'personalized', 'personallity', 'personally', 'personaly', 'personified', 'personnel', 'persons', 'perspective', 'persuasion', 'perturbed', 'peruse', 'perused', 'peruvian', 'pervert', 'pescatarian', 'pesky', 'pestered', 'pesto', 'pet', 'petco', 'pete', 'peter', 'petite', 'petrified', 'pets', 'petshotel', 'petsitter', 'petsmart', 'petticoat', 'petting', 'petty', 'pew', 'pews', 'pf', 'pga', 'ph', 'phad', 'pharmacy', 'phase', 'phenom', 'phenomenal', 'phenomenally', 'phil', 'philadelphia', 'philip', 'philippines', 'phillo', 'philly', 'philosophy', 'phlegm', 'phnom', 'pho', 'phobia', 'phoenicia', 'phoenician', 'phoenicians', 'phoenix', 'phoenixcitygrille', 'phoenixrodandgun', 'phoeniz', 'phone', 'phones', 'phonetic', 'phony', 'photo', 'photographer', 'photographers', 'photographic', 'photography', 'photomark', 'photomart', 'photos', 'photoshoots', 'photoshopped', 'phrase', 'phuket', 'phx', 'phyllo', 'physical', 'physically', 'physician', 'physicians', 'piaggion', 'piano', 'piatto', 'pibb', 'pibil', 'picazzo', 'piccola', 'pick', 'picked', 'pickiest', 'picking', 'pickle', 'pickled', 'pickles', 'picks', 'pickup', 'picky', 'picnic', 'picnics', 'pico', 'picos', 'pics', 'picture', 'pictured', 'pictures', 'picturesque', 'pie', 'piece', 'pieces', 'piecing', 'pier', 'pierce', 'pierced', 'piercing', 'piercings', 'pierre', 'pierrend', 'pies', 'piestewa', 'pig', 'pigg', 'piggy', 'pigs', 'pilates', 'pile', 'piled', 'pilgrim', 'pilgrimage', 'pillage', 'pillow', 'pillows', 'pillowy', 'pilot', 'pilots', 'pima', 'pimms', 'pimp', 'pimpercrombie', 'pinapple', 'pinata', 'pinball', 'pinch', 'pine', 'pineapple', 'ping', 'pinguinos', 'pink', 'pinkeye', 'pinko', 'pinnacle', 'pinned', 'pinot', 'pins', 'pint', 'pinto', 'pints', 'pipe', 'piper', 'pipes', 'piping', 'pipping', 'pique', 'pirates', 'pischke', 'piss', 'pissed', 'pissing', 'pistachio', 'pistachios', 'pistols', 'pit', 'pita', 'pitas', 'pitch', 'pitcher', 'pitchers', 'pitches', 'pits', 'pitt', 'pitted', 'pittsburgh', 'pity', 'pivotal', 'pizza', 'pizzaria', 'pizzas', 'pizzeria', 'pizzeriabianco', 'pizzerias', 'pizzookie', 'piña', 'pj', 'pkh', 'placard', 'placards', 'place', 'placebo', 'placed', 'placement', 'places', 'placing', 'plague', 'plagued', 'plain', 'plainly', 'plan', 'planb', 'plane', 'planes', 'planet', 'plank', 'planks', 'planned', 'planners', 'planning', 'plans', 'plant', 'plantains', 'plantar', 'plants', 'plaque', 'plasma', 'plaster', 'plastered', 'plastic', 'plasticware', 'plate', 'plated', 'plateful', 'plates', 'platform', 'plating', 'platinum', 'platter', 'platters', 'play', 'playable', 'played', 'player', 'players', 'playful', 'playground', 'playing', 'playlist', 'plays', 'plaza', 'plazas', 'plea', 'pleasant', 'pleasanties', 'pleasantly', 'pleased', 'pleasing', 'pleasure', 'pleasures', 'pleather', 'pleeeaaassse', 'plentiful', 'plenty', 'plesant', 'plethora', 'plethoric', 'plex', 'plexiglass', 'pley', 'plight', 'ploenta', 'plop', 'plug', 'plugged', 'plumber', 'plumbing', 'plump', 'plumping', 'plunge', 'plunk', 'plus', 'pluses', 'plush', 'pm', 'pmg', 'pnp', 'po', 'poached', 'poblana', 'poblano', 'poca', 'pocket', 'pockets', 'pod', 'poetic', 'point', 'pointe', 'pointed', 'pointing', 'pointless', 'points', 'pointy', 'poise', 'poisoned', 'poisoning', 'poivre', 'poke', 'poked', 'poker', 'pole', 'polenta', 'poles', 'police', 'policia', 'policies', 'policy', 'polish', 'polished', 'polite', 'politely', 'political', 'politically', 'politicians', 'politics', 'polka', 'pollo', 'polo', 'polytechnic', 'pom', 'pomegranate', 'pomo', 'pompous', 'poncho', 'pond', 'pondered', 'pong', 'ponied', 'ponies', 'pontiac', 'poo', 'pooch', 'poodle', 'poodles', 'pooey', 'pool', 'pools', 'poolside', 'poop', 'poopy', 'poor', 'poorer', 'poorly', 'pop', 'popcorn', 'popped', 'poppers', 'poppin', 'popping', 'poppy', 'pops', 'popular', 'popularity', 'populated', 'population', 'populations', 'populous', 'porch', 'porchetta', 'porcini', 'pores', 'pork', 'porkless', 'porn', 'porridge', 'port', 'portabella', 'portabello', 'porter', 'portfolio', 'portion', 'portioned', 'portions', 'portland', 'portlandia', 'porto', 'portobello', 'portrait', 'portraits', 'portuguese', 'pose', 'poser', 'posh', 'posing', 'position', 'positions', 'positive', 'positively', 'positives', 'possessed', 'possesses', 'possession', 'possibility', 'possible', 'possibly', 'post', 'postcards', 'posted', 'poster', 'posters', 'posting', 'postino', 'postinos', 'postnet', 'posture', 'pot', 'potato', 'potatoe', 'potatoes', 'potatos', 'potence', 'potential', 'potentially', 'potholder', 'potholes', 'pots', 'potstickers', 'pottery', 'pottinger', 'poultry', 'pound', 'pounded', 'pounding', 'pounds', 'pour', 'poured', 'pouring', 'pours', 'poutine', 'powder', 'powdered', 'powders', 'powdery', 'power', 'powerful', 'powers', 'ppl', 'ppp', 'practical', 'practically', 'practice', 'practiced', 'practices', 'practicing', 'prada', 'praise', 'praised', 'praising', 'prance', 'prandial', 'prank', 'prawn', 'prawns', 'pray', 'prayers', 'praying', 'pre', 'preach', 'preaching', 'precariously', 'precede', 'precious', 'precise', 'precocous', 'predator', 'predators', 'predicament', 'predictable', 'predominant', 'predominantly', 'predominately', 'preeminent', 'preet', 'prefabricated', 'preface', 'prefect', 'prefer', 'preferably', 'prefered', 'preference', 'preferences', 'preferred', 'preferring', 'prefers', 'preform', 'pregnancy', 'pregnant', 'prego', 'premade', 'premier', 'premise', 'premises', 'premium', 'preoccupied', 'prep', 'prepackaged', 'prepaid', 'preparada', 'preparation', 'preparations', 'prepare', 'prepared', 'preparer', 'prepares', 'preparing', 'prepay', 'preperation', 'preplexed', 'prepped', 'prepping', 'preschool', 'prescribed', 'prescription', 'prescriptions', 'presence', 'present', 'presentation', 'presented', 'presenting', 'presents', 'preservation', 'preservatives', 'preserve', 'preserved', 'preserves', 'preset', 'president', 'presidential', 'presold', 'press', 'pressed', 'pressure', 'pressured', 'pressuring', 'pressurized', 'prestige', 'prestigious', 'presto', 'presumably', 'presume', 'presumed', 'pretend', 'pretension', 'pretentious', 'pretentiousness', 'pretsels', 'prettier', 'prettiest', 'pretty', 'pretzel', 'pretzels', 'prevent', 'preventative', 'prevented', 'prevention', 'preventive', 'previous', 'previously', 'price', 'priced', 'priceless', 'priceline', 'prices', 'pricey', 'pricier', 'pricing', 'prick', 'prickly', 'pricks', 'pricy', 'pride', 'prides', 'pried', 'prik', 'primarily', 'primary', 'primavera', 'prime', 'primed', 'primer', 'primera', 'primitive', 'primo', 'primp', 'princess', 'principle', 'print', 'printed', 'printers', 'prints', 'prior', 'priorities', 'priority', 'prismacolor', 'prisoners', 'pristine', 'privacy', 'private', 'privately', 'priveledge', 'priviledge', 'privy', 'prix', 'prize', 'pro', 'proactive', 'probably', 'probe', 'problem', 'problems', 'procedure', 'procedures', 'proceed', 'proceeded', 'proceeding', 'proceeds', 'process', 'processed', 'processing', 'procure', 'procured', 'prodding', 'produce', 'produces', 'product', 'production', 'productive', 'products', 'profanity', 'profesh', 'profesional', 'professed', 'professes', 'profession', 'professional', 'professionalism', 'professionally', 'professionals', 'professors', 'profile', 'profiling', 'profit', 'profitable', 'profiteroles', 'profits', 'profoundly', 'profusely', 'program', 'programmable', 'programming', 'programs', 'progress', 'progression', 'progressive', 'progressively', 'project', 'projected', 'projects', 'prom', 'prominent', 'prominently', 'promise', 'promised', 'promises', 'promising', 'promos', 'promote', 'promoted', 'promoter', 'promoters', 'promotes', 'promoting', 'promotion', 'promotions', 'prompt', 'promptly', 'pronounce', 'pronounced', 'pronto', 'pronunciation', 'proof', 'prop', 'propane', 'proper', 'properly', 'properties', 'property', 'proportional', 'proportions', 'proposed', 'proprietor', 'proprietors', 'proprietress', 'props', 'prorate', 'pros', 'prosciutto', 'proscuitto', 'prosecco', 'prospective', 'protecting', 'protein', 'proteins', 'protip', 'protocol', 'protégé', 'proud', 'proudly', 'prove', 'proved', 'proven', 'provencal', 'provence', 'proverbial', 'proves', 'provide', 'provided', 'provider', 'providers', 'provides', 'providing', 'proving', 'provisionals', 'provisions', 'provolone', 'proximity', 'proxy', 'ps', 'pseudo', 'psyched', 'psycho', 'psychologically', 'psychologist', 'pub', 'pube', 'public', 'publication', 'publications', 'publicized', 'publicly', 'published', 'publisher', 'pubs', 'pucks', 'pudding', 'puddle', 'puddles', 'pudge', 'pueblo', 'puff', 'puffs', 'pug', 'puka', 'puked', 'puking', 'pull', 'pulled', 'pullers', 'pulling', 'pullman', 'pulls', 'pulp', 'pulverized', 'pumas', 'pump', 'pumped', 'pumpernickel', 'pumping', 'pumpkin', 'pumps', 'pun', 'punch', 'punched', 'punches', 'punctual', 'punctuated', 'pungent', 'punished', 'punishment', 'punked', 'puntini', 'pup', 'puppies', 'puppy', 'pups', 'pupusa', 'pupusas', 'purchase', 'purchased', 'purchaser', 'purchases', 'purchasing', 'pure', 'puree', 'purell', 'purely', 'purist', 'purista', 'purple', 'purpose', 'purposed', 'purposely', 'purposes', 'purse', 'purses', 'pursued', 'pursuit', 'purveyor', 'puréed', 'push', 'pushed', 'pushes', 'pushing', 'pushy', 'pussy', 'pussycat', 'puts', 'puttanesca', 'puttanesco', 'putting', 'pv', 'pyllo', 'pyramid', 'qc', 'qdoba', 'qhick', 'qt', 'quacks', 'quail', 'quaint', 'qualifier', 'qualifies', 'qualify', 'qualifying', 'qualities', 'quality', 'qualm', 'quandary', 'quantity', 'quarter', 'quarters', 'que', 'quebec', 'queen', 'queens', 'queer', 'quesadilla', 'quesadillas', 'quesadlla', 'quesedillas', 'quesitons', 'queso', 'quest', 'question', 'questionable', 'questionably', 'questioned', 'questioning', 'questions', 'quibble', 'quiche', 'quiches', 'quick', 'quickening', 'quicker', 'quickest', 'quickly', 'quiessence', 'quiet', 'quieter', 'quietly', 'quiktrip', 'quiktrips', 'quinoa', 'quintessential', 'quiona', 'quirkily', 'quirky', 'quit', 'quite', 'quitting', 'quiznos', 'quorn', 'quotas', 'quote', 'quoted', 'quotes', 'qver', 'qwest', 'ra', 'rabbit', 'rabbits', 'rabe', 'rabies', 'rabit', 'race', 'raced', 'races', 'raceway', 'rachael', 'rachel', 'racial', 'racing', 'racism', 'rack', 'rackin', 'racks', 'racquet', 'rad', 'radar', 'radiator', 'radio', 'radish', 'radishes', 'radius', 'raffles', 'rafts', 'rag', 'rage', 'rager', 'ragey', 'ragin', 'ragout', 'rai', 'rail', 'railroad', 'rain', 'rainbow', 'rainforest', 'raintree', 'raise', 'raised', 'raisin', 'raising', 'raj', 'rake', 'ralph', 'rama', 'ramada', 'ramadas', 'rambutans', 'ramen', 'ramikans', 'ramirez', 'ran', 'rana', 'ranch', 'ranchera', 'ranchero', 'rancheros', 'rancid', 'rancilio', 'random', 'randomly', 'randy', 'rang', 'range', 'ranged', 'ranges', 'ranging', 'rangoons', 'rank', 'ranks', 'ransacked', 'ransom', 'rant', 'rap', 'rapid', 'rare', 'rarely', 'rarer', 'rarity', 'rasberry', 'raspberries', 'raspberry', 'rat', 'ratatouillie', 'rate', 'rated', 'rates', 'rating', 'ratings', 'ration', 'rations', 'rattled', 'rattles', 'rattling', 'rattlings', 'ratty', 'raucous', 'raunchy', 'ravaged', 'rave', 'raved', 'raven', 'raves', 'raving', 'ravings', 'ravioli', 'raviolis', 'raviolli', 'raw', 'rawk', 'rawness', 'rawr', 'ray', 'rays', 'razor', 'razpado', 'rb', 'rc', 'rd', 'rdh', 'rds', 'reaaaaally', 'reach', 'reached', 'reaches', 'reaching', 'react', 'reacted', 'reaction', 'read', 'reader', 'readers', 'readily', 'reading', 'reads', 'ready', 'real', 'realistic', 'reality', 'realize', 'realized', 'realizing', 'realllllllly', 'reallllllly', 'reallly', 'really', 'realrider', 'realryder', 'realtors', 'realty', 'reappeared', 'reapplied', 'rear', 'reason', 'reasonable', 'reasonably', 'reasons', 'reassurance', 'reassurances', 'reassured', 'reassuring', 'rebar', 'rebate', 'rebel', 'rebook', 'rebuilding', 'rebuttal', 'rec', 'recall', 'recant', 'recapture', 'reccomend', 'reccommend', 'receipt', 'receipts', 'receive', 'received', 'receives', 'receiving', 'recent', 'recently', 'recept', 'receptacle', 'reception', 'receptionist', 'receptions', 'recesses', 'recession', 'recharging', 'reciept', 'recipe', 'recipes', 'recital', 'recitals', 'recite', 'recline', 'reclined', 'recliner', 'reclining', 'recognition', 'recognizable', 'recognize', 'recognized', 'recomend', 'recommend', 'recommendation', 'recommendations', 'recommended', 'recommending', 'recommends', 'record', 'recording', 'records', 'recover', 'recovered', 'recovering', 'recovery', 'recreate', 'recreation', 'rectify', 'recyclable', 'recycling', 'red', 'redbull', 'reddest', 'reddwarf', 'redeeming', 'redefine', 'redemption', 'redicolus', 'rediculous', 'redid', 'redneck', 'rednecks', 'redo', 'redone', 'reds', 'redseven', 'reduce', 'reduced', 'reduction', 'redux', 'reef', 'reeked', 'reeks', 'reeling', 'reese', 'ref', 'refer', 'reference', 'references', 'referral', 'referred', 'referring', 'refers', 'refill', 'refilled', 'refilling', 'refills', 'refine', 'refined', 'refinement', 'reflect', 'reflected', 'reflecting', 'reflection', 'reflections', 'reflects', 'reflex', 'refreshed', 'refreshing', 'refreshment', 'refried', 'refrigeration', 'refrigerator', 'refugees', 'refund', 'refunded', 'refuse', 'refused', 'refuses', 'refusing', 'reg', 'regal', 'regan', 'regard', 'regarded', 'regarding', 'regardless', 'regards', 'reggiano', 'regina', 'regio', 'region', 'regional', 'regions', 'register', 'registered', 'regoddamndiculously', 'regress', 'regret', 'regreted', 'regrettable', 'regrettably', 'regular', 'regularly', 'regulars', 'regulator', 'regulatory', 'regus', 'rehearsal', 'rehearsed', 'reheat', 'reheated', 'reimburse', 'reina', 'reincarnated', 'reinforcement', 'reinvest', 'reiterate', 'rejected', 'rejoice', 'rejuvanation', 'rejuvenated', 'rejuvenates', 'related', 'relating', 'relationship', 'relationships', 'relatively', 'relatives', 'relax', 'relaxation', 'relaxed', 'relaxing', 'relay', 'relayed', 'release', 'released', 'releases', 'releasing', 'relented', 'relevant', 'reliable', 'reliably', 'relic', 'relied', 'relief', 'relieved', 'relieves', 'relieving', 'religious', 'relish', 'relive', 'rellano', 'rellena', 'relleno', 'rellenos', 'relocated', 'reluctant', 'reluctantly', 'rely', 'remain', 'remained', 'remaining', 'remains', 'remake', 'remarkable', 'remarked', 'remedy', 'remember', 'remembered', 'remembering', 'remembers', 'remind', 'reminded', 'reminder', 'reminders', 'reminding', 'reminds', 'reminisced', 'reminiscent', 'reminiscing', 'remiss', 'remodeled', 'remodeling', 'remodelled', 'remodled', 'remolded', 'remorse', 'remote', 'remotely', 'removal', 'remove', 'removed', 'rename', 'renamed', 'renaming', 'rendered', 'renegade', 'renew', 'renewed', 'reno', 'renovated', 'renovation', 'renovations', 'rent', 'rental', 'rentals', 'rented', 'renters', 'rents', 'reopen', 'reopened', 'reordered', 'rep', 'repair', 'repaired', 'repairing', 'repairs', 'repartee', 'repast', 'repeat', 'repeated', 'repeatedly', 'repeating', 'repetitive', 'rephrase', 'replace', 'replaced', 'replacement', 'replacing', 'replant', 'replenish', 'replenishment', 'replica', 'replied', 'replies', 'reply', 'report', 'reported', 'representation', 'representative', 'represented', 'representing', 'represents', 'reprieve', 'reprinting', 'reps', 'reptile', 'reptiles', 'republic', 'republican', 'repulsive', 'reputable', 'reputation', 'req', 'request', 'requested', 'requesting', 'requests', 'require', 'required', 'requirement', 'requires', 'reschedule', 'rescheduled', 'rescue', 'rescued', 'research', 'researched', 'researching', 'reseated', 'resell', 'resemblance', 'resemble', 'resembled', 'reservation', 'reservations', 'reserve', 'reserved', 'residence', 'resident', 'residential', 'residents', 'resides', 'residue', 'resist', 'resisted', 'resisting', 'resling', 'resold', 'resolve', 'resolved', 'resonates', 'resort', 'resorts', 'resource', 'resources', 'respect', 'respectable', 'respected', 'respectful', 'respecting', 'respond', 'responded', 'responding', 'responds', 'response', 'responses', 'responsibilities', 'responsibility', 'responsible', 'responsive', 'rest', 'restaraunt', 'restauant', 'restaurant', 'restaurants', 'restaurateurs', 'resteraunt', 'resting', 'restless', 'resto', 'restock', 'restocking', 'restored', 'restrictions', 'restroom', 'restrooms', 'restuarant', 'resturant', 'resturaunt', 'result', 'resulting', 'results', 'retail', 'retailers', 'retain', 'retarded', 'retards', 'retarted', 'rethink', 'rethinking', 'retire', 'retirement', 'retreat', 'retrieve', 'retrieved', 'retro', 'return', 'returned', 'returning', 'returns', 'reuben', 'reunion', 'reunions', 'reusable', 'revamp', 'reveal', 'revealed', 'revealing', 'revel', 'revelation', 'revenge', 'revered', 'reverse', 'review', 'reviewed', 'reviewer', 'reviewers', 'reviewing', 'reviews', 'revisit', 'revitalization', 'revitalize', 'revive', 'revived', 'revolving', 'reward', 'rewarded', 'rewards', 'rewind', 'rey', 'reynolds', 'rhino', 'rhonda', 'rhyme', 'rhythm', 'rhythms', 'rib', 'ribbon', 'ribeeyeeeee', 'ribeye', 'ribs', 'rican', 'rice', 'rices', 'rich', 'richard', 'richardson', 'riches', 'richest', 'richman', 'richmond', 'richness', 'rick', 'rico', 'ricotta', 'rid', 'ridden', 'riddens', 'riddled', 'ride', 'rider', 'riders', 'rides', 'ridge', 'ridgemont', 'ridiculed', 'ridiculous', 'ridiculously', 'ridiculousness', 'riding', 'riesling', 'rifled', 'rifles', 'rig', 'rigatoni', 'right', 'righteous', 'rightful', 'rightly', 'rights', 'rigmarole', 'rim', 'ring', 'ringing', 'rings', 'rink', 'rinkukiu', 'rinse', 'rinsed', 'rio', 'rios', 'rip', 'riparian', 'ripe', 'ripened', 'ripest', 'ripoff', 'ripped', 'risers', 'rises', 'rising', 'risk', 'risks', 'risky', 'risotto', 'risser', 'rissotto', 'ristorant', 'rita', 'ritas', 'ritual', 'ritz', 'riva', 'rival', 'rivaled', 'rivals', 'rivas', 'river', 'riverview', 'rk8m1rxl50pb69_c2yqqtg', 'rl', 'rm', 'rnr', 'roach', 'road', 'roadhouse', 'roadhouses', 'roading', 'roads', 'roadshow', 'roadside', 'roadtrip', 'roadway', 'roam', 'roaring', 'roark', 'roast', 'roasted', 'roaster', 'roasting', 'roasts', 'rob', 'robata', 'robb', 'robbins', 'robe', 'robert', 'roberto', 'robes', 'robin', 'robotically', 'robust', 'robyn', 'rock', 'rockabilly', 'rocked', 'rocker', 'rockerij', 'rocket', 'rocketburger', 'rockets', 'rockin', 'rocking', 'rocknroll', 'rocks', 'rockstar', 'rod', 'rode', 'rodgering', 'rogue', 'roka', 'rokerij', 'role', 'roll', 'rollatini', 'rolled', 'roller', 'rolling', 'rolls', 'roma', 'romaine', 'roman', 'romance', 'romanelli', 'romano', 'romantic', 'rome', 'romper', 'ron', 'roof', 'roofing', 'roofs', 'rooftop', 'rooibos', 'room', 'roommate', 'rooms', 'roomy', 'roosevelt', 'roost', 'rooste', 'rooster', 'root', 'rootbeer', 'rooting', 'roots', 'ropa', 'rope', 'roped', 'ropes', 'rosa', 'rose', 'rosemary', 'rosie', 'rosita', 'ross', 'rot', 'rotary', 'rotate', 'rotated', 'rotates', 'rotating', 'rotation', 'rotisserie', 'rotten', 'rottie', 'rotting', 'rouge', 'rough', 'roughly', 'round', 'rounded', 'rounding', 'rounds', 'route', 'routed', 'routes', 'routine', 'roving', 'row', 'rowdy', 'rows', 'roxie', 'roy', 'royal', 'royale', 'royals', 'royalty', 'rpi', 'rr', 'rsvp', 'rub', 'rubbed', 'rubber', 'rubbery', 'rubbing', 'ruben', 'rubio', 'rubios', 'rubs', 'ruby', 'rude', 'rudely', 'rudest', 'rudy', 'rue', 'rueben', 'ruffians', 'rugby', 'rugged', 'rugger', 'ruin', 'ruined', 'ruining', 'ruins', 'rule', 'rules', 'rum', 'rumbi', 'rumbling', 'rumor', 'run', 'rundown', 'runner', 'running', 'runny', 'runs', 'runway', 'rupture', 'rural', 'rush', 'rushed', 'rushes', 'rushing', 'russell', 'russets', 'russian', 'rustic', 'rustica', 'rusticana', 'rustler', 'rustlers', 'rusty', 'rut', 'rutabaga', 'ruth', 'rx', 'ryan', 'rye', 'ryno', 'sa', 'sabor', 'sabzi', 'sack', 'sacked', 'sacks', 'sacred', 'sacrificed', 'sad', 'saddens', 'saddle', 'sadly', 'safe', 'safely', 'safety', 'safeway', 'saffron', 'sagacity', 'sage', 'sagging', 'saguaro', 'said', 'saigon', 'saint', 'saintly', 'saints', 'sakana', 'sake', 'sakebomber', 'sakes', 'sala', 'salad', 'salads', 'salami', 'salary', 'salat', 'salazar', 'salcido', 'salds', 'sale', 'salek', 'salem', 'sales', 'salesgirls', 'salesman', 'salesperson', 'saleswomen', 'saliva', 'salivate', 'salivates', 'salivating', 'sally', 'salmon', 'salmons', 'salon', 'salons', 'saloon', 'salsa', 'salsas', 'salscicia', 'salsiccia', 'salt', 'salted', 'saltier', 'saltiest', 'saltimbocca', 'saltine', 'saltiness', 'salty', 'salud', 'salute', 'salvador', 'salvage', 'salvation', 'sam', 'samburger', 'samich', 'sammich', 'samosas', 'sample', 'sampled', 'sampler', 'samples', 'sampling', 'samplings', 'samsung', 'samuri', 'san', 'sanctuary', 'sand', 'sandal', 'sandals', 'sandalwood', 'sanded', 'sandella', 'sanding', 'sando', 'sands', 'sandstone', 'sandstorm', 'sandwhich', 'sandwhiches', 'sandwich', 'sandwiched', 'sandwiches', 'sandy', 'sandys', 'sane', 'sang', 'sangria', 'sangrias', 'sanitary', 'sanitizing', 'sanity', 'sank', 'sans', 'santa', 'santan', 'sante', 'santi', 'santisi', 'sapling', 'sapporo', 'sar', 'sara', 'sarah', 'sarcasm', 'sarcastic', 'sarcastically', 'sarrc', 'sarsaparilla', 'sashimi', 'sat', 'satay', 'sate', 'satellite', 'satiate', 'satified', 'satisfaction', 'satisfied', 'satisfies', 'satisfy', 'satisfying', 'satisfyingly', 'satori', 'satuday', 'saturated', 'saturday', 'saturdays', 'sauce', 'sauced', 'saucers', 'sauces', 'saucey', 'sauerbraten', 'sauerkraut', 'sauna', 'saunas', 'saurkraut', 'sausage', 'sausages', 'sauteed', 'sautéed', 'sauvignon', 'save', 'saved', 'savers', 'saves', 'saving', 'savings', 'savor', 'savored', 'savoring', 'savory', 'savoy', 'savvy', 'saw', 'sawdust', 'sawed', 'saxophone', 'say', 'sayin', 'saying', 'says', 'sazerac', 'sb', 'sbux', 'scal', 'scale', 'scallion', 'scallions', 'scallop', 'scalloped', 'scallops', 'scamorza', 'scan', 'scandalesque', 'scandinavian', 'scanning', 'scans', 'scantily', 'scape', 'scardy', 'scare', 'scared', 'scarey', 'scarf', 'scarfing', 'scarier', 'scariest', 'scary', 'scathing', 'scattered', 'scenario', 'scene', 'scenery', 'scenes', 'scenic', 'scent', 'scented', 'schedule', 'scheduled', 'schedules', 'scheduling', 'scheme', 'schmancy', 'schmears', 'schmicks', 'schmoozeaz', 'schmucks', 'schneikies', 'schnitzel', 'school', 'schools', 'schreiner', 'sci', 'science', 'scientific', 'scissors', 'scoffed', 'scolded', 'scolding', 'scollops', 'scone', 'scones', 'scoop', 'scooped', 'scoops', 'scooter', 'scope', 'scorching', 'score', 'scored', 'scorpion', 'scorpions', 'scotch', 'scothes', 'scott', 'scottsadale', 'scottsdale', 'scottsdaley', 'scottsdalian', 'scottsdalish', 'scout', 'scow', 'scowl', 'scraggly', 'scramble', 'scrambled', 'scrambler', 'scramblers', 'scrambles', 'scrambling', 'scraped', 'scraping', 'scraps', 'scrapy', 'scratch', 'scratched', 'scratcher', 'scream', 'screamed', 'screaming', 'screams', 'screen', 'screening', 'screens', 'screw', 'screwed', 'screwing', 'screws', 'scrounge', 'scrub', 'scruffy', 'scrumptious', 'scrunched', 'sculpted', 'sculpture', 'sculptures', 'scuzy', 'sd', 'sdl', 'se', 'sea', 'seabase', 'seabass', 'seafood', 'seagulls', 'sealed', 'seamlessly', 'seams', 'seamus', 'sean', 'seann', 'sear', 'search', 'searched', 'searches', 'searching', 'seared', 'sears', 'season', 'seasonal', 'seasoned', 'seasoning', 'seasons', 'seat', 'seated', 'seating', 'seatings', 'seats', 'seattle', 'seaweed', 'sebastian', 'sec', 'secluded', 'second', 'secondly', 'seconds', 'secret', 'secretary', 'secretive', 'secretmenu', 'secrets', 'secs', 'section', 'sectioned', 'sections', 'secure', 'secured', 'security', 'sedate', 'sedated', 'sedation', 'sedona', 'seed', 'seeded', 'seeds', 'seedy', 'seeing', 'seek', 'seeking', 'seen', 'sees', 'segments', 'sekong', 'select', 'selected', 'selecting', 'selection', 'selectioned', 'selections', 'selects', 'self', 'sell', 'seller', 'sellers', 'selling', 'sells', 'selvedge', 'selves', 'semerdjian', 'semester', 'semi', 'sen', 'send', 'sending', 'sendoff', 'senior', 'seniors', 'senor', 'sens', 'sensation', 'sensational', 'sense', 'sensed', 'senses', 'sensitive', 'sensory', 'sensuous', 'sent', 'sentance', 'sentence', 'sentences', 'sentimental', 'separate', 'separately', 'separating', 'separation', 'seperate', 'sephora', 'september', 'sequence', 'sera', 'serbian', 'serene', 'series', 'seriously', 'serously', 'serpentine', 'serptember', 'serranos', 'serums', 'serv', 'serve', 'served', 'server', 'servered', 'servers', 'serves', 'service', 'serviced', 'services', 'serving', 'servings', 'sesame', 'session', 'sessions', 'set', 'sets', 'setting', 'settle', 'settled', 'setup', 'setups', 'seven', 'sever', 'severe', 'severely', 'sewer', 'sex', 'sexiness', 'sexy', 'sf', 'sfo', 'sh', 'shabby', 'shabu', 'shack', 'shacked', 'shade', 'shaded', 'shades', 'shadow', 'shadows', 'shady', 'shae', 'shaft', 'shake', 'shaken', 'shaker', 'shakes', 'shaking', 'shall', 'shallot', 'shallots', 'shame', 'shamefully', 'shameless', 'shampoo', 'shampoos', 'shanghai', 'shank', 'shanks', 'shape', 'shaped', 'shapes', 'shaping', 'shar', 'share', 'shared', 'sharers', 'shares', 'sharing', 'sharon', 'sharp', 'sharpened', 'sharper', 'sharpie', 'shasta', 'shattered', 'shave', 'shaved', 'shaving', 'shawarma', 'shawn', 'shazam', 'shazzam', 'shea', 'sheared', 'shed', 'shedding', 'sheen', 'sheep', 'sheer', 'sheesh', 'sheet', 'sheets', 'sheila', 'shelf', 'shell', 'shellac', 'shelley', 'shelling', 'shells', 'shelter', 'sheltered', 'shelve', 'shelves', 'shelving', 'shenanigans', 'shep', 'shepard', 'shepards', 'shepherd', 'shepherds', 'sheppard', 'sheraton', 'sheriff', 'sherry', 'shift', 'shifts', 'shifty', 'shimp', 'shin', 'shinbay', 'shindig', 'shine', 'shiner', 'shines', 'shiney', 'shining', 'shins', 'shiny', 'ship', 'shipment', 'shipped', 'shipping', 'shirataki', 'shiraz', 'shirazi', 'shirt', 'shirts', 'shish', 'shishito', 'shit', 'shitake', 'shitaki', 'shithead', 'shittier', 'shitty', 'shmancy', 'shochu', 'shock', 'shocked', 'shocker', 'shocking', 'shockingly', 'shocks', 'shoe', 'shoes', 'shone', 'shook', 'shooshing', 'shoot', 'shooter', 'shooters', 'shooting', 'shoots', 'shop', 'shopaholics', 'shopkeepers', 'shoppe', 'shopped', 'shopper', 'shoppers', 'shopping', 'shops', 'short', 'shortage', 'shortbread', 'shortened', 'shortens', 'shorter', 'shortleashdogs', 'shortly', 'shorts', 'shorty', 'shot', 'shots', 'shoulder', 'shoulders', 'shouldn', 'shouldnt', 'shout', 'shouted', 'shouting', 'shoved', 'shovel', 'shovelfuls', 'shoveling', 'shoving', 'showcase', 'showcased', 'showed', 'shower', 'showering', 'showers', 'showing', 'showings', 'shown', 'shows', 'showstopper', 'shrapnel', 'shredded', 'shreds', 'shrimp', 'shrine', 'shrink', 'shrooms', 'shrugged', 'shu', 'shucks', 'shudder', 'shuffleboard', 'shuffled', 'shuffling', 'shui', 'shuro', 'shut', 'shuttle', 'shwarma', 'shy', 'shyt', 'si', 'siam', 'siblings', 'sick', 'sickening', 'sickest', 'sickly', 'sidebar', 'sidebarphx', 'sidecar', 'sided', 'sides', 'sidewalk', 'sideways', 'sidling', 'siebel', 'sift', 'sigh', 'sight', 'sights', 'sign', 'signage', 'signal', 'signaled', 'signals', 'signature', 'signed', 'significant', 'significantly', 'signing', 'signs', 'siiders', 'silberschlag', 'silence', 'silenced', 'silent', 'silently', 'silica', 'silk', 'silky', 'silly', 'silvana', 'silver', 'silvered', 'silvermine', 'silverton', 'silverware', 'sima', 'similar', 'similarities', 'similarly', 'simmered', 'simple', 'simplicity', 'simplify', 'simplistic', 'simply', 'simpson', 'simultaneously', 'sinatra', 'sincerely', 'sincerity', 'sinful', 'sinfully', 'sing', 'singapore', 'singers', 'singing', 'single', 'singles', 'singleton', 'sink', 'sinker', 'sinking', 'sinks', 'sinner', 'sinsr', 'sip', 'siphon', 'sipped', 'sipping', 'sir', 'sirloin', 'sissies', 'sissys', 'sister', 'sit', 'site', 'sites', 'sits', 'sitter', 'sitting', 'situated', 'situation', 'sivananda', 'sixteen', 'sixth', 'sizable', 'size', 'sized', 'sizes', 'sizing', 'sizzle', 'sizzler', 'sizzling', 'skarderud', 'skate', 'skateboarding', 'skating', 'skeptic', 'skeptical', 'skepticism', 'sketchbook', 'sketchy', 'skewed', 'skewer', 'skewers', 'ski', 'skill', 'skilled', 'skillet', 'skillets', 'skillfully', 'skills', 'skim', 'skimp', 'skimpy', 'skin', 'skinny', 'skins', 'skip', 'skipped', 'skipping', 'skirt', 'skirts', 'skits', 'skull', 'sky', 'skylights', 'skyline', 'slab', 'slacks', 'slam', 'slammed', 'slander', 'slang', 'slanged', 'slant', 'slap', 'slapped', 'slaps', 'slash', 'slated', 'slather', 'slathered', 'slave', 'slaw', 'sleazer', 'sleek', 'sleep', 'sleeping', 'sleepy', 'sleeve', 'sleeved', 'sleeves', 'slept', 'slew', 'slice', 'sliced', 'slices', 'slicing', 'slicker', 'slide', 'slider', 'sliders', 'sliding', 'slight', 'slighted', 'slightest', 'slightly', 'slim', 'slimmed', 'slimming', 'slimy', 'slingers', 'slip', 'slipped', 'slippers', 'slippery', 'sliver', 'slivers', 'sllluuuurrrpp', 'slogan', 'slop', 'slope', 'slopped', 'sloppy', 'slot', 'slotted', 'slow', 'slowed', 'slowest', 'slowing', 'slowly', 'slurpers', 'slurping', 'slurs', 'slushies', 'sm', 'smack', 'smacking', 'smacks', 'small', 'smaller', 'smallest', 'smallish', 'smalll', 'smancy', 'smart', 'smarts', 'smash', 'smashboxx', 'smashburger', 'smashed', 'smashing', 'smattering', 'smc', 'smear', 'smeared', 'smearing', 'smeeks', 'smell', 'smelled', 'smelling', 'smells', 'smelly', 'smile', 'smiled', 'smiles', 'smiley', 'smiling', 'smith', 'smoke', 'smoked', 'smokehouse', 'smokers', 'smokes', 'smokey', 'smokin', 'smoking', 'smoky', 'smooshy', 'smooth', 'smoother', 'smoothie', 'smoothies', 'smoothly', 'smore', 'smores', 'smother', 'smothered', 'smucker', 'snaaz', 'snack', 'snacking', 'snacks', 'snag', 'snagged', 'snagging', 'snails', 'snakes', 'snap', 'snapped', 'snapper', 'snappy', 'snaps', 'snarfed', 'snarking', 'snarl', 'snatched', 'sneak', 'sneaker', 'sneakers', 'sneaks', 'sneaky', 'sneeze', 'sneezed', 'snicker', 'snickerdoodle', 'snickered', 'snickers', 'sniff', 'sniffed', 'sniffling', 'sniffster', 'snikerdoodle', 'snob', 'snobbery', 'snobbish', 'snobbsdale', 'snobby', 'snobs', 'snoooty', 'snooty', 'snorting', 'snottily', 'snottsdale', 'snotty', 'snow', 'snowbirds', 'snowfairy', 'snubbed', 'soak', 'soaked', 'soaking', 'soap', 'soapy', 'soba', 'sober', 'soccer', 'social', 'socialize', 'socialized', 'socializing', 'society', 'sock', 'sockets', 'socks', 'soda', 'sodas', 'sodelicious', 'sodium', 'sofas', 'sofia', 'soft', 'softball', 'softdrink', 'softee', 'softened', 'softening', 'softer', 'softshell', 'software', 'soggy', 'sol', 'solar', 'sold', 'soldier', 'soldiered', 'sole', 'solely', 'solemnly', 'solicited', 'solicits', 'solid', 'solidly', 'solitaire', 'solitary', 'solitude', 'solo', 'solstice', 'solution', 'solutions', 'solve', 'solved', 'solvent', 'solvents', 'som', 'somber', 'sombra', 'sombreros', 'somebody', 'someday', 'somehwere', 'someones', 'someplace', 'somethings', 'somewhat', 'sommelier', 'somtimes', 'son', 'sone', 'song', 'songs', 'sonic', 'sonny', 'sonora', 'sonoran', 'sons', 'sony', 'soo', 'soon', 'sooner', 'sooo', 'soooo', 'sooooo', 'soooooo', 'sooooooo', 'sooooooooo', 'soothing', 'sop', 'sopa', 'sopapilla', 'sopapillas', 'sophia', 'sophie', 'sophisticated', 'sophistication', 'sopping', 'sopranos', 'sorbet', 'sorbets', 'sordid', 'sore', 'sorento', 'sorrentino', 'sorrow', 'sorry', 'sort', 'sorta', 'sorted', 'sorting', 'sorts', 'souchong', 'souffle', 'souffles', 'sought', 'soul', 'souls', 'sound', 'sounded', 'sounding', 'sounds', 'soundtrack', 'soup', 'soups', 'soupy', 'sour', 'source', 'sourced', 'sources', 'sourcing', 'sourdough', 'sous', 'south', 'southbridge', 'southeast', 'southern', 'southwest', 'southwestern', 'soutwest', 'souvenier', 'souveniers', 'souvia', 'souvlaki', 'sox', 'soy', 'soynami', 'sp', 'spa', 'space', 'spaces', 'spacey', 'spacing', 'spacious', 'spackling', 'spades', 'spaetzle', 'spagetti', 'spaghetti', 'spain', 'spam', 'span', 'spandex', 'spandwex', 'spaniards', 'spanikopita', 'spanish', 'spare', 'spared', 'spark', 'sparked', 'sparkling', 'sparkly', 'sparse', 'spas', 'spashground', 'spastic', 'spat', 'spawn', 'spay', 'spaying', 'speak', 'speakeasy', 'speaker', 'speakers', 'speaking', 'speaks', 'spear', 'spearmint', 'special', 'specialist', 'specialists', 'speciality', 'specialize', 'specializes', 'specially', 'specialness', 'specials', 'specialties', 'specialtly', 'specialty', 'species', 'specifc', 'specific', 'specifically', 'specification', 'specifics', 'specified', 'speckled', 'spectacular', 'spectrum', 'speculate', 'speech', 'speed', 'speeds', 'speedy', 'spell', 'spelled', 'spelling', 'spellings', 'spencer', 'spend', 'spending', 'spends', 'spendy', 'spent', 'spewed', 'spice', 'spiced', 'spices', 'spicey', 'spicier', 'spiciness', 'spicoli', 'spicolli', 'spicy', 'spiddle', 'spider', 'spiderman', 'spieker', 'spiiiccyyyy', 'spiked', 'spiky', 'spill', 'spilled', 'spin', 'spinach', 'spinal', 'spinato', 'spinatos', 'spincach', 'spinning', 'spirit', 'spirits', 'spiritual', 'spiro', 'spit', 'spite', 'splash', 'splashed', 'splashing', 'splenda', 'splendid', 'splinter', 'split', 'splits', 'splitting', 'splleeeendid', 'splurge', 'splurged', 'splurges', 'splurging', 'spoil', 'spoiled', 'spoilt', 'spoke', 'spoken', 'sponge', 'spongy', 'spontaneous', 'spoon', 'spoonful', 'spoons', 'sporadic', 'spore', 'sport', 'sporting', 'sportman', 'sports', 'sportsman', 'spot', 'spotless', 'spotlessly', 'spots', 'spotted', 'spotty', 'spouse', 'spouses', 'spouting', 'spouts', 'sprawl', 'sprawled', 'sprawling', 'spray', 'sprayer', 'spread', 'spreads', 'spreadsheet', 'spring', 'springfield', 'springs', 'sprinkle', 'sprinkled', 'sprinkles', 'sprinkling', 'sprint', 'sprite', 'sprites', 'sprout', 'sprouts', 'spudnuts', 'spumoni', 'spun', 'spur', 'spy', 'sq', 'sqaw', 'square', 'squares', 'squash', 'squat', 'squaw', 'squeaky', 'squealing', 'squeegee', 'squeeking', 'squeeze', 'squeezed', 'squeezing', 'squid', 'squirming', 'squirrel', 'squirrels', 'squirt', 'squirted', 'squished', 'squishing', 'squishy', 'sriacha', 'sriracha', 'sslowest', 'ssssshhhhhh', 'st', 'stab', 'stabbed', 'stable', 'stack', 'stacked', 'stacking', 'stacks', 'stadium', 'stadiums', 'staff', 'staffed', 'staffer', 'staffperson', 'stage', 'stages', 'staggering', 'stained', 'staining', 'stainless', 'stains', 'stair', 'staircase', 'stairmaster', 'stairs', 'stake', 'stale', 'stalked', 'stalking', 'stall', 'stalled', 'stalls', 'stamina', 'stammered', 'stammering', 'stamp', 'stamped', 'stan', 'stand', 'standard', 'standards', 'standby', 'standing', 'standout', 'standouts', 'stands', 'stanley', 'staple', 'staples', 'star', 'starbuck', 'starbucks', 'starches', 'starchy', 'stare', 'stared', 'stares', 'stargazing', 'staring', 'stark', 'starr', 'stars', 'start', 'started', 'starter', 'starters', 'starting', 'startled', 'startlingly', 'starts', 'starve', 'starving', 'stash', 'stashed', 'state', 'stated', 'statement', 'states', 'stateside', 'static', 'stating', 'station', 'stationary', 'stationed', 'stations', 'statistics', 'statues', 'status', 'stave', 'stay', 'staycation', 'staycations', 'stayed', 'staying', 'stays', 'steady', 'steak', 'steakburger', 'steakhouse', 'steakhouses', 'steaks', 'steal', 'stealerships', 'stealing', 'steals', 'stealthy', 'steam', 'steamed', 'steamers', 'steaming', 'stedson', 'steel', 'steelhead', 'steen', 'steep', 'steeping', 'steepness', 'steer', 'steered', 'steinway', 'stella', 'stellar', 'stem', 'stemware', 'stench', 'step', 'stephen', 'stepped', 'stepper', 'stepping', 'steps', 'stepsister', 'stereo', 'stereotype', 'stereotypical', 'sterile', 'sterilized', 'steroids', 'stetson', 'steve', 'stew', 'stewart', 'stews', 'stick', 'sticker', 'stickers', 'stickiness', 'sticking', 'stickler', 'sticks', 'sticky', 'stiff', 'stiffy', 'stigma', 'stigmata', 'stilton', 'stimulating', 'stimuli', 'stingray', 'stingrays', 'stingy', 'stink', 'stinking', 'stinks', 'stinkweeds', 'stinky', 'stipulations', 'stir', 'stirred', 'stirrup', 'stitches', 'stitching', 'stl', 'stock', 'stocked', 'stocking', 'stockings', 'stocks', 'stoked', 'stole', 'stolen', 'stomach', 'stomachs', 'stomp', 'stomped', 'stomping', 'stone', 'stoned', 'stood', 'stool', 'stools', 'stop', 'stopped', 'stopping', 'stops', 'storage', 'store', 'stored', 'stores', 'stories', 'storm', 'stormed', 'storms', 'stormy', 'story', 'stouffer', 'stout', 'stracciatella', 'straight', 'straightaway', 'straightforward', 'strain', 'strained', 'strait', 'strand', 'stranded', 'strands', 'strange', 'strangely', 'stranger', 'strangers', 'strap', 'strapless', 'strapped', 'straps', 'strategic', 'strategy', 'stratified', 'straw', 'strawberries', 'strawberry', 'stray', 'strayed', 'streak', 'stream', 'streaming', 'streamliner', 'strebe', 'street', 'streets', 'streetwalkin', 'strength', 'strenuous', 'strep', 'stress', 'stressed', 'stressing', 'stretch', 'stretches', 'stretching', 'striaght', 'strict', 'strictly', 'stride', 'strike', 'strikes', 'string', 'stringier', 'strings', 'stringy', 'strip', 'stripe', 'striped', 'stripes', 'striping', 'stripped', 'stripper', 'strippers', 'stripping', 'strips', 'strives', 'stroganoff', 'stroke', 'strokes', 'stroll', 'strolled', 'stroller', 'strolling', 'strong', 'stronger', 'stronghold', 'strongly', 'strore', 'struck', 'structure', 'struggled', 'struggles', 'struggling', 'strummed', 'struts', 'stubborn', 'stubs', 'stuck', 'stucky', 'stud', 'studded', 'studebaker', 'student', 'students', 'studied', 'studio', 'studios', 'study', 'studying', 'stuff', 'stuffed', 'stuffing', 'stuffy', 'stumble', 'stumbled', 'stumps', 'stunk', 'stunned', 'stunner', 'stunning', 'stupendous', 'stupendously', 'stupid', 'stupidly', 'stupor', 'sturgeon', 'stutter', 'stuttering', 'style', 'styles', 'stylish', 'stylist', 'stylists', 'stylush', 'styrofoam', 'sub', 'subaru', 'subconcious', 'subdued', 'suberb', 'subject', 'sublime', 'submit', 'submitted', 'submitting', 'subpar', 'subs', 'subscriber', 'subscription', 'subsequent', 'subsequently', 'subset', 'substance', 'substandard', 'substantial', 'substantially', 'substitute', 'substituted', 'substitution', 'substitutions', 'subtle', 'subtleness', 'subtler', 'subtly', 'subtract', 'suburban', 'suburbia', 'suburbs', 'subway', 'subways', 'succeed', 'succeeded', 'succeeds', 'success', 'successful', 'successfully', 'succulent', 'succulents', 'sucha', 'suck', 'sucked', 'sucker', 'suckers', 'sucking', 'sucks', 'sud', 'sudden', 'suddenly', 'suds', 'sue', 'sued', 'suffer', 'suffered', 'suffering', 'suffers', 'suffice', 'sufficed', 'sufficiently', 'sugar', 'sugared', 'sugary', 'suggest', 'suggested', 'suggesting', 'suggestion', 'suggestions', 'suggests', 'suit', 'suitable', 'suite', 'suited', 'suites', 'suiting', 'suits', 'sul', 'sullivan', 'sum', 'sumac', 'sumibiyaki', 'summarize', 'summary', 'summer', 'summers', 'summertime', 'summery', 'summit', 'summitt', 'sumptuous', 'sums', 'sun', 'sunburn', 'sundae', 'sundaes', 'sundance', 'sunday', 'sundays', 'sundevil', 'sundried', 'sundries', 'sundrops', 'sunflower', 'sunglasses', 'sunken', 'sunny', 'sunridge', 'sunrise', 'suns', 'sunscreen', 'sunset', 'sunshine', 'sunsine', 'super', 'superb', 'superbowl', 'supercuts', 'superfantasticdeliciousness', 'superfood', 'superior', 'superman', 'supermarket', 'supermarkets', 'superstar', 'superstition', 'supervision', 'supervisor', 'supervisors', 'supped', 'supper', 'supplementation', 'supplements', 'supplier', 'suppliers', 'supplies', 'supply', 'support', 'supported', 'supporter', 'supporters', 'supporting', 'supportive', 'supports', 'suppose', 'supposed', 'supposedly', 'supreme', 'supremely', 'sur', 'surcharge', 'surcharges', 'sure', 'surefire', 'surely', 'surf', 'surface', 'surfaces', 'surfing', 'surgeries', 'surgery', 'surly', 'surname', 'surpassed', 'surpasses', 'surprise', 'surprised', 'surprises', 'surprising', 'surprisingly', 'surreal', 'surround', 'surrounded', 'surrounding', 'surroundings', 'surrounds', 'suruki', 'survive', 'survived', 'survives', 'susan', 'sushi', 'sushis', 'susie', 'suspect', 'suspected', 'suspended', 'suspenders', 'suspension', 'suspicion', 'suspicious', 'sustainability', 'sustainable', 'sustaining', 'susy', 'sutra', 'sutures', 'suv', 'sven', 'sw', 'swadee', 'swag', 'swallow', 'swamp', 'swanky', 'swap', 'swapped', 'swatting', 'swayed', 'swb', 'swear', 'swears', 'sweat', 'sweater', 'sweaters', 'sweating', 'sweatshops', 'sweaty', 'swede', 'sweden', 'swedish', 'sweeet', 'sweeping', 'sweet', 'sweeter', 'sweetest', 'sweetheart', 'sweeties', 'sweetish', 'sweetness', 'sweetrepublic', 'sweets', 'sweltering', 'swift', 'swill', 'swim', 'swimmer', 'swimming', 'swimsuits', 'swing', 'swinging', 'swipe', 'swiped', 'swirl', 'swirling', 'swirls', 'swiss', 'switch', 'switchbacks', 'switched', 'swivel', 'swollen', 'swoon', 'swooped', 'swordfish', 'swore', 'sworn', 'swung', 'sy', 'syd', 'syllables', 'symbol', 'symbols', 'sympathetic', 'sympathy', 'symphony', 'symptoms', 'sync', 'synergy', 'synthetic', 'syrup', 'syrups', 'sysco', 'systems', 'szechuan', 'tab', 'tabasco', 'table', 'tableau', 'tables', 'tableside', 'tablespoon', 'tablespoons', 'tablet', 'tabooli', 'tabs', 'tacked', 'tacky', 'taco', 'tacos', 'tact', 'tad', 'taffy', 'tag', 'tagged', 'tagline', 'taglines', 'tags', 'tahini', 'tahiti', 'tai', 'tail', 'tailgate', 'tailor', 'tailored', 'tailoring', 'tailors', 'tails', 'tainted', 'taiwanese', 'takamatsu', 'takeaway', 'taken', 'takeout', 'taker', 'takes', 'taking', 'tako', 'talavera', 'talent', 'talented', 'talents', 'talibanish', 'talisha', 'talk', 'talkative', 'talked', 'talking', 'talks', 'tall', 'tallest', 'tally', 'tam', 'tamale', 'tamales', 'tame', 'tamie', 'tammie', 'tampa', 'tampiquena', 'tampons', 'tan', 'tana', 'tandem', 'tandoori', 'tang', 'tangerine', 'tangible', 'tango', 'tangy', 'tank', 'tankard', 'tanks', 'tannat', 'tanning', 'tans', 'tantalizing', 'tanzy', 'taos', 'tap', 'tapas', 'tape', 'taped', 'tapenade', 'tapenades', 'tapioca', 'tapped', 'tapping', 'taps', 'taqueria', 'taquitos', 'tar', 'tara', 'tarantino', 'tarbell', 'tardy', 'targer', 'target', 'targets', 'tart', 'tartar', 'tartes', 'tartiflette', 'tartish', 'tarts', 'tartufa', 'tartufo', 'task', 'tasks', 'tassone', 'taste', 'tastebuds', 'tasted', 'tasteful', 'tastefully', 'tasteless', 'taster', 'tastes', 'tastey', 'tastier', 'tasties', 'tastiest', 'tastiness', 'tasting', 'tastings', 'tasty', 'tataki', 'tater', 'taters', 'tats', 'tattered', 'tattering', 'tattoo', 'tattooed', 'tattooer', 'tattooers', 'tattoos', 'tatts', 'tatum', 'tatziki', 'taught', 'taunts', 'tavern', 'tawnya', 'tax', 'taxes', 'taxi', 'taxicab', 'taxidermy', 'taylor', 'tazer', 'tc', 'tch', 'tchatchkies', 'tea', 'teach', 'teacher', 'teachers', 'teaches', 'teaching', 'teacup', 'teaks', 'teakwoods', 'teal', 'team', 'teams', 'teamwork', 'teapot', 'teapots', 'tear', 'tears', 'teas', 'teaspoon', 'teats', 'teavana', 'tech', 'technical', 'technically', 'technician', 'technicians', 'technique', 'techniques', 'techno', 'technology', 'techs', 'ted', 'teddy', 'teds', 'tee', 'teed', 'teeming', 'teen', 'teenage', 'teenager', 'teenagers', 'teenie', 'teens', 'teensy', 'teeny', 'teenytiny', 'tees', 'teese', 'teeth', 'teff', 'teharu', 'tejas', 'telegraph', 'telemarketers', 'telenovela', 'telephone', 'television', 'televisions', 'tell', 'tellin', 'telling', 'tells', 'telly', 'temp', 'tempe', 'temper', 'temperature', 'temperatures', 'tempermant', 'temporada', 'temporary', 'tempranillo', 'temps', 'temptation', 'tempted', 'tempting', 'tempur', 'tempura', 'tenant', 'tend', 'tended', 'tendencies', 'tendency', 'tender', 'tenderbelly', 'tenderlion', 'tenderloin', 'tenderness', 'tenders', 'tendon', 'tendons', 'tends', 'tennis', 'tent', 'tents', 'tepan', 'tepary', 'tepenyaki', 'teppiniyaki', 'tequila', 'tequilas', 'tequilla', 'teresa', 'teriffic', 'teriyaki', 'term', 'termial', 'terminal', 'terms', 'terra', 'terrain', 'terrayki', 'terrazzo', 'terrible', 'terribly', 'terrier', 'terrific', 'terrified', 'terrill', 'territory', 'terrrific', 'tess', 'test', 'tested', 'testosterone', 'tests', 'tex', 'texan', 'texas', 'texasburgerguy', 'texaz', 'texmex', 'text', 'texted', 'texting', 'texts', 'textural', 'texture', 'textured', 'textures', 'tgf', 'tgw', 'th', 'tha', 'thai', 'thaiger', 'thailand', 'thang', 'thanh', 'thank', 'thanked', 'thankful', 'thankfully', 'thankgsiving', 'thanking', 'thanks', 'thanksgiving', 'thanksliving', 'thats', 'thawed', 'thawing', 'thay', 'theater', 'theaters', 'theatre', 'theatres', 'thee', 'thefts', 'theirs', 'theives', 'theme', 'themed', 'themes', 'theodosopoulos', 'theory', 'thepanko', 'theprice', 'ther', 'therapeutic', 'therapist', 'therapists', 'therapy', 'thereof', 'theres', 'thermostat', 'thestandard', 'theyre', 'thhe', 'thicker', 'thickness', 'thier', 'thigh', 'thighs', 'thing', 'thingies', 'things', 'thingy', 'thingys', 'think', 'thinker', 'thinkin', 'thinking', 'thinks', 'thinly', 'thinner', 'thirdly', 'thirsty', 'thirty', 'thit', 'tho', 'thole', 'thomas', 'thorough', 'thoroughfares', 'thoroughly', 'thou', 'thought', 'thoughtful', 'thoughts', 'thouhgt', 'thousand', 'thousands', 'thr', 'thrasher', 'thread', 'threading', 'threatened', 'threatening', 'threesome', 'threw', 'thrice', 'thrift', 'thrifting', 'thrifty', 'thrilled', 'thrilling', 'thrive', 'throat', 'throne', 'throught', 'throw', 'throwback', 'throwin', 'throwing', 'thrown', 'thta', 'thumb', 'thumbs', 'thumping', 'thunder', 'thunderbird', 'thunk', 'thurs', 'thursday', 'thursdays', 'thyme', 'ti', 'tiara', 'tibs', 'ticked', 'ticket', 'ticketing', 'tickets', 'tickled', 'ticoz', 'tidbits', 'tide', 'tidy', 'tie', 'tied', 'tiered', 'tiers', 'ties', 'tiffany', 'tiffanys', 'tiger', 'tigers', 'tight', 'tighter', 'tijuana', 'tika', 'tiki', 'tikil', 'tikka', 'tikki', 'til', 'tilapia', 'tile', 'tiler', 'till', 'tim', 'time', 'timed', 'timeless', 'timely', 'timer', 'timers', 'times', 'timeshare', 'timey', 'timing', 'timo', 'tin', 'tina', 'tines', 'tinga', 'tingling', 'tiniest', 'tinkering', 'tinkled', 'tins', 'tint', 'tiny', 'tinyurl', 'tip', 'tipalia', 'tipped', 'tipping', 'tips', 'tiramisu', 'tire', 'tired', 'tirelessly', 'tires', 'tiring', 'tish', 'tissue', 'tit', 'titan', 'title', 'tix', 'tj', 'tk', 'tlc', 'tlike', 'toast', 'toasted', 'toaster', 'toasts', 'toasty', 'tobacco', 'tobasco', 'toby', 'today', 'todays', 'todd', 'toddler', 'toddlers', 'toddy', 'toe', 'toenails', 'toes', 'toffee', 'tofu', 'togo', 'toilet', 'toilets', 'tokens', 'tokyo', 'told', 'tolerable', 'tolerance', 'tolerate', 'toliet', 'tolteca', 'tom', 'tomatillo', 'tomato', 'tomatoes', 'tomatos', 'tomb', 'tommy', 'tomorrow', 'ton', 'tone', 'toned', 'toners', 'tones', 'tongs', 'tongue', 'tongued', 'tonic', 'tonight', 'tonights', 'tons', 'tony', 'toof', 'took', 'tool', 'tools', 'tooooo', 'tooth', 'toothbrush', 'toothless', 'tootin', 'tootsie', 'tootzi', 'topic', 'topics', 'topped', 'topping', 'toppings', 'topps', 'tops', 'torch', 'torched', 'tore', 'tori', 'torment', 'torn', 'toro', 'torres', 'tort', 'torta', 'tortalini', 'tortas', 'tortellini', 'tortilla', 'tortillas', 'torture', 'torturous', 'toss', 'tossed', 'tosses', 'tossing', 'tostada', 'tostadas', 'tot', 'total', 'totaled', 'totally', 'toting', 'tots', 'tottie', 'totts', 'touch', 'touched', 'touches', 'touching', 'tough', 'tougher', 'tounge', 'tour', 'tourism', 'tourist', 'tourists', 'tourney', 'tours', 'touted', 'touting', 'tovar', 'tow', 'towed', 'towel', 'towels', 'tower', 'towers', 'towing', 'town', 'towne', 'towner', 'towners', 'townhomes', 'towns', 'toxin', 'toy', 'toys', 'tqla', 'tra', 'trace', 'track', 'tracking', 'tracks', 'tract', 'tractor', 'tracy', 'trade', 'trader', 'traders', 'trading', 'tradition', 'traditional', 'traditionally', 'traffic', 'tragus', 'trail', 'trailhead', 'trailings', 'trails', 'train', 'trained', 'trainer', 'trainers', 'training', 'trains', 'traipse', 'tranquil', 'transaction', 'transcendent', 'transcendental', 'transfer', 'transferred', 'transferring', 'transfers', 'transform', 'transformation', 'transformers', 'transients', 'transit', 'transitioning', 'translated', 'translates', 'translation', 'translations', 'transmission', 'transparency', 'transplant', 'transplanted', 'transplanting', 'transport', 'transported', 'transporting', 'trap', 'trapped', 'traps', 'trash', 'trashed', 'trashy', 'trauma', 'travel', 'traveled', 'traveler', 'travelers', 'traveling', 'travelling', 'travels', 'travelzoo', 'travis', 'tray', 'trays', 'treacherous', 'treachery', 'tread', 'treadmill', 'treasure', 'treasures', 'treat', 'treated', 'treating', 'treatment', 'treatments', 'treats', 'tree', 'treehouse', 'trees', 'trek', 'trekking', 'treks', 'tremendous', 'trend', 'trendier', 'trendy', 'trepidation', 'trepidations', 'tres', 'tri', 'triangles', 'triathlons', 'tribute', 'trick', 'tricked', 'tricks', 'tricky', 'tricycles', 'tried', 'tries', 'trifecta', 'trifled', 'trigger', 'trim', 'trimmed', 'trimmers', 'trinkets', 'trio', 'trip', 'tripe', 'triple', 'trips', 'trite', 'triva', 'trivia', 'troon', 'trophies', 'trophy', 'tropical', 'trot', 'trotted', 'trouble', 'troubled', 'trough', 'trousers', 'trout', 'truck', 'truckin', 'trucks', 'true', 'truely', 'truffle', 'truffled', 'truffles', 'truly', 'trumpet', 'trumps', 'trunk', 'trust', 'trusted', 'trusting', 'trustworthy', 'trusty', 'truth', 'truthfully', 'try', 'trying', 'tryst', 'tsa', 'tske', 'tso', 'tsoynami', 'tsoynamis', 'tty', 'tub', 'tube', 'tubs', 'tuck', 'tucked', 'tucker', 'tucson', 'tues', 'tuesday', 'tuesdays', 'tum', 'tumbled', 'tumeric', 'tummy', 'tumor', 'tums', 'tuna', 'tune', 'tuned', 'tunes', 'tunnel', 'tupperware', 'turbo', 'turbulence', 'turd', 'turkey', 'turkish', 'turn', 'turned', 'turner', 'turning', 'turnover', 'turns', 'turntable', 'turtle', 'tuscan', 'tuscana', 'tuscany', 'tush', 'tutorial', 'tutti', 'tv', 'tvs', 'twangy', 'twas', 'tweak', 'tweaker', 'tweek', 'tween', 'tweeples', 'tweeted', 'tweeter', 'tweets', 'tweeze', 'twenties', 'twice', 'twilight', 'twin', 'twinkling', 'twinkly', 'twins', 'twist', 'twisted', 'twisting', 'twisty', 'twitter', 'twix', 'twozels', 'twss', 'tx', 'tying', 'tyler', 'tylor', 'type', 'typed', 'types', 'typical', 'typically', 'tyson', 'tysoncrosbie', 'tzatziki', 'ua', 'uber', 'uchi', 'udder', 'udon', 'udupai', 'udupi', 'ufc', 'ugh', 'ugly', 'uh', 'uhh', 'uhhh', 'uk', 'ukrainian', 'ul', 'ulta', 'ultimate', 'ultimately', 'ultra', 'ultrasound', 'ultrasounds', 'um', 'umami', 'umberto', 'umbrella', 'umbrellaed', 'umbrellas', 'umbria', 'umm', 'ummm', 'ummmmmmmm', 'umph', 'umpteen', 'unable', 'unacceptable', 'unadulterated', 'unagi', 'unanimous', 'unanswered', 'unapologetic', 'unapologetically', 'unappealing', 'unappetizing', 'unassuming', 'unaware', 'unbearable', 'unbeatable', 'unbelievable', 'unbelievably', 'unborn', 'unbridled', 'uncanny', 'uncaring', 'uncle', 'unclear', 'uncles', 'uncluttered', 'uncomfortable', 'uncomfortabley', 'uncomplicated', 'uncooked', 'uncooperative', 'uncountable', 'uncouth', 'uncrowded', 'uncrumbled', 'uncut', 'undecided', 'underage', 'underaged', 'underarm', 'underarms', 'undercooked', 'underdone', 'underground', 'underhanded', 'underneath', 'underrated', 'underserved', 'understaffed', 'understand', 'understandable', 'understanding', 'understands', 'understated', 'understatement', 'understood', 'underwear', 'underwhelmed', 'underwhelming', 'underwritten', 'undeserving', 'undeterred', 'undies', 'undoubtedly', 'undr', 'undress', 'undrinkable', 'uneasy', 'uneaten', 'unedible', 'uneducated', 'unemployed', 'unemployment', 'unending', 'unenjoyably', 'unethical', 'unexceptional', 'unexpected', 'unexpectedly', 'unexplainably', 'unfamiliar', 'unfavorable', 'unfinished', 'unflattering', 'unflexible', 'unforgettable', 'unforgivable', 'unfortunate', 'unfortunately', 'unfounded', 'unfriendliness', 'unfriendly', 'unhappy', 'unhealthily', 'unhelpful', 'uni', 'unidentifiable', 'unidientifiable', 'uniform', 'uniformly', 'uniforms', 'unimaginable', 'uninspired', 'uninspiring', 'unintended', 'uninteresting', 'uninterupted', 'uninviting', 'union', 'unique', 'uniquely', 'uniqueness', 'unisex', 'unison', 'unit', 'unite', 'united', 'units', 'university', 'unkept', 'unknowingly', 'unknown', 'unleashing', 'unless', 'unlike', 'unlikely', 'unlimited', 'unlock', 'unlocked', 'unlucky', 'unmanipulated', 'unmarked', 'unmentionable', 'unmistakably', 'unnecessary', 'unnoticed', 'uno', 'unobstructed', 'unocal', 'unoccupied', 'unofficial', 'unorganized', 'unoriginal', 'unpalatable', 'unparalleled', 'unphogettable', 'unphoghetable', 'unpleasant', 'unpretentious', 'unpretentiously', 'unprocessed', 'unprofessional', 'unprofessionally', 'unreal', 'unrefined', 'unrelated', 'unrivaled', 'unsanitary', 'unsatisfied', 'unseasoned', 'unseen', 'unselfishly', 'unsolicited', 'unstopable', 'unstressed', 'unsuccessful', 'unsuccessfully', 'unsure', 'unsuspecting', 'unted', 'untill', 'untraditional', 'untrained', 'untried', 'unusable', 'unused', 'unusual', 'unusually', 'unvalidated', 'unwanted', 'unwarmed', 'unwelcome', 'unwilling', 'unwind', 'unyielding', 'uopx', 'upbeat', 'upbringings', 'upc', 'upcharge', 'upcharging', 'upchuck', 'upcoming', 'update', 'updated', 'updates', 'updating', 'upfront', 'upgrade', 'upgraded', 'upgrades', 'upgrading', 'uphill', 'upholstery', 'uploaded', 'upo', 'upper', 'uppers', 'upping', 'uprooted', 'ups', 'upscale', 'upset', 'upsets', 'upside', 'upstaged', 'upstairs', 'uptight', 'uptown', 'ur', 'urban', 'urbanspoon', 'urchin', 'urge', 'urgent', 'urinal', 'urinates', 'urine', 'uruguay', 'usa', 'usage', 'usain', 'usairways', 'use', 'used', 'useful', 'useless', 'user', 'uses', 'using', 'usl', 'usps', 'usual', 'usually', 'usuals', 'utah', 'utensil', 'utensils', 'uterus', 'utility', 'utilize', 'utilizing', 'utmost', 'utter', 'uttered', 'utterly', 'uv', 'ux10', 'uye', 'va', 'vaca', 'vacant', 'vacation', 'vacationing', 'vacations', 'vacay', 'vaccilate', 'vaccination', 'vaccines', 'vacuum', 'vacuumed', 'vaguely', 'vain', 'val', 'valencia', 'valentine', 'valentines', 'valerie', 'valet', 'valeted', 'valets', 'valid', 'validated', 'validation', 'valle', 'valley', 'valomilk', 'valuable', 'value', 'values', 'vampire', 'vampiro', 'van', 'vancouver', 'vandalized', 'vang', 'vanilla', 'vanity', 'vans', 'vantage', 'vaporized', 'variance', 'variation', 'variations', 'varied', 'varietals', 'varieties', 'variety', 'various', 'vary', 'vases', 'vast', 'vat', 'vatican', 'vatoci', 'vatra', 'vault', 've', 'veal', 'veer', 'veerrrrrryyyyyyyyy', 'veg', 'vegan', 'veganized', 'vegas', 'vegetable', 'vegetables', 'vegetarian', 'vegetarians', 'veggie', 'veggies', 'vegie', 'vegiies', 'vegtable', 'vehicle', 'vehicles', 'veiled', 'vein', 'veins', 'velvet', 'velveta', 'velvety', 'vender', 'vendor', 'vendors', 'venerable', 'venice', 'venom', 'vent', 'ventilation', 'vents', 'venture', 'ventured', 'ventures', 'venue', 'venues', 'venyse', 'vera', 'verbal', 'verbally', 'verde', 'verdes', 'verdict', 'verduras', 'verge', 'verges', 'verisimilitude', 'veritable', 'verizon', 'vermicelli', 'vermont', 'vermonter', 'veronica', 'veronique', 'verrado', 'verse', 'versed', 'version', 'versions', 'versus', 'verts', 'vests', 'vet', 'veterans', 'veterinary', 'vets', 'vexing', 'vey', 'viad', 'viagra', 'vibe', 'vibrant', 'vibrate', 'vibrated', 'vic', 'vice', 'vicinity', 'victorian', 'vide', 'video', 'videogame', 'videos', 'vids', 'vieja', 'viejas', 'vien', 'viet', 'vietnam', 'vietnamese', 'vietri', 'view', 'viewing', 'views', 'vig', 'vigazz', 'vignettes', 'viking', 'vikings', 'villa', 'village', 'villas', 'vin', 'vinagerette', 'vinagrette', 'vinaigrette', 'vincent', 'vindaloo', 'vine', 'vinegar', 'vinegarette', 'vinegary', 'vines', 'vineyard', 'vingerette', 'vings', 'vino', 'vintage', 'vinyl', 'viola', 'violated', 'violation', 'violations', 'violence', 'violently', 'vip', 'vips', 'virgin', 'virginia', 'virus', 'viscous', 'visibility', 'visible', 'visibly', 'vision', 'visit', 'visited', 'visiting', 'visitor', 'visitors', 'visits', 'vista', 'vistal', 'visualize', 'visually', 'visuals', 'vitality', 'vitamin', 'vitamins', 'vittles', 'vivant', 'vivid', 'vochos', 'vodka', 'vodkas', 'voice', 'voiced', 'void', 'voided', 'voila', 'volcano', 'volleyball', 'volume', 'volumes', 'volunteer', 'volunteered', 'volunteering', 'volunteers', 'vomit', 'von', 'voodoo', 'voracious', 'vortex', 'vote', 'voted', 'voting', 'vouch', 'voucher', 'vouchers', 'vow', 'vowed', 'vs', 'vsc', 'vueve', 'vulgar', 'vulture', 'vultures', 'vw', 'wa', 'waaaaaaaaay', 'waaaaaay', 'waayy', 'wac', 'wach', 'wacky', 'wad', 'waders', 'waffle', 'waffles', 'waffling', 'wag', 'wager', 'wagged', 'wagyu', 'waikiki', 'waist', 'waisting', 'wait', 'waited', 'waiter', 'waiters', 'waiting', 'waitress', 'waitresses', 'waits', 'waitstaff', 'waitstand', 'waived', 'wake', 'wal', 'waldorf', 'walet', 'walgreens', 'walk', 'walkable', 'walked', 'walking', 'walks', 'walkway', 'walkways', 'wall', 'wallet', 'wallets', 'wallowing', 'wallpaper', 'wallpapers', 'walls', 'wally', 'walmart', 'walnut', 'walnuts', 'waltzed', 'wand', 'wander', 'wandered', 'wandering', 'wanna', 'wannabes', 'want', 'want_', 'wanted', 'wanting', 'wantons', 'wants', 'war', 'ward', 'wardrobe', 'wards', 'ware', 'warehouse', 'warehoused', 'warm', 'warmed', 'warmer', 'warmers', 'warming', 'warmly', 'warmth', 'warn', 'warned', 'warner', 'warning', 'warnings', 'warp', 'warrant', 'warrants', 'warranty', 'warriors', 'wars', 'wary', 'wasabe', 'wasabi', 'wash', 'washcloths', 'washday', 'washed', 'washer', 'washers', 'washes', 'washing', 'washington', 'washingtons', 'wasn', 'wasnt', 'wasp', 'waste', 'wastebaskets', 'wasted', 'waster', 'wasting', 'wasy', 'watch', 'watched', 'watcher', 'watchers', 'watches', 'watching', 'water', 'watered', 'waterfall', 'waterfalls', 'waterfront', 'watering', 'watermelon', 'waterproof', 'waters', 'waterslides', 'waterworks', 'watery', 'watt', 'wave', 'waved', 'wavelle', 'waving', 'wax', 'waxed', 'waxing', 'way', 'wayne', 'ways', 'wayward', 'wbc', 'wcg', 'weak', 'weakness', 'wealthier', 'weapon', 'wear', 'wearing', 'wears', 'weary', 'weather', 'weaving', 'web', 'website', 'websites', 'wed', 'wedding', 'weddings', 'wedge', 'wedges', 'wednesday', 'wednesdays', 'weds', 'wee', 'week', 'weekday', 'weekdays', 'weekend', 'weekends', 'weekly', 'weeknight', 'weeknights', 'weeks', 'wei', 'weigh', 'weighs', 'weight', 'weighted', 'weights', 'weihenstephaner', 'weil', 'weird', 'weirded', 'weirdest', 'weirdly', 'weirdo', 'weirdos', 'welcome', 'welcomed', 'welcomes', 'welcoming', 'wellness', 'wells', 'wendy', 'wendys', 'went', 'weren', 'werent', 'west', 'western', 'westgate', 'westin', 'westminster', 'westside', 'westward', 'wet', 'whaat', 'whack', 'whacked', 'whales', 'whatnot', 'whats', 'whatsoever', 'whatsosever', 'whatsover', 'wheat', 'wheel', 'wheeling', 'wheels', 'wheezed', 'whew', 'whiff', 'whilst', 'whim', 'whimsical', 'whines', 'whinin', 'whining', 'whinnying', 'whip', 'whipped', 'whips', 'whirl', 'whirlpools', 'whisked', 'whiskey', 'whiskeys', 'whisper', 'whispered', 'whispers', 'whistling', 'white', 'whiten', 'whites', 'whitesands', 'whitey', 'whitney', 'whiz', 'whoa', 'whoah', 'wholeheartedly', 'wholly', 'whooping', 'whopper', 'whopping', 'whore', 'whoreish', 'whoring', 'wi', 'wich', 'wicked', 'wide', 'wider', 'widow', 'wiener', 'wierd', 'wife', 'wifey', 'wifi', 'wig', 'wiggle', 'wigs', 'wigwam', 'wih', 'wii', 'wiki', 'wikipedia', 'wil', 'wild', 'wildcat', 'wilderness', 'wildest', 'wildfish', 'wildflower', 'wildhorse', 'wildlife', 'wildly', 'willie', 'willing', 'willingfully', 'willow', 'willpower', 'wills', 'willy', 'willys', 'wilma', 'wilted', 'wimp', 'wimper', 'win', 'wind', 'window', 'windowpanes', 'windows', 'winds', 'windshield', 'windsor', 'windy', 'wine', 'wines', 'wing', 'wings', 'wink', 'winkie', 'winking', 'winky', 'winner', 'winners', 'winning', 'wino', 'winos', 'wins', 'winter', 'wipe', 'wiped', 'wiper', 'wipes', 'wiping', 'wire', 'wireless', 'wiring', 'wisconsin', 'wisdom', 'wise', 'wiseguy', 'wisely', 'wiser', 'wish', 'wished', 'wishful', 'wishing', 'witches', 'withdrawal', 'withheld', 'withstanding', 'witness', 'witnessed', 'wives', 'wiz', 'wizard', 'wks', 'wll', 'wobble', 'wobbly', 'woes', 'wok', 'woke', 'woken', 'wolfed', 'wolfpack', 'wolverine', 'woman', 'women', 'womens', 'won', 'wonder', 'wondered', 'wonderful', 'wonderfully', 'wonderfulness', 'wondering', 'wonderland', 'wonderous', 'wonders', 'wondrous', 'wongs', 'wont', 'wonton', 'wontons', 'woo', 'wood', 'wooden', 'woodlands', 'woods', 'woodworker', 'wooed', 'woohoo', 'wool', 'word', 'wordly', 'words', 'wore', 'work', 'worked', 'worker', 'workers', 'working', 'workmanship', 'workout', 'workouts', 'works', 'world', 'worlds', 'worldwide', 'worm', 'worn', 'worried', 'worries', 'worry', 'worrying', 'worse', 'worship', 'worst', 'worstershire', 'worth', 'worthless', 'worthwhile', 'worthy', 'wott', 'woulda', 'wouldn', 'wouldnt', 'wouldve', 'wound', 'wow', 'wowed', 'wowzer', 'wracking', 'wrap', 'wrapped', 'wrapper', 'wrappers', 'wrapping', 'wraps', 'wrath', 'wreck', 'wrestling', 'wrigley', 'wrigleyville', 'wrinkled', 'wrinkles', 'wrinkling', 'wrist', 'wristbands', 'write', 'writer', 'writers', 'writes', 'writing', 'written', 'wrkout', 'wrong', 'wrote', 'wtf', 'wth', 'wussies', 'wwe', 'www', 'würze', 'x2', 'xanax', 'xbox', 'xeriscape', 'xg8u6fz2e8hu0xq3hf7czg', 'xl', 'xlv', 'xmas', 'ya', 'yack', 'yah', 'yahoo', 'yakaguru', 'yakisoba', 'yall', 'yam', 'yang', 'yankin', 'yanks', 'yard', 'yards', 'yardsale', 'yasu', 'yawning', 'yay', 'yc', 'yea', 'yeah', 'year', 'yearly', 'yearning', 'yearnings', 'years', 'yeh', 'yell', 'yelled', 'yelling', 'yellow', 'yellowfin', 'yellowtail', 'yells', 'yelp', 'yelped', 'yelper', 'yelpers', 'yelping', 'yen', 'yep', 'yeppie', 'yer', 'yerba', 'yes', 'yesssss', 'yesterday', 'yew', 'yielding', 'yikes', 'yin', 'yippee', 'ymca', 'yo', 'yodeling', 'yodels', 'yoga', 'yogalates', 'yogis', 'yogurt', 'yogurtini', 'yogurtland', 'yogurtology', 'yogurtopia', 'yogurts', 'yoli', 'yolk', 'yon', 'yoohoo', 'york', 'yorker', 'yorkie', 'youki', 'young', 'younger', 'youngest', 'youre', 'youth', 'youthful', 'youtube', 'yow', 'yowza', 'yr', 'yragui', 'yrs', 'yu', 'yuck', 'yucky', 'yuk', 'yukgejang', 'yukon', 'yum', 'yuma', 'yumm', 'yummie', 'yummier', 'yumminess', 'yummm', 'yummmm', 'yummmmmm', 'yummmmmmers', 'yummmmy', 'yummy', 'yumness', 'yung', 'yup', 'yupha', 'yuppies', 'yusefs', 'yuukk', 'yuuuummmmae', 'yuuuuummmmmyyy', 'yuuuuuuum', 'yuyuyummy', 'yuzu', 'yyyyy', 'z11', 'za', 'zabba', 'zach', 'zam', 'zanella', 'zankou', 'zappos', 'zatsiki', 'zen', 'zero', 'zest', 'zexperience', 'zha', 'zhou', 'zia', 'zihuatenejo', 'zilch', 'zin', 'zinburger', 'zinburgergeist', 'zinc', 'zinfandel', 'zing', 'zip', 'zipcar', 'zipper', 'zippers', 'zipps', 'ziti', 'zoe', 'zombi', 'zombies', 'zone', 'zones', 'zoning', 'zoo', 'zoyo', 'zucca', 'zucchini', 'zuchinni', 'zumba', 'zupa', 'zuzu', 'zwiebel', 'zzed', 'éclairs', 'école', 'ém']\n"
     ]
    }
   ],
   "source": [
    "# last 50 features\n",
    "print(vect.get_feature_names()[0:])"
   ]
  },
  {
   "cell_type": "code",
   "execution_count": null,
   "metadata": {},
   "outputs": [],
   "source": []
  },
  {
   "cell_type": "code",
   "execution_count": 22,
   "metadata": {
    "colab": {
     "base_uri": "https://localhost:8080/"
    },
    "executionInfo": {
     "elapsed": 1524,
     "status": "ok",
     "timestamp": 1618745310915,
     "user": {
      "displayName": "Sayan Dey",
      "photoUrl": "https://lh3.googleusercontent.com/a-/AOh14GgqVHJ9o6-7idGiRbNNd4iVc1VjzvuPnwmAnvEtD6U=s64",
      "userId": "03603580465490055794"
     },
     "user_tz": -330
    },
    "id": "d2ZKR3jpV5HP",
    "outputId": "cfeb926c-34ad-4604-81da-cf03a56a27c0"
   },
   "outputs": [
    {
     "data": {
      "text/plain": [
       "CountVectorizer(stop_words='english')"
      ]
     },
     "execution_count": 22,
     "metadata": {},
     "output_type": "execute_result"
    }
   ],
   "source": [
    "# show vectorizer options\n",
    "vect"
   ]
  },
  {
   "cell_type": "markdown",
   "metadata": {
    "id": "WiWVgj8ZV5HR"
   },
   "source": [
    "- **lowercase:** boolean, True by default\n",
    "- Convert all characters to lowercase before tokenizing."
   ]
  },
  {
   "cell_type": "code",
   "execution_count": 23,
   "metadata": {
    "executionInfo": {
     "elapsed": 1276,
     "status": "ok",
     "timestamp": 1618745310915,
     "user": {
      "displayName": "Sayan Dey",
      "photoUrl": "https://lh3.googleusercontent.com/a-/AOh14GgqVHJ9o6-7idGiRbNNd4iVc1VjzvuPnwmAnvEtD6U=s64",
      "userId": "03603580465490055794"
     },
     "user_tz": -330
    },
    "id": "wBx8ai4tV5HS"
   },
   "outputs": [],
   "source": [
    "# don't convert to lowercase\n",
    "vect = CountVectorizer(lowercase=True)"
   ]
  },
  {
   "cell_type": "code",
   "execution_count": 24,
   "metadata": {
    "executionInfo": {
     "elapsed": 1697,
     "status": "ok",
     "timestamp": 1618745313989,
     "user": {
      "displayName": "Sayan Dey",
      "photoUrl": "https://lh3.googleusercontent.com/a-/AOh14GgqVHJ9o6-7idGiRbNNd4iVc1VjzvuPnwmAnvEtD6U=s64",
      "userId": "03603580465490055794"
     },
     "user_tz": -330
    },
    "id": "BeRifAFPV5HX"
   },
   "outputs": [],
   "source": [
    "X_train_dtm = vect.fit_transform(X_train)"
   ]
  },
  {
   "cell_type": "code",
   "execution_count": 25,
   "metadata": {
    "colab": {
     "base_uri": "https://localhost:8080/"
    },
    "executionInfo": {
     "elapsed": 1565,
     "status": "ok",
     "timestamp": 1618745313990,
     "user": {
      "displayName": "Sayan Dey",
      "photoUrl": "https://lh3.googleusercontent.com/a-/AOh14GgqVHJ9o6-7idGiRbNNd4iVc1VjzvuPnwmAnvEtD6U=s64",
      "userId": "03603580465490055794"
     },
     "user_tz": -330
    },
    "id": "GYHH2QjnV5Ha",
    "outputId": "a45997d5-cb26-41d8-9490-6a6de71479a9"
   },
   "outputs": [
    {
     "data": {
      "text/plain": [
       "(3064, 16825)"
      ]
     },
     "execution_count": 25,
     "metadata": {},
     "output_type": "execute_result"
    }
   ],
   "source": [
    "X_train_dtm.shape"
   ]
  },
  {
   "cell_type": "markdown",
   "metadata": {
    "id": "pVevvD2yV5Hd"
   },
   "source": [
    "- **ngram_range:** tuple (min_n, max_n)\n",
    "- The lower and upper boundary of the range of n-values for different n-grams to be extracted. All values of n such that min_n <= n <= max_n will be used."
   ]
  },
  {
   "cell_type": "code",
   "execution_count": 26,
   "metadata": {
    "executionInfo": {
     "elapsed": 1260,
     "status": "ok",
     "timestamp": 1618745313990,
     "user": {
      "displayName": "Sayan Dey",
      "photoUrl": "https://lh3.googleusercontent.com/a-/AOh14GgqVHJ9o6-7idGiRbNNd4iVc1VjzvuPnwmAnvEtD6U=s64",
      "userId": "03603580465490055794"
     },
     "user_tz": -330
    },
    "id": "CqLV5TRPV5He"
   },
   "outputs": [
    {
     "data": {
      "text/plain": [
       "CountVectorizer(min_df=4, ngram_range=(1, 2), stop_words='english')"
      ]
     },
     "execution_count": 26,
     "metadata": {},
     "output_type": "execute_result"
    }
   ],
   "source": [
    "# include 1-grams and 2-grams\n",
    "vect = CountVectorizer(ngram_range=(1, 2),stop_words='english',min_df=4)\n",
    "vect.fit(X_train)"
   ]
  },
  {
   "cell_type": "code",
   "execution_count": 27,
   "metadata": {
    "colab": {
     "base_uri": "https://localhost:8080/"
    },
    "executionInfo": {
     "elapsed": 2025,
     "status": "ok",
     "timestamp": 1618745316098,
     "user": {
      "displayName": "Sayan Dey",
      "photoUrl": "https://lh3.googleusercontent.com/a-/AOh14GgqVHJ9o6-7idGiRbNNd4iVc1VjzvuPnwmAnvEtD6U=s64",
      "userId": "03603580465490055794"
     },
     "user_tz": -330
    },
    "id": "RaFuMYD0V5Hm",
    "outputId": "79ae064a-bc81-4268-d257-6355a1ffd6cb"
   },
   "outputs": [
    {
     "name": "stdout",
     "output_type": "stream",
     "text": [
      "['00', '000', '00am', '00pm', '07', '09', '10', '10 15', '10 different', '10 min', '10 minutes', '10 times', '10 years', '100', '1000', '101', '10th', '11', '11 18', '110', '11am', '12', '12 hours', '12 years', '120', '13', '14', '15', '15 20', '15 mins', '15 minutes', '15 years', '150', '16', '160', '17', '18', '19', '1st', '20', '20 00', '20 minutes', '20 people', '20 times', '20 years', '200', '2008', '2009', '2010', '2011', '2012', '21', '22', '23', '24', '24 hours', '24th', '25', '250', '26', '28', '29', '2am', '2nd', '2nd time', '2pm', '30', '30 min', '30 minutes', '30 years', '300', '30pm', '32', '35', '3am', '3pm', '3rd', '40', '40 minutes', '400', '45', '45 min', '45 minutes', '49', '4pm', '4th', '50', '500', '55', '5th', '60', '65', '6pm', '70', '70s', '75', '7pm', '7th', '80', '80s', '85', '8pm', '90', '90 minutes', '95', '98', '99', 'aaron', 'ability', 'able', 'able make', 'able try', 'absolute', 'absolute best', 'absolute favorite', 'absolutely', 'absolutely amazing', 'absolutely best', 'absolutely delicious', 'absolutely disgusting', 'absolutely fantastic', 'absolutely love', 'absolutely loved', 'absolutely worth', 'abundance', 'ac', 'accept', 'acceptable', 'accepted', 'accessories', 'accommodate', 'accommodating', 'accommodations', 'accomodating', 'accompany', 'according', 'account', 'accurate', 'acknowledge', 'acknowledged', 'act', 'acted', 'acted like', 'action', 'active', 'activity', 'actual', 'actually', 'actually good', 'actually got', 'actually like', 'add', 'added', 'added bonus', 'addicted', 'addicting', 'addiction', 'addictive', 'adding', 'addition', 'additional', 'address', 'adds', 'adjacent', 'adjust', 'admission', 'admit', 'adorable', 'adore', 'adult', 'adults', 'advance', 'advantage', 'adventure', 'adventurous', 'advertise', 'advice', 'advise', 'affair', 'afford', 'affordable', 'afraid', 'afternoon', 'afterward', 'age', 'aged', 'agent', 'ages', 'aging', 'ago', 'ago good', 'agree', 'agree reviewers', 'agreed', 'ah', 'ahead', 'ahead time', 'ahi', 'ahi tuna', 'ahwatukee', 'aioli', 'air', 'air conditioning', 'airline', 'airlines', 'airport', 'airways', 'airy', 'aisles', 'aj', 'aka', 'al', 'al pastor', 'ala', 'alas', 'alcohol', 'ale', 'alert', 'alfredo', 'alive', 'allergic', 'allergies', 'allergy', 'allow', 'allowed', 'allowing', 'allows', 'almond', 'almonds', 'alongside', 'alot', 'alright', 'alternative', 'amanda', 'amazed', 'amazing', 'amazing best', 'amazing chicken', 'amazing definitely', 'amazing dishes', 'amazing flavors', 'amazing food', 'amazing great', 'amazing job', 'amazing just', 'amazing love', 'amazing pizza', 'amazing place', 'amazing service', 'amazing staff', 'amazing thing', 'amazing time', 'amazingly', 'amber', 'ambiance', 'ambiance great', 'ambience', 'amc', 'amenities', 'america', 'american', 'americanized', 'americans', 'amounts', 'ample', 'amuse', 'amuse bouche', 'andrew', 'angel', 'angel sweet', 'angela', 'angeles', 'angry', 'animal', 'animals', 'anniversary', 'annoying', 'annual', 'answer', 'answer questions', 'answered', 'answered questions', 'answers', 'anthem', 'anti', 'antipasti', 'anxious', 'anybody', 'anymore', 'anytime', 'anyways', 'apart', 'apartment', 'apologize', 'apologized', 'apology', 'app', 'apparently', 'appeal', 'appealing', 'appear', 'appearance', 'appeared', 'appears', 'appetite', 'appetizer', 'appetizers', 'apple', 'apples', 'appointment', 'appointments', 'appreciate', 'appreciated', 'appreciation', 'apprehensive', 'approach', 'approached', 'appropriate', 'approximately', 'apps', 'appt', 'april', 'arcadia', 'area', 'area great', 'area little', 'area nice', 'area place', 'areas', 'aren', 'argue', 'argued', 'arizona', 'arm', 'arms', 'army', 'aroma', 'arranged', 'array', 'arrival', 'arrive', 'arrived', 'arrives', 'arriving', 'arrogant', 'art', 'artichoke', 'artichoke dip', 'artichoke hearts', 'artichokes', 'article', 'articles', 'artificial', 'artist', 'artists', 'arts', 'artsy', 'artwork', 'arugula', 'asada', 'asada burrito', 'asada tacos', 'asado', 'asian', 'asian food', 'asian restaurant', 'aside', 'ask', 'ask order', 'ask questions', 'asked', 'asked manager', 'asked ready', 'asked server', 'asked waiter', 'asked wanted', 'asking', 'asks', 'asparagus', 'aspect', 'ass', 'assessment', 'assigned', 'assistance', 'assistant', 'associate', 'associates', 'assorted', 'assortment', 'assume', 'assumed', 'assuming', 'assure', 'assured', 'asu', 'ate', 'atleast', 'atm', 'atmosphere', 'atmosphere excellent', 'atmosphere friendly', 'atmosphere good', 'atmosphere great', 'atmosphere nice', 'atmosphere perfect', 'atmosphere pretty', 'attached', 'attempt', 'attempting', 'attend', 'attendants', 'attended', 'attending', 'attention', 'attentive', 'attentive food', 'attentive helpful', 'attitude', 'au', 'august', 'aunt', 'authentic', 'authentic japanese', 'authentic mexican', 'auto', 'automatically', 'avacado', 'available', 'ave', 'avenue', 'average', 'avocado', 'avoid', 'avoid place', 'award', 'aware', 'away', 'away food', 'away home', 'away place', 'away time', 'awesome', 'awesome experience', 'awesome food', 'awesome great', 'awesome little', 'awesome love', 'awesome place', 'awesome service', 'awful', 'awhile', 'awkward', 'az', 'baba', 'baby', 'backed', 'background', 'backyard', 'bacon', 'bacon burger', 'bacon wrapped', 'bad', 'bad day', 'bad experience', 'bad food', 'bad meal', 'bad review', 'bad service', 'bad thing', 'bag', 'bagel', 'bagels', 'bags', 'baguette', 'bait', 'bait switch', 'baked', 'baked goods', 'baked potato', 'baker', 'bakery', 'baking', 'baklava', 'balance', 'balcony', 'ball', 'ballet', 'balls', 'balsamic', 'banana', 'bananas', 'band', 'bands', 'bang', 'bank', 'bar', 'bar area', 'bar food', 'bar good', 'bar great', 'bar just', 'bar really', 'bar restaurant', 'barbecue', 'barber', 'barber shop', 'barbers', 'bare', 'barely', 'bargain', 'baristas', 'bark', 'barrel', 'barrio', 'barrio cafe', 'bars', 'bartender', 'bartenders', 'base', 'baseball', 'based', 'basic', 'basically', 'basics', 'basil', 'basil mozzarella', 'basis', 'basket', 'basketball', 'baskets', 'basmati', 'basmati rice', 'bass', 'batch', 'bath', 'bathroom', 'bathrooms', 'bathrooms clean', 'batter', 'bay', 'bay area', 'bbq', 'bbq chicken', 'bbq pork', 'bbq sauce', 'bc', 'beach', 'bean', 'bean cheese', 'bean sprouts', 'beans', 'beans rice', 'beard', 'bears', 'beat', 'beaten', 'beats', 'beautiful', 'beautiful day', 'beautifully', 'beautifully decorated', 'beauty', 'bed', 'bedrooms', 'beds', 'beef', 'beef sandwich', 'beer', 'beer great', 'beer list', 'beer selection', 'beers', 'beers great', 'beers tap', 'beet', 'beet salad', 'began', 'begged', 'begin', 'beginning', 'behalf', 'behavior', 'behold', 'believe', 'bell', 'belly', 'belt', 'ben', 'bench', 'benches', 'bend', 'benedict', 'benefit', 'berries', 'berry', 'berto', 'best', 'best asian', 'best best', 'best breakfast', 'best burger', 'best burgers', 'best chicken', 'best chinese', 'best chocolate', 'best customer', 'best donuts', 'best far', 'best food', 'best gelato', 'best happy', 'best hot', 'best italian', 'best meal', 'best meals', 'best mexican', 'best pasta', 'best pizza', 'best place', 'best places', 'best price', 'best prices', 'best restaurant', 'best salad', 'best service', 'best steak', 'best sushi', 'best thai', 'best thing', 'best things', 'best time', 'best town', 'best valley', 'best ve', 'best way', 'bet', 'better', 'better food', 'better job', 'better mexican', 'better place', 'better places', 'better way', 'beverage', 'beverages', 'beware', 'bf', 'bianco', 'big', 'big deal', 'big fan', 'big fat', 'big hit', 'big plus', 'bigger', 'biggest', 'bike', 'bike ride', 'bikes', 'biking', 'bikini', 'biltmore', 'bird', 'birds', 'birthday', 'birthday cake', 'birthday celebration', 'birthday dinner', 'birthday party', 'biscuits', 'biscuits gravy', 'bison', 'bisque', 'bistro', 'bit', 'bit extra', 'bit like', 'bit pricey', 'bit time', 'bitch', 'bite', 'bite eat', 'bites', 'bits', 'bitter', 'biz', 'black', 'black bean', 'black beans', 'blackened', 'blah', 'blame', 'blanco', 'bland', 'blast', 'blend', 'bleu', 'bleu cheese', 'blew', 'bliss', 'block', 'blocks', 'blonde', 'blood', 'bloody', 'bloody mary', 'blow', 'blown', 'blown away', 'blows', 'blt', 'blue', 'blue cheese', 'blueberry', 'bo', 'bo hue', 'board', 'boat', 'bob', 'boba', 'bobby', 'body', 'body care', 'boiled', 'bold', 'bolt', 'bomb', 'bombs', 'bon', 'bone', 'boneless', 'bones', 'bonus', 'bonus points', 'boo', 'book', 'booked', 'books', 'boot', 'booth', 'booths', 'boots', 'booze', 'border', 'bored', 'boring', 'born', 'bosa', 'bosa donuts', 'boss', 'boston', 'botanical', 'bother', 'bothered', 'bottle', 'bottle wine', 'bottled', 'bottles', 'bottles wine', 'bouche', 'bought', 'bought house', 'boutique', 'bowl', 'bowl pho', 'bowling', 'bowls', 'box', 'boxed', 'boxes', 'boxing', 'boy', 'boyfriend', 'boys', 'brad', 'braised', 'branch', 'brand', 'brand new', 'brands', 'brat', 'bravo', 'bread', 'bread amazing', 'bread basket', 'bread bowl', 'bread just', 'bread pudding', 'breaded', 'breads', 'breadsticks', 'break', 'breakfast', 'breakfast burrito', 'breakfast burritos', 'breakfast club', 'breakfast food', 'breakfast lunch', 'breakfast place', 'breakfasts', 'breaking', 'breast', 'breath', 'breeze', 'brew', 'brewed', 'brewery', 'brews', 'brick', 'brick oven', 'brie', 'brief', 'bright', 'brilliant', 'bring', 'bring cash', 'bring friends', 'bring home', 'bring kids', 'bringing', 'brings', 'brioche', 'brisket', 'brisket sandwich', 'broccoli', 'broke', 'broken', 'broth', 'brother', 'brothers', 'brought', 'brought friends', 'brown', 'brown rice', 'brownie', 'brownies', 'browns', 'browse', 'brulee', 'brunch', 'bruschetta', 'brushed', 'brussel', 'brussel sprouts', 'bs', 'btw', 'bubble', 'buck', 'bucket', 'bucks', 'buddy', 'budget', 'buds', 'buffalo', 'buffalo chicken', 'buffalo wings', 'buffet', 'bug', 'bugs', 'build', 'building', 'built', 'bulbs', 'bulk', 'bullshit', 'bummer', 'bumping', 'bun', 'bun bo', 'bunch', 'bunch people', 'buns', 'burger', 'burger delicious', 'burger fries', 'burgers', 'burgers fries', 'burn', 'burned', 'burning', 'burnt', 'burrito', 'burritos', 'burro', 'bus', 'business', 'business good', 'business trip', 'businesses', 'bustling', 'busy', 'busy talking', 'butcher', 'butt', 'butter', 'butterfish', 'buttery', 'button', 'buy', 'buying', 'buzz', 'byob', 'ca', 'cab', 'cabbage', 'cabernet', 'cactus', 'caesar', 'caesar salad', 'cafe', 'cafeteria', 'caffeine', 'cage', 'cajun', 'cake', 'cakes', 'calamari', 'cali', 'caliber', 'california', 'california roll', 'called', 'called ahead', 'called order', 'calling', 'calls', 'calm', 'calorie', 'calories', 'calzone', 'calzones', 'came', 'came asked', 'came big', 'came home', 'came little', 'came make', 'came perfectly', 'came said', 'came table', 'came time', 'camelback', 'camelback inn', 'camelback mountain', 'camera', 'cameras', 'camp', 'campus', 'canal', 'cancel', 'candied', 'candied walnuts', 'candle', 'candy', 'canned', 'cans', 'canyon', 'cappuccino', 'caprese', 'car', 'car wash', 'caramel', 'caramel sauce', 'caramelized', 'caramelized onions', 'carb', 'card', 'cards', 'care', 'cared', 'careful', 'carefully', 'cares', 'caribbean', 'caring', 'carmel', 'carne', 'carne asada', 'carnitas', 'carpaccio', 'carpet', 'carried', 'carries', 'carrot', 'carrots', 'carry', 'cars', 'cart', 'cartel', 'carts', 'case', 'cases', 'cash', 'cashew', 'cashier', 'cashiers', 'casserole', 'casual', 'cat', 'catch', 'catching', 'cater', 'catering', 'cats', 'caught', 'caught eye', 'cause', 'caused', 'causes', 'caution', 'cave', 'caveat', 'ceiling', 'celebrate', 'celebrated', 'celebrating', 'celebrating birthday', 'celebration', 'celery', 'cell', 'cell phone', 'cenpho', 'cent', 'center', 'centers', 'central', 'central phoenix', 'cents', 'ceramic', 'certain', 'certainly', 'certificate', 'ceviche', 'cha', 'chai', 'chain', 'chain restaurant', 'chain restaurants', 'chains', 'chair', 'chairs', 'challenge', 'challenging', 'champagne', 'chance', 'chance try', 'chances', 'chandler', 'change', 'changed', 'changes', 'changing', 'changs', 'channel', 'char', 'character', 'charcoal', 'charge', 'charged', 'charging', 'charlie', 'charm', 'charming', 'charred', 'chat', 'chatted', 'chatting', 'cheap', 'cheap food', 'cheap service', 'cheaper', 'cheapest', 'check', 'check place', 'checked', 'checking', 'checks', 'cheddar', 'cheddar cheese', 'cheerful', 'cheers', 'cheese', 'cheese amazing', 'cheese bacon', 'cheese burger', 'cheese cake', 'cheese crisp', 'cheese delicious', 'cheese good', 'cheese just', 'cheese make', 'cheese plate', 'cheese steak', 'cheese tomato', 'cheeseburger', 'cheesecake', 'cheesecake factory', 'cheeses', 'cheesesteak', 'cheesy', 'chef', 'chef came', 'chef chris', 'chefs', 'chemicals', 'cherry', 'chewy', 'chic', 'chicago', 'chick', 'chicken', 'chicken breast', 'chicken dish', 'chicken fried', 'chicken great', 'chicken mashed', 'chicken parm', 'chicken pesto', 'chicken salad', 'chicken sandwich', 'chicken strips', 'chicken taco', 'chicken tacos', 'chicken tasted', 'chicken tender', 'chicken tenders', 'chicken tikka', 'chicken waffles', 'chicken wings', 'child', 'childhood', 'children', 'chile', 'chiles', 'chili', 'chill', 'chilled', 'chilly', 'chimi', 'chimichanga', 'china', 'chinese', 'chinese food', 'chinese restaurant', 'chino', 'chip', 'chip cookie', 'chipotle', 'chipotle sauce', 'chips', 'chips salsa', 'chiropractic', 'chocolate', 'chocolate cake', 'chocolate chip', 'chocolate chips', 'chocolate covered', 'choice', 'choices', 'cholla', 'chompie', 'choose', 'choosing', 'chop', 'chopped', 'chopped salad', 'chorizo', 'chose', 'chow', 'chowder', 'chris', 'chris bianco', 'christmas', 'christopher', 'chunks', 'chunky', 'church', 'churros', 'chutney', 'ciao', 'cibo', 'cider', 'cigar', 'cilantro', 'cinnamon', 'circa', 'circle', 'cities', 'citrus', 'city', 'ck', 'claim', 'claims', 'clams', 'class', 'classes', 'classic', 'classy', 'clean', 'clean comfortable', 'clean fresh', 'clean friendly', 'clean place', 'clean staff', 'cleaned', 'cleaner', 'cleaning', 'cleanliness', 'clear', 'clearance', 'cleared', 'clearly', 'clerk', 'click', 'client', 'clients', 'climb', 'climbing', 'clinic', 'clock', 'close', 'close early', 'close home', 'close house', 'close second', 'closed', 'closed doors', 'closely', 'closer', 'closer home', 'closes', 'closest', 'closet', 'closing', 'closing time', 'clothes', 'clothing', 'club', 'clubs', 'clue', 'coast', 'coat', 'coated', 'cobb', 'cobb salad', 'cocktail', 'cocktail menu', 'cocktails', 'cocoa', 'coconut', 'coconut milk', 'code', 'coe', 'coffee', 'coffee drinks', 'coffee good', 'coffee houses', 'coffee shop', 'coffee shops', 'coffees', 'coke', 'cola', 'cold', 'cold beer', 'cole', 'cole slaw', 'coleslaw', 'collection', 'college', 'color', 'colorado', 'colored', 'colorful', 'colors', 'com', 'coma', 'combination', 'combinations', 'combined', 'combo', 'come', 'come did', 'come early', 'come great', 'come home', 'come hungry', 'come place', 'come table', 'come time', 'come try', 'come visit', 'comedy', 'comes', 'comfort', 'comfort food', 'comfortable', 'comforting', 'comfy', 'coming', 'coming place', 'comment', 'commented', 'comments', 'commercial', 'commission', 'commitment', 'common', 'community', 'comp', 'companies', 'companion', 'company', 'comparable', 'compare', 'compared', 'compares', 'comparing', 'comparison', 'compassionate', 'comped', 'compete', 'competent', 'competition', 'competitive', 'competitors', 'complain', 'complained', 'complaining', 'complains', 'complaint', 'complaints', 'complement', 'complete', 'completed', 'completely', 'completely different', 'complex', 'complicated', 'compliment', 'complimentary', 'complimented', 'compliments', 'compote', 'computer', 'concept', 'concern', 'concerned', 'concerns', 'concert', 'conclusion', 'concoction', 'condiments', 'condition', 'conditioner', 'conditioning', 'cone', 'conference', 'confident', 'confirmed', 'confused', 'confusing', 'congrats', 'connection', 'connoisseur', 'cons', 'conscious', 'consider', 'considered', 'considering', 'consistency', 'consistent', 'consistently', 'consistently good', 'consists', 'constantly', 'construction', 'consultation', 'consume', 'contact', 'contacted', 'contained', 'container', 'containers', 'contemporary', 'content', 'continue', 'continued', 'continues', 'control', 'convenience', 'convenience store', 'convenient', 'conveniently', 'conversation', 'conversations', 'converted', 'convinced', 'cook', 'cooked', 'cooked just', 'cooked perfection', 'cooked perfectly', 'cookie', 'cookies', 'cooking', 'cooks', 'cool', 'cool little', 'cool place', 'cooler', 'coolest', 'cools', 'copper', 'copy', 'cordial', 'core', 'cork', 'corn', 'corn bread', 'cornbread', 'corner', 'cornish', 'cornish pasty', 'corporate', 'correct', 'correctly', 'cosmo', 'cost', 'costco', 'costs', 'costumes', 'cotta', 'cottage', 'cottage cheese', 'cotton', 'couch', 'couches', 'couldn', 'couldn believe', 'couldn eat', 'couldn wait', 'count', 'counter', 'countless', 'country', 'couple', 'couple days', 'couple friends', 'couple hours', 'couple months', 'couple times', 'couple weeks', 'couple years', 'coupled', 'couples', 'coupon', 'coupons', 'course', 'courses', 'court', 'courteous', 'courtesy', 'courts', 'courtyard', 'cousin', 'cover', 'covered', 'cow', 'cowboy', 'cowboy ciao', 'coworker', 'coworkers', 'cows', 'cozy', 'crab', 'crab cakes', 'crab legs', 'crab stuffed', 'crack', 'cracked', 'cracker', 'craft', 'crafted', 'crammed', 'cramped', 'cranberry', 'cranky', 'crap', 'crappy', 'crave', 'craving', 'craving mexican', 'cravings', 'crazy', 'cream', 'cream cheese', 'cream sauce', 'creamed', 'creams', 'creamy', 'create', 'created', 'creating', 'creation', 'creations', 'creative', 'creativity', 'creature', 'credit', 'credit card', 'credit cards', 'creek', 'creepy', 'creme', 'creme brulee', 'crepe', 'crew', 'crisp', 'crispy', 'critical', 'croissant', 'croissants', 'cross', 'crowd', 'crowded', 'crowds', 'crown', 'crudo', 'crunch', 'crunchy', 'crush', 'crust', 'crust pizza', 'crusted', 'crusty', 'crying', 'cuban', 'cubes', 'cucumber', 'cuisine', 'culinary', 'culture', 'cup', 'cup coffee', 'cupcake', 'cupcakes', 'cups', 'cure', 'cured', 'curious', 'curly', 'current', 'currently', 'curries', 'curry', 'curry chicken', 'custard', 'custom', 'customer', 'customer life', 'customer service', 'customers', 'cut', 'cute', 'cute little', 'cuts', 'cutting', 'cuz', 'dad', 'daily', 'daily specials', 'dairy', 'damage', 'damn', 'damn good', 'dan', 'dance', 'dance floor', 'dancer', 'dancers', 'dancing', 'dang', 'dangerous', 'dark', 'dark chocolate', 'darn', 'darn good', 'date', 'date night', 'dated', 'dates', 'daughter', 'daughter loved', 'dave', 'david', 'day', 'day day', 'day just', 'day ll', 'day night', 'daylight', 'days', 'days ago', 'days later', 'days week', 'dc', 'dead', 'deal', 'dealing', 'deals', 'dealt', 'dear', 'death', 'debit', 'decadent', 'decades', 'december', 'decent', 'decide', 'decide want', 'decided', 'decided eat', 'decided try', 'deciding', 'decision', 'decisions', 'decor', 'decorated', 'decoration', 'decorations', 'dedicated', 'deep', 'deep fried', 'def', 'defalco', 'default', 'defiantly', 'definately', 'definetly', 'definitely', 'definitely best', 'definitely come', 'definitely coming', 'definitely favorite', 'definitely going', 'definitely good', 'definitely place', 'definitely recommend', 'definitely return', 'definitely soon', 'definitely try', 'definitely won', 'definitely worth', 'definition', 'degree', 'degrees', 'del', 'delayed', 'delectable', 'deli', 'delicate', 'delicious', 'delicious chicken', 'delicious dessert', 'delicious favorite', 'delicious food', 'delicious fresh', 'delicious love', 'delicious meal', 'delicious service', 'delicious ve', 'deliciousness', 'delight', 'delighted', 'delightful', 'delish', 'deliver', 'delivered', 'delivering', 'delivers', 'delivery', 'delux', 'demand', 'dental', 'dentist', 'dentists', 'department', 'department store', 'depending', 'depends', 'dept', 'depth', 'described', 'describes', 'description', 'desert', 'deserts', 'deserve', 'deserves', 'design', 'designed', 'designer', 'designing', 'designs', 'desire', 'desires', 'desk', 'despite', 'dessert', 'desserts', 'destination', 'destroy', 'detailed', 'details', 'determined', 'device', 'devil', 'devoured', 'di', 'diablo', 'diamond', 'did', 'did ask', 'did come', 'did didn', 'did disappoint', 'did eat', 'did fantastic', 'did good', 'did great', 'did just', 'did know', 'did mention', 'did offer', 'did research', 'did say', 'did time', 'did want', 'did wonderful', 'didn', 'didn bother', 'didn care', 'didn come', 'didn feel', 'didn finish', 'didn hesitate', 'didn know', 'didn like', 'didn love', 'didn make', 'didn mind', 'didn notice', 'didn order', 'didn realize', 'didn really', 'didn taste', 'didn think', 'didn try', 'didn understand', 'didn wait', 'didn want', 'didnt', 'die', 'die happy', 'diego', 'diet', 'diet coke', 'difference', 'different', 'different flavors', 'different items', 'different kinds', 'different point', 'different states', 'different things', 'different types', 'difficult', 'dig', 'digress', 'dim', 'dim sum', 'dime', 'dine', 'dined', 'diner', 'diners', 'dining', 'dining area', 'dining experience', 'dining room', 'dinner', 'dinner great', 'dinner lunch', 'dinner night', 'dinner place', 'dinner time', 'dinners', 'dip', 'dipped', 'dipping', 'dipping sauce', 'dipping sauces', 'dips', 'direction', 'directions', 'directly', 'director', 'dirt', 'dirty', 'disappeared', 'disappoint', 'disappointed', 'disappointed ve', 'disappointing', 'disappointment', 'disappoints', 'disaster', 'discount', 'discount tire', 'discounted', 'discounts', 'discover', 'discovered', 'discovered place', 'discussed', 'disgust', 'disgusting', 'dish', 'dish came', 'dishes', 'dislike', 'disliked', 'display', 'displayed', 'distance', 'distant', 'distinct', 'distinction', 'district', 'dive', 'dive bar', 'diverse', 'dives', 'divey', 'divine', 'dj', 'dobson', 'doctor', 'doctor ordered', 'doctors', 'does', 'does amazing', 'does good', 'does great', 'does make', 'does right', 'doesn', 'doesn better', 'doesn like', 'doesn look', 'doesn matter', 'doesn taste', 'doesnt', 'dog', 'dog food', 'dog friendly', 'dog park', 'dogs', 'doing', 'doing right', 'dollar', 'dollars', 'don', 'don afraid', 'don ask', 'don bother', 'don care', 'don carry', 'don change', 'don come', 'don drink', 'don eat', 'don expect', 'don feel', 'don forget', 'don just', 'don know', 'don let', 'don like', 'don love', 'don make', 'don mind', 'don miss', 'don need', 'don normally', 'don order', 'don really', 'don recommend', 'don remember', 'don think', 'don try', 'don understand', 'don usually', 'don wait', 'don want', 'don waste', 'don worry', 'don wrong', 'donation', 'dont', 'donut', 'donut shops', 'donuts', 'door', 'doors', 'dos', 'double', 'doubt', 'dough', 'downright', 'downside', 'downtown', 'downtown phoenix', 'dozen', 'dozen times', 'dozens', 'dr', 'draft', 'drag', 'dragged', 'dragon', 'drank', 'draw', 'drawing', 'drawn', 'dreading', 'dream', 'dreams', 'dreamy', 'drenched', 'dress', 'dressed', 'dresses', 'dressing', 'dressing rooms', 'drew', 'dried', 'drink', 'drink just', 'drink menu', 'drink order', 'drink specials', 'drinker', 'drinking', 'drinks', 'drinks appetizers', 'drinks food', 'drinks good', 'drinks great', 'dripping', 'drive', 'drive way', 'drive worth', 'driven', 'driver', 'driving', 'drizzle', 'drizzled', 'drop', 'dropped', 'dropping', 'drops', 'drove', 'drug', 'drunk', 'drunken', 'dry', 'duck', 'ducks', 'dude', 'dudes', 'dumb', 'dump', 'dumplings', 'dumpster', 'dunkin', 'durant', 'dust', 'duty', 'dvd', 'eager', 'ear', 'earlier', 'early', 'early morning', 'earned', 'earned money', 'earrings', 'ears', 'earth', 'ease', 'easier', 'easily', 'easily best', 'east', 'east coast', 'east valley', 'eastern', 'easy', 'easy work', 'eat', 'eat day', 'eat don', 'eat drink', 'eat everyday', 'eat food', 'eat free', 'eat good', 'eat like', 'eat little', 'eat lot', 'eat lunch', 'eat times', 'eaten', 'eaten times', 'eaten twice', 'eater', 'eateries', 'eaters', 'eatery', 'eating', 'eating food', 'eats', 'echo', 'economy', 'edamame', 'eddie', 'edge', 'edges', 'edible', 'education', 'educational', 'eel', 'efficient', 'efficient friendly', 'effort', 'egg', 'egg rolls', 'eggplant', 'eggrolls', 'eggs', 'eggs bacon', 'eggs benedict', 'el', 'elbows', 'electronic', 'elegant', 'elements', 'em', 'email', 'emailed', 'emails', 'embarrassed', 'emergency', 'employee', 'employees', 'employees nice', 'enchilada', 'enchiladas', 'encountered', 'encourage', 'encouraged', 'encouragement', 'end', 'end day', 'end meal', 'end night', 'endeavor', 'ended', 'ended going', 'ended having', 'ending', 'endless', 'ends', 'energy', 'engagement', 'engaging', 'english', 'english muffin', 'enjoy', 'enjoy food', 'enjoy great', 'enjoy meal', 'enjoy time', 'enjoyable', 'enjoyed', 'enjoyed experience', 'enjoying', 'enjoys', 'ensure', 'enter', 'entered', 'entering', 'entertained', 'entertaining', 'entertainment', 'enthusiastic', 'entire', 'entire experience', 'entire staff', 'entire time', 'entirely', 'entrance', 'entree', 'entrees', 'entry', 'environment', 'envy', 'equal', 'equally', 'equipment', 'equivalent', 'er', 'escape', 'escaped', 'esp', 'especially', 'especially like', 'especially love', 'espresso', 'establishment', 'establishments', 'estate', 'ethiopian', 'ethnic', 'europe', 'european', 'eve', 'evening', 'evenings', 'event', 'events', 'eventually', 'everybody', 'everyday', 'everyones', 'everytime', 'ex', 'exact', 'exactly', 'exactly like', 'exactly needed', 'example', 'exceeded', 'exceeded expectations', 'excellent', 'excellent customer', 'excellent food', 'excellent job', 'excellent service', 'excellent staff', 'excellent value', 'exception', 'exceptional', 'exceptionally', 'excited', 'excited try', 'excitement', 'exciting', 'excuse', 'execution', 'executive', 'exercise', 'exhibits', 'exist', 'existed', 'exit', 'exotic', 'expect', 'expectation', 'expectations', 'expected', 'expecting', 'expensive', 'experience', 'experience better', 'experience definitely', 'experience don', 'experience excellent', 'experience good', 'experience great', 'experience just', 'experience place', 'experience staff', 'experience ve', 'experienced', 'experiences', 'experiencing', 'expert', 'explain', 'explained', 'explaining', 'explains', 'explore', 'exploring', 'exposed', 'express', 'exquisite', 'extensive', 'exterior', 'extra', 'extra mile', 'extra star', 'extras', 'extreme', 'extremely', 'extremely fresh', 'extremely friendly', 'extremely nice', 'extremely pleased', 'eye', 'eye contact', 'eyebrows', 'eyes', 'fab', 'fabulous', 'face', 'facebook', 'faces', 'facial', 'facilities', 'facility', 'facing', 'fact', 'factor', 'factory', 'fail', 'failed', 'fails', 'fair', 'fair price', 'fair trade', 'fairly', 'fajitas', 'fake', 'falafel', 'fall', 'fallen', 'falling', 'falls', 'familiar', 'families', 'family', 'family friendly', 'family friends', 'family owned', 'family run', 'family style', 'famous', 'fan', 'fan place', 'fancy', 'fans', 'fantastic', 'fantastic experience', 'fantastic food', 'fantastic job', 'fantastic place', 'fantastic service', 'far', 'far away', 'far best', 'far better', 'far favorite', 'far superior', 'far ve', 'far worst', 'fare', 'farm', 'farm grill', 'farmer', 'farmer market', 'farmers', 'farmers market', 'fashion', 'fashion square', 'fast', 'fast food', 'fast forward', 'fast friendly', 'fast mexican', 'fast service', 'faster', 'fat', 'fat free', 'fate', 'father', 'father day', 'fatty', 'fault', 'fav', 'fave', 'faves', 'favor', 'favorite', 'favorite breakfast', 'favorite coffee', 'favorite dish', 'favorite item', 'favorite pizza', 'favorite place', 'favorite places', 'favorite restaurant', 'favorite restaurants', 'favorite thing', 'favorite things', 'favorites', 'favors', 'favs', 'fe', 'fear', 'fears', 'feast', 'feature', 'featured', 'features', 'fed', 'fee', 'feed', 'feel', 'feel bad', 'feel better', 'feel comfortable', 'feel good', 'feel home', 'feel like', 'feel place', 'feel right', 'feel rushed', 'feel welcome', 'feeling', 'feeling better', 'feeling like', 'feels', 'feels like', 'fees', 'feet', 'fell', 'fell love', 'fellow', 'fellow yelpers', 'felt', 'felt bad', 'felt like', 'female', 'fennel', 'festival', 'festivities', 'feta', 'feta cheese', 'fez', 'fi', 'fiance', 'field', 'fields', 'fifth', 'fig', 'fight', 'fighting', 'figs', 'figure', 'figured', 'filed', 'filet', 'filet mignon', 'filled', 'fillet', 'filling', 'fills', 'film', 'filthy', 'final', 'finally', 'finally got', 'finding', 'finds', 'fine', 'fine dining', 'finest', 'finger', 'fingers', 'finish', 'finish meal', 'finished', 'finished eating', 'finishing', 'fired', 'fireplace', 'firm', 'fish', 'fish chips', 'fish fresh', 'fish tacos', 'fishing', 'fishy', 'fit', 'fitness', 'fits', 'fitting', 'fix', 'fixed', 'fixing', 'flag', 'flagstaff', 'flaky', 'flame', 'flan', 'flat', 'flat bread', 'flatbread', 'flatbreads', 'flavor', 'flavor good', 'flavored', 'flavorful', 'flavorless', 'flavors', 'flavors choose', 'flight', 'flight attendants', 'flights', 'flip', 'floor', 'floored', 'floors', 'flour', 'flower', 'flowers', 'flowing', 'fluffy', 'fly', 'flying', 'fnb', 'focus', 'focused', 'folk', 'folks', 'follow', 'followed', 'following', 'follows', 'fond', 'fondue', 'food', 'food absolutely', 'food actually', 'food amazing', 'food arrived', 'food atmosphere', 'food awesome', 'food az', 'food bad', 'food best', 'food better', 'food came', 'food city', 'food coma', 'food come', 'food comes', 'food consistently', 'food court', 'food delicious', 'food delivery', 'food drink', 'food drinks', 'food excellent', 'food experience', 'food fabulous', 'food fantastic', 'food favorite', 'food food', 'food fresh', 'food friendly', 'food glad', 'food good', 'food got', 'food great', 'food highly', 'food hot', 'food industry', 'food isn', 'food items', 'food just', 'food like', 'food love', 'food makes', 'food menu', 'food mexican', 'food network', 'food notch', 'food order', 'food outstanding', 'food people', 'food phoenix', 'food place', 'food places', 'food prepared', 'food presentation', 'food pretty', 'food prices', 'food quality', 'food ready', 'food really', 'food restaurant', 'food say', 'food served', 'food service', 'food simple', 'food staff', 'food super', 'food taste', 'food tasted', 'food tastes', 'food think', 'food time', 'food took', 'food town', 'food truck', 'food try', 'food ve', 'food wait', 'food way', 'food wine', 'food wonderful', 'food worth', 'foodie', 'foodies', 'foods', 'fool', 'foot', 'football', 'force', 'forced', 'forcing', 'forever', 'forget', 'forgetting', 'forgive', 'forgot', 'forgot mention', 'forgotten', 'fork', 'forks', 'form', 'formal', 'forms', 'forth', 'fortunate', 'fortunately', 'fortune', 'forward', 'forward going', 'forward returning', 'fountain', 'fountains', 'fourth', 'fox', 'fox restaurants', 'franchise', 'francis', 'francisco', 'frank', 'frankly', 'freakin', 'freaking', 'fred', 'free', 'free charge', 'free food', 'free pizza', 'free range', 'free wi', 'free wifi', 'freeway', 'freeze', 'freezer', 'freezer section', 'french', 'french fries', 'french toast', 'frequent', 'frequented', 'frequenting', 'frequently', 'fresca', 'fresh', 'fresh authentic', 'fresh basil', 'fresh delicious', 'fresh flowers', 'fresh food', 'fresh fruit', 'fresh good', 'fresh ingredients', 'fresh local', 'fresh meat', 'fresh mozzarella', 'fresh perfectly', 'fresh produce', 'fresh tasting', 'fresh tasty', 'fresh veggies', 'fresh yummy', 'freshest', 'freshly', 'freshly baked', 'freshness', 'friday', 'friday night', 'friday saturday', 'fridays', 'fridge', 'fried', 'fried calamari', 'fried chicken', 'fried egg', 'fried rice', 'friend', 'friend got', 'friend ordered', 'friend went', 'friendliest', 'friendly', 'friendly accommodating', 'friendly atmosphere', 'friendly attentive', 'friendly courteous', 'friendly don', 'friendly efficient', 'friendly fast', 'friendly food', 'friendly good', 'friendly great', 'friendly happy', 'friendly helpful', 'friendly just', 'friendly knowledgeable', 'friendly love', 'friendly people', 'friendly place', 'friendly professional', 'friendly prompt', 'friendly service', 'friendly staff', 'friends', 'friends family', 'friends love', 'friends ordered', 'friends place', 'fries', 'fries delicious', 'fries onion', 'frosting', 'froyo', 'frozen', 'frozen yogurt', 'fruit', 'fruits', 'fruity', 'frustrated', 'frustration', 'fry', 'fuck', 'fucking', 'fudge', 'fuego', 'fuel', 'fully', 'fun', 'fun atmosphere', 'fun place', 'funky', 'funny', 'furniture', 'furry', 'fusion', 'fuss', 'future', 'fyi', 'gal', 'gallo', 'gallo blanco', 'gallon', 'galore', 'gals', 'game', 'games', 'garage', 'garbage', 'garden', 'gardens', 'garlic', 'garlic cheese', 'garlic chicken', 'gas', 'gas station', 'gate', 'gathered', 'gave', 'gay', 'gear', 'gel', 'gel manicure', 'gelato', 'gem', 'general', 'generally', 'generic', 'generous', 'generously', 'genius', 'genre', 'gentle', 'gentleman', 'gentlemen', 'gently', 'genuine', 'genuinely', 'george', 'german', 'gets', 'gets stars', 'getting', 'gf', 'ghetto', 'giant', 'giants', 'gift', 'gift card', 'gift certificate', 'gifts', 'gigantic', 'giggle', 'gilbert', 'gin', 'ginger', 'girl', 'girlfriend', 'girlfriends', 'girls', 'given', 'gives', 'giving', 'giving place', 'glad', 'glad did', 'glad place', 'gladly', 'glance', 'glass', 'glass wine', 'glasses', 'glasses wine', 'glaze', 'glazed', 'glendale', 'glory', 'gloves', 'gluten', 'gluten free', 'gm', 'gnocchi', 'goat', 'goat cheese', 'god', 'goers', 'goes', 'going', 'going 10', 'going good', 'going just', 'going make', 'going place', 'going time', 'going way', 'going years', 'gold', 'golden', 'golf', 'golf course', 'gone', 'gonna', 'good', 'good beef', 'good beer', 'good best', 'good better', 'good breakfast', 'good care', 'good choice', 'good deal', 'good definitely', 'good does', 'good don', 'good experience', 'good flavor', 'good food', 'good fresh', 'good friend', 'good friends', 'good gets', 'good good', 'good got', 'good great', 'good highly', 'good home', 'good idea', 'good job', 'good just', 'good let', 'good like', 'good ll', 'good looking', 'good love', 'good luck', 'good lunch', 'good make', 'good meal', 'good mexican', 'good music', 'good ol', 'good old', 'good ordered', 'good overall', 'good people', 'good pizza', 'good place', 'good price', 'good prices', 'good real', 'good really', 'good reason', 'good restaurant', 'good reviews', 'good right', 'good said', 'good selection', 'good service', 'good sign', 'good size', 'good sized', 'good staff', 'good stuff', 'good sure', 'good sushi', 'good thai', 'good thing', 'good things', 'good time', 'good try', 'good value', 'good variety', 'good ve', 'good wait', 'good way', 'good wine', 'good worth', 'goodies', 'goodness', 'goods', 'goodwill', 'gooey', 'google', 'gorgeous', 'gosh', 'got', 'got best', 'got car', 'got chicken', 'got food', 'got great', 'got half', 'got home', 'got left', 'got little', 'got new', 'got really', 'got restaurant', 'got right', 'got table', 'got try', 'gotta', 'gotta love', 'gotten', 'gourmet', 'gps', 'grab', 'grab bite', 'grabbed', 'grabbing', 'grace', 'gracious', 'grade', 'graduate', 'graduated', 'grain', 'grand', 'grandma', 'grandmother', 'granola', 'granted', 'grape', 'grapefruit', 'grass', 'grateful', 'gratin', 'gravy', 'grease', 'greasy', 'greasy like', 'great', 'great addition', 'great ambiance', 'great atmosphere', 'great beer', 'great best', 'great big', 'great breakfast', 'great burgers', 'great care', 'great choice', 'great coffee', 'great combination', 'great customer', 'great date', 'great deal', 'great deals', 'great decor', 'great didn', 'great dinner', 'great don', 'great drink', 'great drinks', 'great experience', 'great far', 'great flavor', 'great food', 'great fresh', 'great friendly', 'great fun', 'great great', 'great guy', 'great happy', 'great job', 'great just', 'great little', 'great live', 'great local', 'great location', 'great loved', 'great meal', 'great music', 'great new', 'great night', 'great owner', 'great people', 'great pizza', 'great place', 'great price', 'great prices', 'great quality', 'great restaurant', 'great reviews', 'great room', 'great salsa', 'great selection', 'great service', 'great staff', 'great start', 'great sushi', 'great tasting', 'great thing', 'great things', 'great time', 'great value', 'great variety', 'great vibe', 'great way', 'great wine', 'greater', 'greatest', 'greek', 'greek food', 'greek salad', 'green', 'green beans', 'green chile', 'green chili', 'green tea', 'greens', 'greet', 'greeted', 'greets', 'grew', 'grill', 'grilled', 'grilled cheese', 'grilled chicken', 'grilled onions', 'grimaldi', 'grind', 'gringos', 'gripe', 'grits', 'groceries', 'grocery', 'grocery store', 'groomer', 'grooming', 'gross', 'ground', 'ground beef', 'grounds', 'group', 'group friends', 'group people', 'groupon', 'groups', 'grow', 'growing', 'grown', 'grub', 'guac', 'guacamole', 'guarantee', 'guaranteed', 'guard', 'guess', 'guess ll', 'guessing', 'guest', 'guests', 'guide', 'guilt', 'guilty', 'guitar', 'gumbo', 'gun', 'gusto', 'gut', 'guy', 'guy counter', 'guys', 'guys great', 'gym', 'gyms', 'gyro', 'gyro meat', 'gyros', 'ha', 'habanero', 'habit', 'hadn', 'hadnt', 'haha', 'hair', 'hair cut', 'haircut', 'haircuts', 'hairs', 'half', 'half day', 'half dozen', 'half hour', 'half hours', 'half price', 'half sandwich', 'half way', 'halibut', 'hall', 'halloween', 'hallway', 'ham', 'hamburger', 'hand', 'handed', 'handful', 'handle', 'handled', 'hands', 'hands best', 'hands favorite', 'handy', 'hang', 'hanging', 'hangout', 'hangover', 'happen', 'happened', 'happened place', 'happening', 'happens', 'happier', 'happily', 'happy', 'happy birthday', 'happy did', 'happy hour', 'happy hours', 'harbor', 'hard', 'hard earned', 'hard rock', 'hard time', 'harder', 'hardly', 'harkins', 'harsh', 'harvest', 'hash', 'hash browns', 'hashbrowns', 'hasn', 'hasn said', 'hassle', 'hat', 'hatch', 'hate', 'hated', 'hats', 'haven', 'haven seen', 'haven tried', 'havent', 'having', 'having good', 'hawaii', 'hawaiian', 'hazelnut', 'head', 'head chef', 'headed', 'heading', 'heads', 'healing', 'health', 'health department', 'healthier', 'healthy', 'healthy food', 'healthy options', 'hear', 'heard', 'heard great', 'hearing', 'heart', 'hearts', 'hearty', 'heat', 'heated', 'heather', 'heaven', 'heavenly', 'heavily', 'heavy', 'heck', 'heels', 'height', 'held', 'hell', 'hello', 'help', 'helped', 'helpful', 'helpful friendly', 'helping', 'helps', 'herb', 'herbs', 'hesitant', 'hesitate', 'hey', 'hi', 'hidden', 'hidden gem', 'hide', 'hiding', 'high', 'high end', 'high priced', 'high quality', 'high school', 'higher', 'highest', 'highlight', 'highlights', 'highly', 'highly highly', 'highly reccomend', 'highly recommend', 'highly recommended', 'hike', 'hiking', 'hilarious', 'hill', 'hills', 'hint', 'hip', 'hip hop', 'hipster', 'hipsters', 'hire', 'hired', 'historic', 'history', 'hit', 'hit spot', 'hit wallet', 'hits', 'hitting', 'hmmm', 'ho', 'hobby', 'hold', 'holding', 'holds', 'hole', 'hole wall', 'holes', 'holiday', 'holidays', 'holy', 'holy cow', 'home', 'home cooked', 'home eat', 'home good', 'home work', 'homeless', 'homemade', 'homemade mozzarella', 'honest', 'honestly', 'honestly say', 'honey', 'hong', 'hong kong', 'honor', 'hood', 'hook', 'hooked', 'hop', 'hope', 'hope place', 'hopeful', 'hopefully', 'hoping', 'hopping', 'horchata', 'horrible', 'horrible experience', 'horrible service', 'horribly', 'horse', 'horseradish', 'horses', 'hospitable', 'hospital', 'hospitality', 'host', 'hostess', 'hostesses', 'hosting', 'hosts', 'hot', 'hot dog', 'hot dogs', 'hot fresh', 'hot sauce', 'hot sour', 'hot summer', 'hotel', 'hotel great', 'hotels', 'hour', 'hour dinner', 'hour happy', 'hour later', 'hour long', 'hour menu', 'hour prices', 'hour specials', 'hour wait', 'hours', 'house', 'house salad', 'house time', 'house ve', 'houses', 'hr', 'hrs', 'html', 'http', 'http www', 'hubby', 'hubby got', 'hubs', 'hue', 'huevos', 'huevos rancheros', 'huge', 'huge fan', 'huge portion', 'huge portions', 'huge selection', 'human', 'humble', 'hummus', 'humor', 'hundreds', 'hung', 'hungry', 'hunt', 'hurry', 'hurt', 'husband', 'husband got', 'husband love', 'husband loves', 'husband ordered', 'husband went', 'husbands', 'hut', 'hype', 'ice', 'ice cold', 'ice cream', 'ice tea', 'icecream', 'iced', 'iced coffee', 'iced tea', 'icing', 'icing cake', 'id', 'idea', 'ideal', 'ideas', 'idiot', 'idiots', 'ignore', 'ignored', 'ikea', 'il', 'ill', 'im', 'im going', 'image', 'imagine', 'imagined', 'immaculate', 'immediate', 'immediately', 'imo', 'impeccable', 'important', 'importantly', 'imported', 'impossible', 'impress', 'impressed', 'impressed service', 'impressive', 'improve', 'improved', 'improvement', 'inch', 'incident', 'include', 'included', 'includes', 'including', 'incompetent', 'inconvenience', 'incredible', 'incredibly', 'incredibly nice', 'independent', 'indian', 'indian food', 'indian restaurant', 'indicated', 'indie', 'individual', 'individually', 'individuals', 'indoor', 'indoors', 'indulge', 'indulged', 'industry', 'inedible', 'inexpensive', 'infection', 'infested', 'info', 'information', 'informative', 'informed', 'infused', 'ingredient', 'ingredients', 'ingredients fresh', 'initial', 'initially', 'inn', 'input', 'ins', 'insane', 'insanely', 'inside', 'insist', 'insisted', 'inspired', 'instance', 'instant', 'instantly', 'instead', 'institute', 'instructors', 'insurance', 'intend', 'intended', 'intending', 'intense', 'interested', 'interesting', 'interior', 'internet', 'interrupted', 'intimate', 'intimidated', 'intimidating', 'intoxicating', 'intrigued', 'introduced', 'introduction', 'intrusive', 'inventory', 'invited', 'inviting', 'ipa', 'ipad', 'iphone', 'irish', 'iron', 'ironically', 'ish', 'island', 'isn', 'isn bad', 'isn good', 'isnt', 'issue', 'issues', 'italian', 'italian beef', 'italian food', 'italian restaurant', 'italy', 'item', 'items', 'items menu', 'ive', 'ivy', 'jack', 'jack box', 'jacket', 'jade', 'jalapeno', 'jalapenos', 'jalapeño', 'jam', 'james', 'jan', 'japan', 'japanese', 'japanese food', 'jar', 'jars', 'jason', 'jazz', 'jeans', 'jeff', 'jelly', 'jennifer', 'jerk', 'jerk chicken', 'jesus', 'jewelry', 'jewish', 'jim', 'jimmy', 'job', 'jobs', 'joe', 'joes', 'john', 'johnny', 'join', 'joined', 'joint', 'joints', 'joke', 'joked', 'journey', 'joy', 'jr', 'judge', 'judging', 'juice', 'juices', 'juicy', 'jukebox', 'july', 'jumbo', 'jump', 'jumped', 'jumping', 'june', 'jungle', 'junk', 'junkie', 'jus', 'just', 'just amazing', 'just ask', 'just bad', 'just best', 'just bought', 'just came', 'just case', 'just come', 'just couple', 'just didn', 'just doesn', 'just don', 'just drive', 'just eat', 'just fantastic', 'just feel', 'just fine', 'just finished', 'just going', 'just good', 'just got', 'just great', 'just happy', 'just hope', 'just know', 'just left', 'just let', 'just like', 'just little', 'just love', 'just make', 'just minutes', 'just moved', 'just need', 'just ok', 'just okay', 'just opened', 'just order', 'just ordered', 'just overall', 'just people', 'just perfect', 'just really', 'just regular', 'just right', 'just say', 'just sayin', 'just sit', 'just street', 'just tastes', 'just thinking', 'just thought', 'just try', 'just walk', 'just walked', 'just want', 'just wanted', 'just way', 'just went', 'just wish', 'just wonderful', 'justify', 'kale', 'kale salad', 'karaoke', 'keeping', 'keeps', 'kelly', 'kept', 'kept coming', 'ketchup', 'kettle', 'key', 'kick', 'kick ass', 'kicked', 'kid', 'kidding', 'kids', 'kids love', 'kids menu', 'kierland', 'kill', 'killed', 'killer', 'kind', 'kind guy', 'kind place', 'kinda', 'kindly', 'kinds', 'king', 'kitchen', 'knees', 'knew', 'knew going', 'knock', 'know', 'know doing', 'know exactly', 'know food', 'know going', 'know good', 'know great', 'know just', 'know like', 'know ll', 'know mean', 'know ordered', 'know people', 'know place', 'know stuff', 'know think', 'know time', 'know want', 'knowing', 'knowledgable', 'knowledge', 'knowledgeable', 'knowledgeable staff', 'known', 'knows', 'knows make', 'kobe', 'kona', 'kong', 'korean', 'kudos', 'la', 'la fitness', 'lab', 'labeled', 'labor', 'lack', 'lacked', 'lacking', 'lacks', 'ladies', 'lady', 'laid', 'lake', 'lamb', 'lame', 'land', 'language', 'lard', 'large', 'large group', 'large pizza', 'large portions', 'large selection', 'largely', 'larger', 'largest', 'las', 'las vegas', 'lasagna', 'lasted', 'lastly', 'late', 'late morning', 'late night', 'lately', 'later', 'later food', 'latest', 'latin', 'latte', 'laugh', 'laughed', 'laughing', 'law', 'lawn', 'lay', 'layer', 'layered', 'layout', 'lazy', 'lb', 'lbs', 'leaf', 'league', 'leak', 'learn', 'learned', 'learning', 'leash', 'leather', 'leave', 'leave satisfied', 'leaves', 'leaving', 'led', 'lee', 'lee lee', 'left', 'left feeling', 'left food', 'left overs', 'left wanting', 'leftovers', 'leg', 'legit', 'legs', 'leisurely', 'lemon', 'lemonade', 'length', 'length time', 'lentils', 'lesson', 'let', 'let just', 'let know', 'let let', 'let say', 'let start', 'let tell', 'lets', 'letters', 'letting', 'lettuce', 'lettuce tomato', 'lettuce tomatoes', 'lettuce wraps', 'level', 'level service', 'levels', 'lgo', 'liberty', 'liberty market', 'library', 'license', 'lick', 'lie', 'life', 'life good', 'lifetime', 'light', 'light fluffy', 'light fresh', 'light rail', 'lighter', 'lighting', 'lightly', 'lights', 'like', 'like atmosphere', 'like best', 'like big', 'like cheese', 'like cool', 'like did', 'like didn', 'like doing', 'like eating', 'like fact', 'like family', 'like food', 'like fresh', 'like going', 'like good', 'like great', 'like having', 'like high', 'like home', 'like just', 'like kind', 'like little', 'like ll', 'like lot', 'like meat', 'like new', 'like order', 'like people', 'like pizza', 'like place', 'like restaurant', 'like sitting', 'like spicy', 'like sushi', 'like sweet', 'like think', 'like time', 'like try', 'like trying', 'like ve', 'liked', 'likely', 'likes', 'liking', 'lil', 'lime', 'limit', 'limited', 'lindsey', 'line', 'lined', 'linen', 'lines', 'liquid', 'liquor', 'lisa', 'list', 'list places', 'listed', 'listen', 'listened', 'listening', 'listens', 'lit', 'literally', 'little', 'little better', 'little bit', 'little gem', 'little guy', 'little high', 'little hole', 'little kid', 'little known', 'little nervous', 'little ones', 'little place', 'little pricey', 'live', 'live close', 'live music', 'live street', 'lived', 'lively', 'liver', 'lives', 'living', 'living phoenix', 'living room', 'living social', 'll', 'll admit', 'll coming', 'll definitely', 'll going', 'll just', 'll know', 'll likely', 'll love', 'll make', 'll place', 'll say', 'll tell', 'll try', 'll want', 'lo', 'load', 'loaded', 'loading', 'loads', 'loaf', 'loaves', 'lobby', 'lobster', 'lobster bisque', 'local', 'local artists', 'local business', 'local businesses', 'local food', 'locally', 'locally owned', 'locals', 'locate', 'located', 'located right', 'location', 'location atmosphere', 'location food', 'location great', 'location right', 'location ve', 'locations', 'locked', 'locker', 'locker room', 'lol', 'lola', 'lonely', 'long', 'long day', 'long line', 'long lines', 'long story', 'long time', 'long wait', 'longer', 'look', 'look forward', 'look like', 'looked', 'looked better', 'looked good', 'looked great', 'looked like', 'looked right', 'looking', 'looking forward', 'looking good', 'looking great', 'looking like', 'looking new', 'looking place', 'looking quick', 'looks', 'looks great', 'looks like', 'loose', 'los', 'los angeles', 'lose', 'loss', 'lost', 'lot', 'lot better', 'lot food', 'lot fun', 'lot money', 'lot people', 'lots', 'lots lots', 'loud', 'loudly', 'lounge', 'lounge area', 'lousy', 'love', 'love atmosphere', 'love don', 'love fact', 'love food', 'love little', 'love love', 'love menu', 'love order', 'love place', 'love restaurant', 'love salad', 'love service', 'love spicy', 'love store', 'love sushi', 'love sweet', 'loved', 'loved decor', 'loved place', 'lovely', 'lover', 'lovers', 'loves', 'low', 'low calorie', 'low price', 'low prices', 'low quality', 'lower', 'loyal', 'loyalty', 'luck', 'luckily', 'lucky', 'lucky live', 'luke', 'luke warm', 'lumpia', 'lunch', 'lunch break', 'lunch day', 'lunch dinner', 'lunch got', 'lunch little', 'lunch menu', 'lunch place', 'lunch special', 'lunch specials', 'lunch spot', 'lunch time', 'lunch today', 'lunches', 'lush', 'lux', 'lying', 'lynn', 'ma', 'mac', 'mac cheese', 'macaroni', 'macaroons', 'machaca', 'machine', 'machines', 'macy', 'mad', 'magazine', 'magazines', 'magic', 'magical', 'magnificent', 'mahi', 'mahi mahi', 'mai', 'mail', 'main', 'main course', 'main courses', 'main dish', 'main ingredient', 'mainly', 'maintained', 'maintenance', 'major', 'majority', 'make', 'make appointment', 'make delicious', 'make difference', 'make feel', 'make fun', 'make good', 'make meal', 'make mean', 'make money', 'make point', 'make reservation', 'make sense', 'make special', 'make sure', 'make want', 'make way', 'make worth', 'maker', 'makes', 'makes feel', 'makes great', 'makes happy', 'makes want', 'making', 'making sure', 'male', 'mall', 'malls', 'mama', 'man', 'manage', 'managed', 'management', 'manager', 'manager came', 'managers', 'mandarin', 'mango', 'manhattan', 'mani', 'mani pedi', 'manicure', 'manicures', 'manner', 'map', 'maple', 'maple syrup', 'march', 'margarita', 'margarita pizza', 'margaritas', 'margherita', 'marinara', 'marinated', 'marinated chicken', 'mark', 'market', 'market place', 'marketplace', 'markets', 'marks', 'married', 'marsala', 'marshmallow', 'marshmallows', 'martini', 'martinis', 'mary', 'masala', 'mascarpone', 'mash', 'mashed', 'mashed potatoes', 'mask', 'mason', 'massage', 'massage chairs', 'massages', 'massive', 'mastro', 'match', 'material', 'matt', 'matter', 'matter time', 'matters', 'max', 'maybe', 'maybe 20', 'maybe just', 'mayo', 'mazing', 'mcclintock', 'mcdonald', 'mcdonalds', 'mcdowell', 'meager', 'meal', 'meal ordered', 'meal wasn', 'meals', 'mean', 'mean good', 'meaning', 'means', 'meant', 'measure', 'meat', 'meat cheese', 'meat sauce', 'meat tender', 'meatball', 'meatballs', 'meatloaf', 'meats', 'meats cheeses', 'mechanical', 'medical', 'mediocre', 'mediocre best', 'mediocre food', 'mediterranean', 'medium', 'medium rare', 'medley', 'meet', 'meet new', 'meeting', 'meets', 'mein', 'mellow', 'melt', 'melt mouth', 'melted', 'melted cheese', 'melted mouth', 'melts', 'melts mouth', 'member', 'members', 'membership', 'memorable', 'memories', 'memory', 'men', 'mention', 'mentioned', 'mentioning', 'menu', 'menu amazing', 'menu changes', 'menu did', 'menu good', 'menu great', 'menu item', 'menu items', 'menu just', 'menu little', 'menu looked', 'menu love', 'menu order', 'menu quite', 'menus', 'merchandise', 'merely', 'meringue', 'mesa', 'mess', 'message', 'messed', 'messy', 'met', 'metal', 'methods', 'metro', 'metro area', 'mex', 'mexican', 'mexican cuisine', 'mexican food', 'mexican restaurant', 'mexican restaurants', 'mexican style', 'mexico', 'mia', 'michael', 'micro', 'microwave', 'mid', 'middle', 'middle eastern', 'midnight', 'mignon', 'mike', 'mild', 'mile', 'miles', 'miles away', 'milk', 'milkshake', 'million', 'mimosas', 'min', 'min food', 'min wait', 'minced', 'mind', 'mind paying', 'mini', 'minimal', 'minimum', 'minor', 'mins', 'mint', 'minus', 'minute', 'minute drive', 'minute wait', 'minutes', 'minutes food', 'minutes just', 'minutes later', 'mirror', 'mirrors', 'miserable', 'miso', 'miso soup', 'miss', 'miss food', 'miss place', 'missed', 'missing', 'mission', 'mistake', 'misto', 'mix', 'mixed', 'mixed greens', 'mixes', 'mixture', 'mmm', 'mmmm', 'mocha', 'mock', 'model', 'models', 'modern', 'modest', 'modifications', 'moist', 'mojito', 'mojitos', 'mojo', 'mom', 'mom pop', 'moment', 'moment walked', 'moments', 'mon', 'monday', 'monday night', 'mondays', 'money', 'money worth', 'monkey', 'monster', 'monte', 'month', 'monthly', 'months', 'months ago', 'mood', 'moon', 'morning', 'mornings', 'moroccan', 'morons', 'mother', 'mother day', 'mothers', 'mountain', 'mountains', 'mouth', 'mouth water', 'mouth watering', 'mouths', 'moved', 'moved away', 'moved az', 'moves', 'movie', 'movie theater', 'movies', 'moving', 'mozzarella', 'mozzarella cheese', 'mozzarella tomato', 'mr', 'msg', 'mucho', 'mucho gusto', 'muffin', 'muffins', 'mugs', 'multi', 'multiple', 'multiple times', 'multitude', 'munch', 'muscles', 'museum', 'mush', 'mushroom', 'mushrooms', 'music', 'music great', 'music playing', 'musicians', 'mussels', 'mustard', 'mystery', 'na', 'nachos', 'nail', 'nail salon', 'nail tech', 'nails', 'naked', 'named', 'names', 'napkin', 'napkins', 'nasty', 'nation', 'national', 'native', 'natural', 'naturally', 'nature', 'near', 'near future', 'nearby', 'nearly', 'neat', 'necessarily', 'necessary', 'neck', 'need', 'need help', 'need make', 'need order', 'need say', 'needed', 'needing', 'needless', 'needless say', 'needs', 'negative', 'negative reviews', 'neighbor', 'neighborhood', 'neighbors', 'neon', 'nervous', 'nestled', 'network', 'new', 'new favorite', 'new home', 'new location', 'new menu', 'new mexican', 'new mexico', 'new orleans', 'new place', 'new restaurant', 'new things', 'new year', 'new york', 'newly', 'news', 'newspaper', 'nice', 'nice clean', 'nice food', 'nice friendly', 'nice helpful', 'nice large', 'nice patio', 'nice people', 'nice place', 'nice prices', 'nice selection', 'nice touch', 'nice wine', 'nicely', 'nicer', 'nicest', 'niece', 'night', 'night date', 'night dinner', 'night great', 'night long', 'night place', 'night think', 'night week', 'night went', 'nightmare', 'nights', 'nigiri', 'nike', 'nj', 'noise', 'noisy', 'nom', 'nom nom', 'non', 'non chain', 'nonetheless', 'nonsense', 'noodle', 'noodle soup', 'noodles', 'noon', 'nope', 'nordstrom', 'norm', 'normal', 'normally', 'normally don', 'north', 'north phoenix', 'north scottsdale', 'northern', 'northwest', 'nose', 'notch', 'note', 'noted', 'notes', 'notice', 'noticed', 'novel', 'november', 'number', 'numbers', 'numerous', 'nut', 'nutrition', 'nuts', 'nw', 'ny', 'nyc', 'oasis', 'oatmeal', 'observation', 'obvious', 'obviously', 'occasion', 'occasionally', 'occasions', 'ocean', 'october', 'odd', 'odds', 'odor', 'offended', 'offer', 'offer free', 'offer great', 'offered', 'offering', 'offerings', 'offers', 'office', 'office staff', 'officially', 'oh', 'oh god', 'oh good', 'oh man', 'oh wait', 'oh yeah', 'oil', 'oily', 'ok', 'ok ve', 'okay', 'okra', 'ol', 'old', 'old daughter', 'old school', 'old son', 'old style', 'old town', 'older', 'olive', 'olive ivy', 'olive oil', 'olives', 'omelet', 'omelette', 'omg', 'ones', 'onion', 'onion rings', 'onions', 'online', 'online ordering', 'open', 'open kitchen', 'open till', 'opened', 'opening', 'opens', 'operated', 'operating', 'opinion', 'opinions', 'opportunity', 'opportunity try', 'opposed', 'opposite', 'opted', 'option', 'options', 'orange', 'orange chicken', 'oranges', 'order', 'order chicken', 'order delivery', 'order dessert', 'order drink', 'order food', 'order just', 'order like', 'order pick', 'order pizza', 'order right', 'order sweet', 'ordered', 'ordered appetizers', 'ordered chicken', 'ordered different', 'ordered drinks', 'ordered food', 'ordered medium', 'ordered menu', 'ordered pizza', 'ordered pizzas', 'ordered regular', 'ordered sweet', 'ordering', 'orders', 'orders did', 'ordinary', 'oregano', 'org', 'organic', 'organization', 'organized', 'oriented', 'original', 'originally', 'orleans', 'ounce', 'outdated', 'outdoor', 'outdoor area', 'outdoor patio', 'outdoor seating', 'outdoors', 'outrageous', 'outright', 'outside', 'outside inside', 'outside nice', 'outside patio', 'outside seating', 'outstanding', 'outstanding service', 'outta', 'oven', 'overall', 'overall experience', 'overall great', 'overcooked', 'overlooked', 'overlooking', 'overly', 'overly sweet', 'overpriced', 'overrated', 'overs', 'overwhelming', 'owned', 'owned operated', 'owner', 'owner manager', 'owner nice', 'owner really', 'owners', 'ownership', 'owns', 'oysters', 'oz', 'pa', 'pack', 'package', 'packaged', 'packages', 'packaging', 'packed', 'packs', 'pad', 'pad thai', 'page', 'pages', 'paid', 'pain', 'painful', 'paint', 'painted', 'paintings', 'pair', 'paired', 'pairing', 'pairings', 'pairs', 'palace', 'palate', 'pale', 'palette', 'palm', 'palms', 'pan', 'panang', 'panang curry', 'pancake', 'pancakes', 'pancit', 'panda', 'panda express', 'pane', 'pane bianco', 'panic', 'panini', 'panna', 'panna cotta', 'pants', 'papaya', 'papaya salad', 'paper', 'par', 'paradise', 'parent', 'parents', 'park', 'parked', 'parking', 'parking lot', 'parm', 'parmesan', 'partake', 'participate', 'particular', 'particularly', 'parties', 'partner', 'parts', 'party', 'pass', 'passed', 'passes', 'passing', 'passion', 'passionate', 'past', 'past months', 'past week', 'past weekend', 'past years', 'pasta', 'pasta dishes', 'pasta salad', 'pastas', 'paste', 'pastor', 'pastrami', 'pastries', 'pastry', 'pasty', 'path', 'pathetic', 'paths', 'patience', 'patient', 'patiently', 'patients', 'patio', 'patio area', 'patio great', 'patios', 'patron', 'patronize', 'patrons', 'patties', 'patty', 'paul', 'pay', 'pay attention', 'pay little', 'paying', 'paying attention', 'payment', 'pb', 'pea', 'peace', 'peaceful', 'peach', 'peak', 'peaks', 'peanut', 'peanut butter', 'pear', 'peas', 'pecan', 'pecans', 'pedi', 'pedicure', 'pedicures', 'peek', 'peeps', 'pei', 'pei wei', 'penne', 'penny', 'people', 'people actually', 'people don', 'people friendly', 'people great', 'people know', 'people like', 'people make', 'people nice', 'people place', 'people really', 'people think', 'people waiting', 'people watching', 'people work', 'people working', 'peoria', 'pepper', 'pepperoni', 'pepperoni pizza', 'peppers', 'peppery', 'pepsi', 'perfect', 'perfect blend', 'perfect date', 'perfect place', 'perfect size', 'perfected', 'perfection', 'perfectly', 'perfectly cooked', 'perfectly prepared', 'perform', 'performance', 'performers', 'period', 'person', 'personable', 'personal', 'personal favorite', 'personality', 'personally', 'personally love', 'pesto', 'pesto sauce', 'pet', 'petite', 'pets', 'pf', 'pf changs', 'phenomenal', 'philly', 'pho', 'phoenician', 'phoenix', 'phoenix area', 'phoenix metro', 'phoenix scottsdale', 'phoenix ve', 'phoenix weeks', 'phone', 'photo', 'photographer', 'photography', 'photos', 'phx', 'phx area', 'physical', 'pick', 'picked', 'picking', 'pickle', 'pickled', 'pickles', 'picks', 'picky', 'picky eater', 'picnic', 'picnic tables', 'pico', 'pico gallo', 'pics', 'picture', 'pictures', 'pie', 'piece', 'pieces', 'pieces chicken', 'pierced', 'piercings', 'pies', 'pig', 'pile', 'piled', 'pillows', 'pineapple', 'pink', 'pinot', 'pint', 'piping', 'piping hot', 'pissed', 'pistachio', 'pita', 'pita bread', 'pita jungle', 'pitcher', 'pits', 'pizza', 'pizza amazing', 'pizza crust', 'pizza delicious', 'pizza good', 'pizza great', 'pizza place', 'pizza places', 'pizza really', 'pizza ve', 'pizza wings', 'pizzas', 'pizzeria', 'pizzeria bianco', 'place', 'place absolutely', 'place actually', 'place amazing', 'place arizona', 'place awesome', 'place beautiful', 'place best', 'place bit', 'place busy', 'place clean', 'place come', 'place cool', 'place couple', 'place date', 'place definitely', 'place didn', 'place dine', 'place does', 'place don', 'place eat', 'place family', 'place fantastic', 'place far', 'place favorite', 'place feel', 'place food', 'place friendly', 'place friends', 'place gets', 'place going', 'place gone', 'place good', 'place got', 'place grab', 'place great', 'place hang', 'place happy', 'place highly', 'place huge', 'place isn', 'place just', 'place kids', 'place know', 'place knows', 'place like', 'place line', 'place little', 'place ll', 'place looking', 'place looks', 'place love', 'place low', 'place makes', 'place meet', 'place mexican', 'place months', 'place near', 'place needs', 'place new', 'place nice', 'place open', 'place opened', 'place order', 'place packed', 'place people', 'place phoenix', 'place place', 'place pretty', 'place prices', 'place probably', 'place really', 'place run', 'place seriously', 'place served', 'place service', 'place sit', 'place small', 'place stars', 'place stop', 'place sucks', 'place sure', 'place think', 'place time', 'place times', 'place tiny', 'place town', 'place tried', 'place try', 'place unique', 'place ve', 'place visit', 'place want', 'place wasn', 'place way', 'place went', 'place won', 'place worth', 'place years', 'place yelp', 'placed', 'placed order', 'places', 'places eat', 'places like', 'places phoenix', 'places town', 'places try', 'places valley', 'places ve', 'placing', 'plain', 'plain simple', 'plan', 'plane', 'planet', 'planned', 'planning', 'plans', 'plant', 'plants', 'plastic', 'plate', 'plates', 'platter', 'play', 'played', 'player', 'players', 'playing', 'plays', 'plaza', 'pleasant', 'pleasant experience', 'pleasant surprise', 'pleasantly', 'pleasantly surprised', 'pleased', 'pleasing', 'pleasure', 'plentiful', 'plenty', 'plenty food', 'plenty parking', 'plenty seating', 'plethora', 'plus', 'plus actually', 'plush', 'pm', 'po', 'poached', 'poblano', 'pocket', 'pockets', 'point', 'point view', 'pointed', 'pointing', 'points', 'poisoning', 'poker', 'police', 'policy', 'polish', 'polished', 'polite', 'politely', 'pollo', 'pomegranate', 'pool', 'pool great', 'pool tables', 'pools', 'poor', 'poor experience', 'poor quality', 'poor service', 'poorly', 'pop', 'popcorn', 'popped', 'pops', 'popular', 'pork', 'pork belly', 'pork chicken', 'pork chop', 'pork dish', 'pork sandwich', 'pork tacos', 'pork tenderloin', 'portion', 'portion huge', 'portion size', 'portion sizes', 'portioned', 'portions', 'portions good', 'portions huge', 'portions small', 'posh', 'positive', 'possible', 'possibly', 'possibly best', 'post', 'posted', 'postino', 'pot', 'pot pie', 'potato', 'potato fries', 'potato salad', 'potatoes', 'potatoes good', 'potential', 'potstickers', 'pound', 'pounding', 'pounds', 'pour', 'poured', 'powder', 'power', 'practically', 'practice', 'praise', 'prawns', 'pre', 'precious', 'preface', 'prefer', 'preference', 'preferred', 'pregnant', 'premade', 'premium', 'prep', 'preparation', 'prepare', 'prepared', 'preparing', 'presence', 'present', 'presentation', 'presented', 'preservatives', 'press', 'pressed', 'pressure', 'pretend', 'pretentious', 'pretty', 'pretty amazing', 'pretty bad', 'pretty cool', 'pretty damn', 'pretty darn', 'pretty decent', 'pretty good', 'pretty great', 'pretty quickly', 'pretty quiet', 'pretty sure', 'pretzel', 'pretzels', 'previous', 'previous review', 'previously', 'price', 'price range', 'price reasonable', 'price right', 'price tag', 'price yes', 'priced', 'prices', 'prices don', 'prices good', 'prices great', 'prices like', 'prices reasonable', 'pricey', 'pricey worth', 'pricier', 'pricing', 'pride', 'primary', 'prime', 'prime rib', 'print', 'printed', 'prior', 'priority', 'private', 'pro', 'probably', 'probably best', 'probably good', 'problem', 'problems', 'procedure', 'proceeded', 'process', 'processed', 'produce', 'product', 'products', 'professional', 'professional courteous', 'professionalism', 'profit', 'profusely', 'program', 'programs', 'project', 'promise', 'promised', 'promising', 'promote', 'prompt', 'promptly', 'proper', 'properly', 'property', 'proportions', 'props', 'pros', 'prosciutto', 'protein', 'proud', 'prove', 'provide', 'provided', 'provides', 'providing', 'provolone', 'proximity', 'ps', 'pub', 'public', 'public market', 'pudding', 'pull', 'pulled', 'pulled pork', 'pulling', 'pump', 'pumpkin', 'pun', 'pun intended', 'punch', 'punch card', 'puppy', 'purchase', 'purchased', 'purchases', 'purchasing', 'pure', 'puree', 'purple', 'purse', 'push', 'pushed', 'pushy', 'puts', 'putting', 'pv', 'qdoba', 'qt', 'quail', 'quaint', 'qualities', 'quality', 'quality food', 'quality ingredients', 'quality just', 'quality meat', 'quality service', 'quantity', 'quarter', 'queen', 'quesadilla', 'quesadillas', 'queso', 'question', 'questions', 'quick', 'quick easy', 'quick service', 'quickly', 'quiet', 'quinoa', 'quit', 'quite', 'quite bit', 'quite good', 'quite literally', 'quite possibly', 'quite tasty', 'quite time', 'quote', 'quoted', 'ra', 'race', 'rack', 'racks', 'rad', 'radio', 'rail', 'rain', 'rainbow', 'raise', 'raised', 'ran', 'ranch', 'ranch market', 'rancheros', 'random', 'rang', 'range', 'ranged', 'ranging', 'rare', 'rarely', 'raspberry', 'rate', 'rated', 'rates', 'rating', 'ratings', 'rave', 'rave reviews', 'raved', 'raving', 'ravioli', 'raw', 'rays', 'rd', 'reach', 'reaction', 'read', 'read reviews', 'reading', 'reading reviews', 'ready', 'ready leave', 'ready order', 'real', 'real deal', 'real good', 'real mexican', 'reality', 'realize', 'realized', 'really', 'really appreciate', 'really appreciated', 'really bad', 'really big', 'really care', 'really cares', 'really cool', 'really cute', 'really don', 'really enjoy', 'really enjoyed', 'really friendly', 'really fun', 'really good', 'really great', 'really hard', 'really helped', 'really helpful', 'really isn', 'really just', 'really know', 'really knows', 'really like', 'really liked', 'really looking', 'really love', 'really loved', 'really need', 'really nice', 'really really', 'really say', 'really tasty', 'really think', 'really try', 'really want', 'really wanted', 'really wrong', 'reason', 'reasonable', 'reasonable price', 'reasonable prices', 'reasonably', 'reasonably priced', 'reasons', 'reccomend', 'receipt', 'receive', 'received', 'receiving', 'recent', 'recent trip', 'recently', 'recently moved', 'recently took', 'receptionist', 'recipe', 'recognize', 'recognized', 'recommend', 'recommend dr', 'recommend getting', 'recommend going', 'recommend highly', 'recommend office', 'recommend place', 'recommend trying', 'recommendation', 'recommendations', 'recommended', 'recommended place', 'recommending', 'recommends', 'record', 'red', 'red chile', 'red chili', 'red meat', 'red pepper', 'red sauce', 'red velvet', 'red wine', 'reduction', 'reef', 'refer', 'reference', 'referred', 'refill', 'refilled', 'refilling', 'refills', 'refreshing', 'refried', 'refried beans', 'refund', 'refuse', 'refused', 'regarding', 'regardless', 'regards', 'register', 'regret', 'regular', 'regular basis', 'regular menu', 'regularly', 'regulars', 'reiterate', 'related', 'relationship', 'relatively', 'relax', 'relaxed', 'relaxing', 'reliable', 'relief', 'relieved', 'relish', 'relleno', 'rellenos', 'rely', 'remaining', 'remains', 'remember', 'remembered', 'remembering', 'remembers', 'remind', 'reminded', 'reminds', 'remotely', 'removal', 'remove', 'removed', 'renamed', 'renovated', 'rent', 'rental', 'rental car', 'repair', 'repeat', 'repeated', 'repeating', 'replace', 'replaced', 'replacement', 'replied', 'report', 'republic', 'request', 'requested', 'requests', 'require', 'requirement', 'requires', 'rescue', 'research', 'reservation', 'reservations', 'reserved', 'resident', 'resist', 'resort', 'resorts', 'respect', 'responded', 'response', 'responses', 'responsible', 'responsive', 'rest', 'rest day', 'rest menu', 'restaraunt', 'restaurant', 'restaurant bar', 'restaurant best', 'restaurant chef', 'restaurant com', 'restaurant food', 'restaurant good', 'restaurant great', 'restaurant just', 'restaurant love', 'restaurant phoenix', 'restaurant quality', 'restaurant really', 'restaurant serves', 'restaurant service', 'restaurant staff', 'restaurant tempe', 'restaurant valley', 'restaurant ve', 'restaurant week', 'restaurants', 'restaurants phoenix', 'restaurants serve', 'restaurants ve', 'restrictions', 'restroom', 'result', 'results', 'retail', 'retro', 'return', 'returned', 'returning', 'reverse', 'review', 'review place', 'reviewed', 'reviewer', 'reviewers', 'reviewing', 'reviews', 'reviews good', 'reviews people', 'reviews place', 'reviews read', 'reviews yelp', 'revolving', 'rewards', 'rib', 'rib eye', 'ribbon', 'ribeye', 'ribs', 'rice', 'rice beans', 'rice noodles', 'rice paper', 'rice white', 'rich', 'ricotta', 'rid', 'ride', 'rides', 'ridiculous', 'ridiculously', 'riding', 'right', 'right away', 'right door', 'right food', 'right great', 'right home', 'right place', 'right street', 'right time', 'right way', 'right wrong', 'ring', 'rings', 'rio', 'rip', 'ripe', 'ripped', 'risk', 'risotto', 'rita', 'rival', 'river', 'rnr', 'road', 'road trip', 'roaring', 'roaring fork', 'roast', 'roast beef', 'roasted', 'roasted corn', 'roasted garlic', 'roasted pork', 'roasted red', 'robert', 'rock', 'rocket', 'rocks', 'roll', 'rolled', 'rolling', 'rolls', 'roma', 'romaine', 'romantic', 'romantic date', 'rome', 'room', 'room dessert', 'room great', 'room nice', 'room really', 'room service', 'rooms', 'rooms clean', 'roomy', 'roosevelt', 'root', 'root beer', 'rose', 'rosemary', 'ross', 'rotating', 'rotation', 'rough', 'roughly', 'round', 'rounds', 'route', 'routine', 'row', 'royal', 'royal palms', 'rub', 'rubbery', 'rude', 'rudely', 'ruined', 'rule', 'rules', 'rum', 'run', 'running', 'runs', 'rush', 'rushed', 'ruth', 'ruth chris', 'rye', 'sad', 'sadly', 'safe', 'safely', 'safeway', 'sage', 'said', 'said 20', 'said best', 'said don', 'said oh', 'said ok', 'said ve', 'said yes', 'sakana', 'sake', 'salad', 'salad amazing', 'salad bar', 'salad best', 'salad chicken', 'salad dressing', 'salad fresh', 'salad great', 'salad salad', 'salad sandwich', 'salad ve', 'salads', 'salami', 'sale', 'sales', 'salmon', 'salon', 'salsa', 'salsa bar', 'salsas', 'salt', 'salt pepper', 'salted', 'salted caramel', 'salty', 'salty sweet', 'sam', 'sample', 'sampled', 'sampler', 'samples', 'sampling', 'san', 'san diego', 'san francisco', 'sanctuary', 'sand', 'sandwhich', 'sandwhiches', 'sandwich', 'sandwich shop', 'sandwiches', 'sangria', 'sans', 'santa', 'santa fe', 'sarah', 'sashimi', 'sat', 'sat bar', 'sat outside', 'satisfaction', 'satisfied', 'satisfy', 'satisfying', 'saturday', 'saturday morning', 'saturday night', 'saturday nights', 'saturdays', 'sauce', 'sauce amazing', 'sauce best', 'sauce couldn', 'sauce delicious', 'sauce say', 'sauce shrimp', 'sauced', 'sauces', 'sauna', 'sausage', 'sauteed', 'save', 'save money', 'save room', 'save time', 'saved', 'saving', 'savory', 'saw', 'saw place', 'say', 'say bad', 'say best', 'say did', 'say don', 'say food', 'say good', 'say hasn', 'say hello', 'say ordered', 'say place', 'say ve', 'say won', 'say wow', 'sayin', 'saying', 'saying just', 'says', 'scale', 'scallop', 'scallops', 'scared', 'scary', 'scattered', 'scene', 'scenery', 'schedule', 'scheduled', 'school', 'scone', 'scoop', 'scoops', 'score', 'scored', 'scott', 'scottsdale', 'scottsdale great', 'scottsdale location', 'scottsdale road', 'scrambled', 'scrambled eggs', 'scratch', 'scream', 'screamed', 'screaming', 'screen', 'screens', 'screw', 'scrumptious', 'sea', 'sea bass', 'seafood', 'sealed', 'search', 'searched', 'searching', 'seared', 'season', 'seasonal', 'seasoned', 'seasoned perfectly', 'seasoning', 'seat', 'seated', 'seated promptly', 'seated right', 'seating', 'seating area', 'seats', 'seattle', 'seaweed', 'seaweed salad', 'second', 'second opinion', 'second time', 'second visit', 'seconds', 'secret', 'section', 'security', 'seeds', 'seeing', 'seen', 'select', 'selected', 'selection', 'selection beers', 'selection favorite', 'selection great', 'selections', 'self', 'self serve', 'sell', 'selling', 'sells', 'semi', 'sen', 'send', 'senior', 'sens', 'sense', 'sensitive', 'sent', 'separate', 'september', 'seriously', 'seriously best', 'serve', 'served', 'server', 'server apologized', 'server brought', 'server came', 'server come', 'server gave', 'server great', 'server said', 'servers', 'serves', 'service', 'service amazing', 'service atmosphere', 'service attentive', 'service awesome', 'service bad', 'service best', 'service better', 'service definitely', 'service delicious', 'service did', 'service excellent', 'service fast', 'service food', 'service friendly', 'service good', 'service great', 'service happy', 'service little', 'service love', 'service makes', 'service nice', 'service notch', 'service outstanding', 'service phenomenal', 'service prompt', 'service quality', 'service really', 'service receive', 'service received', 'service restaurant', 'service service', 'service slow', 'service staff', 'service superb', 'service truly', 'service ve', 'service went', 'service wonderful', 'services', 'serving', 'servings', 'sesame', 'sessions', 'set', 'sets', 'setting', 'settle', 'settled', 'seven', 'severely', 'sex', 'sexy', 'sf', 'sh', 'shabby', 'shack', 'shade', 'shake', 'shakes', 'shaking', 'shall', 'shame', 'shank', 'shape', 'shaped', 'share', 'shared', 'sharing', 'sharp', 'shave', 'shaved', 'shawarma', 'shea', 'sheer', 'sheet', 'sheets', 'shelf', 'shell', 'shells', 'shelves', 'ship', 'shipping', 'shirt', 'shirts', 'shit', 'shock', 'shocked', 'shocking', 'shoe', 'shoes', 'shoot', 'shop', 'shop friendly', 'shopper', 'shopping', 'shopping center', 'shops', 'short', 'short rib', 'short ribs', 'short wait', 'shortly', 'shorts', 'shot', 'shots', 'shoulder', 'shoulders', 'shouldn', 'showed', 'shower', 'showing', 'shown', 'shows', 'shredded', 'shredded beef', 'shrimp', 'shrimp appetizer', 'shrimp ceviche', 'shrimp tacos', 'shut', 'sick', 'sides', 'sides good', 'sigh', 'sight', 'sign', 'signature', 'signed', 'significant', 'signs', 'silly', 'silver', 'silverware', 'similar', 'simple', 'simply', 'simply best', 'simply delicious', 'sincerely', 'sinfully', 'singing', 'single', 'single time', 'sip', 'sirloin', 'sister', 'sit', 'sit eat', 'sit inside', 'sit outside', 'sit patio', 'site', 'sites', 'sitting', 'sitting bar', 'sitting outside', 'sitting patio', 'situated', 'situation', 'sixth', 'size', 'sized', 'sizes', 'sizzling', 'skeptical', 'skillet', 'skills', 'skimp', 'skin', 'skinny', 'skip', 'skipped', 'skipping', 'skirt', 'skirt steak', 'sky', 'sky harbor', 'slammed', 'slaw', 'sleek', 'sleep', 'slice', 'sliced', 'slices', 'slider', 'sliders', 'slight', 'slightly', 'slightly sweet', 'slow', 'slow service', 'slowly', 'smack', 'small', 'small little', 'small room', 'smaller', 'smallest', 'smart', 'smashed', 'smell', 'smelled', 'smelling', 'smells', 'smile', 'smiled', 'smiles', 'smiling', 'smoke', 'smoked', 'smoky', 'smooth', 'smoothie', 'smoothies', 'smoothly', 'smothered', 'snack', 'snacks', 'sneak', 'snickerdoodle', 'snob', 'snooty', 'snow', 'soaked', 'soaking', 'soap', 'social', 'society', 'socks', 'soda', 'sodas', 'soft', 'soft chewy', 'soft fresh', 'soft opening', 'soggy', 'sol', 'sold', 'solely', 'solid', 'solved', 'somebody', 'someday', 'somewhat', 'sommelier', 'son', 'song', 'sonoran', 'sons', 'soo', 'soon', 'sooner', 'sooo', 'sooo good', 'soooo', 'soooo good', 'sooooo', 'sorbet', 'sorry', 'sort', 'sorts', 'soul', 'sound', 'sound like', 'sound quality', 'sounded', 'sounding', 'sounds', 'sounds like', 'soup', 'soup bread', 'soups', 'sour', 'sour cream', 'sour soup', 'source', 'sourdough', 'south', 'south mountain', 'southern', 'southwest', 'southwestern', 'soy', 'soy sauce', 'sp', 'spa', 'space', 'spacious', 'spaghetti', 'spanish', 'spare', 'speak', 'speak english', 'speaker', 'speaking', 'speaks', 'special', 'special event', 'special night', 'special occasion', 'special occasions', 'specials', 'specialty', 'specific', 'specifically', 'spectacular', 'speed', 'speedy', 'spend', 'spend hours', 'spend money', 'spend time', 'spending', 'spending money', 'spent', 'spent lot', 'spent time', 'spice', 'spiced', 'spices', 'spiciness', 'spicy', 'spicy sauce', 'spilled', 'spin', 'spinach', 'spinach artichoke', 'spinach dip', 'spirits', 'spit', 'splash', 'split', 'splitting', 'splurge', 'spoil', 'spoiled', 'spoke', 'spoken', 'spongy', 'spoon', 'sport', 'sports', 'sports bar', 'sports bars', 'spot', 'spotless', 'spots', 'spotted', 'spray', 'spread', 'spring', 'spring roll', 'spring rolls', 'spring training', 'sprinkled', 'sprinkles', 'sprouts', 'square', 'squash', 'squeeze', 'squeezed', 'squeezing', 'st', 'st francis', 'stab', 'stack', 'stacked', 'stadium', 'staff', 'staff amazing', 'staff attentive', 'staff awesome', 'staff extremely', 'staff friendly', 'staff good', 'staff great', 'staff helpful', 'staff just', 'staff kind', 'staff make', 'staff member', 'staff nice', 'staff notch', 'staff pleasant', 'staff really', 'staff rude', 'staff super', 'stage', 'stale', 'stand', 'standard', 'standards', 'standing', 'standout', 'stands', 'staple', 'star', 'star rating', 'star review', 'starbucks', 'staring', 'stars', 'stars just', 'stars place', 'stars ve', 'start', 'start finish', 'start meal', 'start saying', 'started', 'starter', 'starters', 'starting', 'starts', 'starving', 'state', 'stated', 'statement', 'states', 'station', 'stations', 'stay', 'stay away', 'stayed', 'staying', 'stays', 'steak', 'steak fantastic', 'steak house', 'steak sandwich', 'steakhouse', 'steaks', 'steal', 'stealing', 'steam', 'steam room', 'steamed', 'steep', 'stellar', 'step', 'stepped', 'stepping', 'steps', 'stetson', 'steve', 'stew', 'stick', 'sticks', 'sticky', 'stingy', 'stinky', 'stir', 'stir fry', 'stock', 'stocked', 'stole', 'stolen', 'stomach', 'stone', 'stood', 'stop', 'stop shop', 'stop talking', 'stopped', 'stopped lunch', 'stopping', 'stops', 'store', 'store clean', 'store just', 'stores', 'story', 'stout', 'straight', 'strange', 'straw', 'strawberries', 'strawberry', 'stream', 'street', 'street tacos', 'streets', 'stress', 'stressed', 'stretch', 'strictly', 'strip', 'strip mall', 'strips', 'strong', 'strongly', 'strongly recommend', 'struggled', 'struggling', 'stuck', 'student', 'students', 'studio', 'study', 'stuff', 'stuff like', 'stuffed', 'stuffed mushrooms', 'stuffing', 'stuffy', 'stumbled', 'stunned', 'stunning', 'stupid', 'style', 'style food', 'styles', 'stylish', 'stylist', 'sub', 'sub par', 'sublime', 'subs', 'substitute', 'subtle', 'subway', 'success', 'successful', 'succulent', 'suck', 'sucked', 'sucker', 'sucking', 'sucks', 'suffered', 'sugar', 'sugar free', 'suggest', 'suggested', 'suggestion', 'suggestions', 'suggests', 'suit', 'suite', 'sum', 'summary', 'summer', 'sun', 'sun dried', 'sundae', 'sunday', 'sunday afternoon', 'sunday brunch', 'sunday morning', 'sundays', 'sunny', 'suns', 'sunset', 'sunshine', 'super', 'super cheap', 'super clean', 'super cute', 'super delicious', 'super friendly', 'super nice', 'superb', 'superior', 'superstition', 'supplies', 'supply', 'support', 'support local', 'supporting', 'supporting local', 'suppose', 'supposed', 'supposedly', 'supreme', 'sure', 'sure bring', 'sure check', 'sure happy', 'sure just', 'sure make', 'sure order', 'sure taken', 'sure try', 'sure use', 'sure want', 'surely', 'surgery', 'surprise', 'surprised', 'surprising', 'surprisingly', 'surrounded', 'surrounding', 'surroundings', 'survive', 'sushi', 'sushi bar', 'sushi great', 'sushi menu', 'sushi place', 'sushi places', 'sushi restaurant', 'sushi rolls', 'suspect', 'swear', 'sweat', 'sweaty', 'sweeping', 'sweet', 'sweet pea', 'sweet potato', 'sweet potatoes', 'sweet sour', 'sweet spicy', 'sweet tooth', 'sweeter', 'sweetness', 'sweets', 'swim', 'swimming', 'swing', 'swipe', 'swirl', 'swiss', 'switch', 'switched', 'swordfish', 'sympathy', 'symphony', 'syrup', 'tab', 'table', 'table got', 'table ordered', 'table ready', 'tables', 'tables chairs', 'taco', 'taco bell', 'tacos', 'tacos burritos', 'tacos delicious', 'tad', 'tag', 'tahini', 'tai', 'tail', 'taken', 'taken away', 'taken care', 'taken long', 'takeout', 'takes', 'takes time', 'taking', 'taking care', 'talent', 'talented', 'talk', 'talk manager', 'talked', 'talking', 'talks', 'tall', 'tamales', 'tammie', 'tammie coe', 'tan', 'tangy', 'tank', 'tap', 'tapas', 'taquitos', 'target', 'tart', 'tartar', 'taste', 'taste buds', 'taste good', 'taste great', 'taste like', 'tastebuds', 'tasted', 'tasted better', 'tasted fresh', 'tasted good', 'tasted like', 'tasteful', 'tasteless', 'tastes', 'tastes better', 'tastes fresh', 'tastes great', 'tastes like', 'tastiness', 'tasting', 'tasting menu', 'tasty', 'tasty food', 'tataki', 'tater', 'tater tots', 'tattoo', 'taught', 'tax', 'tax tip', 'taylor', 'tea', 'teach', 'teacher', 'teachers', 'team', 'tear', 'tears', 'teas', 'tech', 'technically', 'technique', 'techniques', 'techs', 'ted', 'tee', 'teeth', 'telephone', 'tell', 'tell difference', 'tell good', 'telling', 'tells', 'temp', 'tempe', 'tempe area', 'tempe location', 'tempe marketplace', 'temperature', 'tempura', 'tend', 'tender', 'tender juicy', 'tenderloin', 'tenders', 'tequila', 'teriyaki', 'term', 'terminal', 'terms', 'terrible', 'terrible service', 'terribly', 'terrific', 'test', 'texas', 'texture', 'textures', 'thai', 'thai food', 'thai restaurant', 'thai restaurants', 'thank', 'thank god', 'thank yelp', 'thanked', 'thankful', 'thankfully', 'thanks', 'thanks yelp', 'thanksgiving', 'thats', 'theater', 'theaters', 'thee', 'theirs', 'theme', 'theory', 'therapist', 'thing', 'thing did', 'thing didn', 'thing menu', 'thing place', 'thing really', 'thing ve', 'things', 'things come', 'things food', 'things like', 'things menu', 'things place', 'things say', 'things ve', 'think', 'think food', 'think great', 'think just', 'think ll', 'think make', 'think people', 'think place', 'think really', 'think ve', 'thinking', 'thinks', 'thomas', 'thorough', 'thoroughly', 'thoroughly enjoyed', 'thought', 'thought going', 'thought good', 'thought great', 'thought try', 'thousand', 'threw', 'thrilled', 'throw', 'throwing', 'thrown', 'thumbs', 'thursday', 'thursday night', 'ticket', 'tickets', 'tight', 'tikka', 'tikka masala', 'til', 'till', 'tim', 'time', 'time asked', 'time ate', 'time best', 'time came', 'time come', 'time customers', 'time day', 'time definitely', 'time didn', 'time eat', 'time favorite', 'time food', 'time going', 'time good', 'time great', 'time just', 'time leave', 'time ll', 'time looking', 'time love', 'time make', 'time money', 'time order', 'time ordered', 'time phoenix', 'time place', 'time really', 'time service', 'time store', 'time time', 'time tonight', 'time town', 'time tried', 'time try', 'time ve', 'time visit', 'time wait', 'time went', 'time worth', 'time write', 'time year', 'timely', 'timely manner', 'times', 'times bad', 'times disappointed', 'times food', 'times past', 'times time', 'times ve', 'times week', 'times year', 'timing', 'tiny', 'tiny little', 'tip', 'tips', 'tiramisu', 'tire', 'tired', 'tires', 'tissue', 'title', 'toast', 'toasted', 'today', 'toe', 'toes', 'tofu', 'toilet', 'tokyo', 'told', 'told order', 'told waiter', 'told wanted', 'tom', 'tomato', 'tomato basil', 'tomato salad', 'tomato sauce', 'tomato soup', 'tomatoes', 'tomatoes onions', 'tomorrow', 'ton', 'tone', 'tongue', 'tonic', 'tonight', 'tons', 'took', 'took 10', 'took 30', 'took advantage', 'took bite', 'took care', 'took forever', 'took home', 'took long', 'took order', 'took picture', 'took time', 'tool', 'tools', 'tooth', 'topped', 'topping', 'toppings', 'tops', 'torta', 'tortilla', 'tortilla chips', 'tortilla soup', 'tortillas', 'tossed', 'total', 'total came', 'totally', 'totally worth', 'tots', 'touch', 'touching', 'tough', 'tour', 'tourist', 'tow', 'towel', 'towels', 'tower', 'town', 'town business', 'town guests', 'town scottsdale', 'toys', 'track', 'trade', 'trader', 'trader joe', 'tradition', 'traditional', 'traffic', 'trail', 'trails', 'train', 'training', 'trash', 'travel', 'traveled', 'traveler', 'traveling', 'travels', 'tray', 'treat', 'treat customers', 'treated', 'treated like', 'treatment', 'treatments', 'treats', 'tree', 'trees', 'trek', 'tremendous', 'trendy', 'tried', 'tried couple', 'tried different', 'tried make', 'tried place', 'tries', 'trim', 'trio', 'trip', 'triple', 'trips', 'trivia', 'trouble', 'trout', 'truck', 'trucks', 'true', 'truffle', 'truffles', 'truly', 'truly amazing', 'truly best', 'trust', 'trusted', 'truth', 'try', 'try chicken', 'try different', 'try eat', 'try food', 'try like', 'try ll', 'try love', 'try lunch', 'try menu', 'try new', 'try place', 'try restaurant', 'try won', 'trying', 'trying eat', 'trying new', 'trying place', 'tub', 'tucked', 'tucked away', 'tucson', 'tuesday', 'tuesday night', 'tuesdays', 'tummy', 'tuna', 'tuna roll', 'tuna salad', 'tune', 'tunnel', 'turkey', 'turn', 'turned', 'turning', 'turns', 'tuscan', 'tv', 'tvs', 'twice', 'twice baked', 'twice week', 'twist', 'twitter', 'type', 'type food', 'type place', 'types', 'typical', 'typically', 'tzatziki', 'ugh', 'ugly', 'uh', 'ultimate', 'ultimately', 'um', 'unable', 'unacceptable', 'unbeatable', 'unbelievable', 'unbelievably', 'uncaring', 'uncomfortable', 'undercooked', 'understaffed', 'understand', 'understands', 'understood', 'unforgettable', 'unfortunate', 'unfortunately', 'unfriendly', 'unhappy', 'uni', 'unique', 'unique delicious', 'unique fun', 'unit', 'united', 'united states', 'university', 'unless', 'unlike', 'unlimited', 'unparalleled', 'unpleasant', 'unprofessional', 'unreal', 'unusual', 'unusually', 'upbeat', 'update', 'updated', 'upfront', 'upgraded', 'upper', 'ups', 'upscale', 'upset', 'upstairs', 'urban', 'urgent', 'use', 'used', 'useful', 'useless', 'uses', 'using', 'usual', 'usually', 'usually don', 'usually fan', 'usually just', 'usually like', 'usually order', 'usually pretty', 'utter', 'utterly', 'vacation', 'valentine', 'valentine day', 'valet', 'valley', 'valley ho', 'value', 'vanilla', 'vanilla bean', 'vanilla ice', 'varied', 'varieties', 'variety', 'various', 've', 've able', 've actually', 've bad', 've better', 've bought', 've come', 've coming', 've decided', 've eaten', 've enjoyed', 've experienced', 've fan', 've felt', 've given', 've going', 've good', 've got', 've gotten', 've great', 've heard', 've just', 've life', 've long', 've met', 've ordered', 've phoenix', 've place', 've probably', 've really', 've restaurant', 've said', 've seen', 've service', 've spent', 've stayed', 've taken', 've tasted', 've times', 've tried', 've twice', 've valley', 've ve', 've visited', 've wanted', 'veal', 'vegan', 'vegan vegetarian', 'vegas', 'vegetable', 'vegetables', 'vegetables fresh', 'vegetarian', 'vegetarian options', 'vegetarian vegan', 'vegetarians', 'veggie', 'veggie burger', 'veggie sandwich', 'veggies', 'veggies fresh', 'vehicle', 'velvet', 'velvet cake', 'vendors', 'ventured', 'venue', 'venues', 'verde', 'version', 'versions', 'versus', 'vet', 'vibe', 'video', 'videos', 'vietnam', 'vietnamese', 'vietnamese food', 'vietnamese restaurant', 'vietnamese restaurants', 'view', 'views', 'vig', 'village', 'vinaigrette', 'vine', 'vinegar', 'vintage', 'vip', 'vision', 'visit', 'visit place', 'visited', 'visiting', 'visiting family', 'visitors', 'visits', 'visually', 'vitamins', 'vodka', 'voice', 'volcano', 'volunteer', 'volunteers', 'vouch', 'vs', 'waffle', 'waffle house', 'waffles', 'wait', 'wait 15', 'wait come', 'wait food', 'wait line', 'wait long', 'wait minutes', 'wait pizza', 'wait return', 'wait seated', 'wait staff', 'wait table', 'wait time', 'wait times', 'wait try', 'wait worth', 'waited', 'waited hour', 'waited long', 'waited minutes', 'waited waited', 'waiter', 'waiters', 'waiting', 'waiting hour', 'waiting room', 'waitress', 'waitress came', 'waitress nice', 'waitresses', 'waitstaff', 'wake', 'walk', 'walk door', 'walked', 'walked away', 'walked door', 'walked place', 'walked right', 'walking', 'walking distance', 'walking door', 'walks', 'wall', 'wallet', 'walls', 'walmart', 'walnut', 'walnuts', 'wander', 'wandered', 'wandering', 'wanna', 'want', 'want eat', 'want good', 'want live', 'want order', 'want say', 'want spend', 'want time', 'want try', 'want wait', 'wanted', 'wanted good', 'wanted like', 'wanted try', 'wanting', 'wanting try', 'wants', 'warm', 'warm friendly', 'warmed', 'warned', 'warning', 'warranty', 'wasabi', 'wash', 'washed', 'wasn', 'wasn bad', 'wasn fresh', 'wasn good', 'wasn sure', 'wasnt', 'waste', 'waste money', 'waste time', 'wasted', 'wasting', 'watch', 'watch game', 'watched', 'watching', 'water', 'water glass', 'waterfall', 'waterfront', 'watering', 'waters', 'watery', 'wave', 'wax', 'waxing', 'way', 'way better', 'way eat', 'way home', 'way just', 'way like', 'way really', 'way restaurant', 'way treated', 'way work', 'ways', 'weak', 'wear', 'wearing', 'weather', 'website', 'wedding', 'wedges', 'wednesday', 'wednesdays', 'week', 'week great', 'weekday', 'weekend', 'weekends', 'weekly', 'weeks', 'weeks ago', 'wei', 'weight', 'weird', 'welcome', 'welcomed', 'welcoming', 'went', 'went bar', 'went business', 'went check', 'went dinner', 'went early', 'went friend', 'went home', 'went just', 'went looking', 'went lunch', 'went night', 'went outside', 'went place', 'went store', 'went time', 'went today', 'went way', 'went week', 'weren', 'west', 'west valley', 'western', 'wet', 'whatsoever', 'wheat', 'wheel', 'whim', 'whip', 'whipped', 'white', 'white chocolate', 'white meat', 'white rice', 'white wine', 'whoa', 'whopping', 'wi', 'wi fi', 'wicked', 'wide', 'wide variety', 'wife', 'wife got', 'wife ordered', 'wife said', 'wife went', 'wifi', 'wild', 'wildflower', 'willing', 'willing help', 'win', 'wind', 'window', 'windows', 'windy', 'wine', 'wine bar', 'wine beer', 'wine great', 'wine list', 'wine selection', 'wines', 'wing', 'wings', 'winner', 'winning', 'winter', 'wise', 'wish', 'wish lived', 'wish open', 'wish place', 'wished', 'wishing', 'woke', 'woman', 'women', 'won', 'won disappointed', 'won regret', 'won returning', 'wonder', 'wonderful', 'wonderful experience', 'wonderful food', 'wonderful job', 'wonderful place', 'wonderfully', 'wondering', 'wont', 'wontons', 'woo', 'wood', 'wood fired', 'wooden', 'woods', 'woohoo', 'word', 'words', 'work', 'worked', 'workers', 'working', 'workout', 'works', 'world', 'worn', 'worried', 'worries', 'worry', 'worse', 'worst', 'worst experience', 'worst service', 'worth', 'worth drive', 'worth extra', 'worth going', 'worth mentioning', 'worth money', 'worth penny', 'worth price', 'worth trip', 'worth visit', 'worth wait', 'worthy', 'wouldn', 'wouldn know', 'wouldn want', 'wouldnt', 'wow', 'wow good', 'wow great', 'wow place', 'wowed', 'wrap', 'wrapped', 'wraps', 'write', 'write review', 'writing', 'writing review', 'written', 'wrong', 'wrong place', 'wrote', 'www', 'www yelp', 'ya', 'yard', 'yasu', 'yay', 'yea', 'yeah', 'year', 'year ago', 'year anniversary', 'year old', 'yearly', 'years', 'years ago', 'years going', 'years good', 'years later', 'years old', 'years really', 'years ve', 'yelling', 'yellow', 'yellow tail', 'yelp', 'yelp com', 'yelp event', 'yelp review', 'yelp reviews', 'yelped', 'yelper', 'yelpers', 'yep', 'yes', 'yes place', 'yes pricey', 'yes really', 'yesterday', 'yikes', 'yo', 'yoga', 'yogurt', 'yogurtland', 'york', 'york strip', 'young', 'young man', 'yr', 'yr old', 'yrs', 'yuck', 'yucky', 'yum', 'yum yum', 'yummm', 'yummy', 'yup', 'zen', 'zero', 'zero stars', 'zinburger', 'zoo', 'zucchini']\n"
     ]
    }
   ],
   "source": [
    "# last 50 features\n",
    "print(vect.get_feature_names()[0:])"
   ]
  },
  {
   "cell_type": "code",
   "execution_count": 28,
   "metadata": {
    "executionInfo": {
     "elapsed": 1622,
     "status": "ok",
     "timestamp": 1618745316655,
     "user": {
      "displayName": "Sayan Dey",
      "photoUrl": "https://lh3.googleusercontent.com/a-/AOh14GgqVHJ9o6-7idGiRbNNd4iVc1VjzvuPnwmAnvEtD6U=s64",
      "userId": "03603580465490055794"
     },
     "user_tz": -330
    },
    "id": "7FOv-gMbV5Hw"
   },
   "outputs": [
    {
     "name": "stdout",
     "output_type": "stream",
     "text": [
      "(3064, 7530)\n",
      "(1022, 7530)\n"
     ]
    }
   ],
   "source": [
    "# create document-term matrices\n",
    "X_train_dtm = vect.fit_transform(X_train)\n",
    "X_test_dtm = vect.transform(X_test)\n",
    "print(X_train_dtm.shape)\n",
    "print(X_test_dtm.shape)"
   ]
  },
  {
   "cell_type": "code",
   "execution_count": 29,
   "metadata": {
    "colab": {
     "base_uri": "https://localhost:8080/"
    },
    "executionInfo": {
     "elapsed": 1459,
     "status": "ok",
     "timestamp": 1618745316656,
     "user": {
      "displayName": "Sayan Dey",
      "photoUrl": "https://lh3.googleusercontent.com/a-/AOh14GgqVHJ9o6-7idGiRbNNd4iVc1VjzvuPnwmAnvEtD6U=s64",
      "userId": "03603580465490055794"
     },
     "user_tz": -330
    },
    "id": "Caudcv3wV5H0",
    "outputId": "8e9864d0-6186-43d1-f29f-84cb8b9afa56"
   },
   "outputs": [
    {
     "data": {
      "text/plain": [
       "MultinomialNB()"
      ]
     },
     "execution_count": 29,
     "metadata": {},
     "output_type": "execute_result"
    }
   ],
   "source": [
    "# use Naive Bayes to predict the star rating\n",
    "from sklearn.linear_model import LogisticRegression\n",
    "nb = MultinomialNB()\n",
    "#nb = LogisticRegression()\n",
    "nb.fit(X_train_dtm, y_train)"
   ]
  },
  {
   "cell_type": "code",
   "execution_count": 30,
   "metadata": {
    "colab": {
     "base_uri": "https://localhost:8080/"
    },
    "executionInfo": {
     "elapsed": 1664,
     "status": "ok",
     "timestamp": 1618745317371,
     "user": {
      "displayName": "Sayan Dey",
      "photoUrl": "https://lh3.googleusercontent.com/a-/AOh14GgqVHJ9o6-7idGiRbNNd4iVc1VjzvuPnwmAnvEtD6U=s64",
      "userId": "03603580465490055794"
     },
     "user_tz": -330
    },
    "id": "iV1GOvmbV5H_",
    "outputId": "d26be622-b436-41c9-b967-8006ec2cf90c"
   },
   "outputs": [
    {
     "name": "stdout",
     "output_type": "stream",
     "text": [
      "Number of Features\n",
      "7530\n",
      "Training Accuracy\n",
      "0.9712793733681462\n",
      "Testing Accuracy\n",
      "0.923679060665362\n"
     ]
    }
   ],
   "source": [
    "y_pred_class = nb.predict(X_test_dtm)\n",
    "print(\"Number of Features\")\n",
    "print(X_train_dtm.shape[1])\n",
    "print(\"Training Accuracy\")\n",
    "print(nb.score(X_train_dtm,y_train))\n",
    "print(\"Testing Accuracy\")\n",
    "print(nb.score(X_test_dtm,y_test))"
   ]
  },
  {
   "cell_type": "code",
   "execution_count": 31,
   "metadata": {
    "colab": {
     "base_uri": "https://localhost:8080/"
    },
    "executionInfo": {
     "elapsed": 1498,
     "status": "ok",
     "timestamp": 1618745317372,
     "user": {
      "displayName": "Sayan Dey",
      "photoUrl": "https://lh3.googleusercontent.com/a-/AOh14GgqVHJ9o6-7idGiRbNNd4iVc1VjzvuPnwmAnvEtD6U=s64",
      "userId": "03603580465490055794"
     },
     "user_tz": -330
    },
    "id": "UP-4LAkQV5IC",
    "outputId": "903ce1e5-8b2e-42e8-b934-e5817f0e260e"
   },
   "outputs": [
    {
     "data": {
      "text/plain": [
       "array([5, 5, 5, ..., 5, 1, 5], dtype=int64)"
      ]
     },
     "execution_count": 31,
     "metadata": {},
     "output_type": "execute_result"
    }
   ],
   "source": [
    "y_pred_class"
   ]
  },
  {
   "cell_type": "code",
   "execution_count": 32,
   "metadata": {
    "colab": {
     "base_uri": "https://localhost:8080/"
    },
    "executionInfo": {
     "elapsed": 1372,
     "status": "ok",
     "timestamp": 1618745317373,
     "user": {
      "displayName": "Sayan Dey",
      "photoUrl": "https://lh3.googleusercontent.com/a-/AOh14GgqVHJ9o6-7idGiRbNNd4iVc1VjzvuPnwmAnvEtD6U=s64",
      "userId": "03603580465490055794"
     },
     "user_tz": -330
    },
    "id": "C2ztCn49k--0",
    "outputId": "98949f2d-ad87-4f52-da25-6fb4151e3281"
   },
   "outputs": [
    {
     "data": {
      "text/plain": [
       "3922    Looking a cutting edge, wanting the best for e...\n",
       "8379    Greatness in the form of food, just like the o...\n",
       "4266    The Flower Studio far exceeded my expectations...\n",
       "5577        So yummy! Strange combination but great place\n",
       "537     I've been hearing about these cheesecakes from...\n",
       "                              ...                        \n",
       "6846    Honey jalapeño chicken lollipops and sweet pot...\n",
       "1588                   probably my favorite restaurant :)\n",
       "8451    A philosophical elder of my profession commonl...\n",
       "7903    First, I'm sorry this review is lengthy, but i...\n",
       "8255    You speak Italian to me and provide mouth wate...\n",
       "Name: text, Length: 1022, dtype: object"
      ]
     },
     "execution_count": 32,
     "metadata": {},
     "output_type": "execute_result"
    }
   ],
   "source": [
    "X_test"
   ]
  },
  {
   "cell_type": "code",
   "execution_count": 33,
   "metadata": {
    "colab": {
     "base_uri": "https://localhost:8080/"
    },
    "executionInfo": {
     "elapsed": 1462,
     "status": "ok",
     "timestamp": 1618745318048,
     "user": {
      "displayName": "Sayan Dey",
      "photoUrl": "https://lh3.googleusercontent.com/a-/AOh14GgqVHJ9o6-7idGiRbNNd4iVc1VjzvuPnwmAnvEtD6U=s64",
      "userId": "03603580465490055794"
     },
     "user_tz": -330
    },
    "id": "SWW7yELwV5II",
    "outputId": "842df24b-6c5b-4422-9cb6-ff517ff68d41"
   },
   "outputs": [
    {
     "data": {
      "text/plain": [
       "0.8199608610567515"
      ]
     },
     "execution_count": 33,
     "metadata": {},
     "output_type": "execute_result"
    }
   ],
   "source": [
    "# calculate null accuracy\n",
    "y_test_binary = np.where(y_test==5, 1, 0)\n",
    "max(y_test_binary.mean(), 1 - y_test_binary.mean())"
   ]
  },
  {
   "cell_type": "code",
   "execution_count": 34,
   "metadata": {
    "executionInfo": {
     "elapsed": 1344,
     "status": "ok",
     "timestamp": 1618745318049,
     "user": {
      "displayName": "Sayan Dey",
      "photoUrl": "https://lh3.googleusercontent.com/a-/AOh14GgqVHJ9o6-7idGiRbNNd4iVc1VjzvuPnwmAnvEtD6U=s64",
      "userId": "03603580465490055794"
     },
     "user_tz": -330
    },
    "id": "yiulrsg5V5IO"
   },
   "outputs": [],
   "source": [
    "# define a function that accepts a vectorizer and calculates the accuracy\n",
    "from sklearn.metrics import confusion_matrix,classification_report\n",
    "def tokenize_test(vect):\n",
    "    vect.fit(X_train)\n",
    "    X_train_dtm = vect.transform(X_train)\n",
    "    print ('Features: ', X_train_dtm.shape[1])\n",
    "    X_test_dtm = vect.transform(X_test)\n",
    "    nb = MultinomialNB()\n",
    "    nb.fit(X_train_dtm, y_train)\n",
    "    y_pred_class = nb.predict(X_test_dtm)\n",
    "    print(\"Training Accuracy\")\n",
    "    print(nb.score(X_train_dtm,y_train))\n",
    "    print(\"Testing Accuracy\")\n",
    "    print(nb.score(X_test_dtm,y_test))\n",
    "    print(\"Confusion Matrix\")\n",
    "    print(confusion_matrix(y_test,y_pred_class))\n",
    "    print(\"Classifcation Report\")\n",
    "    print(classification_report(y_test,y_pred_class))"
   ]
  },
  {
   "cell_type": "code",
   "execution_count": 35,
   "metadata": {
    "colab": {
     "base_uri": "https://localhost:8080/"
    },
    "executionInfo": {
     "elapsed": 1939,
     "status": "ok",
     "timestamp": 1618745320200,
     "user": {
      "displayName": "Sayan Dey",
      "photoUrl": "https://lh3.googleusercontent.com/a-/AOh14GgqVHJ9o6-7idGiRbNNd4iVc1VjzvuPnwmAnvEtD6U=s64",
      "userId": "03603580465490055794"
     },
     "user_tz": -330
    },
    "id": "vrfZoI6gV5IQ",
    "outputId": "cd2e6864-9705-4f7a-aba7-ac6fab312573"
   },
   "outputs": [
    {
     "name": "stdout",
     "output_type": "stream",
     "text": [
      "Features:  7530\n",
      "Training Accuracy\n",
      "0.9712793733681462\n",
      "Testing Accuracy\n",
      "0.923679060665362\n",
      "Confusion Matrix\n",
      "[[154  30]\n",
      " [ 48 790]]\n",
      "Classifcation Report\n",
      "              precision    recall  f1-score   support\n",
      "\n",
      "           1       0.76      0.84      0.80       184\n",
      "           5       0.96      0.94      0.95       838\n",
      "\n",
      "    accuracy                           0.92      1022\n",
      "   macro avg       0.86      0.89      0.88      1022\n",
      "weighted avg       0.93      0.92      0.93      1022\n",
      "\n"
     ]
    }
   ],
   "source": [
    "# include 1-grams and 2-grams\n",
    "#vect = CountVectorizer(stop_words='english')\n",
    "vect = CountVectorizer(ngram_range=(1, 2),stop_words='english',min_df=4,lowercase=True)\n",
    "tokenize_test(vect)"
   ]
  },
  {
   "cell_type": "markdown",
   "metadata": {
    "id": "JbWEPFDCV5IW"
   },
   "source": [
    "## 3: Stopword Removal"
   ]
  },
  {
   "cell_type": "markdown",
   "metadata": {
    "id": "xGitbsjTV5IW"
   },
   "source": [
    "- **What:** Remove common words that will likely appear in any text\n",
    "- **Why:** They don't tell you much about your text"
   ]
  },
  {
   "cell_type": "code",
   "execution_count": 36,
   "metadata": {
    "colab": {
     "base_uri": "https://localhost:8080/"
    },
    "executionInfo": {
     "elapsed": 1179,
     "status": "ok",
     "timestamp": 1618745563548,
     "user": {
      "displayName": "Sayan Dey",
      "photoUrl": "https://lh3.googleusercontent.com/a-/AOh14GgqVHJ9o6-7idGiRbNNd4iVc1VjzvuPnwmAnvEtD6U=s64",
      "userId": "03603580465490055794"
     },
     "user_tz": -330
    },
    "id": "80WCnSJyV5IX",
    "outputId": "5120c283-9a11-46ed-a970-4f9e4be8127b"
   },
   "outputs": [
    {
     "data": {
      "text/plain": [
       "CountVectorizer(min_df=4, ngram_range=(1, 2), stop_words='english')"
      ]
     },
     "execution_count": 36,
     "metadata": {},
     "output_type": "execute_result"
    }
   ],
   "source": [
    "# show vectorizer options\n",
    "vect"
   ]
  },
  {
   "cell_type": "markdown",
   "metadata": {
    "id": "kdoTaYcvV5IZ"
   },
   "source": [
    "- **stop_words:** string {'english'}, list, or None (default)\n",
    "- If 'english', a built-in stop word list for English is used.\n",
    "- If a list, that list is assumed to contain stop words, all of which will be removed from the resulting tokens.\n",
    "- If None, no stop words will be used. "
   ]
  },
  {
   "cell_type": "code",
   "execution_count": 37,
   "metadata": {
    "executionInfo": {
     "elapsed": 1073,
     "status": "ok",
     "timestamp": 1618745564941,
     "user": {
      "displayName": "Sayan Dey",
      "photoUrl": "https://lh3.googleusercontent.com/a-/AOh14GgqVHJ9o6-7idGiRbNNd4iVc1VjzvuPnwmAnvEtD6U=s64",
      "userId": "03603580465490055794"
     },
     "user_tz": -330
    },
    "id": "RlekrQUUV5IZ"
   },
   "outputs": [],
   "source": [
    "vect = CountVectorizer(stop_words='english')"
   ]
  },
  {
   "cell_type": "code",
   "execution_count": 38,
   "metadata": {
    "colab": {
     "base_uri": "https://localhost:8080/"
    },
    "executionInfo": {
     "elapsed": 750,
     "status": "ok",
     "timestamp": 1618745567699,
     "user": {
      "displayName": "Sayan Dey",
      "photoUrl": "https://lh3.googleusercontent.com/a-/AOh14GgqVHJ9o6-7idGiRbNNd4iVc1VjzvuPnwmAnvEtD6U=s64",
      "userId": "03603580465490055794"
     },
     "user_tz": -330
    },
    "id": "KT5eRuwYV5Ic",
    "outputId": "d1aa3b48-33aa-4194-b26b-eb7acb0c836f"
   },
   "outputs": [
    {
     "name": "stdout",
     "output_type": "stream",
     "text": [
      "frozenset({'describe', 'etc', 'nor', 'inc', 'again', 'ever', 'after', 'toward', 'before', 'get', 'yourselves', 'therein', 'whenever', 'fire', 'and', 'they', 'top', 'than', 'while', 'your', 'might', 'beyond', 'least', 'seemed', 'whereafter', 'any', 'until', 'would', 'further', 'been', 'another', 'twenty', 'latterly', 'well', 'as', 'thence', 'nothing', 'how', 'an', 'keep', 'into', 'more', 'since', 'front', 'with', 'no', 'something', 'whereas', 'due', 'thin', 'for', 'take', 'give', 'call', 'of', 'am', 'third', 'except', 'below', 'because', 'own', 'yourself', 'only', 'becoming', 'back', 'besides', 'otherwise', 'anyway', 'some', 'done', 'all', 'thick', 'very', 'though', 'indeed', 'our', 'afterwards', 're', 'alone', 'thru', 'someone', 'everyone', 'part', 'these', 'amoungst', 'perhaps', 'him', 'found', 'move', 'everything', 'within', 'nine', 'now', 'sometimes', 'towards', 'somewhere', 'else', 'between', 'con', 'nowhere', 'first', 'co', 'detail', 'where', 'eg', 'fill', 'one', 'fifty', 'by', 'she', 'anything', 'even', 'whence', 'them', 'four', 'should', 'it', 'across', 'forty', 'always', 'be', 'down', 'either', 'whole', 'former', 'could', 'every', 'amongst', 'sometime', 'none', 'is', 'their', 'nobody', 'less', 'we', 'namely', 'amount', 'myself', 'thereby', 'go', 'on', 'throughout', 'rather', 'that', 'hereafter', 'he', 'may', 'enough', 'three', 'have', 'the', 'hasnt', 'are', 'ie', 'ourselves', 'couldnt', 'next', 'empty', 'bill', 'ours', 'behind', 'herein', 'whatever', 'cry', 'hundred', 'its', 'several', 'whither', 'eleven', 'meanwhile', 'already', 'bottom', 'put', 'side', 'wherever', 'sixty', 'there', 'hence', 'through', 'latter', 'via', 'whereupon', 'never', 'so', 'among', 'often', 'i', 'why', 'who', 'anyone', 'itself', 'whereby', 'many', 'around', 'yours', 'whose', 'twelve', 'other', 'his', 'each', 'mine', 'if', 'sincere', 'hereupon', 'when', 'above', 'noone', 'us', 'became', 'once', 'anyhow', 'over', 'ten', 'do', 'a', 'although', 'almost', 'therefore', 'beforehand', 'full', 'up', 'others', 'per', 'whom', 'everywhere', 'upon', 'interest', 'onto', 'become', 'mostly', 'system', 'formerly', 'two', 'most', 'herself', 'thereupon', 'also', 'beside', 'cannot', 'find', 'cant', 'here', 'fifteen', 'five', 'few', 'thus', 'can', 'has', 'will', 'made', 'whoever', 'what', 'ltd', 'out', 'my', 'too', 'without', 'you', 'moreover', 'elsewhere', 'un', 'himself', 'but', 'had', 'off', 'wherein', 'which', 'in', 'those', 'about', 'somehow', 'see', 'during', 'both', 'against', 'under', 'show', 'nevertheless', 'seems', 'her', 'seem', 'hers', 'thereafter', 'to', 'six', 'de', 'last', 'at', 'however', 'from', 'seeming', 'was', 'name', 'becomes', 'such', 'were', 'serious', 'hereby', 'please', 'still', 'or', 'along', 'themselves', 'this', 'eight', 'anywhere', 'whether', 'mill', 'me', 'yet', 'much', 'not', 'being', 'must', 'then', 'together', 'neither', 'same'})\n"
     ]
    }
   ],
   "source": [
    "# set of stop words\n",
    "print(vect.get_stop_words())"
   ]
  },
  {
   "cell_type": "code",
   "execution_count": 39,
   "metadata": {
    "colab": {
     "base_uri": "https://localhost:8080/"
    },
    "executionInfo": {
     "elapsed": 2173,
     "status": "ok",
     "timestamp": 1618745569142,
     "user": {
      "displayName": "Sayan Dey",
      "photoUrl": "https://lh3.googleusercontent.com/a-/AOh14GgqVHJ9o6-7idGiRbNNd4iVc1VjzvuPnwmAnvEtD6U=s64",
      "userId": "03603580465490055794"
     },
     "user_tz": -330
    },
    "id": "SS5x5aFnV5Ih",
    "outputId": "23939f9d-3182-4e6f-dbc9-038642244150"
   },
   "outputs": [
    {
     "name": "stdout",
     "output_type": "stream",
     "text": [
      "Features:  16528\n",
      "Training Accuracy\n",
      "0.9758485639686684\n",
      "Testing Accuracy\n",
      "0.9158512720156555\n",
      "Confusion Matrix\n",
      "[[124  60]\n",
      " [ 26 812]]\n",
      "Classifcation Report\n",
      "              precision    recall  f1-score   support\n",
      "\n",
      "           1       0.83      0.67      0.74       184\n",
      "           5       0.93      0.97      0.95       838\n",
      "\n",
      "    accuracy                           0.92      1022\n",
      "   macro avg       0.88      0.82      0.85      1022\n",
      "weighted avg       0.91      0.92      0.91      1022\n",
      "\n"
     ]
    }
   ],
   "source": [
    "# remove English stop words\n",
    "vect = CountVectorizer(stop_words='english')\n",
    "tokenize_test(vect)"
   ]
  },
  {
   "cell_type": "code",
   "execution_count": 40,
   "metadata": {
    "colab": {
     "base_uri": "https://localhost:8080/"
    },
    "executionInfo": {
     "elapsed": 2824,
     "status": "ok",
     "timestamp": 1618745569808,
     "user": {
      "displayName": "Sayan Dey",
      "photoUrl": "https://lh3.googleusercontent.com/a-/AOh14GgqVHJ9o6-7idGiRbNNd4iVc1VjzvuPnwmAnvEtD6U=s64",
      "userId": "03603580465490055794"
     },
     "user_tz": -330
    },
    "id": "kCUJqWIwV5Io",
    "outputId": "45e2c869-2afd-4801-db30-b9241e9adf7a"
   },
   "outputs": [
    {
     "data": {
      "text/plain": [
       "<3064x16825 sparse matrix of type '<class 'numpy.int64'>'\n",
       "\twith 237720 stored elements in Compressed Sparse Row format>"
      ]
     },
     "execution_count": 40,
     "metadata": {},
     "output_type": "execute_result"
    }
   ],
   "source": [
    "# without stopwords, dtm size\n",
    "vect = CountVectorizer()\n",
    "vect.fit(X_train)\n",
    "vect.transform(X_train)"
   ]
  },
  {
   "cell_type": "code",
   "execution_count": 41,
   "metadata": {
    "colab": {
     "base_uri": "https://localhost:8080/"
    },
    "executionInfo": {
     "elapsed": 1407,
     "status": "ok",
     "timestamp": 1618745571690,
     "user": {
      "displayName": "Sayan Dey",
      "photoUrl": "https://lh3.googleusercontent.com/a-/AOh14GgqVHJ9o6-7idGiRbNNd4iVc1VjzvuPnwmAnvEtD6U=s64",
      "userId": "03603580465490055794"
     },
     "user_tz": -330
    },
    "id": "uRUAneRIV5Ir",
    "outputId": "fdd80e5f-156f-4380-847f-5b7152f1907f"
   },
   "outputs": [
    {
     "data": {
      "text/plain": [
       "<3064x16528 sparse matrix of type '<class 'numpy.int64'>'\n",
       "\twith 143743 stored elements in Compressed Sparse Row format>"
      ]
     },
     "execution_count": 41,
     "metadata": {},
     "output_type": "execute_result"
    }
   ],
   "source": [
    "# with stopwords, dtm size\n",
    "vect = CountVectorizer(stop_words='english')\n",
    "vect.fit(X_train)\n",
    "vect.transform(X_train)"
   ]
  },
  {
   "cell_type": "code",
   "execution_count": 42,
   "metadata": {
    "executionInfo": {
     "elapsed": 1108,
     "status": "ok",
     "timestamp": 1618745605385,
     "user": {
      "displayName": "Sayan Dey",
      "photoUrl": "https://lh3.googleusercontent.com/a-/AOh14GgqVHJ9o6-7idGiRbNNd4iVc1VjzvuPnwmAnvEtD6U=s64",
      "userId": "03603580465490055794"
     },
     "user_tz": -330
    },
    "id": "wMN7IyRNV5Iv"
   },
   "outputs": [],
   "source": [
    "my_additional_stop_words = ['abcd']"
   ]
  },
  {
   "cell_type": "code",
   "execution_count": 43,
   "metadata": {
    "executionInfo": {
     "elapsed": 1238,
     "status": "ok",
     "timestamp": 1618745628024,
     "user": {
      "displayName": "Sayan Dey",
      "photoUrl": "https://lh3.googleusercontent.com/a-/AOh14GgqVHJ9o6-7idGiRbNNd4iVc1VjzvuPnwmAnvEtD6U=s64",
      "userId": "03603580465490055794"
     },
     "user_tz": -330
    },
    "id": "oCQmKC3kV5Iy"
   },
   "outputs": [],
   "source": [
    "from sklearn.feature_extraction import text \n",
    "my_stop_words = text.ENGLISH_STOP_WORDS.union(my_additional_stop_words)"
   ]
  },
  {
   "cell_type": "code",
   "execution_count": 44,
   "metadata": {
    "colab": {
     "base_uri": "https://localhost:8080/"
    },
    "executionInfo": {
     "elapsed": 1513,
     "status": "ok",
     "timestamp": 1618745629348,
     "user": {
      "displayName": "Sayan Dey",
      "photoUrl": "https://lh3.googleusercontent.com/a-/AOh14GgqVHJ9o6-7idGiRbNNd4iVc1VjzvuPnwmAnvEtD6U=s64",
      "userId": "03603580465490055794"
     },
     "user_tz": -330
    },
    "id": "E5wWa8e1V5I7",
    "outputId": "36fc4306-0a6a-4fdd-a61c-2c7cd70fc324"
   },
   "outputs": [
    {
     "data": {
      "text/plain": [
       "<3064x16528 sparse matrix of type '<class 'numpy.int64'>'\n",
       "\twith 143743 stored elements in Compressed Sparse Row format>"
      ]
     },
     "execution_count": 44,
     "metadata": {},
     "output_type": "execute_result"
    }
   ],
   "source": [
    "# with stopwords, dtm size\n",
    "vect = CountVectorizer(stop_words=my_stop_words)\n",
    "vect.fit(X_train)\n",
    "vect.transform(X_train)"
   ]
  },
  {
   "cell_type": "code",
   "execution_count": 45,
   "metadata": {
    "colab": {
     "base_uri": "https://localhost:8080/"
    },
    "executionInfo": {
     "elapsed": 1927,
     "status": "ok",
     "timestamp": 1618745646960,
     "user": {
      "displayName": "Sayan Dey",
      "photoUrl": "https://lh3.googleusercontent.com/a-/AOh14GgqVHJ9o6-7idGiRbNNd4iVc1VjzvuPnwmAnvEtD6U=s64",
      "userId": "03603580465490055794"
     },
     "user_tz": -330
    },
    "id": "rU6QLgT4V5JJ",
    "outputId": "ddd56589-55b2-4d48-ba4b-d7e6d26914ff"
   },
   "outputs": [
    {
     "name": "stdout",
     "output_type": "stream",
     "text": [
      "Features:  16528\n",
      "Training Accuracy\n",
      "0.9758485639686684\n",
      "Testing Accuracy\n",
      "0.9158512720156555\n",
      "Confusion Matrix\n",
      "[[124  60]\n",
      " [ 26 812]]\n",
      "Classifcation Report\n",
      "              precision    recall  f1-score   support\n",
      "\n",
      "           1       0.83      0.67      0.74       184\n",
      "           5       0.93      0.97      0.95       838\n",
      "\n",
      "    accuracy                           0.92      1022\n",
      "   macro avg       0.88      0.82      0.85      1022\n",
      "weighted avg       0.91      0.92      0.91      1022\n",
      "\n"
     ]
    }
   ],
   "source": [
    "# remove updated stop words \n",
    "vect = CountVectorizer(stop_words=my_stop_words)\n",
    "tokenize_test(vect)"
   ]
  },
  {
   "cell_type": "markdown",
   "metadata": {
    "id": "2oXo-TymV5JM"
   },
   "source": [
    "## 4: Other CountVectorizer Options"
   ]
  },
  {
   "cell_type": "markdown",
   "metadata": {
    "id": "U6eceZ7TV5JN"
   },
   "source": [
    "- **max_features:** int or None, default=None\n",
    "- If not None, build a vocabulary that only consider the top max_features ordered by term frequency across the corpus."
   ]
  },
  {
   "cell_type": "code",
   "execution_count": 46,
   "metadata": {
    "colab": {
     "base_uri": "https://localhost:8080/"
    },
    "executionInfo": {
     "elapsed": 1537,
     "status": "ok",
     "timestamp": 1618745653110,
     "user": {
      "displayName": "Sayan Dey",
      "photoUrl": "https://lh3.googleusercontent.com/a-/AOh14GgqVHJ9o6-7idGiRbNNd4iVc1VjzvuPnwmAnvEtD6U=s64",
      "userId": "03603580465490055794"
     },
     "user_tz": -330
    },
    "id": "yP4T-UqeV5JN",
    "outputId": "af54c2af-a8bc-4e84-80ff-9b933aac3a64"
   },
   "outputs": [
    {
     "name": "stdout",
     "output_type": "stream",
     "text": [
      "Features:  100\n",
      "Training Accuracy\n",
      "0.8789164490861618\n",
      "Testing Accuracy\n",
      "0.8698630136986302\n",
      "Confusion Matrix\n",
      "[[108  76]\n",
      " [ 57 781]]\n",
      "Classifcation Report\n",
      "              precision    recall  f1-score   support\n",
      "\n",
      "           1       0.65      0.59      0.62       184\n",
      "           5       0.91      0.93      0.92       838\n",
      "\n",
      "    accuracy                           0.87      1022\n",
      "   macro avg       0.78      0.76      0.77      1022\n",
      "weighted avg       0.87      0.87      0.87      1022\n",
      "\n"
     ]
    }
   ],
   "source": [
    "# remove English stop words and only keep 100 features\n",
    "vect = CountVectorizer(stop_words='english', max_features=100)\n",
    "tokenize_test(vect)"
   ]
  },
  {
   "cell_type": "code",
   "execution_count": 47,
   "metadata": {
    "colab": {
     "base_uri": "https://localhost:8080/"
    },
    "executionInfo": {
     "elapsed": 1438,
     "status": "ok",
     "timestamp": 1618745653110,
     "user": {
      "displayName": "Sayan Dey",
      "photoUrl": "https://lh3.googleusercontent.com/a-/AOh14GgqVHJ9o6-7idGiRbNNd4iVc1VjzvuPnwmAnvEtD6U=s64",
      "userId": "03603580465490055794"
     },
     "user_tz": -330
    },
    "id": "bYlvK8caV5JV",
    "outputId": "d091f7c7-a858-4985-86c9-000e93329ddc"
   },
   "outputs": [
    {
     "name": "stdout",
     "output_type": "stream",
     "text": [
      "['amazing', 'area', 'atmosphere', 'awesome', 'bad', 'bar', 'best', 'better', 'big', 'came', 'cheese', 'chicken', 'clean', 'coffee', 'come', 'day', 'definitely', 'delicious', 'did', 'didn', 'dinner', 'don', 'eat', 'excellent', 'experience', 'favorite', 'feel', 'food', 'free', 'fresh', 'friendly', 'friends', 'going', 'good', 'got', 'great', 'happy', 'home', 'hot', 'hour', 'just', 'know', 'like', 'little', 'll', 'location', 'long', 'looking', 'lot', 'love', 'lunch', 'make', 'meal', 'menu', 'minutes', 'need', 'new', 'nice', 'night', 'order', 'ordered', 'people', 'perfect', 'phoenix', 'pizza', 'place', 'pretty', 'prices', 'really', 'recommend', 'restaurant', 'right', 'said', 'salad', 'sandwich', 'sauce', 'say', 'service', 'staff', 'store', 'sure', 'table', 'thing', 'things', 'think', 'time', 'times', 'took', 'town', 'tried', 'try', 've', 'wait', 'want', 'way', 'went', 'wine', 'work', 'worth', 'years']\n"
     ]
    }
   ],
   "source": [
    "# all 100 features\n",
    "print(vect.get_feature_names())"
   ]
  },
  {
   "cell_type": "code",
   "execution_count": 48,
   "metadata": {
    "colab": {
     "base_uri": "https://localhost:8080/"
    },
    "executionInfo": {
     "elapsed": 2999,
     "status": "ok",
     "timestamp": 1618745655075,
     "user": {
      "displayName": "Sayan Dey",
      "photoUrl": "https://lh3.googleusercontent.com/a-/AOh14GgqVHJ9o6-7idGiRbNNd4iVc1VjzvuPnwmAnvEtD6U=s64",
      "userId": "03603580465490055794"
     },
     "user_tz": -330
    },
    "id": "c_Hv3qo0V5Jm",
    "outputId": "32b1ff58-7381-4e60-b059-02cd76ce5306"
   },
   "outputs": [
    {
     "name": "stdout",
     "output_type": "stream",
     "text": [
      "Features:  100000\n",
      "Training Accuracy\n",
      "0.9924934725848564\n",
      "Testing Accuracy\n",
      "0.8855185909980431\n",
      "Confusion Matrix\n",
      "[[ 72 112]\n",
      " [  5 833]]\n",
      "Classifcation Report\n",
      "              precision    recall  f1-score   support\n",
      "\n",
      "           1       0.94      0.39      0.55       184\n",
      "           5       0.88      0.99      0.93       838\n",
      "\n",
      "    accuracy                           0.89      1022\n",
      "   macro avg       0.91      0.69      0.74      1022\n",
      "weighted avg       0.89      0.89      0.87      1022\n",
      "\n"
     ]
    }
   ],
   "source": [
    "# include 1-grams and 2-grams, and limit the number of features\n",
    "vect = CountVectorizer(ngram_range=(1, 2), max_features=100000)\n",
    "tokenize_test(vect)"
   ]
  },
  {
   "cell_type": "markdown",
   "metadata": {
    "id": "4S_r7h4HV5Jw"
   },
   "source": [
    "- **min_df:** float in range [0.0, 1.0] or int, default=1\n",
    "- When building the vocabulary ignore terms that have a document frequency strictly lower than the given threshold. This value is also called cut-off in the literature. If float, the parameter represents a proportion of documents, integer absolute counts."
   ]
  },
  {
   "cell_type": "code",
   "execution_count": 49,
   "metadata": {
    "colab": {
     "base_uri": "https://localhost:8080/"
    },
    "executionInfo": {
     "elapsed": 3565,
     "status": "ok",
     "timestamp": 1618745656619,
     "user": {
      "displayName": "Sayan Dey",
      "photoUrl": "https://lh3.googleusercontent.com/a-/AOh14GgqVHJ9o6-7idGiRbNNd4iVc1VjzvuPnwmAnvEtD6U=s64",
      "userId": "03603580465490055794"
     },
     "user_tz": -330
    },
    "id": "xh3tI5vKV5Jx",
    "outputId": "927bc642-ae7b-4392-fccf-47d60d3deffd"
   },
   "outputs": [
    {
     "name": "stdout",
     "output_type": "stream",
     "text": [
      "Features:  43957\n",
      "Training Accuracy\n",
      "0.9895561357702349\n",
      "Testing Accuracy\n",
      "0.9324853228962818\n",
      "Confusion Matrix\n",
      "[[137  47]\n",
      " [ 22 816]]\n",
      "Classifcation Report\n",
      "              precision    recall  f1-score   support\n",
      "\n",
      "           1       0.86      0.74      0.80       184\n",
      "           5       0.95      0.97      0.96       838\n",
      "\n",
      "    accuracy                           0.93      1022\n",
      "   macro avg       0.90      0.86      0.88      1022\n",
      "weighted avg       0.93      0.93      0.93      1022\n",
      "\n"
     ]
    }
   ],
   "source": [
    "# include 1-grams and 2-grams, and only include terms that appear at least 2 times\n",
    "vect = CountVectorizer(ngram_range=(1, 2), min_df=2)\n",
    "tokenize_test(vect)"
   ]
  },
  {
   "cell_type": "markdown",
   "metadata": {
    "id": "2fFobBUOV5J4"
   },
   "source": [
    "##  5: Introduction to TextBlob"
   ]
  },
  {
   "cell_type": "markdown",
   "metadata": {
    "id": "2l-iSErRV5J7"
   },
   "source": [
    "TextBlob: \"Simplified Text Processing\""
   ]
  },
  {
   "cell_type": "code",
   "execution_count": 50,
   "metadata": {
    "colab": {
     "base_uri": "https://localhost:8080/",
     "height": 158
    },
    "executionInfo": {
     "elapsed": 3917,
     "status": "ok",
     "timestamp": 1601642810209,
     "user": {
      "displayName": "Sayan Dey",
      "photoUrl": "https://lh3.googleusercontent.com/a-/AOh14GgqVHJ9o6-7idGiRbNNd4iVc1VjzvuPnwmAnvEtD6U=s64",
      "userId": "03603580465490055794"
     },
     "user_tz": -330
    },
    "id": "EL9t4i9HV5J8",
    "outputId": "1ccfc4e5-2e81-42d7-937f-ecfee9ab6b6c"
   },
   "outputs": [
    {
     "name": "stdout",
     "output_type": "stream",
     "text": [
      "My wife took me here on my birthday for breakfast and it was excellent.  The weather was perfect which made sitting outside overlooking their grounds an absolute pleasure.  Our waitress was excellent and our food arrived quickly on the semi-busy Saturday morning.  It looked like the place fills up pretty quickly so the earlier you get here the better.\n",
      "\n",
      "Do yourself a favor and get their Bloody Mary.  It was phenomenal and simply the best I've ever had.  I'm pretty sure they only use ingredients from their garden and blend them fresh when you order it.  It was amazing.\n",
      "\n",
      "While EVERYTHING on the menu looks excellent, I had the white truffle scrambled eggs vegetable skillet and it was tasty and delicious.  It came with 2 pieces of their griddled bread with was amazing and it absolutely made the meal complete.  It was the best \"toast\" I've ever had.\n",
      "\n",
      "Anyway, I can't wait to go back!\n"
     ]
    }
   ],
   "source": [
    "# print the first review\n",
    "print (yelp_best_worst.text[0])"
   ]
  },
  {
   "cell_type": "code",
   "execution_count": 51,
   "metadata": {
    "id": "maanVCcaV5J_"
   },
   "outputs": [],
   "source": [
    "# save it as a TextBlob object\n",
    "review = TextBlob(yelp_best_worst.text[0])"
   ]
  },
  {
   "cell_type": "code",
   "execution_count": 52,
   "metadata": {
    "colab": {
     "base_uri": "https://localhost:8080/",
     "height": 69
    },
    "executionInfo": {
     "elapsed": 2001,
     "status": "ok",
     "timestamp": 1601642819612,
     "user": {
      "displayName": "Sayan Dey",
      "photoUrl": "https://lh3.googleusercontent.com/a-/AOh14GgqVHJ9o6-7idGiRbNNd4iVc1VjzvuPnwmAnvEtD6U=s64",
      "userId": "03603580465490055794"
     },
     "user_tz": -330
    },
    "id": "5U0ZPAtys7W-",
    "outputId": "2f949910-eb29-4210-bae4-1a1ad764cdfb"
   },
   "outputs": [
    {
     "name": "stderr",
     "output_type": "stream",
     "text": [
      "[nltk_data] Downloading package punkt to C:\\Users\\Ranajoy\n",
      "[nltk_data]     Bhattacharya\\AppData\\Roaming\\nltk_data...\n",
      "[nltk_data]   Package punkt is already up-to-date!\n"
     ]
    },
    {
     "data": {
      "text/plain": [
       "True"
      ]
     },
     "execution_count": 52,
     "metadata": {},
     "output_type": "execute_result"
    }
   ],
   "source": [
    "nltk.download('punkt')"
   ]
  },
  {
   "cell_type": "code",
   "execution_count": 53,
   "metadata": {
    "colab": {
     "base_uri": "https://localhost:8080/",
     "height": 54
    },
    "executionInfo": {
     "elapsed": 1073,
     "status": "ok",
     "timestamp": 1601642819614,
     "user": {
      "displayName": "Sayan Dey",
      "photoUrl": "https://lh3.googleusercontent.com/a-/AOh14GgqVHJ9o6-7idGiRbNNd4iVc1VjzvuPnwmAnvEtD6U=s64",
      "userId": "03603580465490055794"
     },
     "user_tz": -330
    },
    "id": "ng0v0gULV5KD",
    "outputId": "de095912-77b5-47a8-bf07-ee0c3ca44e69"
   },
   "outputs": [
    {
     "data": {
      "text/plain": [
       "WordList(['My', 'wife', 'took', 'me', 'here', 'on', 'my', 'birthday', 'for', 'breakfast', 'and', 'it', 'was', 'excellent', 'The', 'weather', 'was', 'perfect', 'which', 'made', 'sitting', 'outside', 'overlooking', 'their', 'grounds', 'an', 'absolute', 'pleasure', 'Our', 'waitress', 'was', 'excellent', 'and', 'our', 'food', 'arrived', 'quickly', 'on', 'the', 'semi-busy', 'Saturday', 'morning', 'It', 'looked', 'like', 'the', 'place', 'fills', 'up', 'pretty', 'quickly', 'so', 'the', 'earlier', 'you', 'get', 'here', 'the', 'better', 'Do', 'yourself', 'a', 'favor', 'and', 'get', 'their', 'Bloody', 'Mary', 'It', 'was', 'phenomenal', 'and', 'simply', 'the', 'best', 'I', \"'ve\", 'ever', 'had', 'I', \"'m\", 'pretty', 'sure', 'they', 'only', 'use', 'ingredients', 'from', 'their', 'garden', 'and', 'blend', 'them', 'fresh', 'when', 'you', 'order', 'it', 'It', 'was', 'amazing', 'While', 'EVERYTHING', 'on', 'the', 'menu', 'looks', 'excellent', 'I', 'had', 'the', 'white', 'truffle', 'scrambled', 'eggs', 'vegetable', 'skillet', 'and', 'it', 'was', 'tasty', 'and', 'delicious', 'It', 'came', 'with', '2', 'pieces', 'of', 'their', 'griddled', 'bread', 'with', 'was', 'amazing', 'and', 'it', 'absolutely', 'made', 'the', 'meal', 'complete', 'It', 'was', 'the', 'best', 'toast', 'I', \"'ve\", 'ever', 'had', 'Anyway', 'I', 'ca', \"n't\", 'wait', 'to', 'go', 'back'])"
      ]
     },
     "execution_count": 53,
     "metadata": {},
     "output_type": "execute_result"
    }
   ],
   "source": [
    "# list the words\n",
    "review.words"
   ]
  },
  {
   "cell_type": "code",
   "execution_count": 54,
   "metadata": {
    "colab": {
     "base_uri": "https://localhost:8080/",
     "height": 224
    },
    "executionInfo": {
     "elapsed": 1601,
     "status": "ok",
     "timestamp": 1601642820892,
     "user": {
      "displayName": "Sayan Dey",
      "photoUrl": "https://lh3.googleusercontent.com/a-/AOh14GgqVHJ9o6-7idGiRbNNd4iVc1VjzvuPnwmAnvEtD6U=s64",
      "userId": "03603580465490055794"
     },
     "user_tz": -330
    },
    "id": "1FVxOp2vV5KK",
    "outputId": "74ed5340-b38e-4792-e783-33752c85861d"
   },
   "outputs": [
    {
     "data": {
      "text/plain": [
       "[Sentence(\"My wife took me here on my birthday for breakfast and it was excellent.\"),\n",
       " Sentence(\"The weather was perfect which made sitting outside overlooking their grounds an absolute pleasure.\"),\n",
       " Sentence(\"Our waitress was excellent and our food arrived quickly on the semi-busy Saturday morning.\"),\n",
       " Sentence(\"It looked like the place fills up pretty quickly so the earlier you get here the better.\"),\n",
       " Sentence(\"Do yourself a favor and get their Bloody Mary.\"),\n",
       " Sentence(\"It was phenomenal and simply the best I've ever had.\"),\n",
       " Sentence(\"I'm pretty sure they only use ingredients from their garden and blend them fresh when you order it.\"),\n",
       " Sentence(\"It was amazing.\"),\n",
       " Sentence(\"While EVERYTHING on the menu looks excellent, I had the white truffle scrambled eggs vegetable skillet and it was tasty and delicious.\"),\n",
       " Sentence(\"It came with 2 pieces of their griddled bread with was amazing and it absolutely made the meal complete.\"),\n",
       " Sentence(\"It was the best \"toast\" I've ever had.\"),\n",
       " Sentence(\"Anyway, I can't wait to go back!\")]"
      ]
     },
     "execution_count": 54,
     "metadata": {},
     "output_type": "execute_result"
    }
   ],
   "source": [
    "# list the sentences\n",
    "review.sentences"
   ]
  },
  {
   "cell_type": "code",
   "execution_count": 55,
   "metadata": {
    "colab": {
     "base_uri": "https://localhost:8080/",
     "height": 158
    },
    "executionInfo": {
     "elapsed": 1390,
     "status": "ok",
     "timestamp": 1601642820901,
     "user": {
      "displayName": "Sayan Dey",
      "photoUrl": "https://lh3.googleusercontent.com/a-/AOh14GgqVHJ9o6-7idGiRbNNd4iVc1VjzvuPnwmAnvEtD6U=s64",
      "userId": "03603580465490055794"
     },
     "user_tz": -330
    },
    "id": "WXXf-MqsV5KN",
    "outputId": "617916c0-078b-4f56-caf8-9406301415a4"
   },
   "outputs": [
    {
     "data": {
      "text/plain": [
       "TextBlob(\"my wife took me here on my birthday for breakfast and it was excellent.  the weather was perfect which made sitting outside overlooking their grounds an absolute pleasure.  our waitress was excellent and our food arrived quickly on the semi-busy saturday morning.  it looked like the place fills up pretty quickly so the earlier you get here the better.\n",
       "\n",
       "do yourself a favor and get their bloody mary.  it was phenomenal and simply the best i've ever had.  i'm pretty sure they only use ingredients from their garden and blend them fresh when you order it.  it was amazing.\n",
       "\n",
       "while everything on the menu looks excellent, i had the white truffle scrambled eggs vegetable skillet and it was tasty and delicious.  it came with 2 pieces of their griddled bread with was amazing and it absolutely made the meal complete.  it was the best \"toast\" i've ever had.\n",
       "\n",
       "anyway, i can't wait to go back!\")"
      ]
     },
     "execution_count": 55,
     "metadata": {},
     "output_type": "execute_result"
    }
   ],
   "source": [
    "# some string methods are available\n",
    "review.lower()"
   ]
  },
  {
   "cell_type": "code",
   "execution_count": null,
   "metadata": {
    "id": "UnjmSi71V5KT"
   },
   "outputs": [],
   "source": []
  },
  {
   "cell_type": "markdown",
   "metadata": {
    "id": "Nr4-EPt2V5KX"
   },
   "source": [
    "##  6: Stemming and Lemmatization"
   ]
  },
  {
   "cell_type": "markdown",
   "metadata": {
    "id": "hCBb6A6KV5KX"
   },
   "source": [
    "**Stemming:**\n",
    "\n",
    "- **What:** Reduce a word to its base/stem/root form\n",
    "- **Why:** Often makes sense to treat related words the same way\n",
    "- **Notes:**\n",
    "    - Uses a \"simple\" and fast rule-based approach\n",
    "    - Stemmed words are usually not shown to users (used for analysis/indexing)\n",
    "    - Some search engines treat words with the same stem as synonyms"
   ]
  },
  {
   "cell_type": "code",
   "execution_count": 56,
   "metadata": {
    "id": "SaV9SrVUV5KY"
   },
   "outputs": [],
   "source": [
    "# initialize stemmer\n",
    "stemmer = SnowballStemmer('english')"
   ]
  },
  {
   "cell_type": "code",
   "execution_count": 57,
   "metadata": {
    "colab": {
     "base_uri": "https://localhost:8080/",
     "height": 54
    },
    "executionInfo": {
     "elapsed": 1381,
     "status": "ok",
     "timestamp": 1601642827650,
     "user": {
      "displayName": "Sayan Dey",
      "photoUrl": "https://lh3.googleusercontent.com/a-/AOh14GgqVHJ9o6-7idGiRbNNd4iVc1VjzvuPnwmAnvEtD6U=s64",
      "userId": "03603580465490055794"
     },
     "user_tz": -330
    },
    "id": "R5NMPmnBV5Ko",
    "outputId": "8d359b62-3705-4cfd-e55d-340aad5ac6bb"
   },
   "outputs": [
    {
     "name": "stdout",
     "output_type": "stream",
     "text": [
      "['my', 'wife', 'took', 'me', 'here', 'on', 'my', 'birthday', 'for', 'breakfast', 'and', 'it', 'was', 'excel', 'the', 'weather', 'was', 'perfect', 'which', 'made', 'sit', 'outsid', 'overlook', 'their', 'ground', 'an', 'absolut', 'pleasur', 'our', 'waitress', 'was', 'excel', 'and', 'our', 'food', 'arriv', 'quick', 'on', 'the', 'semi-busi', 'saturday', 'morn', 'it', 'look', 'like', 'the', 'place', 'fill', 'up', 'pretti', 'quick', 'so', 'the', 'earlier', 'you', 'get', 'here', 'the', 'better', 'do', 'yourself', 'a', 'favor', 'and', 'get', 'their', 'bloodi', 'mari', 'it', 'was', 'phenomen', 'and', 'simpli', 'the', 'best', 'i', 've', 'ever', 'had', 'i', \"'m\", 'pretti', 'sure', 'they', 'onli', 'use', 'ingredi', 'from', 'their', 'garden', 'and', 'blend', 'them', 'fresh', 'when', 'you', 'order', 'it', 'it', 'was', 'amaz', 'while', 'everyth', 'on', 'the', 'menu', 'look', 'excel', 'i', 'had', 'the', 'white', 'truffl', 'scrambl', 'egg', 'veget', 'skillet', 'and', 'it', 'was', 'tasti', 'and', 'delici', 'it', 'came', 'with', '2', 'piec', 'of', 'their', 'griddl', 'bread', 'with', 'was', 'amaz', 'and', 'it', 'absolut', 'made', 'the', 'meal', 'complet', 'it', 'was', 'the', 'best', 'toast', 'i', 've', 'ever', 'had', 'anyway', 'i', 'ca', \"n't\", 'wait', 'to', 'go', 'back']\n"
     ]
    }
   ],
   "source": [
    "# stem each word\n",
    "print ([stemmer.stem(word) for word in review.words])"
   ]
  },
  {
   "cell_type": "markdown",
   "metadata": {
    "id": "IhGK9CaeV5Kq"
   },
   "source": [
    "**Lemmatization**\n",
    "\n",
    "- **What:** Derive the canonical form ('lemma') of a word\n",
    "- **Why:** Can be better than stemming\n",
    "- **Notes:** Uses a dictionary-based approach (slower than stemming)"
   ]
  },
  {
   "cell_type": "code",
   "execution_count": 58,
   "metadata": {
    "colab": {
     "base_uri": "https://localhost:8080/",
     "height": 69
    },
    "executionInfo": {
     "elapsed": 1806,
     "status": "ok",
     "timestamp": 1601642833965,
     "user": {
      "displayName": "Sayan Dey",
      "photoUrl": "https://lh3.googleusercontent.com/a-/AOh14GgqVHJ9o6-7idGiRbNNd4iVc1VjzvuPnwmAnvEtD6U=s64",
      "userId": "03603580465490055794"
     },
     "user_tz": -330
    },
    "id": "xjqUkz7eV5Kq",
    "outputId": "7c080994-6966-4ee0-c258-4f29ffddc072"
   },
   "outputs": [
    {
     "name": "stderr",
     "output_type": "stream",
     "text": [
      "[nltk_data] Downloading package wordnet to C:\\Users\\Ranajoy\n",
      "[nltk_data]     Bhattacharya\\AppData\\Roaming\\nltk_data...\n",
      "[nltk_data]   Unzipping corpora\\wordnet.zip.\n"
     ]
    },
    {
     "data": {
      "text/plain": [
       "True"
      ]
     },
     "execution_count": 58,
     "metadata": {},
     "output_type": "execute_result"
    }
   ],
   "source": [
    "nltk.download('wordnet')"
   ]
  },
  {
   "cell_type": "code",
   "execution_count": 59,
   "metadata": {
    "colab": {
     "base_uri": "https://localhost:8080/",
     "height": 54
    },
    "executionInfo": {
     "elapsed": 3225,
     "status": "ok",
     "timestamp": 1601642840331,
     "user": {
      "displayName": "Sayan Dey",
      "photoUrl": "https://lh3.googleusercontent.com/a-/AOh14GgqVHJ9o6-7idGiRbNNd4iVc1VjzvuPnwmAnvEtD6U=s64",
      "userId": "03603580465490055794"
     },
     "user_tz": -330
    },
    "id": "JdF1yxbXV5Ku",
    "outputId": "326fc5e0-8815-4568-8bf4-6bfd2f788c3f"
   },
   "outputs": [
    {
     "name": "stdout",
     "output_type": "stream",
     "text": [
      "['My', 'wife', 'took', 'me', 'here', 'on', 'my', 'birthday', 'for', 'breakfast', 'and', 'it', 'wa', 'excellent', 'The', 'weather', 'wa', 'perfect', 'which', 'made', 'sitting', 'outside', 'overlooking', 'their', 'ground', 'an', 'absolute', 'pleasure', 'Our', 'waitress', 'wa', 'excellent', 'and', 'our', 'food', 'arrived', 'quickly', 'on', 'the', 'semi-busy', 'Saturday', 'morning', 'It', 'looked', 'like', 'the', 'place', 'fill', 'up', 'pretty', 'quickly', 'so', 'the', 'earlier', 'you', 'get', 'here', 'the', 'better', 'Do', 'yourself', 'a', 'favor', 'and', 'get', 'their', 'Bloody', 'Mary', 'It', 'wa', 'phenomenal', 'and', 'simply', 'the', 'best', 'I', \"'ve\", 'ever', 'had', 'I', \"'m\", 'pretty', 'sure', 'they', 'only', 'use', 'ingredient', 'from', 'their', 'garden', 'and', 'blend', 'them', 'fresh', 'when', 'you', 'order', 'it', 'It', 'wa', 'amazing', 'While', 'EVERYTHING', 'on', 'the', 'menu', 'look', 'excellent', 'I', 'had', 'the', 'white', 'truffle', 'scrambled', 'egg', 'vegetable', 'skillet', 'and', 'it', 'wa', 'tasty', 'and', 'delicious', 'It', 'came', 'with', '2', 'piece', 'of', 'their', 'griddled', 'bread', 'with', 'wa', 'amazing', 'and', 'it', 'absolutely', 'made', 'the', 'meal', 'complete', 'It', 'wa', 'the', 'best', 'toast', 'I', \"'ve\", 'ever', 'had', 'Anyway', 'I', 'ca', \"n't\", 'wait', 'to', 'go', 'back']\n"
     ]
    }
   ],
   "source": [
    "# assume every word is a noun\n",
    "print ([word.lemmatize() for word in review.words])"
   ]
  },
  {
   "cell_type": "code",
   "execution_count": 60,
   "metadata": {
    "colab": {
     "base_uri": "https://localhost:8080/",
     "height": 54
    },
    "executionInfo": {
     "elapsed": 1230,
     "status": "ok",
     "timestamp": 1601642840922,
     "user": {
      "displayName": "Sayan Dey",
      "photoUrl": "https://lh3.googleusercontent.com/a-/AOh14GgqVHJ9o6-7idGiRbNNd4iVc1VjzvuPnwmAnvEtD6U=s64",
      "userId": "03603580465490055794"
     },
     "user_tz": -330
    },
    "id": "hHuL6R_MV5Kw",
    "outputId": "57354b1b-3bd6-403e-f6d6-430349a4d01c"
   },
   "outputs": [
    {
     "name": "stdout",
     "output_type": "stream",
     "text": [
      "['My', 'wife', 'take', 'me', 'here', 'on', 'my', 'birthday', 'for', 'breakfast', 'and', 'it', 'be', 'excellent', 'The', 'weather', 'be', 'perfect', 'which', 'make', 'sit', 'outside', 'overlook', 'their', 'ground', 'an', 'absolute', 'pleasure', 'Our', 'waitress', 'be', 'excellent', 'and', 'our', 'food', 'arrive', 'quickly', 'on', 'the', 'semi-busy', 'Saturday', 'morning', 'It', 'look', 'like', 'the', 'place', 'fill', 'up', 'pretty', 'quickly', 'so', 'the', 'earlier', 'you', 'get', 'here', 'the', 'better', 'Do', 'yourself', 'a', 'favor', 'and', 'get', 'their', 'Bloody', 'Mary', 'It', 'be', 'phenomenal', 'and', 'simply', 'the', 'best', 'I', \"'ve\", 'ever', 'have', 'I', \"'m\", 'pretty', 'sure', 'they', 'only', 'use', 'ingredients', 'from', 'their', 'garden', 'and', 'blend', 'them', 'fresh', 'when', 'you', 'order', 'it', 'It', 'be', 'amaze', 'While', 'EVERYTHING', 'on', 'the', 'menu', 'look', 'excellent', 'I', 'have', 'the', 'white', 'truffle', 'scramble', 'egg', 'vegetable', 'skillet', 'and', 'it', 'be', 'tasty', 'and', 'delicious', 'It', 'come', 'with', '2', 'piece', 'of', 'their', 'griddle', 'bread', 'with', 'be', 'amaze', 'and', 'it', 'absolutely', 'make', 'the', 'meal', 'complete', 'It', 'be', 'the', 'best', 'toast', 'I', \"'ve\", 'ever', 'have', 'Anyway', 'I', 'ca', \"n't\", 'wait', 'to', 'go', 'back']\n"
     ]
    }
   ],
   "source": [
    "# assume every word is a verb\n",
    "print ([word.lemmatize(pos='v') for word in review.words])"
   ]
  },
  {
   "cell_type": "code",
   "execution_count": null,
   "metadata": {
    "id": "fKlUSLVnV5K1"
   },
   "outputs": [],
   "source": []
  },
  {
   "cell_type": "code",
   "execution_count": 61,
   "metadata": {
    "id": "WNFJ87DUV5K8"
   },
   "outputs": [],
   "source": [
    "# define a function that accepts text and returns a list of lemmas\n",
    "def split_into_lemmas(text):\n",
    "    text = text.lower()\n",
    "    words = TextBlob(text).words\n",
    "    return [word.lemmatize() for word in words]"
   ]
  },
  {
   "cell_type": "code",
   "execution_count": 62,
   "metadata": {
    "colab": {
     "base_uri": "https://localhost:8080/",
     "height": 34
    },
    "executionInfo": {
     "elapsed": 1180,
     "status": "ok",
     "timestamp": 1601642841450,
     "user": {
      "displayName": "Sayan Dey",
      "photoUrl": "https://lh3.googleusercontent.com/a-/AOh14GgqVHJ9o6-7idGiRbNNd4iVc1VjzvuPnwmAnvEtD6U=s64",
      "userId": "03603580465490055794"
     },
     "user_tz": -330
    },
    "id": "qP0De5cwV5K_",
    "outputId": "42868b8b-d768-4a5b-ef1f-a1a3c8cce734"
   },
   "outputs": [
    {
     "data": {
      "text/plain": [
       "<function __main__.split_into_lemmas(text)>"
      ]
     },
     "execution_count": 62,
     "metadata": {},
     "output_type": "execute_result"
    }
   ],
   "source": [
    "split_into_lemmas"
   ]
  },
  {
   "cell_type": "code",
   "execution_count": 63,
   "metadata": {
    "id": "cO24Uf7UV5LD"
   },
   "outputs": [],
   "source": [
    "# use split_into_lemmas as the feature extraction function (WARNING: SLOW!)\n",
    "vect = CountVectorizer(analyzer=split_into_lemmas,stop_words='english',ngram_range=(1, 3),min_df=3)"
   ]
  },
  {
   "cell_type": "code",
   "execution_count": 64,
   "metadata": {
    "colab": {
     "base_uri": "https://localhost:8080/",
     "height": 327
    },
    "executionInfo": {
     "elapsed": 21551,
     "status": "ok",
     "timestamp": 1601642863751,
     "user": {
      "displayName": "Sayan Dey",
      "photoUrl": "https://lh3.googleusercontent.com/a-/AOh14GgqVHJ9o6-7idGiRbNNd4iVc1VjzvuPnwmAnvEtD6U=s64",
      "userId": "03603580465490055794"
     },
     "user_tz": -330
    },
    "id": "MI8GqLEvV5LG",
    "outputId": "a6256f9a-5964-42d1-e753-c9cdde6f2fd8"
   },
   "outputs": [
    {
     "name": "stdout",
     "output_type": "stream",
     "text": [
      "Features:  5763\n",
      "Training Accuracy\n",
      "0.9588772845953003\n",
      "Testing Accuracy\n",
      "0.9158512720156555\n",
      "Confusion Matrix\n",
      "[[152  32]\n",
      " [ 54 784]]\n",
      "Classifcation Report\n",
      "              precision    recall  f1-score   support\n",
      "\n",
      "           1       0.74      0.83      0.78       184\n",
      "           5       0.96      0.94      0.95       838\n",
      "\n",
      "    accuracy                           0.92      1022\n",
      "   macro avg       0.85      0.88      0.86      1022\n",
      "weighted avg       0.92      0.92      0.92      1022\n",
      "\n"
     ]
    }
   ],
   "source": [
    "tokenize_test(vect)"
   ]
  },
  {
   "cell_type": "markdown",
   "metadata": {
    "id": "vhjGSxOKV5LS"
   },
   "source": [
    "## 7: Term Frequency-Inverse Document Frequency (TF-IDF)"
   ]
  },
  {
   "cell_type": "markdown",
   "metadata": {
    "id": "WcjmyYa2V5LT"
   },
   "source": [
    "- **What:** Computes \"relative frequency\" that a word appears in a document compared to its frequency across all documents\n",
    "- **Why:** More useful than \"term frequency\" for identifying \"important\" words in each document (high frequency in that document, low frequency in other documents)\n",
    "- **Notes:** Used for search engine scoring, text summarization, document clustering"
   ]
  },
  {
   "cell_type": "code",
   "execution_count": 65,
   "metadata": {
    "id": "WG0y6By0V5LT"
   },
   "outputs": [],
   "source": [
    "# example documents\n",
    "simple_train = ['call you tonight', 'Call me a cab', 'please call me... PLEASE!']"
   ]
  },
  {
   "cell_type": "code",
   "execution_count": 66,
   "metadata": {
    "colab": {
     "base_uri": "https://localhost:8080/",
     "height": 140
    },
    "executionInfo": {
     "elapsed": 18989,
     "status": "ok",
     "timestamp": 1601642864280,
     "user": {
      "displayName": "Sayan Dey",
      "photoUrl": "https://lh3.googleusercontent.com/a-/AOh14GgqVHJ9o6-7idGiRbNNd4iVc1VjzvuPnwmAnvEtD6U=s64",
      "userId": "03603580465490055794"
     },
     "user_tz": -330
    },
    "id": "xHUfTpV5V5LV",
    "outputId": "e5d42e8f-3944-4df2-c4c2-8ad7c8ba2d83"
   },
   "outputs": [
    {
     "data": {
      "text/html": [
       "<div>\n",
       "<style scoped>\n",
       "    .dataframe tbody tr th:only-of-type {\n",
       "        vertical-align: middle;\n",
       "    }\n",
       "\n",
       "    .dataframe tbody tr th {\n",
       "        vertical-align: top;\n",
       "    }\n",
       "\n",
       "    .dataframe thead th {\n",
       "        text-align: right;\n",
       "    }\n",
       "</style>\n",
       "<table border=\"1\" class=\"dataframe\">\n",
       "  <thead>\n",
       "    <tr style=\"text-align: right;\">\n",
       "      <th></th>\n",
       "      <th>cab</th>\n",
       "      <th>call</th>\n",
       "      <th>me</th>\n",
       "      <th>please</th>\n",
       "      <th>tonight</th>\n",
       "      <th>you</th>\n",
       "    </tr>\n",
       "  </thead>\n",
       "  <tbody>\n",
       "    <tr>\n",
       "      <th>0</th>\n",
       "      <td>0</td>\n",
       "      <td>1</td>\n",
       "      <td>0</td>\n",
       "      <td>0</td>\n",
       "      <td>1</td>\n",
       "      <td>1</td>\n",
       "    </tr>\n",
       "    <tr>\n",
       "      <th>1</th>\n",
       "      <td>1</td>\n",
       "      <td>1</td>\n",
       "      <td>1</td>\n",
       "      <td>0</td>\n",
       "      <td>0</td>\n",
       "      <td>0</td>\n",
       "    </tr>\n",
       "    <tr>\n",
       "      <th>2</th>\n",
       "      <td>0</td>\n",
       "      <td>1</td>\n",
       "      <td>1</td>\n",
       "      <td>2</td>\n",
       "      <td>0</td>\n",
       "      <td>0</td>\n",
       "    </tr>\n",
       "  </tbody>\n",
       "</table>\n",
       "</div>"
      ],
      "text/plain": [
       "   cab  call  me  please  tonight  you\n",
       "0    0     1   0       0        1    1\n",
       "1    1     1   1       0        0    0\n",
       "2    0     1   1       2        0    0"
      ]
     },
     "execution_count": 66,
     "metadata": {},
     "output_type": "execute_result"
    }
   ],
   "source": [
    "# Term Frequency\n",
    "vect = CountVectorizer()\n",
    "tf = pd.DataFrame(vect.fit_transform(simple_train).toarray(), columns=vect.get_feature_names())\n",
    "tf"
   ]
  },
  {
   "cell_type": "code",
   "execution_count": 67,
   "metadata": {
    "colab": {
     "base_uri": "https://localhost:8080/",
     "height": 79
    },
    "executionInfo": {
     "elapsed": 18838,
     "status": "ok",
     "timestamp": 1601642864281,
     "user": {
      "displayName": "Sayan Dey",
      "photoUrl": "https://lh3.googleusercontent.com/a-/AOh14GgqVHJ9o6-7idGiRbNNd4iVc1VjzvuPnwmAnvEtD6U=s64",
      "userId": "03603580465490055794"
     },
     "user_tz": -330
    },
    "id": "JRQnGW0sV5LY",
    "outputId": "62d145cc-9f6e-4423-bfe8-0b5d85bfba8e"
   },
   "outputs": [
    {
     "data": {
      "text/html": [
       "<div>\n",
       "<style scoped>\n",
       "    .dataframe tbody tr th:only-of-type {\n",
       "        vertical-align: middle;\n",
       "    }\n",
       "\n",
       "    .dataframe tbody tr th {\n",
       "        vertical-align: top;\n",
       "    }\n",
       "\n",
       "    .dataframe thead th {\n",
       "        text-align: right;\n",
       "    }\n",
       "</style>\n",
       "<table border=\"1\" class=\"dataframe\">\n",
       "  <thead>\n",
       "    <tr style=\"text-align: right;\">\n",
       "      <th></th>\n",
       "      <th>cab</th>\n",
       "      <th>call</th>\n",
       "      <th>me</th>\n",
       "      <th>please</th>\n",
       "      <th>tonight</th>\n",
       "      <th>you</th>\n",
       "    </tr>\n",
       "  </thead>\n",
       "  <tbody>\n",
       "    <tr>\n",
       "      <th>0</th>\n",
       "      <td>1</td>\n",
       "      <td>3</td>\n",
       "      <td>2</td>\n",
       "      <td>1</td>\n",
       "      <td>1</td>\n",
       "      <td>1</td>\n",
       "    </tr>\n",
       "  </tbody>\n",
       "</table>\n",
       "</div>"
      ],
      "text/plain": [
       "   cab  call  me  please  tonight  you\n",
       "0    1     3   2       1        1    1"
      ]
     },
     "execution_count": 67,
     "metadata": {},
     "output_type": "execute_result"
    }
   ],
   "source": [
    "# Document Frequency\n",
    "vect = CountVectorizer(binary=True)\n",
    "df = vect.fit_transform(simple_train).toarray().sum(axis=0)\n",
    "pd.DataFrame(df.reshape(1, 6), columns=vect.get_feature_names())"
   ]
  },
  {
   "cell_type": "code",
   "execution_count": 68,
   "metadata": {
    "colab": {
     "base_uri": "https://localhost:8080/",
     "height": 140
    },
    "executionInfo": {
     "elapsed": 18740,
     "status": "ok",
     "timestamp": 1601642864281,
     "user": {
      "displayName": "Sayan Dey",
      "photoUrl": "https://lh3.googleusercontent.com/a-/AOh14GgqVHJ9o6-7idGiRbNNd4iVc1VjzvuPnwmAnvEtD6U=s64",
      "userId": "03603580465490055794"
     },
     "user_tz": -330
    },
    "id": "Jht-LGnTV5La",
    "outputId": "c1de6fe0-2494-47c2-ca56-f8e6173df114"
   },
   "outputs": [
    {
     "data": {
      "text/html": [
       "<div>\n",
       "<style scoped>\n",
       "    .dataframe tbody tr th:only-of-type {\n",
       "        vertical-align: middle;\n",
       "    }\n",
       "\n",
       "    .dataframe tbody tr th {\n",
       "        vertical-align: top;\n",
       "    }\n",
       "\n",
       "    .dataframe thead th {\n",
       "        text-align: right;\n",
       "    }\n",
       "</style>\n",
       "<table border=\"1\" class=\"dataframe\">\n",
       "  <thead>\n",
       "    <tr style=\"text-align: right;\">\n",
       "      <th></th>\n",
       "      <th>cab</th>\n",
       "      <th>call</th>\n",
       "      <th>me</th>\n",
       "      <th>please</th>\n",
       "      <th>tonight</th>\n",
       "      <th>you</th>\n",
       "    </tr>\n",
       "  </thead>\n",
       "  <tbody>\n",
       "    <tr>\n",
       "      <th>0</th>\n",
       "      <td>0.000000</td>\n",
       "      <td>0.385372</td>\n",
       "      <td>0.000000</td>\n",
       "      <td>0.000000</td>\n",
       "      <td>0.652491</td>\n",
       "      <td>0.652491</td>\n",
       "    </tr>\n",
       "    <tr>\n",
       "      <th>1</th>\n",
       "      <td>0.720333</td>\n",
       "      <td>0.425441</td>\n",
       "      <td>0.547832</td>\n",
       "      <td>0.000000</td>\n",
       "      <td>0.000000</td>\n",
       "      <td>0.000000</td>\n",
       "    </tr>\n",
       "    <tr>\n",
       "      <th>2</th>\n",
       "      <td>0.000000</td>\n",
       "      <td>0.266075</td>\n",
       "      <td>0.342620</td>\n",
       "      <td>0.901008</td>\n",
       "      <td>0.000000</td>\n",
       "      <td>0.000000</td>\n",
       "    </tr>\n",
       "  </tbody>\n",
       "</table>\n",
       "</div>"
      ],
      "text/plain": [
       "        cab      call        me    please   tonight       you\n",
       "0  0.000000  0.385372  0.000000  0.000000  0.652491  0.652491\n",
       "1  0.720333  0.425441  0.547832  0.000000  0.000000  0.000000\n",
       "2  0.000000  0.266075  0.342620  0.901008  0.000000  0.000000"
      ]
     },
     "execution_count": 68,
     "metadata": {},
     "output_type": "execute_result"
    }
   ],
   "source": [
    "# TfidfVectorizer\n",
    "vect = TfidfVectorizer()\n",
    "pd.DataFrame(vect.fit_transform(simple_train).toarray(), columns=vect.get_feature_names())"
   ]
  },
  {
   "cell_type": "markdown",
   "metadata": {
    "id": "H1jiqGGVV5MC"
   },
   "source": [
    " Sentiment Analysis"
   ]
  },
  {
   "cell_type": "code",
   "execution_count": 69,
   "metadata": {
    "id": "HxFOtDyJW2Oi"
   },
   "outputs": [],
   "source": [
    "# save it as a TextBlob object\n",
    "review = TextBlob(yelp_best_worst.text[3])"
   ]
  },
  {
   "cell_type": "code",
   "execution_count": 70,
   "metadata": {
    "colab": {
     "base_uri": "https://localhost:8080/",
     "height": 158
    },
    "executionInfo": {
     "elapsed": 1280,
     "status": "ok",
     "timestamp": 1601642972942,
     "user": {
      "displayName": "Sayan Dey",
      "photoUrl": "https://lh3.googleusercontent.com/a-/AOh14GgqVHJ9o6-7idGiRbNNd4iVc1VjzvuPnwmAnvEtD6U=s64",
      "userId": "03603580465490055794"
     },
     "user_tz": -330
    },
    "id": "lAUB6q2cV5MD",
    "outputId": "ce322afb-5b1c-44ed-ccbc-894e98bc3645"
   },
   "outputs": [
    {
     "name": "stdout",
     "output_type": "stream",
     "text": [
      "Rosie, Dakota, and I LOVE Chaparral Dog Park!!! It's very convenient and surrounded by a lot of paths, a desert xeriscape, baseball fields, ballparks, and a lake with ducks.\n",
      "\n",
      "The Scottsdale Park and Rec Dept. does a wonderful job of keeping the park clean and shaded.  You can find trash cans and poopy-pick up mitts located all over the park and paths.\n",
      "\n",
      "The fenced in area is huge to let the dogs run, play, and sniff!\n"
     ]
    }
   ],
   "source": [
    "print (review)"
   ]
  },
  {
   "cell_type": "code",
   "execution_count": 71,
   "metadata": {
    "colab": {
     "base_uri": "https://localhost:8080/",
     "height": 34
    },
    "executionInfo": {
     "elapsed": 1277,
     "status": "ok",
     "timestamp": 1601642978571,
     "user": {
      "displayName": "Sayan Dey",
      "photoUrl": "https://lh3.googleusercontent.com/a-/AOh14GgqVHJ9o6-7idGiRbNNd4iVc1VjzvuPnwmAnvEtD6U=s64",
      "userId": "03603580465490055794"
     },
     "user_tz": -330
    },
    "id": "y3kGiXcmV5ME",
    "outputId": "27a20b5c-3dd2-4336-e345-97e4c0ff0b1b"
   },
   "outputs": [
    {
     "data": {
      "text/plain": [
       "0.6086458333333333"
      ]
     },
     "execution_count": 71,
     "metadata": {},
     "output_type": "execute_result"
    }
   ],
   "source": [
    "# polarity ranges from -1 (most negative) to 1 (most positive)\n",
    "review.sentiment.polarity"
   ]
  },
  {
   "cell_type": "code",
   "execution_count": 72,
   "metadata": {
    "colab": {
     "base_uri": "https://localhost:8080/",
     "height": 96
    },
    "executionInfo": {
     "elapsed": 1984,
     "status": "ok",
     "timestamp": 1601643038590,
     "user": {
      "displayName": "Sayan Dey",
      "photoUrl": "https://lh3.googleusercontent.com/a-/AOh14GgqVHJ9o6-7idGiRbNNd4iVc1VjzvuPnwmAnvEtD6U=s64",
      "userId": "03603580465490055794"
     },
     "user_tz": -330
    },
    "id": "XOd0DYj-V5MG",
    "outputId": "af41f2ab-75c8-489f-9072-d2cd8f1a2d18"
   },
   "outputs": [
    {
     "data": {
      "text/html": [
       "<div>\n",
       "<style scoped>\n",
       "    .dataframe tbody tr th:only-of-type {\n",
       "        vertical-align: middle;\n",
       "    }\n",
       "\n",
       "    .dataframe tbody tr th {\n",
       "        vertical-align: top;\n",
       "    }\n",
       "\n",
       "    .dataframe thead th {\n",
       "        text-align: right;\n",
       "    }\n",
       "</style>\n",
       "<table border=\"1\" class=\"dataframe\">\n",
       "  <thead>\n",
       "    <tr style=\"text-align: right;\">\n",
       "      <th></th>\n",
       "      <th>business_id</th>\n",
       "      <th>date</th>\n",
       "      <th>review_id</th>\n",
       "      <th>stars</th>\n",
       "      <th>text</th>\n",
       "      <th>type</th>\n",
       "      <th>user_id</th>\n",
       "      <th>cool</th>\n",
       "      <th>useful</th>\n",
       "      <th>funny</th>\n",
       "      <th>length</th>\n",
       "    </tr>\n",
       "  </thead>\n",
       "  <tbody>\n",
       "    <tr>\n",
       "      <th>0</th>\n",
       "      <td>9yKzy9PApeiPPOUJEtnvkg</td>\n",
       "      <td>2011-01-26</td>\n",
       "      <td>fWKvX83p0-ka4JS3dc6E5A</td>\n",
       "      <td>5</td>\n",
       "      <td>My wife took me here on my birthday for breakf...</td>\n",
       "      <td>review</td>\n",
       "      <td>rLtl8ZkDX5vH5nAx9C3q5Q</td>\n",
       "      <td>2</td>\n",
       "      <td>5</td>\n",
       "      <td>0</td>\n",
       "      <td>889</td>\n",
       "    </tr>\n",
       "  </tbody>\n",
       "</table>\n",
       "</div>"
      ],
      "text/plain": [
       "              business_id        date               review_id  stars  \\\n",
       "0  9yKzy9PApeiPPOUJEtnvkg  2011-01-26  fWKvX83p0-ka4JS3dc6E5A      5   \n",
       "\n",
       "                                                text    type  \\\n",
       "0  My wife took me here on my birthday for breakf...  review   \n",
       "\n",
       "                  user_id  cool  useful  funny  length  \n",
       "0  rLtl8ZkDX5vH5nAx9C3q5Q     2       5      0     889  "
      ]
     },
     "execution_count": 72,
     "metadata": {},
     "output_type": "execute_result"
    }
   ],
   "source": [
    "# understanding the apply method\n",
    "yelp['length'] = yelp.text.apply(len)\n",
    "yelp.head(1)"
   ]
  },
  {
   "cell_type": "code",
   "execution_count": 73,
   "metadata": {
    "id": "03GrT411V5MI"
   },
   "outputs": [],
   "source": [
    "# define a function that accepts text and returns the polarity\n",
    "def detect_sentiment(text):\n",
    "    return TextBlob(text).sentiment.polarity"
   ]
  },
  {
   "cell_type": "code",
   "execution_count": 74,
   "metadata": {
    "id": "0C_OMvsgV5MM"
   },
   "outputs": [],
   "source": [
    "# create a new DataFrame column for sentiment (WARNING: SLOW!)\n",
    "yelp['sentiment'] = yelp.text.apply(detect_sentiment)"
   ]
  },
  {
   "cell_type": "code",
   "execution_count": 75,
   "metadata": {
    "colab": {
     "base_uri": "https://localhost:8080/",
     "height": 287
    },
    "executionInfo": {
     "elapsed": 1693,
     "status": "ok",
     "timestamp": 1601643092017,
     "user": {
      "displayName": "Sayan Dey",
      "photoUrl": "https://lh3.googleusercontent.com/a-/AOh14GgqVHJ9o6-7idGiRbNNd4iVc1VjzvuPnwmAnvEtD6U=s64",
      "userId": "03603580465490055794"
     },
     "user_tz": -330
    },
    "id": "0g85fWfWXdwK",
    "outputId": "25eb044b-e3b2-4828-c8fd-39a9f4bd9fd0"
   },
   "outputs": [
    {
     "data": {
      "text/html": [
       "<div>\n",
       "<style scoped>\n",
       "    .dataframe tbody tr th:only-of-type {\n",
       "        vertical-align: middle;\n",
       "    }\n",
       "\n",
       "    .dataframe tbody tr th {\n",
       "        vertical-align: top;\n",
       "    }\n",
       "\n",
       "    .dataframe thead th {\n",
       "        text-align: right;\n",
       "    }\n",
       "</style>\n",
       "<table border=\"1\" class=\"dataframe\">\n",
       "  <thead>\n",
       "    <tr style=\"text-align: right;\">\n",
       "      <th></th>\n",
       "      <th>business_id</th>\n",
       "      <th>date</th>\n",
       "      <th>review_id</th>\n",
       "      <th>stars</th>\n",
       "      <th>text</th>\n",
       "      <th>type</th>\n",
       "      <th>user_id</th>\n",
       "      <th>cool</th>\n",
       "      <th>useful</th>\n",
       "      <th>funny</th>\n",
       "      <th>length</th>\n",
       "      <th>sentiment</th>\n",
       "    </tr>\n",
       "  </thead>\n",
       "  <tbody>\n",
       "    <tr>\n",
       "      <th>23</th>\n",
       "      <td>IJ0o6b8bJFAbG6MjGfBebQ</td>\n",
       "      <td>2010-09-05</td>\n",
       "      <td>Dx9sfFU6Zn0GYOckijom-g</td>\n",
       "      <td>1</td>\n",
       "      <td>U can go there n check the car out. If u wanna...</td>\n",
       "      <td>review</td>\n",
       "      <td>zRlQEDYd_HKp0VS3hnAffA</td>\n",
       "      <td>0</td>\n",
       "      <td>1</td>\n",
       "      <td>1</td>\n",
       "      <td>594</td>\n",
       "      <td>-0.264021</td>\n",
       "    </tr>\n",
       "    <tr>\n",
       "      <th>31</th>\n",
       "      <td>vvA3fbps4F9nGlAEYKk_sA</td>\n",
       "      <td>2012-05-04</td>\n",
       "      <td>S9OVpXat8k5YwWCn6FAgXg</td>\n",
       "      <td>1</td>\n",
       "      <td>Disgusting!  Had a Groupon so my daughter and ...</td>\n",
       "      <td>review</td>\n",
       "      <td>8AMn6644NmBf96xGO3w6OA</td>\n",
       "      <td>0</td>\n",
       "      <td>1</td>\n",
       "      <td>0</td>\n",
       "      <td>361</td>\n",
       "      <td>-0.099091</td>\n",
       "    </tr>\n",
       "    <tr>\n",
       "      <th>35</th>\n",
       "      <td>o1GIYYZJjM6nM03fQs_uEQ</td>\n",
       "      <td>2011-11-30</td>\n",
       "      <td>ApKbwpYJdnhhgP4NbjQw2Q</td>\n",
       "      <td>1</td>\n",
       "      <td>I've eaten here many times, but none as bad as...</td>\n",
       "      <td>review</td>\n",
       "      <td>iwUN95LIaEr75TZE_JC6bg</td>\n",
       "      <td>0</td>\n",
       "      <td>4</td>\n",
       "      <td>3</td>\n",
       "      <td>1198</td>\n",
       "      <td>-0.035973</td>\n",
       "    </tr>\n",
       "    <tr>\n",
       "      <th>61</th>\n",
       "      <td>l4vBbCL9QbGiwLuLKwD_bA</td>\n",
       "      <td>2011-11-22</td>\n",
       "      <td>DJVxOfj2Rw9zklC9tU3i1w</td>\n",
       "      <td>1</td>\n",
       "      <td>I have always been a fan of Burlington's deals...</td>\n",
       "      <td>review</td>\n",
       "      <td>EPROVap0M19Y6_4uf3eCmQ</td>\n",
       "      <td>0</td>\n",
       "      <td>0</td>\n",
       "      <td>0</td>\n",
       "      <td>569</td>\n",
       "      <td>-0.015278</td>\n",
       "    </tr>\n",
       "    <tr>\n",
       "      <th>64</th>\n",
       "      <td>CEswyP-9SsXRNLR9fFGKKw</td>\n",
       "      <td>2012-05-19</td>\n",
       "      <td>GXj4PNAi095-q9ynPYH3kg</td>\n",
       "      <td>1</td>\n",
       "      <td>Another night meeting friends here.  I have to...</td>\n",
       "      <td>review</td>\n",
       "      <td>MjLAe48XNfYlTeFYca5gMw</td>\n",
       "      <td>0</td>\n",
       "      <td>1</td>\n",
       "      <td>2</td>\n",
       "      <td>498</td>\n",
       "      <td>-0.063456</td>\n",
       "    </tr>\n",
       "    <tr>\n",
       "      <th>...</th>\n",
       "      <td>...</td>\n",
       "      <td>...</td>\n",
       "      <td>...</td>\n",
       "      <td>...</td>\n",
       "      <td>...</td>\n",
       "      <td>...</td>\n",
       "      <td>...</td>\n",
       "      <td>...</td>\n",
       "      <td>...</td>\n",
       "      <td>...</td>\n",
       "      <td>...</td>\n",
       "      <td>...</td>\n",
       "    </tr>\n",
       "    <tr>\n",
       "      <th>9924</th>\n",
       "      <td>mhQCxOiqp03qnhGRTtPduw</td>\n",
       "      <td>2012-07-07</td>\n",
       "      <td>PCjnn__E8AzNa2kXFXxTHQ</td>\n",
       "      <td>1</td>\n",
       "      <td>Horrible service.</td>\n",
       "      <td>review</td>\n",
       "      <td>rvaJcf5OIY2So_pkoqDHLQ</td>\n",
       "      <td>0</td>\n",
       "      <td>1</td>\n",
       "      <td>0</td>\n",
       "      <td>17</td>\n",
       "      <td>-1.000000</td>\n",
       "    </tr>\n",
       "    <tr>\n",
       "      <th>9931</th>\n",
       "      <td>C_eWAEOvkHZ_IZYGwjtpmg</td>\n",
       "      <td>2011-04-25</td>\n",
       "      <td>QfdoE-XqEeCsttJH8g0ugQ</td>\n",
       "      <td>1</td>\n",
       "      <td>I love Saddle Ranch for its casual night time ...</td>\n",
       "      <td>review</td>\n",
       "      <td>yhGfcKunPjcy-v-1ppr6oQ</td>\n",
       "      <td>0</td>\n",
       "      <td>2</td>\n",
       "      <td>0</td>\n",
       "      <td>995</td>\n",
       "      <td>-0.064238</td>\n",
       "    </tr>\n",
       "    <tr>\n",
       "      <th>9953</th>\n",
       "      <td>QCxXYA13PtkD3wec47_r8Q</td>\n",
       "      <td>2012-03-14</td>\n",
       "      <td>V2N2TCqnaqMYfg7zXGG-Rg</td>\n",
       "      <td>1</td>\n",
       "      <td>\"Hipster,Trendy\" ????-I think NOT !!!! Very di...</td>\n",
       "      <td>review</td>\n",
       "      <td>JEQ6el2-tLtKJU6k_SpE-w</td>\n",
       "      <td>0</td>\n",
       "      <td>2</td>\n",
       "      <td>0</td>\n",
       "      <td>296</td>\n",
       "      <td>0.049074</td>\n",
       "    </tr>\n",
       "    <tr>\n",
       "      <th>9984</th>\n",
       "      <td>wepFVY82q_tuDzG6lQjHWw</td>\n",
       "      <td>2012-02-12</td>\n",
       "      <td>spusZYROtBKw_5tv3gYm4Q</td>\n",
       "      <td>1</td>\n",
       "      <td>Went last night to Whore Foods to get basics t...</td>\n",
       "      <td>review</td>\n",
       "      <td>W7zmm1uzlyUkEqpSG7PlBw</td>\n",
       "      <td>0</td>\n",
       "      <td>1</td>\n",
       "      <td>2</td>\n",
       "      <td>1673</td>\n",
       "      <td>-0.071673</td>\n",
       "    </tr>\n",
       "    <tr>\n",
       "      <th>9987</th>\n",
       "      <td>r-a-Cn9hxdEnYTtVTB5bMQ</td>\n",
       "      <td>2012-04-07</td>\n",
       "      <td>j9HwZZoBBmJgOlqDSuJcxg</td>\n",
       "      <td>1</td>\n",
       "      <td>The food is delicious.  The service:  discrimi...</td>\n",
       "      <td>review</td>\n",
       "      <td>toPtsUtYoRB-5-ThrOy2Fg</td>\n",
       "      <td>0</td>\n",
       "      <td>0</td>\n",
       "      <td>0</td>\n",
       "      <td>200</td>\n",
       "      <td>0.333333</td>\n",
       "    </tr>\n",
       "  </tbody>\n",
       "</table>\n",
       "<p>749 rows × 12 columns</p>\n",
       "</div>"
      ],
      "text/plain": [
       "                 business_id        date               review_id  stars  \\\n",
       "23    IJ0o6b8bJFAbG6MjGfBebQ  2010-09-05  Dx9sfFU6Zn0GYOckijom-g      1   \n",
       "31    vvA3fbps4F9nGlAEYKk_sA  2012-05-04  S9OVpXat8k5YwWCn6FAgXg      1   \n",
       "35    o1GIYYZJjM6nM03fQs_uEQ  2011-11-30  ApKbwpYJdnhhgP4NbjQw2Q      1   \n",
       "61    l4vBbCL9QbGiwLuLKwD_bA  2011-11-22  DJVxOfj2Rw9zklC9tU3i1w      1   \n",
       "64    CEswyP-9SsXRNLR9fFGKKw  2012-05-19  GXj4PNAi095-q9ynPYH3kg      1   \n",
       "...                      ...         ...                     ...    ...   \n",
       "9924  mhQCxOiqp03qnhGRTtPduw  2012-07-07  PCjnn__E8AzNa2kXFXxTHQ      1   \n",
       "9931  C_eWAEOvkHZ_IZYGwjtpmg  2011-04-25  QfdoE-XqEeCsttJH8g0ugQ      1   \n",
       "9953  QCxXYA13PtkD3wec47_r8Q  2012-03-14  V2N2TCqnaqMYfg7zXGG-Rg      1   \n",
       "9984  wepFVY82q_tuDzG6lQjHWw  2012-02-12  spusZYROtBKw_5tv3gYm4Q      1   \n",
       "9987  r-a-Cn9hxdEnYTtVTB5bMQ  2012-04-07  j9HwZZoBBmJgOlqDSuJcxg      1   \n",
       "\n",
       "                                                   text    type  \\\n",
       "23    U can go there n check the car out. If u wanna...  review   \n",
       "31    Disgusting!  Had a Groupon so my daughter and ...  review   \n",
       "35    I've eaten here many times, but none as bad as...  review   \n",
       "61    I have always been a fan of Burlington's deals...  review   \n",
       "64    Another night meeting friends here.  I have to...  review   \n",
       "...                                                 ...     ...   \n",
       "9924                                  Horrible service.  review   \n",
       "9931  I love Saddle Ranch for its casual night time ...  review   \n",
       "9953  \"Hipster,Trendy\" ????-I think NOT !!!! Very di...  review   \n",
       "9984  Went last night to Whore Foods to get basics t...  review   \n",
       "9987  The food is delicious.  The service:  discrimi...  review   \n",
       "\n",
       "                     user_id  cool  useful  funny  length  sentiment  \n",
       "23    zRlQEDYd_HKp0VS3hnAffA     0       1      1     594  -0.264021  \n",
       "31    8AMn6644NmBf96xGO3w6OA     0       1      0     361  -0.099091  \n",
       "35    iwUN95LIaEr75TZE_JC6bg     0       4      3    1198  -0.035973  \n",
       "61    EPROVap0M19Y6_4uf3eCmQ     0       0      0     569  -0.015278  \n",
       "64    MjLAe48XNfYlTeFYca5gMw     0       1      2     498  -0.063456  \n",
       "...                      ...   ...     ...    ...     ...        ...  \n",
       "9924  rvaJcf5OIY2So_pkoqDHLQ     0       1      0      17  -1.000000  \n",
       "9931  yhGfcKunPjcy-v-1ppr6oQ     0       2      0     995  -0.064238  \n",
       "9953  JEQ6el2-tLtKJU6k_SpE-w     0       2      0     296   0.049074  \n",
       "9984  W7zmm1uzlyUkEqpSG7PlBw     0       1      2    1673  -0.071673  \n",
       "9987  toPtsUtYoRB-5-ThrOy2Fg     0       0      0     200   0.333333  \n",
       "\n",
       "[749 rows x 12 columns]"
      ]
     },
     "execution_count": 75,
     "metadata": {},
     "output_type": "execute_result"
    }
   ],
   "source": [
    "yelp[yelp['stars']==1]"
   ]
  },
  {
   "cell_type": "code",
   "execution_count": 76,
   "metadata": {
    "colab": {
     "base_uri": "https://localhost:8080/",
     "height": 318
    },
    "executionInfo": {
     "elapsed": 13045,
     "status": "ok",
     "timestamp": 1601643069139,
     "user": {
      "displayName": "Sayan Dey",
      "photoUrl": "https://lh3.googleusercontent.com/a-/AOh14GgqVHJ9o6-7idGiRbNNd4iVc1VjzvuPnwmAnvEtD6U=s64",
      "userId": "03603580465490055794"
     },
     "user_tz": -330
    },
    "id": "i08kMot7V5MN",
    "outputId": "86afa7c3-ad7a-49d0-9e4e-d640524e3302"
   },
   "outputs": [
    {
     "data": {
      "text/plain": [
       "<AxesSubplot:title={'center':'sentiment'}, xlabel='stars'>"
      ]
     },
     "execution_count": 76,
     "metadata": {},
     "output_type": "execute_result"
    },
    {
     "data": {
      "image/png": "[encoded data removed]",
      "text/plain": [
       "<Figure size 432x288 with 1 Axes>"
      ]
     },
     "metadata": {
      "needs_background": "light"
     },
     "output_type": "display_data"
    }
   ],
   "source": [
    "# box plot of sentiment grouped by stars\n",
    "yelp.boxplot(column='sentiment', by='stars')"
   ]
  },
  {
   "cell_type": "code",
   "execution_count": 77,
   "metadata": {
    "colab": {
     "base_uri": "https://localhost:8080/",
     "height": 293
    },
    "executionInfo": {
     "elapsed": 1235,
     "status": "ok",
     "timestamp": 1601643372300,
     "user": {
      "displayName": "Sayan Dey",
      "photoUrl": "https://lh3.googleusercontent.com/a-/AOh14GgqVHJ9o6-7idGiRbNNd4iVc1VjzvuPnwmAnvEtD6U=s64",
      "userId": "03603580465490055794"
     },
     "user_tz": -330
    },
    "id": "mFPbpIrZYEX3",
    "outputId": "3a6af35e-2ffe-4a53-e5c0-724a4b32ff55",
    "scrolled": true
   },
   "outputs": [
    {
     "data": {
      "text/html": [
       "<div>\n",
       "<style scoped>\n",
       "    .dataframe tbody tr th:only-of-type {\n",
       "        vertical-align: middle;\n",
       "    }\n",
       "\n",
       "    .dataframe tbody tr th {\n",
       "        vertical-align: top;\n",
       "    }\n",
       "\n",
       "    .dataframe thead th {\n",
       "        text-align: right;\n",
       "    }\n",
       "</style>\n",
       "<table border=\"1\" class=\"dataframe\">\n",
       "  <thead>\n",
       "    <tr style=\"text-align: right;\">\n",
       "      <th></th>\n",
       "      <th>stars</th>\n",
       "      <th>cool</th>\n",
       "      <th>useful</th>\n",
       "      <th>funny</th>\n",
       "      <th>length</th>\n",
       "      <th>sentiment</th>\n",
       "    </tr>\n",
       "  </thead>\n",
       "  <tbody>\n",
       "    <tr>\n",
       "      <th>count</th>\n",
       "      <td>749.0</td>\n",
       "      <td>749.000000</td>\n",
       "      <td>749.000000</td>\n",
       "      <td>749.000000</td>\n",
       "      <td>749.000000</td>\n",
       "      <td>749.000000</td>\n",
       "    </tr>\n",
       "    <tr>\n",
       "      <th>mean</th>\n",
       "      <td>1.0</td>\n",
       "      <td>0.576769</td>\n",
       "      <td>1.604806</td>\n",
       "      <td>1.056075</td>\n",
       "      <td>826.515354</td>\n",
       "      <td>-0.017906</td>\n",
       "    </tr>\n",
       "    <tr>\n",
       "      <th>std</th>\n",
       "      <td>0.0</td>\n",
       "      <td>1.474759</td>\n",
       "      <td>2.302354</td>\n",
       "      <td>2.480309</td>\n",
       "      <td>742.929304</td>\n",
       "      <td>0.210476</td>\n",
       "    </tr>\n",
       "    <tr>\n",
       "      <th>min</th>\n",
       "      <td>1.0</td>\n",
       "      <td>0.000000</td>\n",
       "      <td>0.000000</td>\n",
       "      <td>0.000000</td>\n",
       "      <td>11.000000</td>\n",
       "      <td>-1.000000</td>\n",
       "    </tr>\n",
       "    <tr>\n",
       "      <th>25%</th>\n",
       "      <td>1.0</td>\n",
       "      <td>0.000000</td>\n",
       "      <td>0.000000</td>\n",
       "      <td>0.000000</td>\n",
       "      <td>315.000000</td>\n",
       "      <td>-0.103379</td>\n",
       "    </tr>\n",
       "    <tr>\n",
       "      <th>50%</th>\n",
       "      <td>1.0</td>\n",
       "      <td>0.000000</td>\n",
       "      <td>1.000000</td>\n",
       "      <td>0.000000</td>\n",
       "      <td>600.000000</td>\n",
       "      <td>0.008523</td>\n",
       "    </tr>\n",
       "    <tr>\n",
       "      <th>75%</th>\n",
       "      <td>1.0</td>\n",
       "      <td>1.000000</td>\n",
       "      <td>2.000000</td>\n",
       "      <td>1.000000</td>\n",
       "      <td>1075.000000</td>\n",
       "      <td>0.094707</td>\n",
       "    </tr>\n",
       "    <tr>\n",
       "      <th>max</th>\n",
       "      <td>1.0</td>\n",
       "      <td>17.000000</td>\n",
       "      <td>20.000000</td>\n",
       "      <td>30.000000</td>\n",
       "      <td>4618.000000</td>\n",
       "      <td>1.000000</td>\n",
       "    </tr>\n",
       "  </tbody>\n",
       "</table>\n",
       "</div>"
      ],
      "text/plain": [
       "       stars        cool      useful       funny       length   sentiment\n",
       "count  749.0  749.000000  749.000000  749.000000   749.000000  749.000000\n",
       "mean     1.0    0.576769    1.604806    1.056075   826.515354   -0.017906\n",
       "std      0.0    1.474759    2.302354    2.480309   742.929304    0.210476\n",
       "min      1.0    0.000000    0.000000    0.000000    11.000000   -1.000000\n",
       "25%      1.0    0.000000    0.000000    0.000000   315.000000   -0.103379\n",
       "50%      1.0    0.000000    1.000000    0.000000   600.000000    0.008523\n",
       "75%      1.0    1.000000    2.000000    1.000000  1075.000000    0.094707\n",
       "max      1.0   17.000000   20.000000   30.000000  4618.000000    1.000000"
      ]
     },
     "execution_count": 77,
     "metadata": {},
     "output_type": "execute_result"
    }
   ],
   "source": [
    "onestar = yelp[yelp['stars']==1]\n",
    "onestar.describe()"
   ]
  },
  {
   "cell_type": "code",
   "execution_count": 78,
   "metadata": {
    "colab": {
     "base_uri": "https://localhost:8080/",
     "height": 103
    },
    "executionInfo": {
     "elapsed": 1354,
     "status": "ok",
     "timestamp": 1601643651720,
     "user": {
      "displayName": "Sayan Dey",
      "photoUrl": "https://lh3.googleusercontent.com/a-/AOh14GgqVHJ9o6-7idGiRbNNd4iVc1VjzvuPnwmAnvEtD6U=s64",
      "userId": "03603580465490055794"
     },
     "user_tz": -330
    },
    "id": "F9hAyDnLYZFy",
    "outputId": "051dd078-12a1-47bc-ea12-8dbebe6f32a2"
   },
   "outputs": [
    {
     "data": {
      "text/plain": [
       "array([['iHmfkYeEsIxbAqEj3dloQQ', '2012-07-03', 'N_hL1-fyunhVpDDX6fz9Sg',\n",
       "        1,\n",
       "        \"The owner has changed hands & this place isn't what it used to be.  If you want up to date paper & quality product...go to Scrap Happy OR Crop Girls!\",\n",
       "        'review', 'HY9A-ShZQ1MvdFvEhNY4LQ', 0, 1, 0, 149, 1.0]],\n",
       "      dtype=object)"
      ]
     },
     "execution_count": 78,
     "metadata": {},
     "output_type": "execute_result"
    }
   ],
   "source": [
    "onestar[onestar['sentiment']==1].values"
   ]
  },
  {
   "cell_type": "code",
   "execution_count": 79,
   "metadata": {
    "colab": {
     "base_uri": "https://localhost:8080/",
     "height": 120
    },
    "executionInfo": {
     "elapsed": 1943,
     "status": "ok",
     "timestamp": 1601643869275,
     "user": {
      "displayName": "Sayan Dey",
      "photoUrl": "https://lh3.googleusercontent.com/a-/AOh14GgqVHJ9o6-7idGiRbNNd4iVc1VjzvuPnwmAnvEtD6U=s64",
      "userId": "03603580465490055794"
     },
     "user_tz": -330
    },
    "id": "oUfHtrGcV5MP",
    "outputId": "13a56b4c-172e-47fc-bb05-9f9ca0ed8448"
   },
   "outputs": [
    {
     "data": {
      "text/plain": [
       "254    Our server Gary was awesome. Food was amazing....\n",
       "347    3 syllables for this place. \\nA-MAZ-ING!\\n\\nTh...\n",
       "420                                    LOVE the food!!!!\n",
       "459    Love it!!! Wish we still lived in Arizona as C...\n",
       "679                                     Excellent burger\n",
       "Name: text, dtype: object"
      ]
     },
     "execution_count": 79,
     "metadata": {},
     "output_type": "execute_result"
    }
   ],
   "source": [
    "# reviews with most positive sentiment\n",
    "yelp[yelp.sentiment == 1].text.head()"
   ]
  },
  {
   "cell_type": "code",
   "execution_count": 80,
   "metadata": {
    "colab": {
     "base_uri": "https://localhost:8080/",
     "height": 120
    },
    "executionInfo": {
     "elapsed": 1475,
     "status": "ok",
     "timestamp": 1601643869277,
     "user": {
      "displayName": "Sayan Dey",
      "photoUrl": "https://lh3.googleusercontent.com/a-/AOh14GgqVHJ9o6-7idGiRbNNd4iVc1VjzvuPnwmAnvEtD6U=s64",
      "userId": "03603580465490055794"
     },
     "user_tz": -330
    },
    "id": "X5yMhX4ZV5MR",
    "outputId": "3738cde9-13dc-4b66-eaff-08f435f9050e"
   },
   "outputs": [
    {
     "data": {
      "text/plain": [
       "773     This was absolutely horrible. I got the suprem...\n",
       "1517                  Nasty workers and over priced trash\n",
       "3266    Absolutely awful... these guys have NO idea wh...\n",
       "4766                                       Very bad food!\n",
       "5812        I wouldn't send my worst enemy to this place.\n",
       "Name: text, dtype: object"
      ]
     },
     "execution_count": 80,
     "metadata": {},
     "output_type": "execute_result"
    }
   ],
   "source": [
    "# reviews with most negative sentiment\n",
    "yelp[yelp.sentiment == -1].text.head()"
   ]
  },
  {
   "cell_type": "code",
   "execution_count": 81,
   "metadata": {
    "id": "TbrZtopwV5MS"
   },
   "outputs": [],
   "source": [
    "# widen the column display\n",
    "pd.set_option('max_colwidth', 500)"
   ]
  },
  {
   "cell_type": "code",
   "execution_count": 82,
   "metadata": {
    "colab": {
     "base_uri": "https://localhost:8080/",
     "height": 130
    },
    "executionInfo": {
     "elapsed": 1428,
     "status": "ok",
     "timestamp": 1601643882010,
     "user": {
      "displayName": "Sayan Dey",
      "photoUrl": "https://lh3.googleusercontent.com/a-/AOh14GgqVHJ9o6-7idGiRbNNd4iVc1VjzvuPnwmAnvEtD6U=s64",
      "userId": "03603580465490055794"
     },
     "user_tz": -330
    },
    "id": "ZWcixu3nV5MU",
    "outputId": "ad2ee4a9-56f0-49c1-ff47-96e1801b654c"
   },
   "outputs": [
    {
     "data": {
      "text/html": [
       "<div>\n",
       "<style scoped>\n",
       "    .dataframe tbody tr th:only-of-type {\n",
       "        vertical-align: middle;\n",
       "    }\n",
       "\n",
       "    .dataframe tbody tr th {\n",
       "        vertical-align: top;\n",
       "    }\n",
       "\n",
       "    .dataframe thead th {\n",
       "        text-align: right;\n",
       "    }\n",
       "</style>\n",
       "<table border=\"1\" class=\"dataframe\">\n",
       "  <thead>\n",
       "    <tr style=\"text-align: right;\">\n",
       "      <th></th>\n",
       "      <th>business_id</th>\n",
       "      <th>date</th>\n",
       "      <th>review_id</th>\n",
       "      <th>stars</th>\n",
       "      <th>text</th>\n",
       "      <th>type</th>\n",
       "      <th>user_id</th>\n",
       "      <th>cool</th>\n",
       "      <th>useful</th>\n",
       "      <th>funny</th>\n",
       "      <th>length</th>\n",
       "      <th>sentiment</th>\n",
       "    </tr>\n",
       "  </thead>\n",
       "  <tbody>\n",
       "    <tr>\n",
       "      <th>390</th>\n",
       "      <td>106JT5p8e8Chtd0CZpcARw</td>\n",
       "      <td>2009-08-06</td>\n",
       "      <td>KowGVoP_gygzdSu6Mt3zKQ</td>\n",
       "      <td>5</td>\n",
       "      <td>RIP AZ Coffee Connection.  :(  I stopped by two days ago unaware that they had closed.  I am severely bummed.  This place is irreplaceable!  Damn you, Starbucks and McDonalds!</td>\n",
       "      <td>review</td>\n",
       "      <td>jKeaOrPyJ-dI9SNeVqrbww</td>\n",
       "      <td>1</td>\n",
       "      <td>0</td>\n",
       "      <td>0</td>\n",
       "      <td>175</td>\n",
       "      <td>-0.302083</td>\n",
       "    </tr>\n",
       "  </tbody>\n",
       "</table>\n",
       "</div>"
      ],
      "text/plain": [
       "                business_id        date               review_id  stars  \\\n",
       "390  106JT5p8e8Chtd0CZpcARw  2009-08-06  KowGVoP_gygzdSu6Mt3zKQ      5   \n",
       "\n",
       "                                                                                                                                                                                text  \\\n",
       "390  RIP AZ Coffee Connection.  :(  I stopped by two days ago unaware that they had closed.  I am severely bummed.  This place is irreplaceable!  Damn you, Starbucks and McDonalds!   \n",
       "\n",
       "       type                 user_id  cool  useful  funny  length  sentiment  \n",
       "390  review  jKeaOrPyJ-dI9SNeVqrbww     1       0      0     175  -0.302083  "
      ]
     },
     "execution_count": 82,
     "metadata": {},
     "output_type": "execute_result"
    }
   ],
   "source": [
    "# negative sentiment in a 5-star review\n",
    "yelp[(yelp.stars == 5) & (yelp.sentiment < -0.3)].head(1)"
   ]
  },
  {
   "cell_type": "code",
   "execution_count": 83,
   "metadata": {
    "colab": {
     "base_uri": "https://localhost:8080/",
     "height": 130
    },
    "executionInfo": {
     "elapsed": 1081,
     "status": "ok",
     "timestamp": 1601643882011,
     "user": {
      "displayName": "Sayan Dey",
      "photoUrl": "https://lh3.googleusercontent.com/a-/AOh14GgqVHJ9o6-7idGiRbNNd4iVc1VjzvuPnwmAnvEtD6U=s64",
      "userId": "03603580465490055794"
     },
     "user_tz": -330
    },
    "id": "LoljQ9UdV5MW",
    "outputId": "429e2d7e-90d8-4337-fbcc-227ce24424a7"
   },
   "outputs": [
    {
     "data": {
      "text/html": [
       "<div>\n",
       "<style scoped>\n",
       "    .dataframe tbody tr th:only-of-type {\n",
       "        vertical-align: middle;\n",
       "    }\n",
       "\n",
       "    .dataframe tbody tr th {\n",
       "        vertical-align: top;\n",
       "    }\n",
       "\n",
       "    .dataframe thead th {\n",
       "        text-align: right;\n",
       "    }\n",
       "</style>\n",
       "<table border=\"1\" class=\"dataframe\">\n",
       "  <thead>\n",
       "    <tr style=\"text-align: right;\">\n",
       "      <th></th>\n",
       "      <th>business_id</th>\n",
       "      <th>date</th>\n",
       "      <th>review_id</th>\n",
       "      <th>stars</th>\n",
       "      <th>text</th>\n",
       "      <th>type</th>\n",
       "      <th>user_id</th>\n",
       "      <th>cool</th>\n",
       "      <th>useful</th>\n",
       "      <th>funny</th>\n",
       "      <th>length</th>\n",
       "      <th>sentiment</th>\n",
       "    </tr>\n",
       "  </thead>\n",
       "  <tbody>\n",
       "    <tr>\n",
       "      <th>1781</th>\n",
       "      <td>53YGfwmbW73JhFiemNeyzQ</td>\n",
       "      <td>2012-06-22</td>\n",
       "      <td>Gi-4O3EhE175vujbFGDIew</td>\n",
       "      <td>1</td>\n",
       "      <td>If you like the stuck up Scottsdale vibe this is a good place for you. The food isn't impressive. Nice outdoor seating.</td>\n",
       "      <td>review</td>\n",
       "      <td>Hqgx3IdJAAaoQjvrUnbNvw</td>\n",
       "      <td>0</td>\n",
       "      <td>1</td>\n",
       "      <td>2</td>\n",
       "      <td>119</td>\n",
       "      <td>0.766667</td>\n",
       "    </tr>\n",
       "  </tbody>\n",
       "</table>\n",
       "</div>"
      ],
      "text/plain": [
       "                 business_id        date               review_id  stars  \\\n",
       "1781  53YGfwmbW73JhFiemNeyzQ  2012-06-22  Gi-4O3EhE175vujbFGDIew      1   \n",
       "\n",
       "                                                                                                                         text  \\\n",
       "1781  If you like the stuck up Scottsdale vibe this is a good place for you. The food isn't impressive. Nice outdoor seating.   \n",
       "\n",
       "        type                 user_id  cool  useful  funny  length  sentiment  \n",
       "1781  review  Hqgx3IdJAAaoQjvrUnbNvw     0       1      2     119   0.766667  "
      ]
     },
     "execution_count": 83,
     "metadata": {},
     "output_type": "execute_result"
    }
   ],
   "source": [
    "# positive sentiment in a 1-star review\n",
    "yelp[(yelp.stars == 1) & (yelp.sentiment > 0.5)].head(1)"
   ]
  },
  {
   "cell_type": "code",
   "execution_count": 84,
   "metadata": {
    "id": "M0oWYNHBV5Ma"
   },
   "outputs": [],
   "source": [
    "# reset the column display width\n",
    "pd.reset_option('max_colwidth')"
   ]
  },
  {
   "cell_type": "markdown",
   "metadata": {
    "id": "y5e1brrTV5Mf"
   },
   "source": [
    "## 10: Adding Features to a Document-Term Matrix"
   ]
  },
  {
   "cell_type": "code",
   "execution_count": 85,
   "metadata": {
    "id": "6adXJtvNV5Mg"
   },
   "outputs": [],
   "source": [
    "# create a DataFrame that only contains the 5-star and 1-star reviews\n",
    "yelp_best_worst = yelp[(yelp.stars==5) | (yelp.stars==1)]"
   ]
  },
  {
   "cell_type": "code",
   "execution_count": 86,
   "metadata": {
    "id": "tHWeMHM4V5Mi"
   },
   "outputs": [],
   "source": [
    "# define X and y\n",
    "feature_cols = ['text', 'sentiment', 'cool', 'useful', 'funny']\n",
    "X = yelp_best_worst[feature_cols]\n",
    "y = yelp_best_worst.stars"
   ]
  },
  {
   "cell_type": "code",
   "execution_count": 87,
   "metadata": {
    "id": "qXONO1JtV5Ml"
   },
   "outputs": [],
   "source": [
    "# split into training and testing sets\n",
    "X_train, X_test, y_train, y_test = train_test_split(X, y, random_state=1)"
   ]
  },
  {
   "cell_type": "code",
   "execution_count": 88,
   "metadata": {
    "id": "8IcCtypyV5Mn"
   },
   "outputs": [],
   "source": [
    "# use CountVectorizer with text column only\n",
    "vect = CountVectorizer()"
   ]
  },
  {
   "cell_type": "code",
   "execution_count": 89,
   "metadata": {
    "id": "tkf9hAewV5Mp"
   },
   "outputs": [],
   "source": [
    "X_train_dtm = vect.fit_transform(X_train.text)"
   ]
  },
  {
   "cell_type": "code",
   "execution_count": 90,
   "metadata": {
    "id": "QdibJZWvV5Mr"
   },
   "outputs": [],
   "source": [
    "X_test_dtm = vect.transform(X_test.text)"
   ]
  },
  {
   "cell_type": "code",
   "execution_count": 91,
   "metadata": {
    "colab": {
     "base_uri": "https://localhost:8080/",
     "height": 51
    },
    "executionInfo": {
     "elapsed": 1485,
     "status": "ok",
     "timestamp": 1601643935664,
     "user": {
      "displayName": "Sayan Dey",
      "photoUrl": "https://lh3.googleusercontent.com/a-/AOh14GgqVHJ9o6-7idGiRbNNd4iVc1VjzvuPnwmAnvEtD6U=s64",
      "userId": "03603580465490055794"
     },
     "user_tz": -330
    },
    "id": "hozec-jXV5Mw",
    "outputId": "90908042-a345-4e8f-e13f-0733a222db5b"
   },
   "outputs": [
    {
     "name": "stdout",
     "output_type": "stream",
     "text": [
      "(3064, 16825)\n",
      "(1022, 16825)\n"
     ]
    }
   ],
   "source": [
    "print (X_train_dtm.shape)\n",
    "print (X_test_dtm.shape)"
   ]
  },
  {
   "cell_type": "code",
   "execution_count": 92,
   "metadata": {
    "colab": {
     "base_uri": "https://localhost:8080/",
     "height": 34
    },
    "executionInfo": {
     "elapsed": 1221,
     "status": "ok",
     "timestamp": 1601643937857,
     "user": {
      "displayName": "Sayan Dey",
      "photoUrl": "https://lh3.googleusercontent.com/a-/AOh14GgqVHJ9o6-7idGiRbNNd4iVc1VjzvuPnwmAnvEtD6U=s64",
      "userId": "03603580465490055794"
     },
     "user_tz": -330
    },
    "id": "5aQb4U9wV5M5",
    "outputId": "7ac0a7d2-7a23-4366-f0fa-c9ab541d457c"
   },
   "outputs": [
    {
     "data": {
      "text/plain": [
       "(3064, 4)"
      ]
     },
     "execution_count": 92,
     "metadata": {},
     "output_type": "execute_result"
    }
   ],
   "source": [
    "# shape of other four feature columns\n",
    "X_train.drop('text', axis=1).shape"
   ]
  },
  {
   "cell_type": "code",
   "execution_count": 93,
   "metadata": {
    "colab": {
     "base_uri": "https://localhost:8080/",
     "height": 34
    },
    "executionInfo": {
     "elapsed": 1311,
     "status": "ok",
     "timestamp": 1601643939429,
     "user": {
      "displayName": "Sayan Dey",
      "photoUrl": "https://lh3.googleusercontent.com/a-/AOh14GgqVHJ9o6-7idGiRbNNd4iVc1VjzvuPnwmAnvEtD6U=s64",
      "userId": "03603580465490055794"
     },
     "user_tz": -330
    },
    "id": "8A8nHnRMV5M8",
    "outputId": "54d7e399-6d93-4369-c415-b22a0bc8352d"
   },
   "outputs": [
    {
     "data": {
      "text/plain": [
       "(3064, 4)"
      ]
     },
     "execution_count": 93,
     "metadata": {},
     "output_type": "execute_result"
    }
   ],
   "source": [
    "# cast other feature columns to float and convert to a sparse matrix\n",
    "extra = sp.sparse.csr_matrix(X_train.drop('text', axis=1).astype(float))\n",
    "extra.shape"
   ]
  },
  {
   "cell_type": "code",
   "execution_count": 94,
   "metadata": {
    "colab": {
     "base_uri": "https://localhost:8080/",
     "height": 34
    },
    "executionInfo": {
     "elapsed": 1059,
     "status": "ok",
     "timestamp": 1601643939432,
     "user": {
      "displayName": "Sayan Dey",
      "photoUrl": "https://lh3.googleusercontent.com/a-/AOh14GgqVHJ9o6-7idGiRbNNd4iVc1VjzvuPnwmAnvEtD6U=s64",
      "userId": "03603580465490055794"
     },
     "user_tz": -330
    },
    "id": "AjUVZKNKV5NA",
    "outputId": "26769c09-adbd-4119-f5f6-91cd02bfef41"
   },
   "outputs": [
    {
     "data": {
      "text/plain": [
       "(3064, 16829)"
      ]
     },
     "execution_count": 94,
     "metadata": {},
     "output_type": "execute_result"
    }
   ],
   "source": [
    "# combine sparse matrices\n",
    "X_train_dtm_extra = sp.sparse.hstack((X_train_dtm, extra))\n",
    "X_train_dtm_extra.shape"
   ]
  },
  {
   "cell_type": "code",
   "execution_count": 95,
   "metadata": {
    "colab": {
     "base_uri": "https://localhost:8080/",
     "height": 34
    },
    "executionInfo": {
     "elapsed": 1447,
     "status": "ok",
     "timestamp": 1601643943240,
     "user": {
      "displayName": "Sayan Dey",
      "photoUrl": "https://lh3.googleusercontent.com/a-/AOh14GgqVHJ9o6-7idGiRbNNd4iVc1VjzvuPnwmAnvEtD6U=s64",
      "userId": "03603580465490055794"
     },
     "user_tz": -330
    },
    "id": "HEtySj5QV5NB",
    "outputId": "efb55ad3-be1b-4e52-c44c-599ac1374e87"
   },
   "outputs": [
    {
     "data": {
      "text/plain": [
       "(1022, 16829)"
      ]
     },
     "execution_count": 95,
     "metadata": {},
     "output_type": "execute_result"
    }
   ],
   "source": [
    "# repeat for testing set\n",
    "extra = sp.sparse.csr_matrix(X_test.drop('text', axis=1).astype(float))\n",
    "X_test_dtm_extra = sp.sparse.hstack((X_test_dtm, extra))\n",
    "X_test_dtm_extra.shape"
   ]
  },
  {
   "cell_type": "code",
   "execution_count": 96,
   "metadata": {
    "colab": {
     "base_uri": "https://localhost:8080/",
     "height": 34
    },
    "executionInfo": {
     "elapsed": 2137,
     "status": "ok",
     "timestamp": 1601643944248,
     "user": {
      "displayName": "Sayan Dey",
      "photoUrl": "https://lh3.googleusercontent.com/a-/AOh14GgqVHJ9o6-7idGiRbNNd4iVc1VjzvuPnwmAnvEtD6U=s64",
      "userId": "03603580465490055794"
     },
     "user_tz": -330
    },
    "id": "4cUv5FvLV5NC",
    "outputId": "66fb6d7c-73e6-4468-f739-5402c0dc3d43"
   },
   "outputs": [
    {
     "name": "stdout",
     "output_type": "stream",
     "text": [
      "0.9246575342465754\n"
     ]
    }
   ],
   "source": [
    "# use logistic regression with text column only\n",
    "logreg = LogisticRegression(C=1e9)\n",
    "logreg.fit(X_train_dtm, y_train)\n",
    "y_pred_class = logreg.predict(X_test_dtm)\n",
    "print (metrics.accuracy_score(y_test, y_pred_class))"
   ]
  },
  {
   "cell_type": "code",
   "execution_count": 97,
   "metadata": {
    "colab": {
     "base_uri": "https://localhost:8080/",
     "height": 34
    },
    "executionInfo": {
     "elapsed": 1684,
     "status": "ok",
     "timestamp": 1601643964183,
     "user": {
      "displayName": "Sayan Dey",
      "photoUrl": "https://lh3.googleusercontent.com/a-/AOh14GgqVHJ9o6-7idGiRbNNd4iVc1VjzvuPnwmAnvEtD6U=s64",
      "userId": "03603580465490055794"
     },
     "user_tz": -330
    },
    "id": "UnOIGjhKV5NE",
    "outputId": "566bfd03-f71d-4a63-99fd-1f05d926923d"
   },
   "outputs": [
    {
     "name": "stdout",
     "output_type": "stream",
     "text": [
      "0.9207436399217221\n"
     ]
    }
   ],
   "source": [
    "# use logistic regression with all features\n",
    "logreg = LogisticRegression(C=1e9)\n",
    "logreg.fit(X_train_dtm_extra, y_train)\n",
    "y_pred_class = logreg.predict(X_test_dtm_extra)\n",
    "print (metrics.accuracy_score(y_test, y_pred_class))"
   ]
  },
  {
   "cell_type": "markdown",
   "metadata": {
    "id": "awjaXucyV5NF"
   },
   "source": [
    "## 11: Fun TextBlob Features"
   ]
  },
  {
   "cell_type": "code",
   "execution_count": 98,
   "metadata": {
    "colab": {
     "base_uri": "https://localhost:8080/",
     "height": 34
    },
    "executionInfo": {
     "elapsed": 1141,
     "status": "ok",
     "timestamp": 1601643981318,
     "user": {
      "displayName": "Sayan Dey",
      "photoUrl": "https://lh3.googleusercontent.com/a-/AOh14GgqVHJ9o6-7idGiRbNNd4iVc1VjzvuPnwmAnvEtD6U=s64",
      "userId": "03603580465490055794"
     },
     "user_tz": -330
    },
    "id": "4qzFpYPrV5NF",
    "outputId": "54431385-2963-4b5d-b2ae-52af8c48b45e"
   },
   "outputs": [
    {
     "data": {
      "text/plain": [
       "TextBlob(\"india is good country\")"
      ]
     },
     "execution_count": 98,
     "metadata": {},
     "output_type": "execute_result"
    }
   ],
   "source": [
    "# spelling correction\n",
    "TextBlob('indai is good counrtey').correct()"
   ]
  },
  {
   "cell_type": "code",
   "execution_count": 99,
   "metadata": {
    "colab": {
     "base_uri": "https://localhost:8080/",
     "height": 34
    },
    "executionInfo": {
     "elapsed": 1139,
     "status": "ok",
     "timestamp": 1601643985393,
     "user": {
      "displayName": "Sayan Dey",
      "photoUrl": "https://lh3.googleusercontent.com/a-/AOh14GgqVHJ9o6-7idGiRbNNd4iVc1VjzvuPnwmAnvEtD6U=s64",
      "userId": "03603580465490055794"
     },
     "user_tz": -330
    },
    "id": "tXbVysnAV5NH",
    "outputId": "8fa471fa-00c7-4dd2-8da5-90b32251f190"
   },
   "outputs": [
    {
     "data": {
      "text/plain": [
       "[('part', 0.9929478138222849), ('parrot', 0.007052186177715092)]"
      ]
     },
     "execution_count": 99,
     "metadata": {},
     "output_type": "execute_result"
    }
   ],
   "source": [
    "# spellcheck\n",
    "Word('parot').spellcheck()"
   ]
  },
  {
   "cell_type": "code",
   "execution_count": 100,
   "metadata": {
    "colab": {
     "base_uri": "https://localhost:8080/",
     "height": 155
    },
    "executionInfo": {
     "elapsed": 1191,
     "status": "ok",
     "timestamp": 1601643988782,
     "user": {
      "displayName": "Sayan Dey",
      "photoUrl": "https://lh3.googleusercontent.com/a-/AOh14GgqVHJ9o6-7idGiRbNNd4iVc1VjzvuPnwmAnvEtD6U=s64",
      "userId": "03603580465490055794"
     },
     "user_tz": -330
    },
    "id": "hKXyJjQwV5NL",
    "outputId": "0dd660af-506c-4ac4-ec66-e6a2673f6d59"
   },
   "outputs": [
    {
     "data": {
      "text/plain": [
       "['tip laterally',\n",
       " 'enclose with a bank',\n",
       " 'do business with a bank or keep an account at a bank',\n",
       " 'act as the banker in a game or in gambling',\n",
       " 'be in the banking business',\n",
       " 'put into a bank account',\n",
       " 'cover with ashes so to control the rate of burning',\n",
       " 'have confidence or faith in']"
      ]
     },
     "execution_count": 100,
     "metadata": {},
     "output_type": "execute_result"
    }
   ],
   "source": [
    "# definitions\n",
    "Word('bank').define('v')"
   ]
  },
  {
   "cell_type": "code",
   "execution_count": 101,
   "metadata": {
    "colab": {
     "base_uri": "https://localhost:8080/",
     "height": 35
    },
    "executionInfo": {
     "elapsed": 763,
     "status": "ok",
     "timestamp": 1601643991029,
     "user": {
      "displayName": "Sayan Dey",
      "photoUrl": "https://lh3.googleusercontent.com/a-/AOh14GgqVHJ9o6-7idGiRbNNd4iVc1VjzvuPnwmAnvEtD6U=s64",
      "userId": "03603580465490055794"
     },
     "user_tz": -330
    },
    "id": "TRHFZ8HdV5NO",
    "outputId": "d8f70fc8-7c98-4696-c900-11bde510c322"
   },
   "outputs": [
    {
     "data": {
      "text/plain": [
       "'es'"
      ]
     },
     "execution_count": 101,
     "metadata": {},
     "output_type": "execute_result"
    }
   ],
   "source": [
    "# language identification\n",
    "TextBlob('Hola amigos').detect_language()"
   ]
  }
 ],
 "metadata": {
  "accelerator": "GPU",
  "colab": {
   "collapsed_sections": [
    "pVZLOpBIV5NQ"
   ],
   "name": "Lab2_textClassificationWithAdvancedML.ipynb",
   "provenance": []
  },
  "kernelspec": {
   "display_name": "Python 3",
   "language": "python",
   "name": "python3"
  },
  "language_info": {
   "codemirror_mode": {
    "name": "ipython",
    "version": 3
   },
   "file_extension": ".py",
   "mimetype": "text/x-python",
   "name": "python",
   "nbconvert_exporter": "python",
   "pygments_lexer": "ipython3",
   "version": "3.8.5"
  }
 },
 "nbformat": 4,
 "nbformat_minor": 1
}
